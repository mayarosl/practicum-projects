{
 "cells": [
  {
   "cell_type": "markdown",
   "metadata": {},
   "source": [
    "#  Прогнозирование заказов такси"
   ]
  },
  {
   "cell_type": "markdown",
   "metadata": {},
   "source": [
    "## Содержание\n",
    "1. Подготовка  \n",
    "    1.1. Библиотеки и функции  \n",
    "    1.2. Данные  \n",
    "2. Анализ  \n",
    "    2.1. Все данные  \n",
    "    2.2. Дневная сезонность  \n",
    "    2.3. Внутрисуточная сезонность  \n",
    "3. Обучение  \n",
    "    3.1. Линейная регрессия  \n",
    "    3.2. Случайный лес  \n",
    "    3.3. GBM  \n",
    "    3.4. Выбор лучшей модели  \n",
    "4. Тестирование  \n",
    "5. Выводы  "
   ]
  },
  {
   "cell_type": "markdown",
   "metadata": {},
   "source": [
    "**Задача:** спрогнозировать количество заказов такси на следующий час, чтобы привлекать больше водителей в период пиковой нагрузки, на основании исторических данных о заказах такси в аэропортах. Построить модель для такого предсказания.\n",
    "\n",
    "Значение метрики *RMSE* на тестовой выборке должно быть не больше 48."
   ]
  },
  {
   "cell_type": "markdown",
   "metadata": {},
   "source": [
    "## Подготовка"
   ]
  },
  {
   "cell_type": "markdown",
   "metadata": {},
   "source": [
    "### Библиотеки и функции"
   ]
  },
  {
   "cell_type": "code",
   "execution_count": 1,
   "metadata": {},
   "outputs": [],
   "source": [
    "import pandas as pd\n",
    "\n",
    "import matplotlib.pyplot as plt\n",
    "from tqdm.notebook import tqdm\n",
    "\n",
    "from sklearn.model_selection import train_test_split\n",
    "from sklearn.linear_model import LinearRegression\n",
    "from sklearn.ensemble import RandomForestRegressor\n",
    "from sklearn.metrics import mean_squared_error\n",
    "from statsmodels.tsa.seasonal import seasonal_decompose\n",
    "from sklearn.model_selection import TimeSeriesSplit\n",
    "from sklearn.model_selection import GridSearchCV\n",
    "import lightgbm as lgb\n",
    "\n",
    "import warnings\n",
    "warnings.filterwarnings('ignore')"
   ]
  },
  {
   "cell_type": "code",
   "execution_count": 2,
   "metadata": {},
   "outputs": [],
   "source": [
    "def train_valid_test_split(data, target_col_name):\n",
    "    features = data.drop(target_col_name, axis=1)\n",
    "    target = data[target_col_name]\n",
    "\n",
    "    features_train_valid, features_test, target_train_valid, target_test = train_test_split(\n",
    "    features, target, shuffle=False, test_size=0.1, random_state=123)\n",
    "\n",
    "    features_train, features_valid, target_train, target_valid = train_test_split(\n",
    "    features_train_valid, target_train_valid, shuffle=False, test_size=0.2, random_state=123)\n",
    "    \n",
    "    return features_train, features_valid, features_test, target_train, target_valid, target_test"
   ]
  },
  {
   "cell_type": "code",
   "execution_count": 3,
   "metadata": {},
   "outputs": [],
   "source": [
    "def find_best_forest(features_train, target_train, features_valid, target_valid):\n",
    "    best_model = None\n",
    "    best_result = 10000\n",
    "    best_est = 0\n",
    "    best_depth = 0\n",
    "    est_dict = {}\n",
    "    \n",
    "    for est in tqdm(range(10, 100, 5)):\n",
    "        result_list = []\n",
    "        for depth in range (1, 20, 1):\n",
    "            model = RandomForestRegressor(random_state=123,\n",
    "                                           n_estimators=est,\n",
    "                                           max_depth=depth)\n",
    "            model.fit(features_train, target_train)\n",
    "            predicted = model.predict(features_valid)\n",
    "            rmse = (mean_squared_error(target_valid, predicted))**0.5\n",
    "            result_list.append(rmse)\n",
    "            if rmse < best_result:\n",
    "                best_model = model\n",
    "                best_result = rmse\n",
    "                best_est = est\n",
    "                best_depth = depth\n",
    "                \n",
    "        est_dict[est] = result_list\n",
    "    return best_model, best_result, best_est, best_depth, est_dict"
   ]
  },
  {
   "cell_type": "code",
   "execution_count": 4,
   "metadata": {},
   "outputs": [],
   "source": [
    "def make_features(data, max_lag, rolling_mean_size):\n",
    "    data['dayofweek'] = data.index.dayofweek\n",
    "    data['hour'] = data.index.hour\n",
    "    for lag in range(1, max_lag + 1):\n",
    "        data['lag_{}'.format(lag)] = data['num_orders'].shift(lag)\n",
    "    data['rolling_mean'] = data['num_orders'].shift().rolling(rolling_mean_size).mean()"
   ]
  },
  {
   "cell_type": "code",
   "execution_count": 5,
   "metadata": {},
   "outputs": [],
   "source": [
    "def plot_decomposed_data(data):\n",
    "    decomposed = seasonal_decompose(data)\n",
    "    plt.figure(figsize=(6, 8))\n",
    "    \n",
    "    plt.subplot(311)\n",
    "    decomposed.trend.plot(ax=plt.gca(), color='grey')\n",
    "    plt.title('Тренд')\n",
    "    \n",
    "    plt.subplot(312)\n",
    "    decomposed.seasonal.plot(ax=plt.gca(), color='grey')\n",
    "    plt.title('Сезонность')\n",
    "    \n",
    "    plt.subplot(313)\n",
    "    decomposed.resid.plot(ax=plt.gca(), color='grey')\n",
    "    plt.title('Остаток')\n",
    "    \n",
    "    plt.tight_layout()"
   ]
  },
  {
   "cell_type": "code",
   "execution_count": 6,
   "metadata": {},
   "outputs": [],
   "source": [
    "def plot_predictions(target_valid, predicted_valid, model_name, rmse):\n",
    "    pd.Series(target_valid).plot(color='grey', figsize=(15,3));\n",
    "    pd.Series(predicted_valid, index=target_valid.index).plot(color='red', alpha=.75);\n",
    "    plt.legend(['валидационные метки', 'предсказания'])\n",
    "    plt.title(str(model_name) + ', $RMSE$ = {:.2f}'.format(rmse));\n",
    "    \n",
    "def plot_predictions_test(target_test, predicted_test, model_name, rmse):\n",
    "    pd.Series(target_test).plot(color='grey', figsize=(15,3));\n",
    "    pd.Series(predicted_test, index=target_test.index).plot(color='red');\n",
    "    plt.legend(['тестовые метки', 'предсказания'])\n",
    "    plt.title(str(model_name) + ', $RMSE$ = {:.2f}'.format(rmse));"
   ]
  },
  {
   "cell_type": "markdown",
   "metadata": {},
   "source": [
    "### Данные"
   ]
  },
  {
   "cell_type": "code",
   "execution_count": 7,
   "metadata": {},
   "outputs": [
    {
     "data": {
      "text/html": [
       "<div>\n",
       "<style scoped>\n",
       "    .dataframe tbody tr th:only-of-type {\n",
       "        vertical-align: middle;\n",
       "    }\n",
       "\n",
       "    .dataframe tbody tr th {\n",
       "        vertical-align: top;\n",
       "    }\n",
       "\n",
       "    .dataframe thead th {\n",
       "        text-align: right;\n",
       "    }\n",
       "</style>\n",
       "<table border=\"1\" class=\"dataframe\">\n",
       "  <thead>\n",
       "    <tr style=\"text-align: right;\">\n",
       "      <th></th>\n",
       "      <th>num_orders</th>\n",
       "    </tr>\n",
       "    <tr>\n",
       "      <th>datetime</th>\n",
       "      <th></th>\n",
       "    </tr>\n",
       "  </thead>\n",
       "  <tbody>\n",
       "    <tr>\n",
       "      <th>2018-03-01 00:00:00</th>\n",
       "      <td>9</td>\n",
       "    </tr>\n",
       "    <tr>\n",
       "      <th>2018-03-01 00:10:00</th>\n",
       "      <td>14</td>\n",
       "    </tr>\n",
       "    <tr>\n",
       "      <th>2018-03-01 00:20:00</th>\n",
       "      <td>28</td>\n",
       "    </tr>\n",
       "    <tr>\n",
       "      <th>2018-03-01 00:30:00</th>\n",
       "      <td>20</td>\n",
       "    </tr>\n",
       "    <tr>\n",
       "      <th>2018-03-01 00:40:00</th>\n",
       "      <td>32</td>\n",
       "    </tr>\n",
       "  </tbody>\n",
       "</table>\n",
       "</div>"
      ],
      "text/plain": [
       "                     num_orders\n",
       "datetime                       \n",
       "2018-03-01 00:00:00           9\n",
       "2018-03-01 00:10:00          14\n",
       "2018-03-01 00:20:00          28\n",
       "2018-03-01 00:30:00          20\n",
       "2018-03-01 00:40:00          32"
      ]
     },
     "execution_count": 7,
     "metadata": {},
     "output_type": "execute_result"
    }
   ],
   "source": [
    "data = pd.read_csv('taxi.csv', parse_dates=[0], index_col=[0])\n",
    "data.head()"
   ]
  },
  {
   "cell_type": "code",
   "execution_count": 8,
   "metadata": {},
   "outputs": [
    {
     "name": "stdout",
     "output_type": "stream",
     "text": [
      "<class 'pandas.core.frame.DataFrame'>\n",
      "DatetimeIndex: 26496 entries, 2018-03-01 00:00:00 to 2018-08-31 23:50:00\n",
      "Data columns (total 1 columns):\n",
      " #   Column      Non-Null Count  Dtype\n",
      "---  ------      --------------  -----\n",
      " 0   num_orders  26496 non-null  int64\n",
      "dtypes: int64(1)\n",
      "memory usage: 414.0 KB\n"
     ]
    }
   ],
   "source": [
    "data.info()"
   ]
  },
  {
   "cell_type": "code",
   "execution_count": 9,
   "metadata": {},
   "outputs": [
    {
     "name": "stdout",
     "output_type": "stream",
     "text": [
      "Минимум заказов: 0, максимум заказов: 119,  в среднем 14.07\n"
     ]
    }
   ],
   "source": [
    "print('Минимум заказов: {}, максимум заказов: {},  \\\n",
    "в среднем {:.2f}'.format(data.min()[0], data.max()[0], data.mean()[0]))"
   ]
  },
  {
   "cell_type": "markdown",
   "metadata": {},
   "source": [
    "**Вывод**: в данных 26494 наблюдений. Пропущенных значений нет.  Распределение выглядит нормальным с некоторым количеством выбросов. "
   ]
  },
  {
   "cell_type": "markdown",
   "metadata": {},
   "source": [
    "## Анализ"
   ]
  },
  {
   "cell_type": "code",
   "execution_count": 10,
   "metadata": {},
   "outputs": [
    {
     "name": "stdout",
     "output_type": "stream",
     "text": [
      "Первое наблюдение: 2018-03-01 00:00:00\n",
      "Последнее наблюдение: 2018-08-31 23:50:00\n"
     ]
    }
   ],
   "source": [
    "print('Первое наблюдение:', data.index[0])\n",
    "print('Последнее наблюдение:', data.index[-1])"
   ]
  },
  {
   "cell_type": "code",
   "execution_count": 11,
   "metadata": {},
   "outputs": [
    {
     "data": {
      "image/png": "[encoded data removed]",
      "text/plain": [
       "<Figure size 1080x216 with 1 Axes>"
      ]
     },
     "metadata": {
      "needs_background": "light"
     },
     "output_type": "display_data"
    }
   ],
   "source": [
    "data = data.resample('1H').sum()\n",
    "data.plot(figsize=(15,3), color='gray')\n",
    "plt.xlabel('Время')\n",
    "plt.ylabel('Количество заказов')\n",
    "plt.title('Количество заказов такси в час');"
   ]
  },
  {
   "cell_type": "code",
   "execution_count": 12,
   "metadata": {},
   "outputs": [
    {
     "name": "stdout",
     "output_type": "stream",
     "text": [
      "True\n"
     ]
    }
   ],
   "source": [
    "data = data.sort_index()\n",
    "print(data.index.is_monotonic)"
   ]
  },
  {
   "cell_type": "markdown",
   "metadata": {},
   "source": [
    "### Все данные"
   ]
  },
  {
   "cell_type": "markdown",
   "metadata": {},
   "source": [
    "Разложим временной ряд на тренд и сезонную компоненту. Сделаем сначала для всех данных, а потом для двух недель, чтобы проследить **дневную сезонность**, и для одного дня, чтобы увидеть, есть ли **внутрисуточная сезонность**. "
   ]
  },
  {
   "cell_type": "code",
   "execution_count": 13,
   "metadata": {},
   "outputs": [
    {
     "data": {
      "image/png": "[encoded data removed]",
      "text/plain": [
       "<Figure size 432x576 with 3 Axes>"
      ]
     },
     "metadata": {
      "needs_background": "light"
     },
     "output_type": "display_data"
    }
   ],
   "source": [
    "plot_decomposed_data(data)"
   ]
  },
  {
   "cell_type": "markdown",
   "metadata": {},
   "source": [
    "### Дневная сезонность"
   ]
  },
  {
   "cell_type": "code",
   "execution_count": 14,
   "metadata": {},
   "outputs": [
    {
     "data": {
      "image/png": "[encoded data removed]",
      "text/plain": [
       "<Figure size 432x576 with 3 Axes>"
      ]
     },
     "metadata": {
      "needs_background": "light"
     },
     "output_type": "display_data"
    }
   ],
   "source": [
    "plot_decomposed_data(data['2018-06-04':'2018-06-17'])"
   ]
  },
  {
   "cell_type": "markdown",
   "metadata": {},
   "source": [
    "### Внутрисуточная сезонность"
   ]
  },
  {
   "cell_type": "code",
   "execution_count": 15,
   "metadata": {},
   "outputs": [
    {
     "data": {
      "image/png": "[encoded data removed]",
      "text/plain": [
       "<Figure size 432x576 with 3 Axes>"
      ]
     },
     "metadata": {
      "needs_background": "light"
     },
     "output_type": "display_data"
    }
   ],
   "source": [
    "plot_decomposed_data(data['2018-06-04':'2018-06-05'])"
   ]
  },
  {
   "cell_type": "markdown",
   "metadata": {},
   "source": [
    "**Выводы**: \n",
    "\n",
    "Данные расположены в хронологическом порядке. \n",
    "\n",
    "На первый взгляд кажется, что есть тренд на увеличение спроса на такси в течение наблюдаемого периода. Однако такой вывод мы сделать не можем, так как данные ограничены следующим временным отрезком: *2018-03-01* - *2018-08-31*.\n",
    "\n",
    "В наблюдениях четко видна дневная сезонность: пики спроса повторяются каждые сутки."
   ]
  },
  {
   "cell_type": "markdown",
   "metadata": {},
   "source": [
    "## Обучение"
   ]
  },
  {
   "cell_type": "markdown",
   "metadata": {},
   "source": [
    "Создадим признаки (*день недели, час, отстающие значения и скользящее среднее*), удалим пропущенные значения, разделим данные на тренировочную, валидационную и тестовую часть. Все результаты будем записывать в словарь *models_dict*."
   ]
  },
  {
   "cell_type": "code",
   "execution_count": 16,
   "metadata": {},
   "outputs": [],
   "source": [
    "make_features(data, 2, 24)"
   ]
  },
  {
   "cell_type": "code",
   "execution_count": 17,
   "metadata": {},
   "outputs": [],
   "source": [
    "data = data.dropna()"
   ]
  },
  {
   "cell_type": "code",
   "execution_count": 18,
   "metadata": {},
   "outputs": [
    {
     "data": {
      "text/html": [
       "<div>\n",
       "<style scoped>\n",
       "    .dataframe tbody tr th:only-of-type {\n",
       "        vertical-align: middle;\n",
       "    }\n",
       "\n",
       "    .dataframe tbody tr th {\n",
       "        vertical-align: top;\n",
       "    }\n",
       "\n",
       "    .dataframe thead th {\n",
       "        text-align: right;\n",
       "    }\n",
       "</style>\n",
       "<table border=\"1\" class=\"dataframe\">\n",
       "  <thead>\n",
       "    <tr style=\"text-align: right;\">\n",
       "      <th></th>\n",
       "      <th>num_orders</th>\n",
       "      <th>dayofweek</th>\n",
       "      <th>hour</th>\n",
       "      <th>lag_1</th>\n",
       "      <th>lag_2</th>\n",
       "      <th>rolling_mean</th>\n",
       "    </tr>\n",
       "    <tr>\n",
       "      <th>datetime</th>\n",
       "      <th></th>\n",
       "      <th></th>\n",
       "      <th></th>\n",
       "      <th></th>\n",
       "      <th></th>\n",
       "      <th></th>\n",
       "    </tr>\n",
       "  </thead>\n",
       "  <tbody>\n",
       "    <tr>\n",
       "      <th>2018-03-02 00:00:00</th>\n",
       "      <td>90</td>\n",
       "      <td>4</td>\n",
       "      <td>0</td>\n",
       "      <td>58.0</td>\n",
       "      <td>113.0</td>\n",
       "      <td>56.833333</td>\n",
       "    </tr>\n",
       "    <tr>\n",
       "      <th>2018-03-02 01:00:00</th>\n",
       "      <td>120</td>\n",
       "      <td>4</td>\n",
       "      <td>1</td>\n",
       "      <td>90.0</td>\n",
       "      <td>58.0</td>\n",
       "      <td>55.416667</td>\n",
       "    </tr>\n",
       "    <tr>\n",
       "      <th>2018-03-02 02:00:00</th>\n",
       "      <td>75</td>\n",
       "      <td>4</td>\n",
       "      <td>2</td>\n",
       "      <td>120.0</td>\n",
       "      <td>90.0</td>\n",
       "      <td>56.875000</td>\n",
       "    </tr>\n",
       "    <tr>\n",
       "      <th>2018-03-02 03:00:00</th>\n",
       "      <td>64</td>\n",
       "      <td>4</td>\n",
       "      <td>3</td>\n",
       "      <td>75.0</td>\n",
       "      <td>120.0</td>\n",
       "      <td>57.041667</td>\n",
       "    </tr>\n",
       "    <tr>\n",
       "      <th>2018-03-02 04:00:00</th>\n",
       "      <td>20</td>\n",
       "      <td>4</td>\n",
       "      <td>4</td>\n",
       "      <td>64.0</td>\n",
       "      <td>75.0</td>\n",
       "      <td>56.958333</td>\n",
       "    </tr>\n",
       "  </tbody>\n",
       "</table>\n",
       "</div>"
      ],
      "text/plain": [
       "                     num_orders  dayofweek  hour  lag_1  lag_2  rolling_mean\n",
       "datetime                                                                    \n",
       "2018-03-02 00:00:00          90          4     0   58.0  113.0     56.833333\n",
       "2018-03-02 01:00:00         120          4     1   90.0   58.0     55.416667\n",
       "2018-03-02 02:00:00          75          4     2  120.0   90.0     56.875000\n",
       "2018-03-02 03:00:00          64          4     3   75.0  120.0     57.041667\n",
       "2018-03-02 04:00:00          20          4     4   64.0   75.0     56.958333"
      ]
     },
     "execution_count": 18,
     "metadata": {},
     "output_type": "execute_result"
    }
   ],
   "source": [
    "data.head()"
   ]
  },
  {
   "cell_type": "code",
   "execution_count": 19,
   "metadata": {},
   "outputs": [
    {
     "name": "stdout",
     "output_type": "stream",
     "text": [
      "(3161, 5)\n",
      "(791, 5)\n",
      "(440, 5)\n",
      "(3161,)\n",
      "(791,)\n",
      "(440,)\n"
     ]
    }
   ],
   "source": [
    "(features_train, features_valid, features_test,\n",
    " target_train, target_valid, target_test) = train_valid_test_split(data, \n",
    "                                                                   'num_orders')\n",
    "\n",
    "for i in (features_train, features_valid, features_test, \n",
    "          target_train, target_valid, target_test):\n",
    "    print(i.shape)"
   ]
  },
  {
   "cell_type": "code",
   "execution_count": 20,
   "metadata": {},
   "outputs": [],
   "source": [
    "models_dict = {}"
   ]
  },
  {
   "cell_type": "markdown",
   "metadata": {},
   "source": [
    "### Линейная регрессия"
   ]
  },
  {
   "cell_type": "code",
   "execution_count": 21,
   "metadata": {},
   "outputs": [
    {
     "name": "stdout",
     "output_type": "stream",
     "text": [
      "RMSE линейной модели на валидационной выборке = 39.397\n"
     ]
    }
   ],
   "source": [
    "lin_model = LinearRegression().fit(features_train, target_train)\n",
    "lin_predicted_valid = lin_model.predict(features_valid)\n",
    "lin_rmse = mean_squared_error(target_valid, lin_predicted_valid) ** 0.5\n",
    "models_dict['Линейная регрессия'] = lin_rmse\n",
    "print('RMSE линейной модели на валидационной выборке = {:.3f}'.format(lin_rmse))"
   ]
  },
  {
   "cell_type": "code",
   "execution_count": 22,
   "metadata": {},
   "outputs": [
    {
     "data": {
      "image/png": "[encoded data removed]",
      "text/plain": [
       "<Figure size 1080x216 with 1 Axes>"
      ]
     },
     "metadata": {
      "needs_background": "light"
     },
     "output_type": "display_data"
    }
   ],
   "source": [
    "plot_predictions(target_valid[0:100], \n",
    "                 lin_predicted_valid[0:100], \n",
    "                 'Линейная регрессия', \n",
    "                 lin_rmse)"
   ]
  },
  {
   "cell_type": "markdown",
   "metadata": {},
   "source": [
    "**Выводы**: линейная регрессия в какой-то степени предсказывает направление кривой спроса, но не угадывает пики и падения. "
   ]
  },
  {
   "cell_type": "markdown",
   "metadata": {},
   "source": [
    "### Случайный лес"
   ]
  },
  {
   "cell_type": "markdown",
   "metadata": {},
   "source": [
    "**train → valid**"
   ]
  },
  {
   "cell_type": "code",
   "execution_count": 23,
   "metadata": {},
   "outputs": [],
   "source": [
    "# %%time\n",
    "# (forest_model, forest_rmse,\n",
    "#  forest_est, forest_depth,\n",
    "#  forest_dict) = find_best_forest(features_train, target_train,\n",
    "#                                  features_valid, target_valid)\n",
    "\n",
    "# print('Оптимальное количество деревьев:', forest_est)\n",
    "# print('Оптимальная глубина:', forest_depth)\n",
    "# # Wall time: 3min 28s"
   ]
  },
  {
   "cell_type": "code",
   "execution_count": 24,
   "metadata": {},
   "outputs": [],
   "source": [
    "best_forest_model = RandomForestRegressor(random_state=123,\n",
    "                                          n_estimators=40,\n",
    "                                          max_depth=16).fit(features_train, target_train)"
   ]
  },
  {
   "cell_type": "code",
   "execution_count": 25,
   "metadata": {},
   "outputs": [
    {
     "name": "stdout",
     "output_type": "stream",
     "text": [
      "RMSE случайного леса на валидационной выборке 33.355\n"
     ]
    }
   ],
   "source": [
    "forest_predicted = best_forest_model.predict(features_valid)\n",
    "forest_rmse = (mean_squared_error(target_valid, forest_predicted))**0.5\n",
    "models_dict['Случайный лес'] = forest_rmse\n",
    "print('RMSE случайного леса на валидационной выборке', round(forest_rmse, 3))"
   ]
  },
  {
   "cell_type": "code",
   "execution_count": 26,
   "metadata": {},
   "outputs": [
    {
     "data": {
      "image/png": "[encoded data removed]",
      "text/plain": [
       "<Figure size 1080x216 with 1 Axes>"
      ]
     },
     "metadata": {
      "needs_background": "light"
     },
     "output_type": "display_data"
    }
   ],
   "source": [
    "plot_predictions(target_valid[0:100], \n",
    "                 forest_predicted[0:100], \n",
    "                 'Случайный лес', \n",
    "                 forest_rmse)"
   ]
  },
  {
   "cell_type": "markdown",
   "metadata": {},
   "source": [
    "**Выводы:** Предсказания, полученные с помощью модели случайного леса, лучше угадывают кривую спроса, чем те, что выдаёт линейная регрессия. Судя по графику, некоторые падения спроса она предсказывает довольно точно."
   ]
  },
  {
   "cell_type": "markdown",
   "metadata": {},
   "source": [
    "### GBM"
   ]
  },
  {
   "cell_type": "code",
   "execution_count": 27,
   "metadata": {},
   "outputs": [],
   "source": [
    "lgb_train = lgb.Dataset(features_train, target_train, params={'verbose': -1}, free_raw_data=False)\n",
    "lgb_eval = lgb.Dataset(features_valid, target_valid, reference=lgb_train, params={'verbose': -1}, free_raw_data=False)"
   ]
  },
  {
   "cell_type": "code",
   "execution_count": 28,
   "metadata": {},
   "outputs": [],
   "source": [
    "tscv = TimeSeriesSplit(10).split(features_train)\n",
    "param_set = {\n",
    "    \"learning_rate\": [0.1, 0.15, 0.2, 0.5, 1.0],\n",
    "    \"max_depth\":[3, 5, 8, 10],\n",
    "    \"max_features\":[\"log2\",\"sqrt\"],\n",
    "    \"criterion\": [\"friedman_mse\",  \"mae\"],\n",
    "    \"n_estimators\":[5, 10, 20]\n",
    "    }"
   ]
  },
  {
   "cell_type": "code",
   "execution_count": 29,
   "metadata": {},
   "outputs": [],
   "source": [
    "# %%time\n",
    "# gbm = lgb.LGBMRegressor()\n",
    "\n",
    "# grid_cv = GridSearchCV(gbm, \n",
    "#                        param_grid=param_set, \n",
    "#                        scoring='neg_mean_squared_error', \n",
    "#                        n_jobs=-1, \n",
    "#                        cv=tscv, \n",
    "#                        verbose=1)\n",
    "\n",
    "# grid_cv.fit(features_train, target_train,\n",
    "#         eval_set=[(features_valid, target_valid)],\n",
    "#         eval_metric='l1',\n",
    "#         early_stopping_rounds=5)\n",
    "\n",
    "## Wall time: 10min 23s"
   ]
  },
  {
   "cell_type": "code",
   "execution_count": 30,
   "metadata": {},
   "outputs": [],
   "source": [
    "# print(grid_cv.best_params_)\n",
    "# best_cv_params = grid_cv.best_params_"
   ]
  },
  {
   "cell_type": "code",
   "execution_count": 31,
   "metadata": {},
   "outputs": [],
   "source": [
    "best_cv_params = {'criterion': 'friedman_mse',\n",
    " 'learning_rate': 0.2,\n",
    " 'max_depth': 8,\n",
    " 'max_features': 'log2',\n",
    " 'n_estimators': 20,\n",
    "                 'verbose':-1}"
   ]
  },
  {
   "cell_type": "code",
   "execution_count": 32,
   "metadata": {},
   "outputs": [
    {
     "name": "stdout",
     "output_type": "stream",
     "text": [
      "[LightGBM] [Warning] Unknown parameter: max_features\n",
      "[LightGBM] [Warning] Unknown parameter: criterion\n",
      "[LightGBM] [Warning] Accuracy may be bad since you didn't set num_leaves and 2^max_depth > num_leaves\n",
      "RMSE GBM на валидационной выборке: 32.84\n"
     ]
    }
   ],
   "source": [
    "gbm = lgb.train(best_cv_params,\n",
    "                lgb_train,\n",
    "                num_boost_round=100,\n",
    "                valid_sets=lgb_eval,\n",
    "                verbose_eval=-1)\n",
    "gbm_predicted = gbm.predict(features_valid, num_iteration=gbm.best_iteration)\n",
    "gbm_rmse = mean_squared_error(target_valid, gbm_predicted) ** 0.5\n",
    "models_dict['GBM'] = gbm_rmse\n",
    "print('RMSE GBM на валидационной выборке:', round(gbm_rmse, 2))"
   ]
  },
  {
   "cell_type": "code",
   "execution_count": 33,
   "metadata": {},
   "outputs": [
    {
     "data": {
      "image/png": "[encoded data removed]",
      "text/plain": [
       "<Figure size 1080x216 with 1 Axes>"
      ]
     },
     "metadata": {
      "needs_background": "light"
     },
     "output_type": "display_data"
    }
   ],
   "source": [
    "plot_predictions(target_valid[0:100], \n",
    "                 gbm_predicted[0:100], \n",
    "                 'Бустинг', \n",
    "                 gbm_rmse)"
   ]
  },
  {
   "cell_type": "markdown",
   "metadata": {},
   "source": [
    "**Выводы:** предсказания, полученные с помощью градиентного бустинга, лучше других моделей предсказывают спады спроса, но не всегда угадывают всплески. При этом подбор параметров для этой модели оказался самым долгим."
   ]
  },
  {
   "cell_type": "markdown",
   "metadata": {},
   "source": [
    "### Выбор лучшей модели"
   ]
  },
  {
   "cell_type": "code",
   "execution_count": 34,
   "metadata": {},
   "outputs": [
    {
     "name": "stdout",
     "output_type": "stream",
     "text": [
      "                      rmse\n",
      "Линейная регрессия  39.397\n",
      "Случайный лес       33.355\n",
      "GBM                 32.838\n",
      "Лучшая модель: GBM\n"
     ]
    }
   ],
   "source": [
    "results_df = pd.DataFrame.from_dict(models_dict, \n",
    "                       orient='index', \n",
    "                       columns=['rmse']).iloc[0:4].round(decimals=3)\n",
    "print(results_df)\n",
    "\n",
    "rmse_min = results_df['rmse'].min()\n",
    "print('Лучшая модель:', results_df.query('rmse == @rmse_min').index[0])"
   ]
  },
  {
   "cell_type": "markdown",
   "metadata": {},
   "source": [
    "## Тестирование"
   ]
  },
  {
   "cell_type": "code",
   "execution_count": 35,
   "metadata": {},
   "outputs": [],
   "source": [
    "features_concatenated = pd.concat([features_train, features_valid])\n",
    "target_concatenated = pd.concat([target_train, target_valid])"
   ]
  },
  {
   "cell_type": "code",
   "execution_count": 36,
   "metadata": {},
   "outputs": [],
   "source": [
    "lgb_concatenated = lgb.Dataset(features_concatenated, target_concatenated, free_raw_data=False)\n",
    "lgb_test = lgb.Dataset(features_test, target_test, reference=lgb_train, free_raw_data=False, params={'verbose': -1})"
   ]
  },
  {
   "cell_type": "markdown",
   "metadata": {},
   "source": [
    "**train + valid → test**"
   ]
  },
  {
   "cell_type": "code",
   "execution_count": 37,
   "metadata": {},
   "outputs": [
    {
     "name": "stdout",
     "output_type": "stream",
     "text": [
      "[LightGBM] [Warning] Unknown parameter: criterion\n",
      "[LightGBM] [Warning] Unknown parameter: max_features\n",
      "[LightGBM] [Warning] Accuracy may be bad since you didn't set num_leaves and 2^max_depth > num_leaves\n",
      "RMSE GBM на валидационной выборке: 44.604\n"
     ]
    }
   ],
   "source": [
    "gbm_test = lgb.train(best_cv_params,\n",
    "                lgb_concatenated,\n",
    "                num_boost_round=100,\n",
    "                valid_sets=lgb_test,\n",
    "                verbose_eval=False)\n",
    "gbm_predicted_test = gbm_test.predict(features_test, num_iteration=gbm_test.best_iteration)\n",
    "gbm_rmse_test = mean_squared_error(target_test, gbm_predicted_test) ** 0.5\n",
    "\n",
    "print('RMSE GBM на валидационной выборке:', round(gbm_rmse_test, 3))"
   ]
  },
  {
   "cell_type": "code",
   "execution_count": 38,
   "metadata": {},
   "outputs": [
    {
     "data": {
      "image/png": "[encoded data removed]",
      "text/plain": [
       "<Figure size 1080x216 with 1 Axes>"
      ]
     },
     "metadata": {
      "needs_background": "light"
     },
     "output_type": "display_data"
    }
   ],
   "source": [
    "plot_predictions_test(target_test[0:100], \n",
    "                 gbm_predicted_test[0:100], \n",
    "                 'Бустинг', \n",
    "                 gbm_rmse_test)"
   ]
  },
  {
   "cell_type": "markdown",
   "metadata": {},
   "source": [
    "## Выводы\n",
    "\n",
    "В проекте мы спрогнозировали количество заказов такси на следующий час, чтобы привлекать больше машин в период пиковой нагрузки. Мы выделили признаки из данных, построили несколько моделей для этого предсказания и выяснили, что лучшие резлуьтаты RMSE достигаются при использовании градиентного бустинга. \n",
    "\n",
    "На валидационной выборке RMSE = 33.854, на тестовой RMSE = 44.604."
   ]
  }
 ],
 "metadata": {
  "ExecuteTimeLog": [
   {
    "duration": 786,
    "start_time": "2021-06-10T06:43:02.755Z"
   },
   {
    "duration": 56,
    "start_time": "2021-06-10T06:43:44.756Z"
   },
   {
    "duration": 9,
    "start_time": "2021-06-10T06:44:05.174Z"
   },
   {
    "duration": 44,
    "start_time": "2021-06-10T07:24:30.860Z"
   },
   {
    "duration": 19,
    "start_time": "2021-06-10T07:24:56.671Z"
   },
   {
    "duration": 417,
    "start_time": "2021-06-10T07:25:37.453Z"
   },
   {
    "duration": 554,
    "start_time": "2021-06-10T07:25:56.169Z"
   },
   {
    "duration": 588,
    "start_time": "2021-06-10T07:27:18.131Z"
   },
   {
    "duration": 53,
    "start_time": "2021-06-10T07:27:47.932Z"
   },
   {
    "duration": 10,
    "start_time": "2021-06-10T07:27:56.218Z"
   },
   {
    "duration": 51,
    "start_time": "2021-06-10T07:28:35.461Z"
   },
   {
    "duration": 553,
    "start_time": "2021-06-10T07:28:41.320Z"
   },
   {
    "duration": 5,
    "start_time": "2021-06-10T07:29:17.996Z"
   },
   {
    "duration": 873,
    "start_time": "2021-06-10T07:29:45.200Z"
   },
   {
    "duration": 50,
    "start_time": "2021-06-10T07:30:23.784Z"
   },
   {
    "duration": 478,
    "start_time": "2021-06-10T07:31:16.207Z"
   },
   {
    "duration": 610,
    "start_time": "2021-06-10T07:32:35.372Z"
   },
   {
    "duration": 485,
    "start_time": "2021-06-10T07:32:46.487Z"
   },
   {
    "duration": 496,
    "start_time": "2021-06-10T07:36:00.735Z"
   },
   {
    "duration": 615,
    "start_time": "2021-06-10T07:37:14.839Z"
   },
   {
    "duration": 6,
    "start_time": "2021-06-10T07:39:51.704Z"
   },
   {
    "duration": 6,
    "start_time": "2021-06-10T07:42:30.915Z"
   },
   {
    "duration": 5,
    "start_time": "2021-06-10T07:42:40.458Z"
   },
   {
    "duration": 11,
    "start_time": "2021-06-10T07:44:46.770Z"
   },
   {
    "duration": 6,
    "start_time": "2021-06-10T07:45:06.059Z"
   },
   {
    "duration": 6,
    "start_time": "2021-06-10T07:45:27.148Z"
   },
   {
    "duration": 6,
    "start_time": "2021-06-10T07:46:17.835Z"
   },
   {
    "duration": 8,
    "start_time": "2021-06-10T07:46:57.114Z"
   },
   {
    "duration": 7,
    "start_time": "2021-06-10T07:47:44.374Z"
   },
   {
    "duration": 12,
    "start_time": "2021-06-10T07:48:06.339Z"
   },
   {
    "duration": 7,
    "start_time": "2021-06-10T07:48:08.380Z"
   },
   {
    "duration": 5,
    "start_time": "2021-06-10T07:48:09.829Z"
   },
   {
    "duration": 19,
    "start_time": "2021-06-10T07:48:11.897Z"
   },
   {
    "duration": 5,
    "start_time": "2021-06-10T07:48:16.978Z"
   },
   {
    "duration": 6,
    "start_time": "2021-06-10T07:49:25.243Z"
   },
   {
    "duration": 12,
    "start_time": "2021-06-10T07:49:36.719Z"
   },
   {
    "duration": 7,
    "start_time": "2021-06-10T07:49:38.716Z"
   },
   {
    "duration": 5,
    "start_time": "2021-06-10T07:49:39.719Z"
   },
   {
    "duration": 19,
    "start_time": "2021-06-10T07:49:41.205Z"
   },
   {
    "duration": 5,
    "start_time": "2021-06-10T07:51:19.919Z"
   },
   {
    "duration": 18,
    "start_time": "2021-06-10T07:52:37.820Z"
   },
   {
    "duration": 25,
    "start_time": "2021-06-10T07:52:46.096Z"
   },
   {
    "duration": 7,
    "start_time": "2021-06-10T07:52:49.876Z"
   },
   {
    "duration": 23,
    "start_time": "2021-06-10T07:53:14.071Z"
   },
   {
    "duration": 521,
    "start_time": "2021-06-10T07:54:03.639Z"
   },
   {
    "duration": 9,
    "start_time": "2021-06-10T07:54:44.793Z"
   },
   {
    "duration": 368,
    "start_time": "2021-06-10T07:54:46.396Z"
   },
   {
    "duration": 3,
    "start_time": "2021-06-10T07:56:06.939Z"
   },
   {
    "duration": 349,
    "start_time": "2021-06-10T07:58:46.250Z"
   },
   {
    "duration": 3,
    "start_time": "2021-06-10T08:00:00.385Z"
   },
   {
    "duration": 16,
    "start_time": "2021-06-10T08:00:06.243Z"
   },
   {
    "duration": 346,
    "start_time": "2021-06-10T08:00:13.673Z"
   },
   {
    "duration": 16,
    "start_time": "2021-06-10T08:02:39.459Z"
   },
   {
    "duration": 17,
    "start_time": "2021-06-10T08:03:01.772Z"
   },
   {
    "duration": 409,
    "start_time": "2021-06-10T08:03:07.786Z"
   },
   {
    "duration": 8,
    "start_time": "2021-06-10T08:03:30.470Z"
   },
   {
    "duration": 6,
    "start_time": "2021-06-10T08:03:32.728Z"
   },
   {
    "duration": 13,
    "start_time": "2021-06-10T08:03:35.076Z"
   },
   {
    "duration": 5,
    "start_time": "2021-06-10T08:03:41.802Z"
   },
   {
    "duration": 96,
    "start_time": "2021-06-10T08:03:43.866Z"
   },
   {
    "duration": 4,
    "start_time": "2021-06-10T08:04:27.680Z"
   },
   {
    "duration": 108,
    "start_time": "2021-06-10T08:04:51.758Z"
   },
   {
    "duration": 17,
    "start_time": "2021-06-10T08:05:19.372Z"
   },
   {
    "duration": 6,
    "start_time": "2021-06-10T08:06:11.142Z"
   },
   {
    "duration": 14,
    "start_time": "2021-06-10T08:06:14.036Z"
   },
   {
    "duration": 6,
    "start_time": "2021-06-10T08:06:18.437Z"
   },
   {
    "duration": 17,
    "start_time": "2021-06-10T08:07:04.758Z"
   },
   {
    "duration": 33,
    "start_time": "2021-06-10T08:22:09.080Z"
   },
   {
    "duration": 8,
    "start_time": "2021-06-10T08:22:35.200Z"
   },
   {
    "duration": 2003,
    "start_time": "2021-06-10T08:23:05.723Z"
   },
   {
    "duration": 55,
    "start_time": "2021-06-10T08:23:27.023Z"
   },
   {
    "duration": 37936,
    "start_time": "2021-06-10T08:23:31.139Z"
   },
   {
    "duration": 7,
    "start_time": "2021-06-10T08:26:10.586Z"
   },
   {
    "duration": 297541,
    "start_time": "2021-06-10T08:26:12.838Z"
   },
   {
    "duration": 670,
    "start_time": "2021-06-10T08:33:09.639Z"
   },
   {
    "duration": 18,
    "start_time": "2021-06-10T08:34:17.773Z"
   },
   {
    "duration": 14,
    "start_time": "2021-06-10T08:35:53.962Z"
   },
   {
    "duration": 466,
    "start_time": "2021-06-10T08:36:02.690Z"
   },
   {
    "duration": 263,
    "start_time": "2021-06-10T08:36:32.897Z"
   },
   {
    "duration": 508,
    "start_time": "2021-06-10T08:36:40.628Z"
   },
   {
    "duration": 919,
    "start_time": "2021-06-10T08:36:52.436Z"
   },
   {
    "duration": 920,
    "start_time": "2021-06-10T08:37:00.773Z"
   },
   {
    "duration": 812,
    "start_time": "2021-06-10T08:37:17.238Z"
   },
   {
    "duration": 814,
    "start_time": "2021-06-10T08:37:32.187Z"
   },
   {
    "duration": 1067,
    "start_time": "2021-06-10T13:12:25.427Z"
   },
   {
    "duration": 1074,
    "start_time": "2021-06-10T13:13:06.631Z"
   },
   {
    "duration": 1583,
    "start_time": "2021-06-10T13:13:24.973Z"
   },
   {
    "duration": 688,
    "start_time": "2021-06-10T13:13:50.978Z"
   },
   {
    "duration": 327,
    "start_time": "2021-06-10T13:13:57.680Z"
   },
   {
    "duration": 567,
    "start_time": "2021-06-10T13:14:06.783Z"
   },
   {
    "duration": 331,
    "start_time": "2021-06-10T13:14:18.672Z"
   },
   {
    "duration": 444,
    "start_time": "2021-06-10T13:14:28.054Z"
   },
   {
    "duration": 555,
    "start_time": "2021-06-10T13:14:49.095Z"
   },
   {
    "duration": 1121,
    "start_time": "2021-06-10T13:17:27.002Z"
   },
   {
    "duration": 7,
    "start_time": "2021-06-10T13:19:13.401Z"
   },
   {
    "duration": 14,
    "start_time": "2021-06-10T13:19:45.626Z"
   },
   {
    "duration": 7,
    "start_time": "2021-06-10T13:20:15.017Z"
   },
   {
    "duration": 523,
    "start_time": "2021-06-10T13:20:25.286Z"
   },
   {
    "duration": 27,
    "start_time": "2021-06-10T13:20:46.926Z"
   },
   {
    "duration": 7,
    "start_time": "2021-06-10T13:20:51.852Z"
   },
   {
    "duration": 6,
    "start_time": "2021-06-10T13:21:33.596Z"
   },
   {
    "duration": 29277,
    "start_time": "2021-06-10T13:22:01.087Z"
   },
   {
    "duration": 26,
    "start_time": "2021-06-10T13:22:30.367Z"
   },
   {
    "duration": 4915,
    "start_time": "2021-06-10T13:22:56.351Z"
   },
   {
    "duration": 24,
    "start_time": "2021-06-10T13:23:10.208Z"
   },
   {
    "duration": 4,
    "start_time": "2021-06-10T13:23:26.335Z"
   },
   {
    "duration": 7,
    "start_time": "2021-06-10T13:24:01.867Z"
   },
   {
    "duration": 5,
    "start_time": "2021-06-10T13:59:19.334Z"
   },
   {
    "duration": 57,
    "start_time": "2021-06-10T13:59:21.170Z"
   },
   {
    "duration": 8,
    "start_time": "2021-06-10T13:59:24.512Z"
   },
   {
    "duration": 680,
    "start_time": "2021-06-10T13:59:38.930Z"
   },
   {
    "duration": 823,
    "start_time": "2021-06-10T14:02:00.376Z"
   },
   {
    "duration": 6,
    "start_time": "2021-06-10T14:02:04.358Z"
   },
   {
    "duration": 924,
    "start_time": "2021-06-10T14:03:36.182Z"
   },
   {
    "duration": 48,
    "start_time": "2021-06-10T14:03:41.826Z"
   },
   {
    "duration": 9,
    "start_time": "2021-06-10T14:03:44.106Z"
   },
   {
    "duration": 526,
    "start_time": "2021-06-10T14:03:45.551Z"
   },
   {
    "duration": 591,
    "start_time": "2021-06-10T14:03:54.193Z"
   },
   {
    "duration": 417,
    "start_time": "2021-06-10T14:05:01.309Z"
   },
   {
    "duration": 397,
    "start_time": "2021-06-10T14:05:17.950Z"
   },
   {
    "duration": 1586,
    "start_time": "2021-06-10T14:05:37.766Z"
   },
   {
    "duration": 1629,
    "start_time": "2021-06-10T14:10:41.751Z"
   },
   {
    "duration": 8,
    "start_time": "2021-06-10T14:11:28.977Z"
   },
   {
    "duration": 17,
    "start_time": "2021-06-10T14:12:07.800Z"
   },
   {
    "duration": 7,
    "start_time": "2021-06-10T14:12:27.561Z"
   },
   {
    "duration": 7,
    "start_time": "2021-06-10T14:12:59.763Z"
   },
   {
    "duration": 592,
    "start_time": "2021-06-10T14:13:10.228Z"
   },
   {
    "duration": 7,
    "start_time": "2021-06-10T14:13:13.071Z"
   },
   {
    "duration": 13,
    "start_time": "2021-06-10T14:13:26.047Z"
   },
   {
    "duration": 386,
    "start_time": "2021-06-10T14:13:47.076Z"
   },
   {
    "duration": 10,
    "start_time": "2021-06-10T14:14:01.907Z"
   },
   {
    "duration": 11,
    "start_time": "2021-06-10T14:16:02.225Z"
   },
   {
    "duration": 10,
    "start_time": "2021-06-10T14:16:46.867Z"
   },
   {
    "duration": 9,
    "start_time": "2021-06-10T14:17:03.747Z"
   },
   {
    "duration": 7,
    "start_time": "2021-06-10T14:17:15.635Z"
   },
   {
    "duration": 7,
    "start_time": "2021-06-10T14:17:23.093Z"
   },
   {
    "duration": 5,
    "start_time": "2021-06-10T14:17:39.699Z"
   },
   {
    "duration": 5,
    "start_time": "2021-06-10T14:18:13.557Z"
   },
   {
    "duration": 500,
    "start_time": "2021-06-10T14:20:35.795Z"
   },
   {
    "duration": 516,
    "start_time": "2021-06-10T14:21:28.602Z"
   },
   {
    "duration": 12,
    "start_time": "2021-06-10T14:34:33.581Z"
   },
   {
    "duration": 840,
    "start_time": "2021-06-10T14:37:34.839Z"
   },
   {
    "duration": 1307,
    "start_time": "2021-06-10T14:37:48.534Z"
   },
   {
    "duration": 1115,
    "start_time": "2021-06-10T14:37:57.763Z"
   },
   {
    "duration": 130,
    "start_time": "2021-06-10T14:40:48.806Z"
   },
   {
    "duration": 11,
    "start_time": "2021-06-10T14:40:59.812Z"
   },
   {
    "duration": 1158,
    "start_time": "2021-06-10T14:41:27.839Z"
   },
   {
    "duration": 959,
    "start_time": "2021-06-10T14:41:38.890Z"
   },
   {
    "duration": 6,
    "start_time": "2021-06-10T14:45:08.066Z"
   },
   {
    "duration": 2949,
    "start_time": "2021-06-10T14:45:46.037Z"
   },
   {
    "duration": 5,
    "start_time": "2021-06-10T14:46:07.417Z"
   },
   {
    "duration": 1929,
    "start_time": "2021-06-10T14:46:08.337Z"
   },
   {
    "duration": 5,
    "start_time": "2021-06-10T14:46:42.564Z"
   },
   {
    "duration": 985,
    "start_time": "2021-06-10T14:46:43.776Z"
   },
   {
    "duration": 6,
    "start_time": "2021-06-10T14:47:02.666Z"
   },
   {
    "duration": 1585,
    "start_time": "2021-06-10T14:47:04.054Z"
   },
   {
    "duration": 9,
    "start_time": "2021-06-10T14:48:32.848Z"
   },
   {
    "duration": 12,
    "start_time": "2021-06-10T14:49:58.609Z"
   },
   {
    "duration": 12,
    "start_time": "2021-06-10T14:50:13.186Z"
   },
   {
    "duration": 378,
    "start_time": "2021-06-10T14:51:04.443Z"
   },
   {
    "duration": 358,
    "start_time": "2021-06-10T14:51:17.987Z"
   },
   {
    "duration": 10,
    "start_time": "2021-06-10T14:51:41.864Z"
   },
   {
    "duration": 7,
    "start_time": "2021-06-10T14:53:25.694Z"
   },
   {
    "duration": 1286,
    "start_time": "2021-06-10T14:53:33.799Z"
   },
   {
    "duration": 1176,
    "start_time": "2021-06-10T14:54:36.133Z"
   },
   {
    "duration": 10,
    "start_time": "2021-06-10T14:54:38.686Z"
   },
   {
    "duration": 1677,
    "start_time": "2021-06-10T14:55:56.796Z"
   },
   {
    "duration": 1522,
    "start_time": "2021-06-11T07:48:06.907Z"
   },
   {
    "duration": 56,
    "start_time": "2021-06-11T07:49:50.355Z"
   },
   {
    "duration": 10,
    "start_time": "2021-06-11T07:49:53.246Z"
   },
   {
    "duration": 542,
    "start_time": "2021-06-11T07:49:55.141Z"
   },
   {
    "duration": 545,
    "start_time": "2021-06-11T07:50:46.807Z"
   },
   {
    "duration": 7,
    "start_time": "2021-06-11T07:51:21.172Z"
   },
   {
    "duration": 8,
    "start_time": "2021-06-11T07:51:29.968Z"
   },
   {
    "duration": 20,
    "start_time": "2021-06-11T07:52:02.590Z"
   },
   {
    "duration": 5,
    "start_time": "2021-06-11T07:54:02.267Z"
   },
   {
    "duration": 8,
    "start_time": "2021-06-11T07:55:16.212Z"
   },
   {
    "duration": 9,
    "start_time": "2021-06-11T07:55:36.674Z"
   },
   {
    "duration": 8,
    "start_time": "2021-06-11T07:55:59.271Z"
   },
   {
    "duration": 7,
    "start_time": "2021-06-11T07:56:05.948Z"
   },
   {
    "duration": 7,
    "start_time": "2021-06-11T07:56:13.223Z"
   },
   {
    "duration": 507,
    "start_time": "2021-06-11T07:56:24.678Z"
   },
   {
    "duration": 7,
    "start_time": "2021-06-11T07:56:48.486Z"
   },
   {
    "duration": 592,
    "start_time": "2021-06-11T07:58:56.780Z"
   },
   {
    "duration": 6,
    "start_time": "2021-06-11T08:01:05.696Z"
   },
   {
    "duration": 18,
    "start_time": "2021-06-11T08:01:08.379Z"
   },
   {
    "duration": 8,
    "start_time": "2021-06-11T08:01:12.754Z"
   },
   {
    "duration": 6,
    "start_time": "2021-06-11T08:01:28.629Z"
   },
   {
    "duration": 13,
    "start_time": "2021-06-11T08:02:09.926Z"
   },
   {
    "duration": 6,
    "start_time": "2021-06-11T08:02:16.700Z"
   },
   {
    "duration": 7,
    "start_time": "2021-06-11T08:02:33.341Z"
   },
   {
    "duration": 10,
    "start_time": "2021-06-11T08:02:57.562Z"
   },
   {
    "duration": 1790,
    "start_time": "2021-06-11T08:03:16.859Z"
   },
   {
    "duration": 14,
    "start_time": "2021-06-11T08:03:43.677Z"
   },
   {
    "duration": 13,
    "start_time": "2021-06-11T08:03:51.446Z"
   },
   {
    "duration": 954,
    "start_time": "2021-06-11T08:04:18.704Z"
   },
   {
    "duration": 8,
    "start_time": "2021-06-11T08:05:01.988Z"
   },
   {
    "duration": 332,
    "start_time": "2021-06-11T08:06:25.750Z"
   },
   {
    "duration": 659,
    "start_time": "2021-06-11T08:06:29.426Z"
   },
   {
    "duration": 17,
    "start_time": "2021-06-11T08:06:31.322Z"
   },
   {
    "duration": 1088,
    "start_time": "2021-06-11T08:06:32.883Z"
   },
   {
    "duration": 5,
    "start_time": "2021-06-11T08:07:31.079Z"
   },
   {
    "duration": 5,
    "start_time": "2021-06-11T08:07:44.809Z"
   },
   {
    "duration": 1903,
    "start_time": "2021-06-11T08:08:06.370Z"
   },
   {
    "duration": 16,
    "start_time": "2021-06-11T08:08:17.698Z"
   },
   {
    "duration": 5,
    "start_time": "2021-06-11T08:08:23.406Z"
   },
   {
    "duration": 5,
    "start_time": "2021-06-11T08:08:24.541Z"
   },
   {
    "duration": 6,
    "start_time": "2021-06-11T08:09:34.416Z"
   },
   {
    "duration": 3,
    "start_time": "2021-06-11T08:10:30.171Z"
   },
   {
    "duration": 3,
    "start_time": "2021-06-11T08:12:44.993Z"
   },
   {
    "duration": 4,
    "start_time": "2021-06-11T08:13:09.477Z"
   },
   {
    "duration": 843,
    "start_time": "2021-06-11T08:15:52.437Z"
   },
   {
    "duration": 15,
    "start_time": "2021-06-11T08:16:47.962Z"
   },
   {
    "duration": 4,
    "start_time": "2021-06-11T08:18:20.286Z"
   },
   {
    "duration": 31,
    "start_time": "2021-06-11T08:19:28.403Z"
   },
   {
    "duration": 3,
    "start_time": "2021-06-11T08:19:55.683Z"
   },
   {
    "duration": 12,
    "start_time": "2021-06-11T08:20:52.852Z"
   },
   {
    "duration": 4,
    "start_time": "2021-06-11T08:20:59.708Z"
   },
   {
    "duration": 14,
    "start_time": "2021-06-11T08:21:06.328Z"
   },
   {
    "duration": 6,
    "start_time": "2021-06-11T08:22:00.067Z"
   },
   {
    "duration": 13,
    "start_time": "2021-06-11T08:22:10.978Z"
   },
   {
    "duration": 966,
    "start_time": "2021-06-11T08:22:35.201Z"
   },
   {
    "duration": 9,
    "start_time": "2021-06-11T08:25:41.854Z"
   },
   {
    "duration": 11,
    "start_time": "2021-06-11T08:26:50.454Z"
   },
   {
    "duration": 15,
    "start_time": "2021-06-11T08:27:09.665Z"
   },
   {
    "duration": 10,
    "start_time": "2021-06-11T08:31:18.992Z"
   },
   {
    "duration": 1899,
    "start_time": "2021-06-11T08:32:40.645Z"
   },
   {
    "duration": 5,
    "start_time": "2021-06-11T08:32:42.547Z"
   },
   {
    "duration": 6,
    "start_time": "2021-06-11T08:32:42.563Z"
   },
   {
    "duration": 9,
    "start_time": "2021-06-11T08:32:42.572Z"
   },
   {
    "duration": 6,
    "start_time": "2021-06-11T08:32:42.584Z"
   },
   {
    "duration": 72,
    "start_time": "2021-06-11T08:32:42.593Z"
   },
   {
    "duration": 9,
    "start_time": "2021-06-11T08:32:42.667Z"
   },
   {
    "duration": 612,
    "start_time": "2021-06-11T08:32:42.679Z"
   },
   {
    "duration": 6,
    "start_time": "2021-06-11T08:32:43.294Z"
   },
   {
    "duration": 20,
    "start_time": "2021-06-11T08:32:43.303Z"
   },
   {
    "duration": 539,
    "start_time": "2021-06-11T08:32:43.325Z"
   },
   {
    "duration": 5,
    "start_time": "2021-06-11T08:32:43.867Z"
   },
   {
    "duration": 1702,
    "start_time": "2021-06-11T08:32:43.874Z"
   },
   {
    "duration": 17,
    "start_time": "2021-06-11T08:32:45.579Z"
   },
   {
    "duration": 12,
    "start_time": "2021-06-11T08:32:45.598Z"
   },
   {
    "duration": 24,
    "start_time": "2021-06-11T08:32:45.612Z"
   },
   {
    "duration": 22,
    "start_time": "2021-06-11T08:32:45.639Z"
   },
   {
    "duration": 19,
    "start_time": "2021-06-11T08:32:45.664Z"
   },
   {
    "duration": 1270,
    "start_time": "2021-06-11T08:32:45.687Z"
   },
   {
    "duration": 4,
    "start_time": "2021-06-11T08:32:46.962Z"
   },
   {
    "duration": 7,
    "start_time": "2021-06-11T08:32:46.969Z"
   },
   {
    "duration": 694,
    "start_time": "2021-06-11T08:32:46.979Z"
   },
   {
    "duration": 18,
    "start_time": "2021-06-11T08:32:47.679Z"
   },
   {
    "duration": 1061,
    "start_time": "2021-06-11T08:32:47.700Z"
   },
   {
    "duration": 3,
    "start_time": "2021-06-11T08:32:48.764Z"
   },
   {
    "duration": 483,
    "start_time": "2021-06-11T08:32:48.770Z"
   },
   {
    "duration": -340,
    "start_time": "2021-06-11T08:32:49.595Z"
   },
   {
    "duration": -345,
    "start_time": "2021-06-11T08:32:49.601Z"
   },
   {
    "duration": -347,
    "start_time": "2021-06-11T08:32:49.605Z"
   },
   {
    "duration": -348,
    "start_time": "2021-06-11T08:32:49.607Z"
   },
   {
    "duration": -354,
    "start_time": "2021-06-11T08:32:49.614Z"
   },
   {
    "duration": -357,
    "start_time": "2021-06-11T08:32:49.618Z"
   },
   {
    "duration": -357,
    "start_time": "2021-06-11T08:32:49.620Z"
   },
   {
    "duration": -358,
    "start_time": "2021-06-11T08:32:49.622Z"
   },
   {
    "duration": 5,
    "start_time": "2021-06-11T08:34:07.999Z"
   },
   {
    "duration": 4,
    "start_time": "2021-06-11T08:34:09.694Z"
   },
   {
    "duration": 2416,
    "start_time": "2021-06-11T08:34:11.558Z"
   },
   {
    "duration": 193,
    "start_time": "2021-06-11T08:34:15.672Z"
   },
   {
    "duration": 3,
    "start_time": "2021-06-11T08:34:17.599Z"
   },
   {
    "duration": 13,
    "start_time": "2021-06-11T08:34:20.541Z"
   },
   {
    "duration": 4,
    "start_time": "2021-06-11T08:38:38.692Z"
   },
   {
    "duration": 1626,
    "start_time": "2021-06-11T08:39:03.215Z"
   },
   {
    "duration": 5,
    "start_time": "2021-06-11T08:39:04.844Z"
   },
   {
    "duration": 15,
    "start_time": "2021-06-11T08:39:04.853Z"
   },
   {
    "duration": 8,
    "start_time": "2021-06-11T08:39:04.872Z"
   },
   {
    "duration": 14,
    "start_time": "2021-06-11T08:39:04.882Z"
   },
   {
    "duration": 74,
    "start_time": "2021-06-11T08:39:04.898Z"
   },
   {
    "duration": 9,
    "start_time": "2021-06-11T08:39:04.975Z"
   },
   {
    "duration": 565,
    "start_time": "2021-06-11T08:39:04.997Z"
   },
   {
    "duration": 6,
    "start_time": "2021-06-11T08:39:05.565Z"
   },
   {
    "duration": 9,
    "start_time": "2021-06-11T08:39:05.574Z"
   },
   {
    "duration": 551,
    "start_time": "2021-06-11T08:39:05.585Z"
   },
   {
    "duration": 5,
    "start_time": "2021-06-11T08:39:06.138Z"
   },
   {
    "duration": 1685,
    "start_time": "2021-06-11T08:39:06.145Z"
   },
   {
    "duration": 30,
    "start_time": "2021-06-11T08:39:07.832Z"
   },
   {
    "duration": 8,
    "start_time": "2021-06-11T08:39:07.865Z"
   },
   {
    "duration": 14,
    "start_time": "2021-06-11T08:39:07.875Z"
   },
   {
    "duration": 3,
    "start_time": "2021-06-11T08:39:07.892Z"
   },
   {
    "duration": 11,
    "start_time": "2021-06-11T08:39:07.898Z"
   },
   {
    "duration": 1240,
    "start_time": "2021-06-11T08:39:07.911Z"
   },
   {
    "duration": 8,
    "start_time": "2021-06-11T08:39:09.154Z"
   },
   {
    "duration": 8,
    "start_time": "2021-06-11T08:39:09.165Z"
   },
   {
    "duration": 688,
    "start_time": "2021-06-11T08:39:09.175Z"
   },
   {
    "duration": 18,
    "start_time": "2021-06-11T08:39:09.868Z"
   },
   {
    "duration": 1066,
    "start_time": "2021-06-11T08:39:09.889Z"
   },
   {
    "duration": 5,
    "start_time": "2021-06-11T08:39:10.957Z"
   },
   {
    "duration": 23,
    "start_time": "2021-06-11T08:39:10.964Z"
   },
   {
    "duration": 11,
    "start_time": "2021-06-11T08:39:10.990Z"
   },
   {
    "duration": 2262,
    "start_time": "2021-06-11T08:39:11.004Z"
   },
   {
    "duration": 100,
    "start_time": "2021-06-11T08:39:13.268Z"
   },
   {
    "duration": 3,
    "start_time": "2021-06-11T08:39:13.370Z"
   },
   {
    "duration": 17,
    "start_time": "2021-06-11T08:39:13.376Z"
   },
   {
    "duration": 67,
    "start_time": "2021-06-11T08:39:13.395Z"
   },
   {
    "duration": 13,
    "start_time": "2021-06-11T08:39:13.465Z"
   },
   {
    "duration": 1078,
    "start_time": "2021-06-11T08:39:13.480Z"
   },
   {
    "duration": 8,
    "start_time": "2021-06-11T08:40:14.118Z"
   },
   {
    "duration": 208077,
    "start_time": "2021-06-11T08:40:17.787Z"
   },
   {
    "duration": 4,
    "start_time": "2021-06-11T08:44:01.658Z"
   },
   {
    "duration": 1537,
    "start_time": "2021-06-11T08:46:49.295Z"
   },
   {
    "duration": 6,
    "start_time": "2021-06-11T08:46:50.834Z"
   },
   {
    "duration": 8,
    "start_time": "2021-06-11T08:46:50.843Z"
   },
   {
    "duration": 23,
    "start_time": "2021-06-11T08:46:50.863Z"
   },
   {
    "duration": 12,
    "start_time": "2021-06-11T08:46:50.888Z"
   },
   {
    "duration": 65,
    "start_time": "2021-06-11T08:46:50.902Z"
   },
   {
    "duration": 8,
    "start_time": "2021-06-11T08:46:50.969Z"
   },
   {
    "duration": 576,
    "start_time": "2021-06-11T08:46:50.980Z"
   },
   {
    "duration": 6,
    "start_time": "2021-06-11T08:46:51.562Z"
   },
   {
    "duration": 8,
    "start_time": "2021-06-11T08:46:51.579Z"
   },
   {
    "duration": 526,
    "start_time": "2021-06-11T08:46:51.589Z"
   },
   {
    "duration": 5,
    "start_time": "2021-06-11T08:46:52.117Z"
   },
   {
    "duration": 1666,
    "start_time": "2021-06-11T08:46:52.125Z"
   },
   {
    "duration": 17,
    "start_time": "2021-06-11T08:46:53.793Z"
   },
   {
    "duration": 6,
    "start_time": "2021-06-11T08:46:53.812Z"
   },
   {
    "duration": 42,
    "start_time": "2021-06-11T08:46:53.821Z"
   },
   {
    "duration": 3,
    "start_time": "2021-06-11T08:46:53.866Z"
   },
   {
    "duration": 14,
    "start_time": "2021-06-11T08:46:53.871Z"
   },
   {
    "duration": 1325,
    "start_time": "2021-06-11T08:46:53.887Z"
   },
   {
    "duration": 3,
    "start_time": "2021-06-11T08:46:55.214Z"
   },
   {
    "duration": 8,
    "start_time": "2021-06-11T08:46:55.219Z"
   },
   {
    "duration": 680,
    "start_time": "2021-06-11T08:46:55.230Z"
   },
   {
    "duration": 17,
    "start_time": "2021-06-11T08:46:55.915Z"
   },
   {
    "duration": 1039,
    "start_time": "2021-06-11T08:46:55.935Z"
   },
   {
    "duration": 3,
    "start_time": "2021-06-11T08:46:56.976Z"
   },
   {
    "duration": 12,
    "start_time": "2021-06-11T08:46:56.981Z"
   },
   {
    "duration": 7,
    "start_time": "2021-06-11T08:46:56.995Z"
   },
   {
    "duration": 2266,
    "start_time": "2021-06-11T08:46:57.004Z"
   },
   {
    "duration": 95,
    "start_time": "2021-06-11T08:46:59.273Z"
   },
   {
    "duration": 4,
    "start_time": "2021-06-11T08:46:59.370Z"
   },
   {
    "duration": 17,
    "start_time": "2021-06-11T08:46:59.376Z"
   },
   {
    "duration": 69,
    "start_time": "2021-06-11T08:46:59.395Z"
   },
   {
    "duration": 11,
    "start_time": "2021-06-11T08:46:59.466Z"
   },
   {
    "duration": 1094,
    "start_time": "2021-06-11T08:46:59.480Z"
   },
   {
    "duration": 1828,
    "start_time": "2021-06-11T09:00:15.356Z"
   },
   {
    "duration": 6,
    "start_time": "2021-06-11T09:00:17.187Z"
   },
   {
    "duration": 10,
    "start_time": "2021-06-11T09:00:17.196Z"
   },
   {
    "duration": 7,
    "start_time": "2021-06-11T09:00:17.226Z"
   },
   {
    "duration": 12,
    "start_time": "2021-06-11T09:00:17.236Z"
   },
   {
    "duration": 57,
    "start_time": "2021-06-11T09:00:21.487Z"
   },
   {
    "duration": 9,
    "start_time": "2021-06-11T09:00:22.130Z"
   },
   {
    "duration": 651,
    "start_time": "2021-06-11T09:00:23.314Z"
   },
   {
    "duration": 8,
    "start_time": "2021-06-11T09:00:24.636Z"
   },
   {
    "duration": 5,
    "start_time": "2021-06-11T09:04:06.789Z"
   },
   {
    "duration": 607,
    "start_time": "2021-06-11T09:04:07.439Z"
   },
   {
    "duration": 6,
    "start_time": "2021-06-11T09:04:09.506Z"
   },
   {
    "duration": 1634,
    "start_time": "2021-06-11T09:04:10.283Z"
   },
   {
    "duration": 17,
    "start_time": "2021-06-11T09:04:46.603Z"
   },
   {
    "duration": 8,
    "start_time": "2021-06-11T09:04:46.787Z"
   },
   {
    "duration": 15,
    "start_time": "2021-06-11T09:04:46.982Z"
   },
   {
    "duration": 3,
    "start_time": "2021-06-11T09:04:47.285Z"
   },
   {
    "duration": 5,
    "start_time": "2021-06-11T13:02:08.493Z"
   },
   {
    "duration": 6,
    "start_time": "2021-06-11T13:02:10.704Z"
   },
   {
    "duration": 6,
    "start_time": "2021-06-11T13:03:37.792Z"
   },
   {
    "duration": 50,
    "start_time": "2021-06-11T13:03:43.938Z"
   },
   {
    "duration": 8,
    "start_time": "2021-06-11T13:03:46.778Z"
   },
   {
    "duration": 6,
    "start_time": "2021-06-11T13:04:12.239Z"
   },
   {
    "duration": 491,
    "start_time": "2021-06-11T13:04:15.640Z"
   },
   {
    "duration": 487,
    "start_time": "2021-06-11T13:04:37.237Z"
   },
   {
    "duration": 5,
    "start_time": "2021-06-11T13:04:42.138Z"
   },
   {
    "duration": 1714,
    "start_time": "2021-06-11T13:04:44.189Z"
   },
   {
    "duration": 1556,
    "start_time": "2021-06-11T13:08:31.980Z"
   },
   {
    "duration": 1530,
    "start_time": "2021-06-11T13:08:59.688Z"
   },
   {
    "duration": 1002,
    "start_time": "2021-06-11T13:10:43.934Z"
   },
   {
    "duration": 1217,
    "start_time": "2021-06-11T13:15:12.066Z"
   },
   {
    "duration": 1084,
    "start_time": "2021-06-11T13:15:21.900Z"
   },
   {
    "duration": 1171,
    "start_time": "2021-06-11T13:20:17.343Z"
   },
   {
    "duration": 1031,
    "start_time": "2021-06-11T13:26:36.091Z"
   },
   {
    "duration": 9,
    "start_time": "2021-06-11T13:29:57.229Z"
   },
   {
    "duration": 10,
    "start_time": "2021-06-11T13:33:41.189Z"
   },
   {
    "duration": 14,
    "start_time": "2021-06-11T13:33:42.413Z"
   },
   {
    "duration": 3,
    "start_time": "2021-06-11T13:33:45.751Z"
   },
   {
    "duration": 10,
    "start_time": "2021-06-11T13:33:47.758Z"
   },
   {
    "duration": 5,
    "start_time": "2021-06-11T13:34:18.632Z"
   },
   {
    "duration": 5,
    "start_time": "2021-06-11T13:34:29.459Z"
   },
   {
    "duration": 8,
    "start_time": "2021-06-11T13:34:37.000Z"
   },
   {
    "duration": 8,
    "start_time": "2021-06-11T13:34:38.603Z"
   },
   {
    "duration": 14,
    "start_time": "2021-06-11T13:34:40.522Z"
   },
   {
    "duration": 4,
    "start_time": "2021-06-11T13:34:43.009Z"
   },
   {
    "duration": 10,
    "start_time": "2021-06-11T13:34:44.412Z"
   },
   {
    "duration": 13,
    "start_time": "2021-06-11T13:41:30.237Z"
   },
   {
    "duration": 991,
    "start_time": "2021-06-11T13:43:39.365Z"
   },
   {
    "duration": 3,
    "start_time": "2021-06-11T13:43:44.448Z"
   },
   {
    "duration": 358,
    "start_time": "2021-06-11T13:43:47.127Z"
   },
   {
    "duration": 16,
    "start_time": "2021-06-11T13:43:48.476Z"
   },
   {
    "duration": 1068,
    "start_time": "2021-06-11T13:43:51.460Z"
   },
   {
    "duration": 5,
    "start_time": "2021-06-11T13:43:57.892Z"
   },
   {
    "duration": 7,
    "start_time": "2021-06-11T13:44:00.928Z"
   },
   {
    "duration": 575,
    "start_time": "2021-06-11T13:49:08.374Z"
   },
   {
    "duration": 440,
    "start_time": "2021-06-11T16:33:03.856Z"
   },
   {
    "duration": 10,
    "start_time": "2021-06-11T16:33:19.180Z"
   },
   {
    "duration": 13752,
    "start_time": "2021-06-11T16:34:23.801Z"
   },
   {
    "duration": 288,
    "start_time": "2021-06-11T16:34:51.317Z"
   },
   {
    "duration": 675,
    "start_time": "2021-06-11T16:35:10.192Z"
   },
   {
    "duration": 615,
    "start_time": "2021-06-11T16:35:29.171Z"
   },
   {
    "duration": 16,
    "start_time": "2021-06-11T16:56:56.995Z"
   },
   {
    "duration": 355,
    "start_time": "2021-06-11T17:02:35.323Z"
   },
   {
    "duration": 349,
    "start_time": "2021-06-11T17:03:11.336Z"
   },
   {
    "duration": 710,
    "start_time": "2021-06-11T17:03:25.020Z"
   },
   {
    "duration": 7,
    "start_time": "2021-06-11T17:03:29.636Z"
   },
   {
    "duration": 10,
    "start_time": "2021-06-11T17:03:31.134Z"
   },
   {
    "duration": 9,
    "start_time": "2021-06-11T17:03:34.441Z"
   },
   {
    "duration": 8,
    "start_time": "2021-06-11T17:03:47.530Z"
   },
   {
    "duration": 125,
    "start_time": "2021-06-11T17:03:59.491Z"
   },
   {
    "duration": 309,
    "start_time": "2021-06-11T17:04:06.110Z"
   },
   {
    "duration": 289,
    "start_time": "2021-06-11T17:08:00.984Z"
   },
   {
    "duration": 4,
    "start_time": "2021-06-11T17:08:31.287Z"
   },
   {
    "duration": 335,
    "start_time": "2021-06-11T17:19:18.705Z"
   },
   {
    "duration": 4,
    "start_time": "2021-06-11T17:23:46.659Z"
   },
   {
    "duration": 300,
    "start_time": "2021-06-11T17:23:47.926Z"
   },
   {
    "duration": 3,
    "start_time": "2021-06-11T17:24:23.084Z"
   },
   {
    "duration": 372,
    "start_time": "2021-06-11T17:24:24.125Z"
   },
   {
    "duration": 376,
    "start_time": "2021-06-11T17:24:38.788Z"
   },
   {
    "duration": 322,
    "start_time": "2021-06-11T17:24:55.916Z"
   },
   {
    "duration": 6,
    "start_time": "2021-06-11T18:08:13.922Z"
   },
   {
    "duration": 355,
    "start_time": "2021-06-11T18:09:35.425Z"
   },
   {
    "duration": 361,
    "start_time": "2021-06-11T18:15:54.522Z"
   },
   {
    "duration": 353,
    "start_time": "2021-06-11T18:16:19.116Z"
   },
   {
    "duration": 4,
    "start_time": "2021-06-11T18:16:32.597Z"
   },
   {
    "duration": 5,
    "start_time": "2021-06-11T18:16:33.837Z"
   },
   {
    "duration": 398,
    "start_time": "2021-06-11T18:16:47.652Z"
   },
   {
    "duration": 336,
    "start_time": "2021-06-11T18:17:02.335Z"
   },
   {
    "duration": 112,
    "start_time": "2021-06-11T18:20:20.816Z"
   },
   {
    "duration": 317,
    "start_time": "2021-06-11T18:20:33.790Z"
   },
   {
    "duration": 358,
    "start_time": "2021-06-11T18:22:06.133Z"
   },
   {
    "duration": 4,
    "start_time": "2021-06-11T18:22:37.605Z"
   },
   {
    "duration": 361,
    "start_time": "2021-06-11T18:23:26.764Z"
   },
   {
    "duration": 384,
    "start_time": "2021-06-11T18:23:53.918Z"
   },
   {
    "duration": 365,
    "start_time": "2021-06-11T18:24:04.714Z"
   },
   {
    "duration": 347,
    "start_time": "2021-06-11T18:25:10.263Z"
   },
   {
    "duration": 12,
    "start_time": "2021-06-11T18:25:17.340Z"
   },
   {
    "duration": 310,
    "start_time": "2021-06-11T18:25:50.250Z"
   },
   {
    "duration": 10,
    "start_time": "2021-06-11T18:34:50.805Z"
   },
   {
    "duration": 451,
    "start_time": "2021-06-11T18:36:13.803Z"
   },
   {
    "duration": 316,
    "start_time": "2021-06-11T18:37:40.305Z"
   },
   {
    "duration": 321,
    "start_time": "2021-06-11T18:54:40.909Z"
   },
   {
    "duration": 360,
    "start_time": "2021-06-11T18:55:37.258Z"
   },
   {
    "duration": 378,
    "start_time": "2021-06-11T18:57:06.093Z"
   },
   {
    "duration": 304,
    "start_time": "2021-06-11T18:57:17.996Z"
   },
   {
    "duration": 351,
    "start_time": "2021-06-11T18:59:06.245Z"
   },
   {
    "duration": 4,
    "start_time": "2021-06-11T18:59:27.079Z"
   },
   {
    "duration": 309,
    "start_time": "2021-06-11T18:59:28.211Z"
   },
   {
    "duration": 506,
    "start_time": "2021-06-11T19:00:05.629Z"
   },
   {
    "duration": 4,
    "start_time": "2021-06-11T19:01:00.346Z"
   },
   {
    "duration": 588,
    "start_time": "2021-06-11T19:01:06.742Z"
   },
   {
    "duration": 628144,
    "start_time": "2021-06-11T19:01:24.117Z"
   },
   {
    "duration": 79555,
    "start_time": "2021-06-11T19:12:10.074Z"
   },
   {
    "duration": 399539,
    "start_time": "2021-06-11T19:13:30.446Z"
   },
   {
    "duration": 12422,
    "start_time": "2021-06-11T19:20:12.880Z"
   },
   {
    "duration": 9511,
    "start_time": "2021-06-11T19:20:26.671Z"
   },
   {
    "duration": 6,
    "start_time": "2021-06-11T19:33:49.441Z"
   },
   {
    "duration": 17815,
    "start_time": "2021-06-11T19:33:59.349Z"
   },
   {
    "duration": 364,
    "start_time": "2021-06-11T19:34:48.936Z"
   },
   {
    "duration": 378,
    "start_time": "2021-06-11T19:35:21.149Z"
   },
   {
    "duration": 318,
    "start_time": "2021-06-11T19:36:16.233Z"
   },
   {
    "duration": 342,
    "start_time": "2021-06-11T19:38:14.403Z"
   },
   {
    "duration": 6,
    "start_time": "2021-06-11T19:38:23.273Z"
   },
   {
    "duration": 374,
    "start_time": "2021-06-11T19:38:25.430Z"
   },
   {
    "duration": 362,
    "start_time": "2021-06-11T19:38:56.059Z"
   },
   {
    "duration": 6,
    "start_time": "2021-06-11T19:39:20.983Z"
   },
   {
    "duration": 4,
    "start_time": "2021-06-11T19:39:31.546Z"
   },
   {
    "duration": 17235,
    "start_time": "2021-06-11T19:39:43.931Z"
   },
   {
    "duration": 238,
    "start_time": "2021-06-11T19:40:37.079Z"
   },
   {
    "duration": 3,
    "start_time": "2021-06-11T19:40:53.337Z"
   },
   {
    "duration": 17869,
    "start_time": "2021-06-11T19:41:00.175Z"
   },
   {
    "duration": 6,
    "start_time": "2021-06-11T19:43:37.441Z"
   },
   {
    "duration": 5,
    "start_time": "2021-06-11T19:44:45.628Z"
   },
   {
    "duration": 4,
    "start_time": "2021-06-11T19:45:07.411Z"
   },
   {
    "duration": 153770,
    "start_time": "2021-06-11T19:45:09.259Z"
   },
   {
    "duration": 5,
    "start_time": "2021-06-11T19:48:19.150Z"
   },
   {
    "duration": 5,
    "start_time": "2021-06-11T19:50:39.748Z"
   },
   {
    "duration": 625,
    "start_time": "2021-06-11T20:02:49.840Z"
   },
   {
    "duration": 6,
    "start_time": "2021-06-11T20:04:32.244Z"
   },
   {
    "duration": 1681,
    "start_time": "2021-06-12T07:14:34.438Z"
   },
   {
    "duration": 6,
    "start_time": "2021-06-12T07:14:39.463Z"
   },
   {
    "duration": 10,
    "start_time": "2021-06-12T07:14:41.565Z"
   },
   {
    "duration": 7,
    "start_time": "2021-06-12T07:15:11.691Z"
   },
   {
    "duration": 5,
    "start_time": "2021-06-12T07:15:18.297Z"
   },
   {
    "duration": 6,
    "start_time": "2021-06-12T07:17:13.825Z"
   },
   {
    "duration": 64,
    "start_time": "2021-06-12T07:17:19.439Z"
   },
   {
    "duration": 15,
    "start_time": "2021-06-12T07:17:22.168Z"
   },
   {
    "duration": 7,
    "start_time": "2021-06-12T07:17:24.241Z"
   },
   {
    "duration": 5,
    "start_time": "2021-06-12T07:17:29.714Z"
   },
   {
    "duration": 551,
    "start_time": "2021-06-12T07:17:32.668Z"
   },
   {
    "duration": 528,
    "start_time": "2021-06-12T07:18:16.891Z"
   },
   {
    "duration": 619,
    "start_time": "2021-06-12T07:18:39.679Z"
   },
   {
    "duration": 5,
    "start_time": "2021-06-12T07:19:00.753Z"
   },
   {
    "duration": 1755,
    "start_time": "2021-06-12T07:19:03.250Z"
   },
   {
    "duration": 11,
    "start_time": "2021-06-12T07:19:57.691Z"
   },
   {
    "duration": 8,
    "start_time": "2021-06-12T07:20:01.758Z"
   },
   {
    "duration": 12,
    "start_time": "2021-06-12T07:20:02.622Z"
   },
   {
    "duration": 14,
    "start_time": "2021-06-12T07:20:17.627Z"
   },
   {
    "duration": 15,
    "start_time": "2021-06-12T07:20:44.857Z"
   },
   {
    "duration": 3,
    "start_time": "2021-06-12T07:21:11.044Z"
   },
   {
    "duration": 11,
    "start_time": "2021-06-12T07:30:57.726Z"
   },
   {
    "duration": 1165,
    "start_time": "2021-06-12T07:31:07.798Z"
   },
   {
    "duration": 344,
    "start_time": "2021-06-12T07:32:28.650Z"
   },
   {
    "duration": 17,
    "start_time": "2021-06-12T07:32:30.973Z"
   },
   {
    "duration": 1098,
    "start_time": "2021-06-12T07:32:33.233Z"
   },
   {
    "duration": 7,
    "start_time": "2021-06-12T07:34:33.160Z"
   },
   {
    "duration": 1172,
    "start_time": "2021-06-12T07:34:42.090Z"
   },
   {
    "duration": 7,
    "start_time": "2021-06-12T07:35:13.693Z"
   },
   {
    "duration": 1158,
    "start_time": "2021-06-12T07:35:17.392Z"
   },
   {
    "duration": 7,
    "start_time": "2021-06-12T07:37:37.945Z"
   },
   {
    "duration": 489,
    "start_time": "2021-06-12T07:37:45.286Z"
   },
   {
    "duration": 328,
    "start_time": "2021-06-12T07:39:58.486Z"
   },
   {
    "duration": 354,
    "start_time": "2021-06-12T07:40:14.569Z"
   },
   {
    "duration": 324,
    "start_time": "2021-06-12T07:40:23.942Z"
   },
   {
    "duration": 7,
    "start_time": "2021-06-12T07:41:06.729Z"
   },
   {
    "duration": 397,
    "start_time": "2021-06-12T07:41:11.423Z"
   },
   {
    "duration": 3,
    "start_time": "2021-06-12T07:41:37.653Z"
   },
   {
    "duration": 1083,
    "start_time": "2021-06-12T07:42:19.507Z"
   },
   {
    "duration": 402,
    "start_time": "2021-06-12T07:42:34.481Z"
   },
   {
    "duration": 7,
    "start_time": "2021-06-12T07:43:53.567Z"
   },
   {
    "duration": 401,
    "start_time": "2021-06-12T07:43:58.725Z"
   },
   {
    "duration": 386,
    "start_time": "2021-06-12T07:44:07.028Z"
   },
   {
    "duration": 4,
    "start_time": "2021-06-12T07:44:13.535Z"
   },
   {
    "duration": 397,
    "start_time": "2021-06-12T07:48:17.339Z"
   },
   {
    "duration": 6,
    "start_time": "2021-06-12T08:21:31.845Z"
   },
   {
    "duration": 310,
    "start_time": "2021-06-12T08:23:35.368Z"
   },
   {
    "duration": 4704,
    "start_time": "2021-06-12T08:24:20.179Z"
   },
   {
    "duration": 351,
    "start_time": "2021-06-12T08:25:49.816Z"
   },
   {
    "duration": 16,
    "start_time": "2021-06-12T08:25:58.672Z"
   },
   {
    "duration": 358,
    "start_time": "2021-06-12T08:58:56.927Z"
   },
   {
    "duration": 4,
    "start_time": "2021-06-12T08:59:07.920Z"
   },
   {
    "duration": 324,
    "start_time": "2021-06-12T08:59:11.743Z"
   },
   {
    "duration": 5,
    "start_time": "2021-06-12T08:59:19.494Z"
   },
   {
    "duration": 333,
    "start_time": "2021-06-12T08:59:24.045Z"
   },
   {
    "duration": 4,
    "start_time": "2021-06-12T08:59:30.534Z"
   },
   {
    "duration": 155355,
    "start_time": "2021-06-12T08:59:37.228Z"
   },
   {
    "duration": 5,
    "start_time": "2021-06-12T09:02:27.834Z"
   },
   {
    "duration": 5,
    "start_time": "2021-06-12T09:03:07.929Z"
   },
   {
    "duration": 245,
    "start_time": "2021-06-12T09:03:09.940Z"
   },
   {
    "duration": 6,
    "start_time": "2021-06-12T09:03:21.767Z"
   },
   {
    "duration": 379187,
    "start_time": "2021-06-12T09:03:22.808Z"
   },
   {
    "duration": 4,
    "start_time": "2021-06-12T09:09:41.998Z"
   },
   {
    "duration": 5,
    "start_time": "2021-06-12T09:09:43.775Z"
   },
   {
    "duration": 6,
    "start_time": "2021-06-12T09:09:52.219Z"
   },
   {
    "duration": 732384,
    "start_time": "2021-06-12T09:09:54.188Z"
   },
   {
    "duration": 8,
    "start_time": "2021-06-12T09:25:15.064Z"
   },
   {
    "duration": 5,
    "start_time": "2021-06-12T09:27:01.192Z"
   },
   {
    "duration": 4,
    "start_time": "2021-06-12T09:29:21.918Z"
   },
   {
    "duration": 1581,
    "start_time": "2021-06-12T09:30:20.287Z"
   },
   {
    "duration": 4,
    "start_time": "2021-06-12T09:30:38.105Z"
   },
   {
    "duration": 13,
    "start_time": "2021-06-12T09:31:05.916Z"
   },
   {
    "duration": 110,
    "start_time": "2021-06-12T09:31:57.903Z"
   },
   {
    "duration": 407,
    "start_time": "2021-06-12T09:34:56.406Z"
   },
   {
    "duration": 1554,
    "start_time": "2021-06-13T16:24:24.617Z"
   },
   {
    "duration": 6,
    "start_time": "2021-06-13T16:24:29.950Z"
   },
   {
    "duration": 7,
    "start_time": "2021-06-13T16:24:31.382Z"
   },
   {
    "duration": 10,
    "start_time": "2021-06-13T16:24:35.196Z"
   },
   {
    "duration": 10,
    "start_time": "2021-06-13T16:24:36.815Z"
   },
   {
    "duration": 7,
    "start_time": "2021-06-13T16:24:38.758Z"
   },
   {
    "duration": 57,
    "start_time": "2021-06-13T16:24:41.676Z"
   },
   {
    "duration": 9,
    "start_time": "2021-06-13T16:24:43.606Z"
   },
   {
    "duration": 7,
    "start_time": "2021-06-13T16:24:45.966Z"
   },
   {
    "duration": 7,
    "start_time": "2021-06-13T16:24:48.601Z"
   },
   {
    "duration": 536,
    "start_time": "2021-06-13T16:24:49.656Z"
   },
   {
    "duration": 5,
    "start_time": "2021-06-13T16:24:53.643Z"
   },
   {
    "duration": 1867,
    "start_time": "2021-06-13T16:24:56.686Z"
   },
   {
    "duration": 1122,
    "start_time": "2021-06-13T16:25:04.806Z"
   },
   {
    "duration": 12,
    "start_time": "2021-06-13T16:25:47.204Z"
   },
   {
    "duration": 8,
    "start_time": "2021-06-13T16:25:54.475Z"
   },
   {
    "duration": 14,
    "start_time": "2021-06-13T16:25:55.736Z"
   },
   {
    "duration": 14,
    "start_time": "2021-06-13T16:25:58.444Z"
   },
   {
    "duration": 4,
    "start_time": "2021-06-13T16:26:00.277Z"
   },
   {
    "duration": 123,
    "start_time": "2021-06-13T16:26:04.127Z"
   },
   {
    "duration": 11,
    "start_time": "2021-06-13T16:26:14.026Z"
   },
   {
    "duration": 583,
    "start_time": "2021-06-13T16:26:19.124Z"
   },
   {
    "duration": 4,
    "start_time": "2021-06-13T16:26:22.606Z"
   },
   {
    "duration": 354,
    "start_time": "2021-06-13T16:26:39.687Z"
   },
   {
    "duration": 17,
    "start_time": "2021-06-13T16:26:41.485Z"
   },
   {
    "duration": 490,
    "start_time": "2021-06-13T16:26:44.564Z"
   },
   {
    "duration": 390,
    "start_time": "2021-06-13T16:26:53.637Z"
   },
   {
    "duration": 3,
    "start_time": "2021-06-13T16:27:03.775Z"
   },
   {
    "duration": 504,
    "start_time": "2021-06-13T16:27:29.897Z"
   },
   {
    "duration": 7,
    "start_time": "2021-06-13T16:27:54.082Z"
   },
   {
    "duration": 5,
    "start_time": "2021-06-13T16:28:00.820Z"
   },
   {
    "duration": 38169,
    "start_time": "2021-06-13T16:29:38.007Z"
   },
   {
    "duration": 6,
    "start_time": "2021-06-13T16:35:35.133Z"
   },
   {
    "duration": 6,
    "start_time": "2021-06-13T16:35:38.937Z"
   },
   {
    "duration": 4,
    "start_time": "2021-06-13T16:35:55.936Z"
   },
   {
    "duration": 340,
    "start_time": "2021-06-13T16:35:59.763Z"
   },
   {
    "duration": 5,
    "start_time": "2021-06-13T16:36:16.005Z"
   },
   {
    "duration": 98,
    "start_time": "2021-06-13T16:36:20.484Z"
   },
   {
    "duration": 299,
    "start_time": "2021-06-13T16:36:23.524Z"
   },
   {
    "duration": 317,
    "start_time": "2021-06-13T16:36:37.094Z"
   },
   {
    "duration": 4,
    "start_time": "2021-06-13T16:39:41.136Z"
   },
   {
    "duration": 294,
    "start_time": "2021-06-13T16:39:57.776Z"
   },
   {
    "duration": 470,
    "start_time": "2021-06-13T16:40:33.930Z"
   },
   {
    "duration": 374,
    "start_time": "2021-06-13T16:41:06.235Z"
   },
   {
    "duration": 3,
    "start_time": "2021-06-13T16:41:48.725Z"
   },
   {
    "duration": 14,
    "start_time": "2021-06-13T16:41:50.763Z"
   },
   {
    "duration": 7,
    "start_time": "2021-06-13T16:41:56.807Z"
   },
   {
    "duration": 10,
    "start_time": "2021-06-13T16:42:26.364Z"
   },
   {
    "duration": 434,
    "start_time": "2021-06-13T16:44:56.244Z"
   },
   {
    "duration": 361,
    "start_time": "2021-06-13T16:45:53.755Z"
   },
   {
    "duration": 17,
    "start_time": "2021-06-13T16:47:01.675Z"
   },
   {
    "duration": 6,
    "start_time": "2021-06-13T16:49:41.403Z"
   },
   {
    "duration": 525056,
    "start_time": "2021-06-13T16:52:49.119Z"
   },
   {
    "duration": 5,
    "start_time": "2021-06-13T17:04:47.207Z"
   },
   {
    "duration": 6,
    "start_time": "2021-06-13T17:05:06.687Z"
   },
   {
    "duration": 7,
    "start_time": "2021-06-13T17:05:09.158Z"
   },
   {
    "duration": 3,
    "start_time": "2021-06-13T17:05:16.028Z"
   },
   {
    "duration": 969,
    "start_time": "2021-06-13T17:05:19.096Z"
   },
   {
    "duration": 392,
    "start_time": "2021-06-13T17:05:27.257Z"
   },
   {
    "duration": 759,
    "start_time": "2021-06-13T17:05:43.607Z"
   },
   {
    "duration": 18,
    "start_time": "2021-06-13T17:05:48.908Z"
   },
   {
    "duration": 6,
    "start_time": "2021-06-13T17:05:56.156Z"
   },
   {
    "duration": 6,
    "start_time": "2021-06-13T17:07:31.882Z"
   },
   {
    "duration": 451,
    "start_time": "2021-06-13T17:10:52.518Z"
   },
   {
    "duration": 1033,
    "start_time": "2021-06-13T17:11:29.835Z"
   },
   {
    "duration": 366,
    "start_time": "2021-06-13T17:12:03.515Z"
   },
   {
    "duration": 1542,
    "start_time": "2021-06-13T20:05:55.523Z"
   },
   {
    "duration": 7,
    "start_time": "2021-06-13T20:05:59.113Z"
   },
   {
    "duration": 6,
    "start_time": "2021-06-13T20:06:11.600Z"
   },
   {
    "duration": 7,
    "start_time": "2021-06-13T20:06:15.352Z"
   },
   {
    "duration": 5,
    "start_time": "2021-06-13T20:06:20.099Z"
   },
   {
    "duration": 56,
    "start_time": "2021-06-13T20:06:47.952Z"
   },
   {
    "duration": 9,
    "start_time": "2021-06-13T20:06:49.812Z"
   },
   {
    "duration": 7,
    "start_time": "2021-06-13T20:06:51.601Z"
   },
   {
    "duration": 6,
    "start_time": "2021-06-13T20:07:00.812Z"
   },
   {
    "duration": 498,
    "start_time": "2021-06-13T20:07:03.379Z"
   },
   {
    "duration": 6,
    "start_time": "2021-06-13T20:07:06.960Z"
   },
   {
    "duration": 1640,
    "start_time": "2021-06-13T20:07:08.502Z"
   },
   {
    "duration": 1170,
    "start_time": "2021-06-13T20:07:13.642Z"
   },
   {
    "duration": 964,
    "start_time": "2021-06-13T20:07:19.689Z"
   },
   {
    "duration": 6,
    "start_time": "2021-06-13T20:12:10.490Z"
   },
   {
    "duration": 1579,
    "start_time": "2021-06-13T20:12:25.738Z"
   },
   {
    "duration": 6,
    "start_time": "2021-06-13T20:12:47.592Z"
   },
   {
    "duration": 1162,
    "start_time": "2021-06-13T20:17:19.528Z"
   },
   {
    "duration": 1033,
    "start_time": "2021-06-13T20:17:48.777Z"
   },
   {
    "duration": 1054,
    "start_time": "2021-06-13T20:22:32.520Z"
   },
   {
    "duration": 1127,
    "start_time": "2021-06-13T20:22:46.612Z"
   },
   {
    "duration": 11,
    "start_time": "2021-06-13T20:23:53.580Z"
   },
   {
    "duration": 9,
    "start_time": "2021-06-13T20:23:57.090Z"
   },
   {
    "duration": 14,
    "start_time": "2021-06-13T20:23:58.412Z"
   },
   {
    "duration": 14,
    "start_time": "2021-06-13T20:24:04.618Z"
   },
   {
    "duration": 4,
    "start_time": "2021-06-13T20:24:07.597Z"
   },
   {
    "duration": 12,
    "start_time": "2021-06-13T20:24:17.328Z"
   },
   {
    "duration": 520,
    "start_time": "2021-06-13T20:24:22.344Z"
   },
   {
    "duration": 1156,
    "start_time": "2021-06-13T20:29:04.284Z"
   },
   {
    "duration": 1459,
    "start_time": "2021-06-13T20:29:16.824Z"
   },
   {
    "duration": 384,
    "start_time": "2021-06-13T20:30:25.850Z"
   },
   {
    "duration": 17,
    "start_time": "2021-06-13T20:30:28.719Z"
   },
   {
    "duration": 350,
    "start_time": "2021-06-13T20:30:31.680Z"
   },
   {
    "duration": 5,
    "start_time": "2021-06-13T20:30:46.501Z"
   },
   {
    "duration": 6,
    "start_time": "2021-06-13T20:35:45.885Z"
   },
   {
    "duration": 328,
    "start_time": "2021-06-13T20:39:29.047Z"
   },
   {
    "duration": 7,
    "start_time": "2021-06-13T20:40:57.931Z"
   },
   {
    "duration": 5,
    "start_time": "2021-06-13T20:41:47.432Z"
   },
   {
    "duration": 3931295,
    "start_time": "2021-06-13T20:41:51.322Z"
   },
   {
    "duration": 5,
    "start_time": "2021-06-13T21:47:37.567Z"
   },
   {
    "duration": 234,
    "start_time": "2021-06-13T22:09:00.817Z"
   },
   {
    "duration": 190,
    "start_time": "2021-06-13T22:18:08.442Z"
   },
   {
    "duration": 175,
    "start_time": "2021-06-13T22:18:16.124Z"
   },
   {
    "duration": 5,
    "start_time": "2021-06-13T22:23:56.020Z"
   },
   {
    "duration": 623816,
    "start_time": "2021-06-13T22:24:04.091Z"
   },
   {
    "duration": 6,
    "start_time": "2021-06-13T22:36:31.214Z"
   },
   {
    "duration": 6,
    "start_time": "2021-06-13T22:36:32.961Z"
   },
   {
    "duration": 3,
    "start_time": "2021-06-13T22:36:35.407Z"
   },
   {
    "duration": 3,
    "start_time": "2021-06-13T22:38:02.960Z"
   },
   {
    "duration": 3,
    "start_time": "2021-06-13T22:38:07.524Z"
   },
   {
    "duration": 4,
    "start_time": "2021-06-13T22:38:10.926Z"
   },
   {
    "duration": 4,
    "start_time": "2021-06-13T22:38:16.244Z"
   },
   {
    "duration": 292,
    "start_time": "2021-06-13T22:38:19.615Z"
   },
   {
    "duration": 329,
    "start_time": "2021-06-13T22:38:24.486Z"
   },
   {
    "duration": 13,
    "start_time": "2021-06-13T22:40:24.355Z"
   },
   {
    "duration": 6,
    "start_time": "2021-06-13T22:40:30.044Z"
   },
   {
    "duration": 3,
    "start_time": "2021-06-13T22:40:32.480Z"
   },
   {
    "duration": 469,
    "start_time": "2021-06-13T22:40:39.328Z"
   },
   {
    "duration": 282,
    "start_time": "2021-06-13T22:40:50.825Z"
   },
   {
    "duration": 407,
    "start_time": "2021-06-13T22:41:02.015Z"
   },
   {
    "duration": 3,
    "start_time": "2021-06-13T22:42:06.620Z"
   },
   {
    "duration": 1432,
    "start_time": "2021-06-13T22:45:19.034Z"
   },
   {
    "duration": 5,
    "start_time": "2021-06-13T22:45:20.469Z"
   },
   {
    "duration": 13,
    "start_time": "2021-06-13T22:45:20.477Z"
   },
   {
    "duration": 6,
    "start_time": "2021-06-13T22:45:20.502Z"
   },
   {
    "duration": 7,
    "start_time": "2021-06-13T22:45:20.510Z"
   },
   {
    "duration": 16,
    "start_time": "2021-06-13T22:45:20.519Z"
   },
   {
    "duration": 66,
    "start_time": "2021-06-13T22:45:20.538Z"
   },
   {
    "duration": 10,
    "start_time": "2021-06-13T22:45:20.606Z"
   },
   {
    "duration": 7,
    "start_time": "2021-06-13T22:45:20.620Z"
   },
   {
    "duration": 8,
    "start_time": "2021-06-13T22:45:20.630Z"
   },
   {
    "duration": 530,
    "start_time": "2021-06-13T22:45:20.640Z"
   },
   {
    "duration": 5,
    "start_time": "2021-06-13T22:45:21.172Z"
   },
   {
    "duration": 1608,
    "start_time": "2021-06-13T22:45:21.179Z"
   },
   {
    "duration": 1128,
    "start_time": "2021-06-13T22:45:22.789Z"
   },
   {
    "duration": 959,
    "start_time": "2021-06-13T22:45:23.919Z"
   },
   {
    "duration": 23,
    "start_time": "2021-06-13T22:45:24.880Z"
   },
   {
    "duration": 7,
    "start_time": "2021-06-13T22:45:24.906Z"
   },
   {
    "duration": 16,
    "start_time": "2021-06-13T22:45:24.915Z"
   },
   {
    "duration": 17,
    "start_time": "2021-06-13T22:45:24.934Z"
   },
   {
    "duration": 4,
    "start_time": "2021-06-13T22:45:24.954Z"
   },
   {
    "duration": 45,
    "start_time": "2021-06-13T22:45:24.960Z"
   },
   {
    "duration": 507,
    "start_time": "2021-06-13T22:45:25.008Z"
   },
   {
    "duration": 4,
    "start_time": "2021-06-13T22:45:25.517Z"
   },
   {
    "duration": 404,
    "start_time": "2021-06-13T22:45:25.523Z"
   },
   {
    "duration": 17,
    "start_time": "2021-06-13T22:45:25.929Z"
   },
   {
    "duration": 373,
    "start_time": "2021-06-13T22:45:25.948Z"
   },
   {
    "duration": 4,
    "start_time": "2021-06-13T22:45:26.327Z"
   },
   {
    "duration": 8,
    "start_time": "2021-06-13T22:45:26.333Z"
   },
   {
    "duration": 6,
    "start_time": "2021-06-13T22:45:26.344Z"
   },
   {
    "duration": 5,
    "start_time": "2021-06-13T22:45:26.353Z"
   },
   {
    "duration": 40,
    "start_time": "2021-06-13T22:45:26.361Z"
   },
   {
    "duration": 306,
    "start_time": "2021-06-13T22:45:26.403Z"
   },
   {
    "duration": 405,
    "start_time": "2021-06-13T22:45:26.712Z"
   },
   {
    "duration": 15,
    "start_time": "2021-06-13T22:45:27.119Z"
   },
   {
    "duration": 13,
    "start_time": "2021-06-13T22:45:27.137Z"
   },
   {
    "duration": 5,
    "start_time": "2021-06-13T22:45:27.153Z"
   },
   {
    "duration": 454,
    "start_time": "2021-06-13T22:45:27.160Z"
   },
   {
    "duration": 434,
    "start_time": "2021-06-13T22:45:27.616Z"
   }
  ],
  "kernelspec": {
   "display_name": "Python 3",
   "language": "python",
   "name": "python3"
  },
  "language_info": {
   "codemirror_mode": {
    "name": "ipython",
    "version": 3
   },
   "file_extension": ".py",
   "mimetype": "text/x-python",
   "name": "python",
   "nbconvert_exporter": "python",
   "pygments_lexer": "ipython3",
   "version": "3.8.8"
  },
  "toc": {
   "base_numbering": 1,
   "nav_menu": {},
   "number_sections": true,
   "sideBar": true,
   "skip_h1_title": true,
   "title_cell": "Содержание",
   "title_sidebar": "Contents",
   "toc_cell": true,
   "toc_position": {
    "height": "calc(100% - 180px)",
    "left": "10px",
    "top": "150px",
    "width": "215.152px"
   },
   "toc_section_display": true,
   "toc_window_display": true
  }
 },
 "nbformat": 4,
 "nbformat_minor": 2
}
