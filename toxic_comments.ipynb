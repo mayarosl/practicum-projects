{
 "cells": [
  {
   "cell_type": "markdown",
   "metadata": {},
   "source": [
    "# Проект для «Викишоп»"
   ]
  },
  {
   "cell_type": "markdown",
   "metadata": {},
   "source": [
    "## Содержание\n",
    "1. Подготовка  \n",
    "    1.1. Библиотеки и функции  \n",
    "    1.2. Данные  \n",
    "    1.3. Добавление признаков  \n",
    "2. Обучение  \n",
    "    2.1. Логистическая регрессия  \n",
    "    2.1.1. Несбалансированная выборка  \n",
    "    2.1.2. Балансировка классов  \n",
    "    2.2. Случайный лес  \n",
    "    2.3. Gradient Boosting Decision Tree  \n",
    "3. Тестирование  \n",
    "4. Выводы  "
   ]
  },
  {
   "cell_type": "markdown",
   "metadata": {},
   "source": [
    "Интернет-магазин «Викишоп» запускает новый сервис. Теперь пользователи могут редактировать и дополнять описания товаров, как в вики-сообществах. То есть клиенты предлагают свои правки и комментируют изменения других. Магазину нужен инструмент, который будет искать токсичные комментарии и отправлять их на модерацию. \n",
    "\n",
    "**Задача:** обучить модель классифицировать комментарии на позитивные и негативные на основании набора данных с разметкой о токсичности правок.\n",
    "\n",
    "Метрика качества *F1* должна быть не меньше 0.75. "
   ]
  },
  {
   "cell_type": "markdown",
   "metadata": {},
   "source": [
    "## Подготовка"
   ]
  },
  {
   "cell_type": "markdown",
   "metadata": {},
   "source": [
    "### Библиотеки и функции"
   ]
  },
  {
   "cell_type": "code",
   "execution_count": 1,
   "metadata": {},
   "outputs": [],
   "source": [
    "import pandas as pd\n",
    "import numpy as np\n",
    "import math\n",
    "import re\n",
    "\n",
    "from scipy.sparse import vstack, hstack\n",
    "from sklearn.feature_extraction.text import TfidfVectorizer \n",
    "from sklearn.model_selection import train_test_split\n",
    "from sklearn.model_selection import GridSearchCV\n",
    "from sklearn.metrics import f1_score\n",
    "from sklearn.linear_model import LogisticRegression\n",
    "from sklearn.ensemble import RandomForestClassifier\n",
    "from lightgbm import LGBMClassifier\n",
    "\n",
    "import matplotlib.pyplot as plt\n",
    "from tqdm.notebook import tqdm\n",
    "import warnings\n",
    "warnings.filterwarnings('ignore')"
   ]
  },
  {
   "cell_type": "code",
   "execution_count": 2,
   "metadata": {},
   "outputs": [],
   "source": [
    "def clean(text):\n",
    "    text =  re.sub(r'\\n', ' ', text)\n",
    "    text = re.sub(r'http\\S+', '', text)\n",
    "    text = re.sub('[\\d-]', '', text)\n",
    "    text = re.sub(\"i'm\", 'i am', text)\n",
    "    text = re.sub(\"can't\", 'cannot', text)\n",
    "    text = re.sub(\"don't\", 'do not', text)\n",
    "    text = re.sub(\"\\'re\", ' are', text)\n",
    "    text = re.sub(\"\\'ll\", ' will', text)\n",
    "    text = re.sub(\"\\'ve\", ' have', text)\n",
    "    text = re.sub(r'[^a-zA-Z]', ' ', text)\n",
    "    return text"
   ]
  },
  {
   "cell_type": "code",
   "execution_count": 3,
   "metadata": {},
   "outputs": [],
   "source": [
    "def count_words(text):\n",
    "    words = text.split(' ')\n",
    "    return len(words)\n",
    "def count_phrase_len(text):\n",
    "    return len(text)"
   ]
  },
  {
   "cell_type": "code",
   "execution_count": 4,
   "metadata": {},
   "outputs": [],
   "source": [
    "def add_phrase_len(series, size):\n",
    "    return series.to_numpy().reshape((1, size)).transpose()"
   ]
  },
  {
   "cell_type": "code",
   "execution_count": 5,
   "metadata": {},
   "outputs": [],
   "source": [
    "def train_valid_test_split(features, target):\n",
    "\n",
    "    features_train_valid, features_test, target_train_valid, target_test = train_test_split(\n",
    "    features, target, shuffle=False, test_size=0.2, random_state=123)\n",
    "\n",
    "    features_train, features_valid, target_train, target_valid = train_test_split(\n",
    "    features_train_valid, target_train_valid, shuffle=False, test_size=0.25, random_state=123)\n",
    "    \n",
    "    return features_train, features_valid, features_test, target_train, target_valid, target_test"
   ]
  },
  {
   "cell_type": "code",
   "execution_count": 6,
   "metadata": {},
   "outputs": [],
   "source": [
    "def find_best_regression(features_train, target_train, \n",
    "                         features_valid, target_valid, class_weight):\n",
    "    best_model = None\n",
    "    best_result = 0\n",
    "    best_C = 0\n",
    "    C_dict = {}\n",
    "    \n",
    "    for C in tqdm([0.01, 0.05, 0.1, 0.5, 1]):\n",
    "        result_list = []\n",
    "        model = LogisticRegression(random_state=123, penalty='l2', C=C,\n",
    "                                   class_weight=class_weight)\n",
    "        model.fit(features_train, target_train)\n",
    "        predicted = model.predict(features_valid)\n",
    "        f1 = f1_score(target_valid, predicted)\n",
    "        result_list.append(f1)\n",
    "        if f1 > best_result:\n",
    "            best_model = model\n",
    "            best_result = f1\n",
    "            best_C = C\n",
    "                \n",
    "        C_dict[C] = result_list\n",
    "    return best_model, best_result, best_C, C_dict"
   ]
  },
  {
   "cell_type": "code",
   "execution_count": 7,
   "metadata": {},
   "outputs": [],
   "source": [
    "def find_best_forest(features_train, target_train, \n",
    "                     features_valid, target_valid, \n",
    "                     max_est, max_depth):\n",
    "    best_model = None\n",
    "    best_result = 0\n",
    "    best_est = 0\n",
    "    best_depth = 0\n",
    "    est_dict = {}\n",
    "    \n",
    "    for est in tqdm(range(1, max_est, 1)):\n",
    "        result_list = []\n",
    "        for depth in range (10, max_depth, 10):\n",
    "            model = RandomForestClassifier(random_state=12345,\n",
    "                                           n_estimators=est,\n",
    "                                           max_depth=depth)\n",
    "            model.fit(features_train, target_train)\n",
    "            predicted = model.predict(features_valid)\n",
    "            f1 = f1_score(target_valid, predicted)\n",
    "            result_list.append(f1)\n",
    "            if f1 > best_result:\n",
    "                best_model = model\n",
    "                best_result = f1\n",
    "                best_est = est\n",
    "                best_depth = depth\n",
    "                \n",
    "        est_dict[est] = result_list\n",
    "    return best_model, best_result, best_est, best_depth, est_dict"
   ]
  },
  {
   "cell_type": "markdown",
   "metadata": {},
   "source": [
    "### Данные"
   ]
  },
  {
   "cell_type": "code",
   "execution_count": 8,
   "metadata": {},
   "outputs": [
    {
     "data": {
      "text/html": [
       "<div>\n",
       "<style scoped>\n",
       "    .dataframe tbody tr th:only-of-type {\n",
       "        vertical-align: middle;\n",
       "    }\n",
       "\n",
       "    .dataframe tbody tr th {\n",
       "        vertical-align: top;\n",
       "    }\n",
       "\n",
       "    .dataframe thead th {\n",
       "        text-align: right;\n",
       "    }\n",
       "</style>\n",
       "<table border=\"1\" class=\"dataframe\">\n",
       "  <thead>\n",
       "    <tr style=\"text-align: right;\">\n",
       "      <th></th>\n",
       "      <th>text</th>\n",
       "      <th>toxic</th>\n",
       "    </tr>\n",
       "  </thead>\n",
       "  <tbody>\n",
       "    <tr>\n",
       "      <th>0</th>\n",
       "      <td>Explanation\\nWhy the edits made under my usern...</td>\n",
       "      <td>0</td>\n",
       "    </tr>\n",
       "    <tr>\n",
       "      <th>1</th>\n",
       "      <td>D'aww! He matches this background colour I'm s...</td>\n",
       "      <td>0</td>\n",
       "    </tr>\n",
       "    <tr>\n",
       "      <th>2</th>\n",
       "      <td>Hey man, I'm really not trying to edit war. It...</td>\n",
       "      <td>0</td>\n",
       "    </tr>\n",
       "    <tr>\n",
       "      <th>3</th>\n",
       "      <td>\"\\nMore\\nI can't make any real suggestions on ...</td>\n",
       "      <td>0</td>\n",
       "    </tr>\n",
       "    <tr>\n",
       "      <th>4</th>\n",
       "      <td>You, sir, are my hero. Any chance you remember...</td>\n",
       "      <td>0</td>\n",
       "    </tr>\n",
       "  </tbody>\n",
       "</table>\n",
       "</div>"
      ],
      "text/plain": [
       "                                                text  toxic\n",
       "0  Explanation\\nWhy the edits made under my usern...      0\n",
       "1  D'aww! He matches this background colour I'm s...      0\n",
       "2  Hey man, I'm really not trying to edit war. It...      0\n",
       "3  \"\\nMore\\nI can't make any real suggestions on ...      0\n",
       "4  You, sir, are my hero. Any chance you remember...      0"
      ]
     },
     "execution_count": 8,
     "metadata": {},
     "output_type": "execute_result"
    }
   ],
   "source": [
    "data = pd.read_csv('toxic_comments.csv')\n",
    "data.head()"
   ]
  },
  {
   "cell_type": "code",
   "execution_count": 9,
   "metadata": {},
   "outputs": [
    {
     "name": "stdout",
     "output_type": "stream",
     "text": [
      "<class 'pandas.core.frame.DataFrame'>\n",
      "RangeIndex: 159571 entries, 0 to 159570\n",
      "Data columns (total 2 columns):\n",
      " #   Column  Non-Null Count   Dtype \n",
      "---  ------  --------------   ----- \n",
      " 0   text    159571 non-null  object\n",
      " 1   toxic   159571 non-null  int64 \n",
      "dtypes: int64(1), object(1)\n",
      "memory usage: 2.4+ MB\n"
     ]
    }
   ],
   "source": [
    "data.info()"
   ]
  },
  {
   "cell_type": "code",
   "execution_count": 10,
   "metadata": {},
   "outputs": [
    {
     "name": "stdout",
     "output_type": "stream",
     "text": [
      "0    0.898321\n",
      "1    0.101679\n",
      "Name: toxic, dtype: float64\n"
     ]
    },
    {
     "data": {
      "image/png": "[encoded data removed]",
      "text/plain": [
       "<Figure size 432x288 with 1 Axes>"
      ]
     },
     "metadata": {
      "needs_background": "light"
     },
     "output_type": "display_data"
    }
   ],
   "source": [
    "class_frequency = data['toxic'].value_counts(normalize=True)\n",
    "print(class_frequency)\n",
    "class_frequency.plot(kind='bar', color='grey'); "
   ]
  },
  {
   "cell_type": "markdown",
   "metadata": {},
   "source": [
    "**Выводы:** в данных 159571 наблюдений, пропусков нет, целевая метка сильно несбалансирована. Это интуитивно понятно, ведь токсичных комментариев обычно меньше, чем нормальных."
   ]
  },
  {
   "cell_type": "markdown",
   "metadata": {},
   "source": [
    "### Добавление признаков\n",
    "\n",
    "Приведем строки к нижнему регистру, удалим небуквенные символы. Затем добавим в таблицу столбцы с количеством слов и количеством символов в каждом комментарии."
   ]
  },
  {
   "cell_type": "code",
   "execution_count": 11,
   "metadata": {},
   "outputs": [],
   "source": [
    "data['text'] = data['text'].str.lower()\n",
    "data['text'] = data['text'].apply(clean)"
   ]
  },
  {
   "cell_type": "code",
   "execution_count": 12,
   "metadata": {},
   "outputs": [],
   "source": [
    "data['phrase_len'] = data['text'].apply(count_phrase_len)\n",
    "data['words'] = data['text'].apply(count_words)"
   ]
  },
  {
   "cell_type": "code",
   "execution_count": 13,
   "metadata": {},
   "outputs": [],
   "source": [
    "toxic_words = data.query('toxic == 1 and words < 125')['words']\n",
    "non_toxic_words = data.query('toxic == 0 and words < 125')['words']\n",
    "toxic_phrase_len = data.query('toxic == 1 and phrase_len < 1000')['phrase_len']\n",
    "non_toxic_phrase_len = data.query('toxic == 0 and phrase_len < 1000')['phrase_len']"
   ]
  },
  {
   "cell_type": "code",
   "execution_count": 14,
   "metadata": {},
   "outputs": [
    {
     "data": {
      "image/png": "[encoded data removed]",
      "text/plain": [
       "<Figure size 720x288 with 2 Axes>"
      ]
     },
     "metadata": {
      "needs_background": "light"
     },
     "output_type": "display_data"
    }
   ],
   "source": [
    "fig, axs = plt.subplots(1, 2, figsize=(10, 4))\n",
    "\n",
    "axs[0].boxplot([toxic_words, non_toxic_words])\n",
    "axs[0].set_title('количество слов')\n",
    "\n",
    "axs[1].boxplot([toxic_phrase_len, non_toxic_phrase_len])\n",
    "axs[1].set_title('количество знаков');\n",
    "\n",
    "for ax in axs:\n",
    "    ax.set_xticklabels(['toxic', 'non-toxic'])"
   ]
  },
  {
   "cell_type": "code",
   "execution_count": 15,
   "metadata": {},
   "outputs": [
    {
     "data": {
      "text/html": [
       "<div>\n",
       "<style scoped>\n",
       "    .dataframe tbody tr th:only-of-type {\n",
       "        vertical-align: middle;\n",
       "    }\n",
       "\n",
       "    .dataframe tbody tr th {\n",
       "        vertical-align: top;\n",
       "    }\n",
       "\n",
       "    .dataframe thead th {\n",
       "        text-align: right;\n",
       "    }\n",
       "</style>\n",
       "<table border=\"1\" class=\"dataframe\">\n",
       "  <thead>\n",
       "    <tr style=\"text-align: right;\">\n",
       "      <th></th>\n",
       "      <th>toxic</th>\n",
       "      <th>phrase_len</th>\n",
       "      <th>words</th>\n",
       "    </tr>\n",
       "  </thead>\n",
       "  <tbody>\n",
       "    <tr>\n",
       "      <th>toxic</th>\n",
       "      <td>1.000000</td>\n",
       "      <td>-0.051202</td>\n",
       "      <td>-0.042257</td>\n",
       "    </tr>\n",
       "    <tr>\n",
       "      <th>phrase_len</th>\n",
       "      <td>-0.051202</td>\n",
       "      <td>1.000000</td>\n",
       "      <td>0.972298</td>\n",
       "    </tr>\n",
       "    <tr>\n",
       "      <th>words</th>\n",
       "      <td>-0.042257</td>\n",
       "      <td>0.972298</td>\n",
       "      <td>1.000000</td>\n",
       "    </tr>\n",
       "  </tbody>\n",
       "</table>\n",
       "</div>"
      ],
      "text/plain": [
       "               toxic  phrase_len     words\n",
       "toxic       1.000000   -0.051202 -0.042257\n",
       "phrase_len -0.051202    1.000000  0.972298\n",
       "words      -0.042257    0.972298  1.000000"
      ]
     },
     "execution_count": 15,
     "metadata": {},
     "output_type": "execute_result"
    }
   ],
   "source": [
    "data.corr()"
   ]
  },
  {
   "cell_type": "code",
   "execution_count": 16,
   "metadata": {},
   "outputs": [],
   "source": [
    "data = data.drop('words', axis=1)"
   ]
  },
  {
   "cell_type": "markdown",
   "metadata": {},
   "source": [
    "**Выводы:** по графикам кажется, что токсичные комментарии в среднем короче, чем нетоксичные. Однако оба эти признака добавить в таблицу не можем, потому что они сильно коррелируют. \n",
    "\n",
    "Посмотрим, повлияет ли добавление  признака длины фразы на метрику качества."
   ]
  },
  {
   "cell_type": "code",
   "execution_count": 17,
   "metadata": {},
   "outputs": [
    {
     "data": {
      "text/html": [
       "<div>\n",
       "<style scoped>\n",
       "    .dataframe tbody tr th:only-of-type {\n",
       "        vertical-align: middle;\n",
       "    }\n",
       "\n",
       "    .dataframe tbody tr th {\n",
       "        vertical-align: top;\n",
       "    }\n",
       "\n",
       "    .dataframe thead th {\n",
       "        text-align: right;\n",
       "    }\n",
       "</style>\n",
       "<table border=\"1\" class=\"dataframe\">\n",
       "  <thead>\n",
       "    <tr style=\"text-align: right;\">\n",
       "      <th></th>\n",
       "      <th>text</th>\n",
       "      <th>toxic</th>\n",
       "      <th>phrase_len</th>\n",
       "    </tr>\n",
       "  </thead>\n",
       "  <tbody>\n",
       "    <tr>\n",
       "      <th>0</th>\n",
       "      <td>explanation why the edits made under my userna...</td>\n",
       "      <td>0</td>\n",
       "      <td>257</td>\n",
       "    </tr>\n",
       "    <tr>\n",
       "      <th>1</th>\n",
       "      <td>d aww  he matches this background colour i am ...</td>\n",
       "      <td>0</td>\n",
       "      <td>103</td>\n",
       "    </tr>\n",
       "    <tr>\n",
       "      <th>2</th>\n",
       "      <td>hey man  i am really not trying to edit war  i...</td>\n",
       "      <td>0</td>\n",
       "      <td>234</td>\n",
       "    </tr>\n",
       "    <tr>\n",
       "      <th>3</th>\n",
       "      <td>more i cannot make any real suggestions on i...</td>\n",
       "      <td>0</td>\n",
       "      <td>619</td>\n",
       "    </tr>\n",
       "  </tbody>\n",
       "</table>\n",
       "</div>"
      ],
      "text/plain": [
       "                                                text  toxic  phrase_len\n",
       "0  explanation why the edits made under my userna...      0         257\n",
       "1  d aww  he matches this background colour i am ...      0         103\n",
       "2  hey man  i am really not trying to edit war  i...      0         234\n",
       "3    more i cannot make any real suggestions on i...      0         619"
      ]
     },
     "execution_count": 17,
     "metadata": {},
     "output_type": "execute_result"
    }
   ],
   "source": [
    "data.head(4)"
   ]
  },
  {
   "cell_type": "markdown",
   "metadata": {},
   "source": [
    "## Обучение\n",
    "\n",
    "Обучим логистическую регрессию и случайный лес, подбирая лучшие параметры циклом. \n",
    "\n",
    "Без стоп-слов метрика получается лучше."
   ]
  },
  {
   "cell_type": "markdown",
   "metadata": {},
   "source": [
    "**Разбиваем данные на выборки**"
   ]
  },
  {
   "cell_type": "code",
   "execution_count": 18,
   "metadata": {},
   "outputs": [],
   "source": [
    "features = data.drop('toxic', axis=1)\n",
    "target = data['toxic']"
   ]
  },
  {
   "cell_type": "code",
   "execution_count": 19,
   "metadata": {},
   "outputs": [
    {
     "name": "stdout",
     "output_type": "stream",
     "text": [
      "(95742, 2)\n",
      "(31914, 2)\n",
      "(31915, 2)\n",
      "(95742,)\n",
      "(31914,)\n",
      "(31915,)\n"
     ]
    }
   ],
   "source": [
    "(features_train, features_valid, features_test, \n",
    " target_train, target_valid, target_test) = train_valid_test_split(features, target)\n",
    "\n",
    "for i in (features_train, features_valid, features_test, \n",
    "          target_train, target_valid, target_test):\n",
    "    print(i.shape)"
   ]
  },
  {
   "cell_type": "markdown",
   "metadata": {},
   "source": [
    "**Проверяем, в каком соотношении метки классов в каждой подвыборке**"
   ]
  },
  {
   "cell_type": "code",
   "execution_count": 20,
   "metadata": {},
   "outputs": [
    {
     "name": "stdout",
     "output_type": "stream",
     "text": [
      "Обучающая:\n",
      "0    0.897976\n",
      "1    0.102024\n",
      "Name: toxic, dtype: float64\n",
      "Валидационная\n",
      "0    0.898728\n",
      "1    0.101272\n",
      "Name: toxic, dtype: float64\n",
      "Тестовая\n",
      "0    0.89895\n",
      "1    0.10105\n",
      "Name: toxic, dtype: float64\n"
     ]
    }
   ],
   "source": [
    "print('Обучающая:')\n",
    "print(target_train.value_counts(normalize=True))\n",
    "print('Валидационная')\n",
    "print(target_valid.value_counts(normalize=True))\n",
    "print('Тестовая')\n",
    "print(target_test.value_counts(normalize=True))"
   ]
  },
  {
   "cell_type": "markdown",
   "metadata": {},
   "source": [
    "**Векторизируем**"
   ]
  },
  {
   "cell_type": "code",
   "execution_count": 21,
   "metadata": {},
   "outputs": [],
   "source": [
    "features_train_text = features_train['text'].astype('U').values\n",
    "features_valid_text = features_valid['text'].astype('U').values"
   ]
  },
  {
   "cell_type": "code",
   "execution_count": 22,
   "metadata": {},
   "outputs": [],
   "source": [
    "features_train_phrase_len = add_phrase_len(features_train['phrase_len'], \n",
    "                                           features_train_text.shape[0])\n",
    "features_valid_phrase_len = add_phrase_len(features_valid['phrase_len'],\n",
    "                                           features_valid_text.shape[0])"
   ]
  },
  {
   "cell_type": "code",
   "execution_count": 23,
   "metadata": {},
   "outputs": [],
   "source": [
    "count_tf_idf = TfidfVectorizer()\n",
    "tf_idf_features_train = count_tf_idf.fit_transform(features_train_text)\n",
    "tf_idf_features_valid = count_tf_idf.transform(features_valid_text)"
   ]
  },
  {
   "cell_type": "code",
   "execution_count": 24,
   "metadata": {},
   "outputs": [],
   "source": [
    "features_train = hstack([tf_idf_features_train, features_train_phrase_len])\n",
    "features_valid = hstack([tf_idf_features_valid, features_valid_phrase_len])"
   ]
  },
  {
   "cell_type": "code",
   "execution_count": 25,
   "metadata": {},
   "outputs": [],
   "source": [
    "models_dict = {}\n",
    "params_dict = {}"
   ]
  },
  {
   "cell_type": "markdown",
   "metadata": {},
   "source": [
    "### Логистическая регрессия"
   ]
  },
  {
   "cell_type": "markdown",
   "metadata": {},
   "source": [
    "#### Несбалансированная выборка"
   ]
  },
  {
   "cell_type": "code",
   "execution_count": 26,
   "metadata": {},
   "outputs": [],
   "source": [
    "# %%time\n",
    "# LR_raw_params = {'C':np.logspace(-3,3,7), \n",
    "#          'penalty':['l1','l2']}\n",
    "# gs_LR_raw = GridSearchCV(LogisticRegression(class_weight=None),\n",
    "#                      param_grid=LR_raw_params,\n",
    "#                      scoring='f1')\n",
    "# gs_LR_raw.fit(features_train, target_train)\n",
    "\n",
    "# print('params_raw:', gs_LR_raw.best_params_, \n",
    "#       'f1_score_raw:', gs_LR_raw.best_score_)\n",
    "# # params_raw: {'C': 10.0, 'penalty': 'l1'} f1_score_raw: 0.7680947305745737\n",
    "# # CPU times: user 4min 43s, sys: 2min 49s, total: 7min 32s\n",
    "# # Wall time: 7min 34s"
   ]
  },
  {
   "cell_type": "code",
   "execution_count": 27,
   "metadata": {},
   "outputs": [],
   "source": [
    "params_dict['LR_raw'] = {'C': 10.0, 'penalty': 'l2'}"
   ]
  },
  {
   "cell_type": "code",
   "execution_count": 28,
   "metadata": {},
   "outputs": [
    {
     "name": "stdout",
     "output_type": "stream",
     "text": [
      "F1 логистической регрессии: 0.71\n"
     ]
    }
   ],
   "source": [
    "LR_model_raw = LogisticRegression(class_weight=None,\n",
    "                                  C=10.0,\n",
    "                                  penalty='l2')\n",
    "LR_model_raw.fit(features_train, target_train)\n",
    "LR_predictions_raw = LR_model_raw.predict(features_valid)\n",
    "f1_LR_raw = f1_score(target_valid, LR_predictions_raw)\n",
    "models_dict['LR_raw'] = f1_LR_raw\n",
    "print('F1 логистической регрессии: {:.2f}'.format(f1_LR_raw))"
   ]
  },
  {
   "cell_type": "markdown",
   "metadata": {},
   "source": [
    "**Вывод:** Предсказания логистической регрессии дали результат F1 = 0.79. Попробуем его улучшить, добавив балансировку классов."
   ]
  },
  {
   "cell_type": "markdown",
   "metadata": {},
   "source": [
    "#### Балансировка классов"
   ]
  },
  {
   "cell_type": "code",
   "execution_count": 29,
   "metadata": {},
   "outputs": [],
   "source": [
    "# (regr_model_balanced, regr_result_balanced, \n",
    "#  regr_C_balanced, regr_results_dict_balanced) = find_best_regression(features_train_scaled, target_train,\n",
    "#                                            features_valid_scaled, target_valid, 'balanced')\n",
    "# models_dict['LR_balanced'] = regr_result_balanced\n",
    "\n",
    "# print('F1 логистической регрессии с балансировкой классов: {:.2f}'.format(regr_result_balanced))"
   ]
  },
  {
   "cell_type": "code",
   "execution_count": 30,
   "metadata": {},
   "outputs": [],
   "source": [
    "# %%time\n",
    "# LR_balanced_params = {'C' : np.logspace(-3,3,7),\n",
    "#                       'penalty' : ['l1','l2']}\n",
    "# gs_LR_balanced = GridSearchCV(LogisticRegression(class_weight='balanced'),\n",
    "#                               param_grid=LR_balanced_params,\n",
    "#                               scoring='f1')\n",
    "# gs_LR_balanced.fit(features_train, target_train)\n",
    "# print('params:', gs_LR_balanced.best_params_, \n",
    "#       'f1_score:', gs_LR_balanced.best_score_)\n",
    "# # params: {'C': 10.0, 'penalty': 'l2'} f1_score: 0.7683286533117502\n",
    "# # CPU times: user 6min 32s, sys: 4min 13s, total: 10min 46s\n",
    "# # Wall time: 10min 47s"
   ]
  },
  {
   "cell_type": "code",
   "execution_count": 31,
   "metadata": {},
   "outputs": [],
   "source": [
    "params_dict['LR_balanced'] = {'C': 10.0, 'penalty': 'l2'}"
   ]
  },
  {
   "cell_type": "code",
   "execution_count": 32,
   "metadata": {},
   "outputs": [
    {
     "name": "stdout",
     "output_type": "stream",
     "text": [
      "F1 логистической регрессии с балансировкой классов: 0.68\n"
     ]
    }
   ],
   "source": [
    "LR_model_balanced = LogisticRegression(class_weight='balanced',\n",
    "                                       C=10.0,\n",
    "                                       penalty='l2')\n",
    "LR_model_balanced.fit(features_train, target_train)\n",
    "LR_predictions_balanced = LR_model_balanced.predict(features_valid)\n",
    "f1_LR_balanced = f1_score(target_valid, LR_predictions_balanced)\n",
    "models_dict['LR_balanced'] = f1_LR_balanced\n",
    "print('F1 логистической регрессии с балансировкой классов: {:.2f}'.format(f1_LR_balanced))"
   ]
  },
  {
   "cell_type": "markdown",
   "metadata": {},
   "source": [
    "**Вывод:** банасировка классов встроенным параметром `class_weight='balanced'` не привела к улучшению показателя, F1 = 0.77."
   ]
  },
  {
   "cell_type": "markdown",
   "metadata": {},
   "source": [
    "### Случайный лес"
   ]
  },
  {
   "cell_type": "markdown",
   "metadata": {},
   "source": [
    "Подберем параметры для случайного леса в цикле, запишем их в переменные для дальнейшего использования, потому что подбор параметров занимает время."
   ]
  },
  {
   "cell_type": "code",
   "execution_count": 33,
   "metadata": {},
   "outputs": [],
   "source": [
    "# %%time\n",
    "# max_est, max_depth = 6, 200\n",
    "\n",
    "# (forest_model,\n",
    "#  forest_result, \n",
    "#  forest_est, \n",
    "#  forest_depth,\n",
    "#  forest_results_dict) = find_best_forest(tf_idf_train, target_train,\n",
    "#                                          tf_idf_valid, target_valid, \n",
    "#                                          max_est, max_depth)\n",
    "\n",
    "# regr_dict['RF'] = forest_result\n",
    "\n",
    "# print('F1 случайного леса: {:.2f}'.format(forest_result))\n",
    "# # Wall time: 6min 44s"
   ]
  },
  {
   "cell_type": "code",
   "execution_count": 34,
   "metadata": {},
   "outputs": [
    {
     "name": "stdout",
     "output_type": "stream",
     "text": [
      "Лучшие параметры для случайного леса: \n",
      "Количество деревьев: 4 \n",
      "Глубина дерева 160\n"
     ]
    }
   ],
   "source": [
    "# print('Лучшие параметры для случайного леса: \\nКоличество деревьев: {} \\nГлубина дерева {}'.format(forest_est, forest_depth))\n",
    "print('Лучшие параметры для случайного леса: \\nКоличество деревьев: 4 \\nГлубина дерева 160')"
   ]
  },
  {
   "cell_type": "code",
   "execution_count": 35,
   "metadata": {},
   "outputs": [],
   "source": [
    "# forest = RandomForestClassifier(random_state=12345, \n",
    "#                                 n_estimators=4, \n",
    "#                                 max_depth=160).fit(features_train_scaled, target_train)\n",
    "# forest_predicted = forest.predict(features_valid_scaled)\n",
    "# forest_f1 = f1_score(target_valid, forest_predicted)\n",
    "# models_dict['RF'] = forest_f1\n",
    "# print('F1 случайного леса: {:.2f}'.format(forest_f1))"
   ]
  },
  {
   "cell_type": "code",
   "execution_count": 36,
   "metadata": {},
   "outputs": [],
   "source": [
    "# %%time\n",
    "# RF_params = {'max_depth':range(150,200,10), \n",
    "#              'n_estimators':range(1, 6), \n",
    "#              'criterion':['gini', 'entropy']}\n",
    "\n",
    "# gs_RF = GridSearchCV(RandomForestClassifier(),\n",
    "#                      param_grid=RF_params,\n",
    "#                      scoring='f1')\n",
    "\n",
    "# gs_RF.fit(features_train, target_train)\n",
    "# print('params:', gs_RF.best_params_, 'f1_score:', gs_RF.best_score_)\n",
    "# # params: {'criterion': 'gini', 'max_depth': 190, 'n_estimators': 4} f1_score: 0.5006735830066068\n",
    "# # CPU times: user 22min 18s, sys: 0 ns, total: 22min 18s\n",
    "# # Wall time: 22min 33s"
   ]
  },
  {
   "cell_type": "code",
   "execution_count": 37,
   "metadata": {},
   "outputs": [],
   "source": [
    "params_dict['RF'] = {'max_depth': 190, 'n_estimators': 4, 'criterion': 'gini'}"
   ]
  },
  {
   "cell_type": "code",
   "execution_count": 38,
   "metadata": {},
   "outputs": [
    {
     "name": "stdout",
     "output_type": "stream",
     "text": [
      "F1 случайного леса: 0.52\n"
     ]
    }
   ],
   "source": [
    "RF_model = RandomForestClassifier(max_depth=190,\n",
    "                                  n_estimators=4,\n",
    "                                  criterion='gini')\n",
    "RF_model.fit(features_train, target_train)\n",
    "RF_predictions = RF_model.predict(features_valid)\n",
    "f1_RF = f1_score(target_valid, RF_predictions)\n",
    "models_dict['RF'] = f1_RF\n",
    "print('F1 случайного леса: {:.2f}'.format(f1_RF))"
   ]
  },
  {
   "cell_type": "markdown",
   "metadata": {},
   "source": [
    "**Вывод:** случайный лес показывает более низкий результат, чем линейная регрессия. Однако метрика улучшилась после добавления признака длины фразы."
   ]
  },
  {
   "cell_type": "markdown",
   "metadata": {},
   "source": [
    "### Gradient Boosting Decision Tree"
   ]
  },
  {
   "cell_type": "code",
   "execution_count": 39,
   "metadata": {},
   "outputs": [],
   "source": [
    "model_lgb = LGBMClassifier()\n",
    "\n",
    "param_set = {\n",
    "    \"learning_rate\": [0.1, 0.5, 1.0],\n",
    "    \"max_depth\":[10, 15, 20],\n",
    "    \"max_features\":[\"log2\",\"sqrt\"],\n",
    "    \"criterion\": [\"friedman_mse\",  \"mae\"],\n",
    "    \"n_estimators\":[10, 15, 20, 25, 30]\n",
    "    }\n",
    "\n",
    "# grid_cv = GridSearchCV(model_lgb, \n",
    "#                        param_grid=param_set, \n",
    "#                        scoring='f1', \n",
    "#                        n_jobs=-1, \n",
    "#                        cv=3, \n",
    "#                        verbose=1)\n",
    "\n",
    "# grid_cv.fit(tf_idf_train, target_train,\n",
    "#         eval_set=[(tf_idf_valid, target_valid)],\n",
    "#         eval_metric='l1',\n",
    "#         early_stopping_rounds=5)\n",
    "# # Wall time: 4h 24min 8s"
   ]
  },
  {
   "cell_type": "code",
   "execution_count": 40,
   "metadata": {},
   "outputs": [],
   "source": [
    "# print(grid_cv.best_params_)\n",
    "# best_cv_params = grid_cv.best_params_\n",
    "best_cv_params = {'criterion': 'friedman_mse', \n",
    "                  'learning_rate': 0.5, \n",
    "                  'max_depth': 20, \n",
    "                  'max_features': 'log2', \n",
    "                  'n_estimators': 30}"
   ]
  },
  {
   "cell_type": "code",
   "execution_count": 41,
   "metadata": {},
   "outputs": [
    {
     "name": "stdout",
     "output_type": "stream",
     "text": [
      "[LightGBM] [Warning] Unknown parameter: criterion\n",
      "[LightGBM] [Warning] Unknown parameter: max_features\n",
      "[LightGBM] [Warning] Accuracy may be bad since you didn't set num_leaves and 2^max_depth > num_leaves\n",
      "F1 GBM на валидационной выборке: 0.75\n"
     ]
    }
   ],
   "source": [
    "model_lgb = LGBMClassifier(learning_rate=0.5, \n",
    "                           num_iterations=20, \n",
    "                           max_depth=30,\n",
    "                           n_estimators=50,\n",
    "                          criterion ='friedman_mse', \n",
    "                           max_features= 'log2')\n",
    "model_lgb.fit(features_train, target_train)\n",
    "lgb_predicted = model_lgb.predict(features_valid)\n",
    "gbm_f1 = f1_score(target_valid, lgb_predicted)\n",
    "models_dict['GBM'] = gbm_f1\n",
    "params_dict['GBM'] = best_cv_params\n",
    "print('F1 GBM на валидационной выборке: {:.2f}'.format(gbm_f1))"
   ]
  },
  {
   "cell_type": "markdown",
   "metadata": {},
   "source": [
    "**Выводы:** В результате долгого подбора параметров метрика бустинга улучшилась, но все равно не превзошла линейную регрессию."
   ]
  },
  {
   "cell_type": "markdown",
   "metadata": {},
   "source": [
    "## Тестирование\n",
    "Выберем модель с лучшим результатом, дообучим её на объединенных тренировочных и валидационных данных, затем проверим на тестовой выборке."
   ]
  },
  {
   "cell_type": "code",
   "execution_count": 42,
   "metadata": {},
   "outputs": [
    {
     "name": "stdout",
     "output_type": "stream",
     "text": [
      "               F1\n",
      "LR_raw       0.71\n",
      "LR_balanced  0.68\n",
      "RF           0.52\n",
      "GBM          0.75\n",
      "\n",
      "Лучшая модель: GBM\n",
      "Параметры лучшей модели: {'criterion': 'friedman_mse', 'learning_rate': 0.5, 'max_depth': 20, 'max_features': 'log2', 'n_estimators': 30}\n"
     ]
    }
   ],
   "source": [
    "results_df = pd.DataFrame.from_dict(models_dict, orient='index',\n",
    "                                    columns=['F1']).iloc[0:5].round(decimals=2)\n",
    "print(results_df)\n",
    "\n",
    "F1_max = results_df['F1'].max()\n",
    "best_model_name = results_df.query('F1 == @F1_max').index[0]\n",
    "print('\\nЛучшая модель:', best_model_name)\n",
    "print('Параметры лучшей модели:', params_dict[best_model_name])"
   ]
  },
  {
   "cell_type": "code",
   "execution_count": 43,
   "metadata": {},
   "outputs": [],
   "source": [
    "features_concatenated = vstack([features_train, features_valid])\n",
    "target_concatenated = pd.concat([target_train, target_valid])"
   ]
  },
  {
   "cell_type": "code",
   "execution_count": 44,
   "metadata": {},
   "outputs": [],
   "source": [
    "features_test_text = features_test['text'].astype('U').values\n",
    "features_test_phrase_len = add_phrase_len(features_test['phrase_len'],\n",
    "                                          features_test_text.shape[0])\n",
    "tf_idf_features_test = count_tf_idf.transform(features_test_text)\n",
    "features_test = hstack([tf_idf_features_test, features_test_phrase_len])"
   ]
  },
  {
   "cell_type": "code",
   "execution_count": 45,
   "metadata": {},
   "outputs": [
    {
     "name": "stdout",
     "output_type": "stream",
     "text": [
      "[LightGBM] [Warning] Accuracy may be bad since you didn't set num_leaves and 2^max_depth > num_leaves\n",
      "F1 логистической регрессии на тестовой выборке после дообучения модели: 0.75\n"
     ]
    }
   ],
   "source": [
    "test_model = LGBMClassifier(learning_rate=0.5, \n",
    "                           num_iterations=20, \n",
    "                           max_depth=30,\n",
    "                           n_estimators=50)\n",
    "test_model.fit(features_concatenated, target_concatenated)\n",
    "\n",
    "test_predicted = test_model.predict(features_test)\n",
    "\n",
    "test_f1 = f1_score(target_test, test_predicted)\n",
    "print('F1 GBM на тестовой выборке после дообучения модели: {:.2f}'.format(test_f1))"
   ]
  },
  {
   "cell_type": "markdown",
   "metadata": {},
   "source": [
    "## Выводы"
   ]
  },
  {
   "cell_type": "markdown",
   "metadata": {},
   "source": [
    "Для нового сервиса интернет-магазина \"Викишоп\" мы сделали модель, отличающую позитивные комментарии от негативных.\n",
    "\n",
    "Лучший результат F1 был получен с помощью GBM. На валидационной  и на тестовой выборках F1 = 0.79. Чистка данных и добавление длины фразы в качестве признака не дало улучшения показателей. Наверное, на этих объемах данных лишние символы в строках не мешают векторизации."
   ]
  }
 ],
 "metadata": {
  "ExecuteTimeLog": [
   {
    "duration": 776,
    "start_time": "2021-06-14T21:13:45.093Z"
   },
   {
    "duration": 814,
    "start_time": "2021-06-14T21:14:27.776Z"
   },
   {
    "duration": 323,
    "start_time": "2021-06-14T21:16:37.766Z"
   },
   {
    "duration": 788,
    "start_time": "2021-06-14T21:17:11.218Z"
   },
   {
    "duration": 119,
    "start_time": "2021-06-14T21:18:56.798Z"
   },
   {
    "duration": 220,
    "start_time": "2021-06-14T21:19:23.918Z"
   },
   {
    "duration": 4,
    "start_time": "2021-06-14T21:19:47.178Z"
   },
   {
    "duration": 5,
    "start_time": "2021-06-14T21:19:51.599Z"
   },
   {
    "duration": 3,
    "start_time": "2021-06-14T21:20:08.851Z"
   },
   {
    "duration": 947,
    "start_time": "2021-06-14T21:20:25.378Z"
   },
   {
    "duration": 1472,
    "start_time": "2021-06-14T21:21:09.177Z"
   },
   {
    "duration": 783,
    "start_time": "2021-06-14T21:21:13.768Z"
   },
   {
    "duration": 1455,
    "start_time": "2021-06-14T21:21:39.070Z"
   },
   {
    "duration": 797,
    "start_time": "2021-06-14T21:21:41.857Z"
   },
   {
    "duration": 34,
    "start_time": "2021-06-14T21:22:00.318Z"
   },
   {
    "duration": 8,
    "start_time": "2021-06-14T21:22:56.537Z"
   },
   {
    "duration": 5,
    "start_time": "2021-06-14T21:23:03.208Z"
   },
   {
    "duration": 54,
    "start_time": "2021-06-14T21:30:47.758Z"
   },
   {
    "duration": 54,
    "start_time": "2021-06-14T21:31:03.551Z"
   },
   {
    "duration": 255,
    "start_time": "2021-06-14T21:31:09.082Z"
   },
   {
    "duration": 4,
    "start_time": "2021-06-14T21:31:17.482Z"
   },
   {
    "duration": 11506,
    "start_time": "2021-06-14T21:31:19.526Z"
   },
   {
    "duration": 4,
    "start_time": "2021-06-14T21:31:51.940Z"
   },
   {
    "duration": 3,
    "start_time": "2021-06-14T21:32:30.052Z"
   },
   {
    "duration": 3,
    "start_time": "2021-06-14T21:33:09.126Z"
   },
   {
    "duration": 10062,
    "start_time": "2021-06-14T21:33:11.636Z"
   },
   {
    "duration": 5,
    "start_time": "2021-06-14T21:37:12.711Z"
   },
   {
    "duration": 932,
    "start_time": "2021-06-14T21:38:11.943Z"
   },
   {
    "duration": 4,
    "start_time": "2021-06-14T21:38:38.010Z"
   },
   {
    "duration": 5,
    "start_time": "2021-06-14T21:38:38.962Z"
   },
   {
    "duration": 303,
    "start_time": "2021-06-14T21:38:42.536Z"
   },
   {
    "duration": 42,
    "start_time": "2021-06-14T21:39:29.976Z"
   },
   {
    "duration": 5,
    "start_time": "2021-06-14T21:39:50.311Z"
   },
   {
    "duration": 10,
    "start_time": "2021-06-14T21:40:23.545Z"
   },
   {
    "duration": 48,
    "start_time": "2021-06-14T21:40:38.286Z"
   },
   {
    "duration": 33,
    "start_time": "2021-06-14T21:41:55.967Z"
   },
   {
    "duration": 55,
    "start_time": "2021-06-14T21:42:23.841Z"
   },
   {
    "duration": 9568,
    "start_time": "2021-06-14T21:43:11.376Z"
   },
   {
    "duration": 5,
    "start_time": "2021-06-14T21:43:32.114Z"
   },
   {
    "duration": 9484,
    "start_time": "2021-06-14T21:44:03.846Z"
   },
   {
    "duration": 5,
    "start_time": "2021-06-14T21:44:15.577Z"
   },
   {
    "duration": 7672,
    "start_time": "2021-06-14T21:44:26.587Z"
   },
   {
    "duration": 10,
    "start_time": "2021-06-14T21:44:39.482Z"
   },
   {
    "duration": 5,
    "start_time": "2021-06-14T21:45:35.044Z"
   },
   {
    "duration": 19,
    "start_time": "2021-06-14T21:46:21.918Z"
   },
   {
    "duration": 7,
    "start_time": "2021-06-14T22:19:24.572Z"
   },
   {
    "duration": 3,
    "start_time": "2021-06-14T22:20:33.413Z"
   },
   {
    "duration": 432,
    "start_time": "2021-06-14T22:20:36.193Z"
   },
   {
    "duration": 55,
    "start_time": "2021-06-14T22:21:00.902Z"
   },
   {
    "duration": 502,
    "start_time": "2021-06-14T22:21:05.118Z"
   },
   {
    "duration": 35596,
    "start_time": "2021-06-14T22:21:44.569Z"
   },
   {
    "duration": 6,
    "start_time": "2021-06-14T22:22:53.562Z"
   },
   {
    "duration": 35490,
    "start_time": "2021-06-14T22:22:57.170Z"
   },
   {
    "duration": 35494,
    "start_time": "2021-06-14T22:24:13.289Z"
   },
   {
    "duration": 4,
    "start_time": "2021-06-14T22:26:09.766Z"
   },
   {
    "duration": 95,
    "start_time": "2021-06-14T22:27:31.861Z"
   },
   {
    "duration": 34954,
    "start_time": "2021-06-14T22:27:40.872Z"
   },
   {
    "duration": 5,
    "start_time": "2021-06-14T22:28:36.732Z"
   },
   {
    "duration": 5,
    "start_time": "2021-06-14T22:29:05.009Z"
   },
   {
    "duration": 4,
    "start_time": "2021-06-14T22:29:09.169Z"
   },
   {
    "duration": 5,
    "start_time": "2021-06-14T22:29:34.319Z"
   },
   {
    "duration": 5,
    "start_time": "2021-06-14T22:29:43.270Z"
   },
   {
    "duration": 5,
    "start_time": "2021-06-14T22:29:50.310Z"
   },
   {
    "duration": 6,
    "start_time": "2021-06-14T22:29:55.609Z"
   },
   {
    "duration": 4,
    "start_time": "2021-06-14T22:30:48.082Z"
   },
   {
    "duration": 8,
    "start_time": "2021-06-14T22:31:38.512Z"
   },
   {
    "duration": 496,
    "start_time": "2021-06-14T22:33:36.022Z"
   },
   {
    "duration": 5,
    "start_time": "2021-06-14T22:35:31.922Z"
   },
   {
    "duration": 34953,
    "start_time": "2021-06-14T22:35:37.332Z"
   },
   {
    "duration": 4,
    "start_time": "2021-06-14T22:36:16.352Z"
   },
   {
    "duration": 6,
    "start_time": "2021-06-14T22:36:18.872Z"
   },
   {
    "duration": 495,
    "start_time": "2021-06-14T22:36:23.222Z"
   },
   {
    "duration": 36,
    "start_time": "2021-06-14T22:36:27.990Z"
   },
   {
    "duration": 644335,
    "start_time": "2021-06-14T22:38:00.403Z"
   },
   {
    "duration": 5,
    "start_time": "2021-06-14T22:48:58.792Z"
   },
   {
    "duration": 5,
    "start_time": "2021-06-14T22:49:57.362Z"
   },
   {
    "duration": 6,
    "start_time": "2021-06-14T22:50:05.582Z"
   },
   {
    "duration": 11,
    "start_time": "2021-06-14T22:50:17.142Z"
   },
   {
    "duration": 296,
    "start_time": "2021-06-14T22:51:38.002Z"
   },
   {
    "duration": 182,
    "start_time": "2021-06-14T22:51:58.152Z"
   },
   {
    "duration": 326,
    "start_time": "2021-06-14T22:51:59.970Z"
   },
   {
    "duration": 690,
    "start_time": "2021-06-14T22:52:16.806Z"
   },
   {
    "duration": 3,
    "start_time": "2021-06-14T22:52:44.802Z"
   },
   {
    "duration": 637,
    "start_time": "2021-06-14T22:52:46.224Z"
   },
   {
    "duration": 477,
    "start_time": "2021-06-14T22:54:13.207Z"
   },
   {
    "duration": 495,
    "start_time": "2021-06-14T22:54:31.082Z"
   },
   {
    "duration": 622,
    "start_time": "2021-06-14T22:54:49.853Z"
   },
   {
    "duration": 7,
    "start_time": "2021-06-14T22:55:59.118Z"
   },
   {
    "duration": 78921,
    "start_time": "2021-06-14T22:56:07.758Z"
   },
   {
    "duration": 4,
    "start_time": "2021-06-14T22:57:30.138Z"
   },
   {
    "duration": 5,
    "start_time": "2021-06-14T22:57:39.455Z"
   },
   {
    "duration": 5,
    "start_time": "2021-06-14T22:57:41.087Z"
   },
   {
    "duration": 7,
    "start_time": "2021-06-14T22:57:46.398Z"
   },
   {
    "duration": 292,
    "start_time": "2021-06-14T22:57:51.844Z"
   },
   {
    "duration": 5,
    "start_time": "2021-06-14T23:24:38.151Z"
   },
   {
    "duration": 314,
    "start_time": "2021-06-14T23:24:48.262Z"
   },
   {
    "duration": 278,
    "start_time": "2021-06-14T23:26:34.398Z"
   },
   {
    "duration": 11,
    "start_time": "2021-06-14T23:26:49.728Z"
   },
   {
    "duration": 6,
    "start_time": "2021-06-14T23:27:59.375Z"
   },
   {
    "duration": 569,
    "start_time": "2021-06-14T23:28:10.093Z"
   },
   {
    "duration": 4,
    "start_time": "2021-06-14T23:28:43.191Z"
   },
   {
    "duration": 5,
    "start_time": "2021-06-14T23:28:47.546Z"
   },
   {
    "duration": 32,
    "start_time": "2021-06-14T23:28:49.895Z"
   },
   {
    "duration": 73,
    "start_time": "2021-06-14T23:29:30.776Z"
   },
   {
    "duration": 1778,
    "start_time": "2021-06-14T23:30:01.082Z"
   },
   {
    "duration": 629,
    "start_time": "2021-06-14T23:30:56.922Z"
   },
   {
    "duration": 1549,
    "start_time": "2021-06-15T08:45:20.976Z"
   },
   {
    "duration": 5,
    "start_time": "2021-06-15T08:45:24.964Z"
   },
   {
    "duration": 7,
    "start_time": "2021-06-15T08:45:29.006Z"
   },
   {
    "duration": 7,
    "start_time": "2021-06-15T08:47:22.596Z"
   },
   {
    "duration": 760,
    "start_time": "2021-06-15T08:47:43.130Z"
   },
   {
    "duration": 33,
    "start_time": "2021-06-15T08:47:47.111Z"
   },
   {
    "duration": 318,
    "start_time": "2021-06-15T08:47:49.961Z"
   },
   {
    "duration": 6,
    "start_time": "2021-06-15T08:48:02.080Z"
   },
   {
    "duration": 6,
    "start_time": "2021-06-15T08:48:47.503Z"
   },
   {
    "duration": 6,
    "start_time": "2021-06-15T08:49:06.159Z"
   },
   {
    "duration": 415,
    "start_time": "2021-06-15T08:49:17.983Z"
   },
   {
    "duration": 4,
    "start_time": "2021-06-15T08:49:58.659Z"
   },
   {
    "duration": 253,
    "start_time": "2021-06-15T08:50:07.691Z"
   },
   {
    "duration": 295,
    "start_time": "2021-06-15T08:50:16.563Z"
   },
   {
    "duration": 47,
    "start_time": "2021-06-15T08:50:41.281Z"
   },
   {
    "duration": 55,
    "start_time": "2021-06-15T08:50:49.571Z"
   },
   {
    "duration": 249,
    "start_time": "2021-06-15T08:51:03.320Z"
   },
   {
    "duration": 8907,
    "start_time": "2021-06-15T08:51:34.521Z"
   },
   {
    "duration": 3,
    "start_time": "2021-06-15T08:52:27.464Z"
   },
   {
    "duration": 266,
    "start_time": "2021-06-15T08:54:07.310Z"
   },
   {
    "duration": 4,
    "start_time": "2021-06-15T08:54:19.136Z"
   },
   {
    "duration": 35017,
    "start_time": "2021-06-15T08:54:25.198Z"
   },
   {
    "duration": 5,
    "start_time": "2021-06-15T08:55:24.528Z"
   },
   {
    "duration": 282,
    "start_time": "2021-06-15T08:57:25.110Z"
   },
   {
    "duration": 6,
    "start_time": "2021-06-15T08:57:33.039Z"
   },
   {
    "duration": 260,
    "start_time": "2021-06-15T08:58:05.147Z"
   },
   {
    "duration": 8,
    "start_time": "2021-06-15T08:58:19.300Z"
   },
   {
    "duration": 9,
    "start_time": "2021-06-15T08:58:42.287Z"
   },
   {
    "duration": 29,
    "start_time": "2021-06-15T08:58:45.590Z"
   },
   {
    "duration": 1380,
    "start_time": "2021-06-15T08:58:51.154Z"
   },
   {
    "duration": 612,
    "start_time": "2021-06-15T08:59:27.468Z"
   },
   {
    "duration": 48,
    "start_time": "2021-06-15T09:04:59.128Z"
   },
   {
    "duration": 198,
    "start_time": "2021-06-15T09:08:06.993Z"
   },
   {
    "duration": 5,
    "start_time": "2021-06-15T09:14:01.841Z"
   },
   {
    "duration": 1403,
    "start_time": "2021-06-15T09:16:05.667Z"
   },
   {
    "duration": 6,
    "start_time": "2021-06-15T09:16:08.539Z"
   },
   {
    "duration": 10286,
    "start_time": "2021-06-15T09:18:32.556Z"
   },
   {
    "duration": 4,
    "start_time": "2021-06-15T09:18:48.549Z"
   },
   {
    "duration": 47283,
    "start_time": "2021-06-15T09:18:50.844Z"
   },
   {
    "duration": 6,
    "start_time": "2021-06-15T09:19:41.681Z"
   },
   {
    "duration": 9,
    "start_time": "2021-06-15T09:19:52.441Z"
   },
   {
    "duration": 35,
    "start_time": "2021-06-15T09:19:54.440Z"
   },
   {
    "duration": 208,
    "start_time": "2021-06-15T09:19:59.032Z"
   },
   {
    "duration": 1422,
    "start_time": "2021-06-15T09:20:05.708Z"
   },
   {
    "duration": 5,
    "start_time": "2021-06-15T09:20:14.798Z"
   },
   {
    "duration": 6,
    "start_time": "2021-06-15T09:21:18.961Z"
   },
   {
    "duration": 1415,
    "start_time": "2021-06-15T09:21:52.712Z"
   },
   {
    "duration": 5,
    "start_time": "2021-06-15T09:22:05.841Z"
   },
   {
    "duration": 3845,
    "start_time": "2021-06-15T09:23:16.638Z"
   },
   {
    "duration": 5,
    "start_time": "2021-06-15T09:23:22.768Z"
   },
   {
    "duration": 5,
    "start_time": "2021-06-15T09:23:40.879Z"
   },
   {
    "duration": 728,
    "start_time": "2021-06-15T09:24:02.558Z"
   },
   {
    "duration": 19297,
    "start_time": "2021-06-15T09:24:21.678Z"
   },
   {
    "duration": 5,
    "start_time": "2021-06-15T09:25:33.637Z"
   },
   {
    "duration": 6,
    "start_time": "2021-06-15T09:25:39.769Z"
   },
   {
    "duration": 7,
    "start_time": "2021-06-15T09:31:31.906Z"
   },
   {
    "duration": 58173,
    "start_time": "2021-06-15T09:32:27.454Z"
   },
   {
    "duration": 5,
    "start_time": "2021-06-15T09:33:29.549Z"
   },
   {
    "duration": 6,
    "start_time": "2021-06-15T09:33:44.908Z"
   },
   {
    "duration": 3,
    "start_time": "2021-06-15T09:35:22.209Z"
   },
   {
    "duration": 44,
    "start_time": "2021-06-15T09:35:25.754Z"
   },
   {
    "duration": 5,
    "start_time": "2021-06-15T09:35:29.841Z"
   },
   {
    "duration": 3,
    "start_time": "2021-06-15T09:36:23.716Z"
   },
   {
    "duration": 2030629,
    "start_time": "2021-06-15T09:36:24.634Z"
   },
   {
    "duration": 5,
    "start_time": "2021-06-15T10:10:50.287Z"
   },
   {
    "duration": 5,
    "start_time": "2021-06-15T10:11:59.272Z"
   },
   {
    "duration": 21,
    "start_time": "2021-06-15T10:13:03.362Z"
   },
   {
    "duration": 5,
    "start_time": "2021-06-15T10:13:16.232Z"
   },
   {
    "duration": 8,
    "start_time": "2021-06-15T10:13:40.585Z"
   },
   {
    "duration": 5,
    "start_time": "2021-06-15T10:14:07.527Z"
   },
   {
    "duration": 5,
    "start_time": "2021-06-15T10:14:32.926Z"
   },
   {
    "duration": 3,
    "start_time": "2021-06-15T10:14:37.164Z"
   },
   {
    "duration": 41,
    "start_time": "2021-06-15T10:26:21.675Z"
   },
   {
    "duration": 56,
    "start_time": "2021-06-15T10:26:25.640Z"
   },
   {
    "duration": 43191,
    "start_time": "2021-06-15T10:39:26.834Z"
   },
   {
    "duration": 4,
    "start_time": "2021-06-15T10:43:06.476Z"
   },
   {
    "duration": 5,
    "start_time": "2021-06-15T10:43:58.166Z"
   },
   {
    "duration": 3,
    "start_time": "2021-06-15T10:44:12.726Z"
   },
   {
    "duration": 11,
    "start_time": "2021-06-15T10:48:06.551Z"
   },
   {
    "duration": 15330,
    "start_time": "2021-06-15T10:52:13.944Z"
   },
   {
    "duration": 7,
    "start_time": "2021-06-15T11:00:19.767Z"
   },
   {
    "duration": 4,
    "start_time": "2021-06-15T11:00:26.496Z"
   },
   {
    "duration": 86317,
    "start_time": "2021-06-15T11:00:27.475Z"
   },
   {
    "duration": 5,
    "start_time": "2021-06-15T11:02:32.918Z"
   },
   {
    "duration": 2379,
    "start_time": "2021-06-15T11:03:11.009Z"
   },
   {
    "duration": 4,
    "start_time": "2021-06-15T11:03:27.291Z"
   },
   {
    "duration": 404256,
    "start_time": "2021-06-15T11:03:31.319Z"
   },
   {
    "duration": 4,
    "start_time": "2021-06-15T11:11:02.241Z"
   },
   {
    "duration": 4,
    "start_time": "2021-06-15T11:11:15.104Z"
   },
   {
    "duration": 4,
    "start_time": "2021-06-15T11:11:35.893Z"
   },
   {
    "duration": 9543,
    "start_time": "2021-06-15T11:12:03.903Z"
   },
   {
    "duration": 5,
    "start_time": "2021-06-15T11:12:42.991Z"
   },
   {
    "duration": 3,
    "start_time": "2021-06-15T11:12:53.730Z"
   },
   {
    "duration": 98454,
    "start_time": "2021-06-15T11:14:00.802Z"
   },
   {
    "duration": 3,
    "start_time": "2021-06-15T11:16:45.111Z"
   },
   {
    "duration": 221,
    "start_time": "2021-06-15T11:20:36.689Z"
   },
   {
    "duration": 282,
    "start_time": "2021-06-15T11:24:35.678Z"
   },
   {
    "duration": 89,
    "start_time": "2021-06-15T11:24:38.525Z"
   },
   {
    "duration": 3,
    "start_time": "2021-06-15T11:25:06.483Z"
   },
   {
    "duration": 296,
    "start_time": "2021-06-15T11:25:08.071Z"
   },
   {
    "duration": 280,
    "start_time": "2021-06-15T11:27:47.063Z"
   },
   {
    "duration": 24,
    "start_time": "2021-06-15T11:28:01.963Z"
   },
   {
    "duration": 4,
    "start_time": "2021-06-15T11:28:07.590Z"
   },
   {
    "duration": 4,
    "start_time": "2021-06-15T11:28:23.794Z"
   },
   {
    "duration": 204,
    "start_time": "2021-06-15T11:30:11.965Z"
   },
   {
    "duration": 3,
    "start_time": "2021-06-15T11:30:28.399Z"
   },
   {
    "duration": 191,
    "start_time": "2021-06-15T11:30:30.675Z"
   },
   {
    "duration": 256,
    "start_time": "2021-06-15T11:30:57.245Z"
   },
   {
    "duration": 873170,
    "start_time": "2021-06-15T11:31:43.315Z"
   },
   {
    "duration": 4,
    "start_time": "2021-06-15T11:46:39.926Z"
   },
   {
    "duration": 3261552,
    "start_time": "2021-06-15T11:46:47.975Z"
   },
   {
    "duration": 1596,
    "start_time": "2021-06-15T15:22:51.465Z"
   },
   {
    "duration": 6,
    "start_time": "2021-06-15T15:23:03.469Z"
   },
   {
    "duration": 7,
    "start_time": "2021-06-15T15:23:08.496Z"
   },
   {
    "duration": 7,
    "start_time": "2021-06-15T15:23:13.772Z"
   },
   {
    "duration": 7,
    "start_time": "2021-06-15T15:23:18.706Z"
   },
   {
    "duration": 6,
    "start_time": "2021-06-15T15:23:24.149Z"
   },
   {
    "duration": 1617,
    "start_time": "2021-06-15T15:23:26.566Z"
   },
   {
    "duration": 32,
    "start_time": "2021-06-15T15:23:32.219Z"
   },
   {
    "duration": 4,
    "start_time": "2021-06-15T15:23:34.331Z"
   },
   {
    "duration": 4,
    "start_time": "2021-06-15T15:23:44.609Z"
   },
   {
    "duration": 312,
    "start_time": "2021-06-15T15:23:46.305Z"
   },
   {
    "duration": 4,
    "start_time": "2021-06-15T15:23:52.001Z"
   },
   {
    "duration": 54,
    "start_time": "2021-06-15T15:23:57.843Z"
   },
   {
    "duration": 53,
    "start_time": "2021-06-15T15:24:14.273Z"
   },
   {
    "duration": 9749,
    "start_time": "2021-06-15T15:24:24.880Z"
   },
   {
    "duration": 44042,
    "start_time": "2021-06-15T15:24:34.632Z"
   },
   {
    "duration": 56672,
    "start_time": "2021-06-15T15:25:32.503Z"
   },
   {
    "duration": 9,
    "start_time": "2021-06-15T15:27:11.278Z"
   },
   {
    "duration": 32,
    "start_time": "2021-06-15T15:27:13.258Z"
   },
   {
    "duration": 199,
    "start_time": "2021-06-15T15:27:17.227Z"
   },
   {
    "duration": 3659,
    "start_time": "2021-06-15T15:27:21.458Z"
   },
   {
    "duration": 15477,
    "start_time": "2021-06-15T15:27:33.941Z"
   },
   {
    "duration": 1680,
    "start_time": "2021-06-15T20:33:27.262Z"
   },
   {
    "duration": 6,
    "start_time": "2021-06-15T20:33:30.891Z"
   },
   {
    "duration": 8,
    "start_time": "2021-06-15T20:33:32.164Z"
   },
   {
    "duration": 7,
    "start_time": "2021-06-15T20:33:33.872Z"
   },
   {
    "duration": 7,
    "start_time": "2021-06-15T20:33:35.665Z"
   },
   {
    "duration": 5,
    "start_time": "2021-06-15T20:33:37.284Z"
   },
   {
    "duration": 801,
    "start_time": "2021-06-15T20:33:40.502Z"
   },
   {
    "duration": 36,
    "start_time": "2021-06-15T20:33:43.443Z"
   },
   {
    "duration": 4,
    "start_time": "2021-06-15T20:33:45.181Z"
   },
   {
    "duration": 315,
    "start_time": "2021-06-15T20:33:46.601Z"
   },
   {
    "duration": 4,
    "start_time": "2021-06-15T20:33:49.242Z"
   },
   {
    "duration": 51,
    "start_time": "2021-06-15T20:33:50.306Z"
   },
   {
    "duration": 56,
    "start_time": "2021-06-15T20:33:52.201Z"
   },
   {
    "duration": 10502,
    "start_time": "2021-06-15T20:33:53.941Z"
   },
   {
    "duration": 44225,
    "start_time": "2021-06-15T20:34:09.322Z"
   },
   {
    "duration": 57284,
    "start_time": "2021-06-15T20:34:53.561Z"
   },
   {
    "duration": 10,
    "start_time": "2021-06-15T20:36:38.982Z"
   },
   {
    "duration": 34,
    "start_time": "2021-06-15T20:36:42.629Z"
   },
   {
    "duration": 204,
    "start_time": "2021-06-15T20:36:44.802Z"
   },
   {
    "duration": 3721,
    "start_time": "2021-06-15T20:36:47.102Z"
   },
   {
    "duration": 14561,
    "start_time": "2021-06-15T20:36:52.824Z"
   },
   {
    "duration": 9225,
    "start_time": "2021-06-15T20:37:13.543Z"
   },
   {
    "duration": 4,
    "start_time": "2021-06-15T20:37:35.283Z"
   },
   {
    "duration": 4,
    "start_time": "2021-06-15T20:37:46.901Z"
   },
   {
    "duration": 7169,
    "start_time": "2021-06-15T20:38:01.542Z"
   },
   {
    "duration": 5925223,
    "start_time": "2021-06-15T20:38:13.953Z"
   },
   {
    "duration": 4,
    "start_time": "2021-06-15T22:35:17.141Z"
   },
   {
    "duration": 4,
    "start_time": "2021-06-15T22:36:54.688Z"
   },
   {
    "duration": 19905,
    "start_time": "2021-06-15T22:36:59.720Z"
   },
   {
    "duration": 7,
    "start_time": "2021-06-15T22:38:12.047Z"
   },
   {
    "duration": 6,
    "start_time": "2021-06-15T22:38:19.080Z"
   },
   {
    "duration": 5,
    "start_time": "2021-06-15T22:39:43.761Z"
   },
   {
    "duration": 3192760,
    "start_time": "2021-06-15T22:39:46.360Z"
   },
   {
    "duration": 5,
    "start_time": "2021-06-16T01:09:47.343Z"
   },
   {
    "duration": 3,
    "start_time": "2021-06-16T01:10:12.485Z"
   },
   {
    "duration": 4,
    "start_time": "2021-06-16T06:15:34.265Z"
   },
   {
    "duration": 6,
    "start_time": "2021-06-16T06:15:36.979Z"
   },
   {
    "duration": 6,
    "start_time": "2021-06-16T06:17:01.901Z"
   },
   {
    "duration": 279,
    "start_time": "2021-06-16T06:18:27.482Z"
   },
   {
    "duration": 581,
    "start_time": "2021-06-16T06:19:20.151Z"
   },
   {
    "duration": 1524,
    "start_time": "2021-06-17T06:53:04.410Z"
   },
   {
    "duration": 6,
    "start_time": "2021-06-17T06:54:24.242Z"
   },
   {
    "duration": 5,
    "start_time": "2021-06-17T06:54:26.379Z"
   },
   {
    "duration": 7,
    "start_time": "2021-06-17T06:54:28.041Z"
   },
   {
    "duration": 6,
    "start_time": "2021-06-17T06:54:34.169Z"
   },
   {
    "duration": 7,
    "start_time": "2021-06-17T07:01:06.947Z"
   },
   {
    "duration": 7,
    "start_time": "2021-06-17T07:01:13.065Z"
   },
   {
    "duration": 6,
    "start_time": "2021-06-17T07:01:15.419Z"
   },
   {
    "duration": 712,
    "start_time": "2021-06-17T07:01:17.428Z"
   },
   {
    "duration": 32,
    "start_time": "2021-06-17T07:01:22.798Z"
   },
   {
    "duration": 4,
    "start_time": "2021-06-17T07:01:24.397Z"
   },
   {
    "duration": 288,
    "start_time": "2021-06-17T07:01:26.198Z"
   },
   {
    "duration": 3,
    "start_time": "2021-06-17T07:06:37.677Z"
   },
   {
    "duration": 265,
    "start_time": "2021-06-17T07:06:39.356Z"
   },
   {
    "duration": 3,
    "start_time": "2021-06-17T07:06:42.456Z"
   },
   {
    "duration": 45,
    "start_time": "2021-06-17T07:06:43.376Z"
   },
   {
    "duration": 53,
    "start_time": "2021-06-17T07:06:46.276Z"
   },
   {
    "duration": 10198,
    "start_time": "2021-06-17T07:06:49.195Z"
   },
   {
    "duration": 43409,
    "start_time": "2021-06-17T07:09:19.252Z"
   },
   {
    "duration": 56491,
    "start_time": "2021-06-17T07:10:51.772Z"
   },
   {
    "duration": 10,
    "start_time": "2021-06-17T07:11:56.883Z"
   },
   {
    "duration": 30,
    "start_time": "2021-06-17T07:11:58.514Z"
   },
   {
    "duration": 209,
    "start_time": "2021-06-17T07:12:00.376Z"
   },
   {
    "duration": 3633,
    "start_time": "2021-06-17T07:12:02.916Z"
   },
   {
    "duration": 342,
    "start_time": "2021-06-17T07:12:11.077Z"
   },
   {
    "duration": 14974,
    "start_time": "2021-06-17T07:12:30.224Z"
   },
   {
    "duration": 9753,
    "start_time": "2021-06-17T07:18:09.935Z"
   },
   {
    "duration": 4,
    "start_time": "2021-06-17T07:18:36.134Z"
   },
   {
    "duration": 5,
    "start_time": "2021-06-17T07:18:38.736Z"
   },
   {
    "duration": 4,
    "start_time": "2021-06-17T07:18:46.774Z"
   },
   {
    "duration": 36930,
    "start_time": "2021-06-17T07:19:10.111Z"
   },
   {
    "duration": 968,
    "start_time": "2021-06-17T07:19:51.114Z"
   },
   {
    "duration": 271,
    "start_time": "2021-06-17T07:23:11.129Z"
   },
   {
    "duration": 4,
    "start_time": "2021-06-17T07:24:08.553Z"
   },
   {
    "duration": 4,
    "start_time": "2021-06-17T07:29:30.500Z"
   },
   {
    "duration": 6,
    "start_time": "2021-06-17T07:30:18.834Z"
   },
   {
    "duration": 4,
    "start_time": "2021-06-17T07:31:50.530Z"
   },
   {
    "duration": 44620,
    "start_time": "2021-06-17T07:32:00.131Z"
   },
   {
    "duration": 65292,
    "start_time": "2021-06-17T07:32:58.497Z"
   },
   {
    "duration": 14518,
    "start_time": "2021-06-17T07:34:03.793Z"
   },
   {
    "duration": 10251,
    "start_time": "2021-06-17T07:34:18.314Z"
   },
   {
    "duration": 32,
    "start_time": "2021-06-17T07:34:28.568Z"
   },
   {
    "duration": 15,
    "start_time": "2021-06-17T07:34:36.392Z"
   },
   {
    "duration": 13,
    "start_time": "2021-06-17T07:35:23.334Z"
   },
   {
    "duration": 52,
    "start_time": "2021-06-17T07:36:02.051Z"
   },
   {
    "duration": 14386,
    "start_time": "2021-06-17T07:37:32.210Z"
   },
   {
    "duration": 5445,
    "start_time": "2021-06-17T07:40:39.531Z"
   },
   {
    "duration": 3696,
    "start_time": "2021-06-17T07:42:05.032Z"
   },
   {
    "duration": 3951,
    "start_time": "2021-06-17T07:42:52.061Z"
   },
   {
    "duration": 1982,
    "start_time": "2021-06-17T07:46:52.806Z"
   },
   {
    "duration": 8,
    "start_time": "2021-06-17T07:46:54.792Z"
   },
   {
    "duration": 11,
    "start_time": "2021-06-17T07:46:54.805Z"
   },
   {
    "duration": 10,
    "start_time": "2021-06-17T07:46:54.821Z"
   },
   {
    "duration": 11,
    "start_time": "2021-06-17T07:46:54.835Z"
   },
   {
    "duration": 1124,
    "start_time": "2021-06-17T07:46:54.849Z"
   },
   {
    "duration": 42,
    "start_time": "2021-06-17T07:46:55.976Z"
   },
   {
    "duration": 3,
    "start_time": "2021-06-17T07:46:56.021Z"
   },
   {
    "duration": 357,
    "start_time": "2021-06-17T07:46:56.028Z"
   },
   {
    "duration": 6,
    "start_time": "2021-06-17T07:46:56.390Z"
   },
   {
    "duration": 55,
    "start_time": "2021-06-17T07:46:56.399Z"
   },
   {
    "duration": 87,
    "start_time": "2021-06-17T07:46:56.456Z"
   },
   {
    "duration": 13524,
    "start_time": "2021-06-17T07:46:56.546Z"
   },
   {
    "duration": 53948,
    "start_time": "2021-06-17T07:47:10.073Z"
   },
   {
    "duration": 5,
    "start_time": "2021-06-17T07:48:04.024Z"
   },
   {
    "duration": 72642,
    "start_time": "2021-06-17T07:48:04.032Z"
   },
   {
    "duration": 15,
    "start_time": "2021-06-17T07:49:16.684Z"
   },
   {
    "duration": 48,
    "start_time": "2021-06-17T07:49:16.702Z"
   },
   {
    "duration": 374,
    "start_time": "2021-06-17T07:49:16.754Z"
   },
   {
    "duration": 5171,
    "start_time": "2021-06-17T07:49:17.132Z"
   },
   {
    "duration": 17810,
    "start_time": "2021-06-17T07:49:22.305Z"
   },
   {
    "duration": 4,
    "start_time": "2021-06-17T07:49:40.117Z"
   },
   {
    "duration": 8,
    "start_time": "2021-06-17T07:49:40.125Z"
   },
   {
    "duration": 10916,
    "start_time": "2021-06-17T07:49:40.136Z"
   },
   {
    "duration": 4,
    "start_time": "2021-06-17T07:49:51.054Z"
   },
   {
    "duration": 8,
    "start_time": "2021-06-17T07:49:51.060Z"
   },
   {
    "duration": 12,
    "start_time": "2021-06-17T07:49:51.073Z"
   },
   {
    "duration": 9,
    "start_time": "2021-06-17T07:49:51.089Z"
   },
   {
    "duration": 478685,
    "start_time": "2021-06-17T07:49:51.102Z"
   },
   {
    "duration": 8,
    "start_time": "2021-06-17T07:57:49.790Z"
   },
   {
    "duration": 30,
    "start_time": "2021-06-17T07:57:49.802Z"
   },
   {
    "duration": 13,
    "start_time": "2021-06-17T07:57:49.836Z"
   },
   {
    "duration": 14166,
    "start_time": "2021-06-17T07:57:49.852Z"
   },
   {
    "duration": 3885,
    "start_time": "2021-06-17T07:58:04.021Z"
   },
   {
    "duration": 17808,
    "start_time": "2021-06-17T08:20:12.885Z"
   },
   {
    "duration": 16,
    "start_time": "2021-06-17T08:20:30.782Z"
   },
   {
    "duration": 101,
    "start_time": "2021-06-17T08:20:30.887Z"
   },
   {
    "duration": 101,
    "start_time": "2021-06-17T08:20:30.993Z"
   },
   {
    "duration": 8,
    "start_time": "2021-06-17T08:20:31.185Z"
   },
   {
    "duration": 7301,
    "start_time": "2021-06-17T08:20:54.284Z"
   },
   {
    "duration": 398,
    "start_time": "2021-06-17T08:21:05.884Z"
   },
   {
    "duration": 99,
    "start_time": "2021-06-17T08:21:06.885Z"
   },
   {
    "duration": 2711,
    "start_time": "2021-06-17T08:21:07.585Z"
   },
   {
    "duration": 9,
    "start_time": "2021-06-17T08:21:14.484Z"
   },
   {
    "duration": 301,
    "start_time": "2021-06-17T08:21:15.385Z"
   },
   {
    "duration": 91,
    "start_time": "2021-06-17T08:21:16.701Z"
   },
   {
    "duration": 79700,
    "start_time": "2021-06-17T08:21:18.784Z"
   },
   {
    "duration": 2015,
    "start_time": "2021-06-17T08:24:03.383Z"
   },
   {
    "duration": 1012,
    "start_time": "2021-06-17T08:24:39.385Z"
   },
   {
    "duration": 404,
    "start_time": "2021-06-17T08:25:04.784Z"
   },
   {
    "duration": 202,
    "start_time": "2021-06-17T08:25:06.385Z"
   },
   {
    "duration": 80000,
    "start_time": "2021-06-17T08:25:07.783Z"
   },
   {
    "duration": 1495,
    "start_time": "2021-06-17T08:26:51.689Z"
   },
   {
    "duration": 813,
    "start_time": "2021-06-17T08:27:41.083Z"
   },
   {
    "duration": 106,
    "start_time": "2021-06-17T08:27:53.783Z"
   },
   {
    "duration": 288,
    "start_time": "2021-06-17T08:27:55.695Z"
   },
   {
    "duration": 917,
    "start_time": "2021-06-17T08:27:57.083Z"
   },
   {
    "duration": 27104,
    "start_time": "2021-06-17T08:28:01.285Z"
   },
   {
    "duration": 897,
    "start_time": "2021-06-17T08:28:50.385Z"
   },
   {
    "duration": 6,
    "start_time": "2021-06-17T08:28:57.683Z"
   },
   {
    "duration": 78591,
    "start_time": "2021-06-17T08:28:59.084Z"
   },
   {
    "duration": 6,
    "start_time": "2021-06-17T08:30:59.535Z"
   },
   {
    "duration": 15,
    "start_time": "2021-06-17T08:31:04.569Z"
   },
   {
    "duration": 11,
    "start_time": "2021-06-17T08:31:05.375Z"
   },
   {
    "duration": 12,
    "start_time": "2021-06-17T08:31:05.771Z"
   },
   {
    "duration": 533403,
    "start_time": "2021-06-17T08:31:10.291Z"
   },
   {
    "duration": 1943,
    "start_time": "2021-06-17T08:49:02.441Z"
   },
   {
    "duration": 1603,
    "start_time": "2021-06-17T08:49:34.085Z"
   },
   {
    "duration": 1403,
    "start_time": "2021-06-17T08:50:31.085Z"
   },
   {
    "duration": 753,
    "start_time": "2021-06-17T08:55:51.930Z"
   },
   {
    "duration": 1024,
    "start_time": "2021-06-17T08:55:59.010Z"
   },
   {
    "duration": 582116,
    "start_time": "2021-06-17T09:27:48.589Z"
   },
   {
    "duration": 1391,
    "start_time": "2021-06-17T16:03:14.597Z"
   },
   {
    "duration": 5,
    "start_time": "2021-06-17T16:03:17.647Z"
   },
   {
    "duration": 7,
    "start_time": "2021-06-17T16:03:19.306Z"
   },
   {
    "duration": 6,
    "start_time": "2021-06-17T16:03:22.267Z"
   },
   {
    "duration": 6,
    "start_time": "2021-06-17T16:03:25.518Z"
   },
   {
    "duration": 752,
    "start_time": "2021-06-17T16:03:28.746Z"
   },
   {
    "duration": 31,
    "start_time": "2021-06-17T16:03:32.030Z"
   },
   {
    "duration": 4,
    "start_time": "2021-06-17T16:03:33.746Z"
   },
   {
    "duration": 323,
    "start_time": "2021-06-17T16:03:35.227Z"
   },
   {
    "duration": 49,
    "start_time": "2021-06-17T16:03:39.506Z"
   },
   {
    "duration": 4,
    "start_time": "2021-06-17T16:03:41.366Z"
   },
   {
    "duration": 55,
    "start_time": "2021-06-17T16:03:42.986Z"
   },
   {
    "duration": 45,
    "start_time": "2021-06-17T16:04:41.507Z"
   },
   {
    "duration": 9420,
    "start_time": "2021-06-17T16:04:42.546Z"
   },
   {
    "duration": 43381,
    "start_time": "2021-06-17T16:05:16.285Z"
   },
   {
    "duration": 8,
    "start_time": "2021-06-17T16:24:15.606Z"
   },
   {
    "duration": 2218,
    "start_time": "2021-06-17T16:24:33.983Z"
   },
   {
    "duration": 6,
    "start_time": "2021-06-17T16:25:02.486Z"
   },
   {
    "duration": 9431,
    "start_time": "2021-06-17T16:25:05.805Z"
   },
   {
    "duration": 7,
    "start_time": "2021-06-17T16:25:38.105Z"
   },
   {
    "duration": 8772,
    "start_time": "2021-06-17T16:25:41.324Z"
   },
   {
    "duration": 11015,
    "start_time": "2021-06-17T16:28:02.744Z"
   },
   {
    "duration": 10911,
    "start_time": "2021-06-17T16:28:22.125Z"
   },
   {
    "duration": 9,
    "start_time": "2021-06-17T16:29:01.044Z"
   },
   {
    "duration": 34,
    "start_time": "2021-06-17T16:29:02.452Z"
   },
   {
    "duration": 212,
    "start_time": "2021-06-17T16:29:03.932Z"
   },
   {
    "duration": 3941,
    "start_time": "2021-06-17T16:29:05.951Z"
   },
   {
    "duration": 1494,
    "start_time": "2021-06-17T16:29:09.895Z"
   },
   {
    "duration": 1197,
    "start_time": "2021-06-17T16:29:20.427Z"
   },
   {
    "duration": 5,
    "start_time": "2021-06-17T16:30:39.392Z"
   },
   {
    "duration": 38498,
    "start_time": "2021-06-17T16:32:21.313Z"
   },
   {
    "duration": 59803,
    "start_time": "2021-06-17T16:33:20.101Z"
   },
   {
    "duration": 96,
    "start_time": "2021-06-17T16:35:47.468Z"
   },
   {
    "duration": 92310,
    "start_time": "2021-06-17T16:35:59.703Z"
   },
   {
    "duration": 18,
    "start_time": "2021-06-17T16:38:47.643Z"
   },
   {
    "duration": 5,
    "start_time": "2021-06-17T16:38:58.664Z"
   },
   {
    "duration": 15848356,
    "start_time": "2021-06-17T16:41:10.329Z"
   },
   {
    "duration": 5,
    "start_time": "2021-06-17T21:28:19.292Z"
   },
   {
    "duration": 54275,
    "start_time": "2021-06-17T21:32:10.033Z"
   },
   {
    "duration": 71722,
    "start_time": "2021-06-17T21:33:40.880Z"
   },
   {
    "duration": 14,
    "start_time": "2021-06-17T21:36:53.312Z"
   },
   {
    "duration": 6692,
    "start_time": "2021-06-17T21:37:01.114Z"
   },
   {
    "duration": 5,
    "start_time": "2021-06-17T21:37:11.333Z"
   },
   {
    "duration": 6,
    "start_time": "2021-06-17T21:43:22.511Z"
   },
   {
    "duration": 762,
    "start_time": "2021-06-17T21:43:26.278Z"
   },
   {
    "duration": 31,
    "start_time": "2021-06-17T21:43:29.298Z"
   },
   {
    "duration": 5,
    "start_time": "2021-06-17T21:43:36.893Z"
   },
   {
    "duration": 17,
    "start_time": "2021-06-17T21:44:27.878Z"
   },
   {
    "duration": 11,
    "start_time": "2021-06-17T21:44:37.437Z"
   },
   {
    "duration": 11,
    "start_time": "2021-06-17T21:45:23.503Z"
   },
   {
    "duration": 4,
    "start_time": "2021-06-17T21:46:40.078Z"
   },
   {
    "duration": 118,
    "start_time": "2021-06-17T21:47:27.458Z"
   },
   {
    "duration": 375,
    "start_time": "2021-06-17T21:49:58.258Z"
   },
   {
    "duration": 5,
    "start_time": "2021-06-17T21:50:03.099Z"
   },
   {
    "duration": 1014,
    "start_time": "2021-06-17T21:50:04.346Z"
   },
   {
    "duration": 533,
    "start_time": "2021-06-17T21:50:37.418Z"
   },
   {
    "duration": 5,
    "start_time": "2021-06-17T21:50:42.440Z"
   },
   {
    "duration": 6,
    "start_time": "2021-06-17T21:51:01.664Z"
   },
   {
    "duration": 94,
    "start_time": "2021-06-17T21:51:31.919Z"
   },
   {
    "duration": 4,
    "start_time": "2021-06-17T21:51:38.358Z"
   },
   {
    "duration": 891,
    "start_time": "2021-06-17T21:51:39.898Z"
   },
   {
    "duration": 18,
    "start_time": "2021-06-17T21:52:14.799Z"
   },
   {
    "duration": 11,
    "start_time": "2021-06-17T21:52:26.060Z"
   },
   {
    "duration": 10,
    "start_time": "2021-06-17T21:52:37.058Z"
   },
   {
    "duration": 20,
    "start_time": "2021-06-17T21:52:53.123Z"
   },
   {
    "duration": 662,
    "start_time": "2021-06-17T21:53:17.886Z"
   },
   {
    "duration": 612,
    "start_time": "2021-06-17T21:53:54.898Z"
   },
   {
    "duration": 393,
    "start_time": "2021-06-17T21:54:20.637Z"
   },
   {
    "duration": 308,
    "start_time": "2021-06-17T21:55:55.539Z"
   },
   {
    "duration": 233,
    "start_time": "2021-06-17T21:56:26.738Z"
   },
   {
    "duration": 318,
    "start_time": "2021-06-17T21:56:38.255Z"
   },
   {
    "duration": 21,
    "start_time": "2021-06-17T21:57:36.118Z"
   },
   {
    "duration": 222,
    "start_time": "2021-06-17T21:58:13.369Z"
   },
   {
    "duration": 210,
    "start_time": "2021-06-17T21:58:27.139Z"
   },
   {
    "duration": 228,
    "start_time": "2021-06-17T21:58:38.998Z"
   },
   {
    "duration": 899,
    "start_time": "2021-06-17T22:00:44.575Z"
   },
   {
    "duration": 322,
    "start_time": "2021-06-17T22:04:08.510Z"
   },
   {
    "duration": 336,
    "start_time": "2021-06-17T22:04:18.601Z"
   },
   {
    "duration": 271,
    "start_time": "2021-06-17T22:04:45.329Z"
   },
   {
    "duration": 22,
    "start_time": "2021-06-17T22:09:47.402Z"
   },
   {
    "duration": 11,
    "start_time": "2021-06-17T22:10:36.841Z"
   },
   {
    "duration": 14,
    "start_time": "2021-06-17T22:10:44.584Z"
   },
   {
    "duration": 12,
    "start_time": "2021-06-17T22:11:06.383Z"
   },
   {
    "duration": 12,
    "start_time": "2021-06-17T22:11:16.604Z"
   },
   {
    "duration": 14,
    "start_time": "2021-06-17T22:11:37.683Z"
   },
   {
    "duration": 4,
    "start_time": "2021-06-17T22:12:55.283Z"
   },
   {
    "duration": 16,
    "start_time": "2021-06-17T22:14:03.572Z"
   },
   {
    "duration": 13,
    "start_time": "2021-06-17T22:14:15.523Z"
   },
   {
    "duration": 3,
    "start_time": "2021-06-17T22:16:19.004Z"
   },
   {
    "duration": 16,
    "start_time": "2021-06-17T22:16:51.404Z"
   },
   {
    "duration": 13,
    "start_time": "2021-06-17T22:17:07.620Z"
   },
   {
    "duration": 8,
    "start_time": "2021-06-17T22:17:55.152Z"
   },
   {
    "duration": 194,
    "start_time": "2021-06-17T22:18:28.463Z"
   },
   {
    "duration": 3,
    "start_time": "2021-06-17T22:18:43.084Z"
   },
   {
    "duration": 20,
    "start_time": "2021-06-17T22:18:45.093Z"
   },
   {
    "duration": 741,
    "start_time": "2021-06-17T22:19:05.402Z"
   },
   {
    "duration": 3,
    "start_time": "2021-06-17T22:19:09.965Z"
   },
   {
    "duration": 861,
    "start_time": "2021-06-17T22:19:20.905Z"
   },
   {
    "duration": 21,
    "start_time": "2021-06-17T22:19:28.443Z"
   },
   {
    "duration": 50,
    "start_time": "2021-06-17T22:19:31.504Z"
   },
   {
    "duration": 47,
    "start_time": "2021-06-17T22:19:35.201Z"
   },
   {
    "duration": 10071,
    "start_time": "2021-06-17T22:19:37.605Z"
   },
   {
    "duration": 9185,
    "start_time": "2021-06-17T22:19:51.734Z"
   },
   {
    "duration": 318,
    "start_time": "2021-06-17T22:22:11.392Z"
   },
   {
    "duration": 274,
    "start_time": "2021-06-17T22:23:15.864Z"
   },
   {
    "duration": 209,
    "start_time": "2021-06-17T22:25:06.553Z"
   },
   {
    "duration": 288,
    "start_time": "2021-06-17T22:25:17.376Z"
   },
   {
    "duration": 438,
    "start_time": "2021-06-17T22:25:24.532Z"
   },
   {
    "duration": 39,
    "start_time": "2021-06-17T22:26:42.932Z"
   },
   {
    "duration": 10173,
    "start_time": "2021-06-17T22:26:44.692Z"
   },
   {
    "duration": 7,
    "start_time": "2021-06-17T22:28:34.900Z"
   },
   {
    "duration": 5,
    "start_time": "2021-06-17T22:30:04.832Z"
   },
   {
    "duration": 899,
    "start_time": "2021-06-17T22:30:16.629Z"
   },
   {
    "duration": 361,
    "start_time": "2021-06-17T22:32:22.576Z"
   },
   {
    "duration": 669,
    "start_time": "2021-06-17T22:34:24.967Z"
   },
   {
    "duration": 680,
    "start_time": "2021-06-17T22:35:05.457Z"
   },
   {
    "duration": 373,
    "start_time": "2021-06-17T22:35:22.128Z"
   },
   {
    "duration": 771,
    "start_time": "2021-06-17T22:36:13.408Z"
   },
   {
    "duration": 402,
    "start_time": "2021-06-17T22:36:43.122Z"
   },
   {
    "duration": 438,
    "start_time": "2021-06-17T22:37:29.923Z"
   },
   {
    "duration": 588,
    "start_time": "2021-06-17T22:38:10.004Z"
   },
   {
    "duration": 465,
    "start_time": "2021-06-17T22:38:21.300Z"
   },
   {
    "duration": 399,
    "start_time": "2021-06-17T22:39:08.844Z"
   },
   {
    "duration": 46,
    "start_time": "2021-06-17T22:39:17.044Z"
   },
   {
    "duration": 476,
    "start_time": "2021-06-17T22:39:18.904Z"
   },
   {
    "duration": 50,
    "start_time": "2021-06-17T22:39:43.324Z"
   },
   {
    "duration": 466,
    "start_time": "2021-06-17T22:39:44.824Z"
   },
   {
    "duration": 435,
    "start_time": "2021-06-17T22:39:52.764Z"
   },
   {
    "duration": 453,
    "start_time": "2021-06-17T22:39:59.184Z"
   },
   {
    "duration": 701,
    "start_time": "2021-06-17T22:42:37.173Z"
   },
   {
    "duration": 589,
    "start_time": "2021-06-17T22:43:04.784Z"
   },
   {
    "duration": 725,
    "start_time": "2021-06-17T22:43:13.365Z"
   },
   {
    "duration": 457,
    "start_time": "2021-06-17T22:43:41.132Z"
   },
   {
    "duration": 723,
    "start_time": "2021-06-17T22:45:04.547Z"
   },
   {
    "duration": 707,
    "start_time": "2021-06-17T22:45:34.246Z"
   },
   {
    "duration": 459,
    "start_time": "2021-06-17T22:46:14.605Z"
   },
   {
    "duration": 471,
    "start_time": "2021-06-17T22:46:23.106Z"
   },
   {
    "duration": 753,
    "start_time": "2021-06-17T22:47:02.330Z"
   },
   {
    "duration": 872,
    "start_time": "2021-06-17T22:47:14.145Z"
   },
   {
    "duration": 743,
    "start_time": "2021-06-17T22:47:54.544Z"
   },
   {
    "duration": 760,
    "start_time": "2021-06-17T22:48:20.675Z"
   },
   {
    "duration": 751,
    "start_time": "2021-06-17T22:48:38.486Z"
   },
   {
    "duration": 759,
    "start_time": "2021-06-17T22:48:59.526Z"
   },
   {
    "duration": 462,
    "start_time": "2021-06-17T22:49:55.605Z"
   },
   {
    "duration": 568,
    "start_time": "2021-06-17T22:50:14.031Z"
   },
   {
    "duration": 468,
    "start_time": "2021-06-17T22:50:39.407Z"
   },
   {
    "duration": 472,
    "start_time": "2021-06-17T22:50:58.267Z"
   },
   {
    "duration": 40,
    "start_time": "2021-06-17T22:51:20.166Z"
   },
   {
    "duration": 422,
    "start_time": "2021-06-17T22:51:45.447Z"
   },
   {
    "duration": 49,
    "start_time": "2021-06-17T22:52:06.621Z"
   },
   {
    "duration": 456,
    "start_time": "2021-06-17T22:52:08.347Z"
   },
   {
    "duration": 44,
    "start_time": "2021-06-17T22:52:37.606Z"
   },
   {
    "duration": 443,
    "start_time": "2021-06-17T22:52:38.485Z"
   },
   {
    "duration": 18,
    "start_time": "2021-06-17T22:53:27.426Z"
   },
   {
    "duration": 4,
    "start_time": "2021-06-17T22:53:29.726Z"
   },
   {
    "duration": 50,
    "start_time": "2021-06-17T22:53:30.927Z"
   },
   {
    "duration": 43,
    "start_time": "2021-06-17T22:53:33.436Z"
   },
   {
    "duration": 6,
    "start_time": "2021-06-17T22:53:53.766Z"
   },
   {
    "duration": 5,
    "start_time": "2021-06-17T22:54:10.386Z"
   },
   {
    "duration": 5,
    "start_time": "2021-06-17T22:56:51.127Z"
   },
   {
    "duration": 6,
    "start_time": "2021-06-17T22:56:59.766Z"
   },
   {
    "duration": 291,
    "start_time": "2021-06-17T22:58:52.926Z"
   },
   {
    "duration": 1423,
    "start_time": "2021-06-17T22:59:21.634Z"
   },
   {
    "duration": 5,
    "start_time": "2021-06-17T22:59:23.060Z"
   },
   {
    "duration": 18,
    "start_time": "2021-06-17T22:59:23.069Z"
   },
   {
    "duration": 7,
    "start_time": "2021-06-17T22:59:23.090Z"
   },
   {
    "duration": 11,
    "start_time": "2021-06-17T22:59:23.100Z"
   },
   {
    "duration": 759,
    "start_time": "2021-06-17T22:59:23.113Z"
   },
   {
    "duration": 38,
    "start_time": "2021-06-17T22:59:23.874Z"
   },
   {
    "duration": 4,
    "start_time": "2021-06-17T22:59:23.916Z"
   },
   {
    "duration": 210,
    "start_time": "2021-06-17T22:59:23.923Z"
   },
   {
    "duration": 4,
    "start_time": "2021-06-17T22:59:24.135Z"
   },
   {
    "duration": 951,
    "start_time": "2021-06-17T22:59:24.142Z"
   },
   {
    "duration": 67,
    "start_time": "2021-06-17T22:59:25.096Z"
   },
   {
    "duration": 466,
    "start_time": "2021-06-17T22:59:25.165Z"
   },
   {
    "duration": 23,
    "start_time": "2021-06-17T22:59:25.633Z"
   },
   {
    "duration": 4,
    "start_time": "2021-06-17T22:59:25.658Z"
   },
   {
    "duration": 56,
    "start_time": "2021-06-17T22:59:25.683Z"
   },
   {
    "duration": 53,
    "start_time": "2021-06-17T22:59:25.742Z"
   },
   {
    "duration": 9163,
    "start_time": "2021-06-17T22:59:25.797Z"
   },
   {
    "duration": 8702,
    "start_time": "2021-06-17T22:59:34.962Z"
   },
   {
    "duration": 3,
    "start_time": "2021-06-17T22:59:43.667Z"
   },
   {
    "duration": 11052,
    "start_time": "2021-06-17T22:59:43.684Z"
   },
   {
    "duration": 8,
    "start_time": "2021-06-17T22:59:54.738Z"
   },
   {
    "duration": 60,
    "start_time": "2021-06-17T22:59:54.751Z"
   },
   {
    "duration": 310,
    "start_time": "2021-06-17T22:59:54.814Z"
   },
   {
    "duration": 3811,
    "start_time": "2021-06-17T22:59:55.126Z"
   },
   {
    "duration": 1478,
    "start_time": "2021-06-17T22:59:58.940Z"
   },
   {
    "duration": 3,
    "start_time": "2021-06-17T23:00:00.421Z"
   },
   {
    "duration": 11,
    "start_time": "2021-06-17T23:00:00.427Z"
   },
   {
    "duration": 10728,
    "start_time": "2021-06-17T23:00:00.441Z"
   },
   {
    "duration": 406,
    "start_time": "2021-06-17T23:00:11.171Z"
   },
   {
    "duration": -8402,
    "start_time": "2021-06-17T23:00:19.982Z"
   },
   {
    "duration": -8402,
    "start_time": "2021-06-17T23:00:19.985Z"
   },
   {
    "duration": -8403,
    "start_time": "2021-06-17T23:00:19.988Z"
   },
   {
    "duration": -8404,
    "start_time": "2021-06-17T23:00:19.990Z"
   },
   {
    "duration": -8417,
    "start_time": "2021-06-17T23:00:20.004Z"
   },
   {
    "duration": -8421,
    "start_time": "2021-06-17T23:00:20.010Z"
   },
   {
    "duration": -8423,
    "start_time": "2021-06-17T23:00:20.013Z"
   },
   {
    "duration": -8425,
    "start_time": "2021-06-17T23:00:20.017Z"
   },
   {
    "duration": -8427,
    "start_time": "2021-06-17T23:00:20.020Z"
   },
   {
    "duration": -8428,
    "start_time": "2021-06-17T23:00:20.022Z"
   },
   {
    "duration": 4,
    "start_time": "2021-06-17T23:00:40.796Z"
   },
   {
    "duration": 3,
    "start_time": "2021-06-17T23:00:48.068Z"
   },
   {
    "duration": 6,
    "start_time": "2021-06-17T23:01:01.068Z"
   },
   {
    "duration": 3,
    "start_time": "2021-06-17T23:01:06.768Z"
   },
   {
    "duration": 4,
    "start_time": "2021-06-17T23:01:07.767Z"
   },
   {
    "duration": 42494,
    "start_time": "2021-06-17T23:01:16.814Z"
   },
   {
    "duration": 14,
    "start_time": "2021-06-17T23:02:08.728Z"
   },
   {
    "duration": 13,
    "start_time": "2021-06-17T23:02:36.569Z"
   },
   {
    "duration": 11,
    "start_time": "2021-06-17T23:03:00.878Z"
   },
   {
    "duration": 11909,
    "start_time": "2021-06-17T23:03:04.149Z"
   },
   {
    "duration": 306,
    "start_time": "2021-06-17T23:03:19.750Z"
   },
   {
    "duration": 9723,
    "start_time": "2021-06-17T23:03:32.451Z"
   },
   {
    "duration": 13,
    "start_time": "2021-06-17T23:03:47.951Z"
   },
   {
    "duration": 14,
    "start_time": "2021-06-17T23:04:04.850Z"
   },
   {
    "duration": 714,
    "start_time": "2021-06-17T23:04:27.051Z"
   },
   {
    "duration": 31,
    "start_time": "2021-06-17T23:04:29.679Z"
   },
   {
    "duration": 4,
    "start_time": "2021-06-17T23:04:31.439Z"
   },
   {
    "duration": 182,
    "start_time": "2021-06-17T23:04:33.131Z"
   },
   {
    "duration": 5,
    "start_time": "2021-06-17T23:04:36.790Z"
   },
   {
    "duration": 848,
    "start_time": "2021-06-17T23:04:38.288Z"
   },
   {
    "duration": 50,
    "start_time": "2021-06-17T23:04:41.710Z"
   },
   {
    "duration": 446,
    "start_time": "2021-06-17T23:04:43.992Z"
   },
   {
    "duration": 3,
    "start_time": "2021-06-17T23:05:48.440Z"
   },
   {
    "duration": 50,
    "start_time": "2021-06-17T23:05:49.671Z"
   },
   {
    "duration": 48,
    "start_time": "2021-06-17T23:05:53.468Z"
   },
   {
    "duration": 291,
    "start_time": "2021-06-17T23:06:00.072Z"
   },
   {
    "duration": 185,
    "start_time": "2021-06-17T23:07:12.232Z"
   },
   {
    "duration": 10814,
    "start_time": "2021-06-17T23:07:23.352Z"
   },
   {
    "duration": 8412,
    "start_time": "2021-06-17T23:07:42.572Z"
   },
   {
    "duration": 6,
    "start_time": "2021-06-17T23:08:11.292Z"
   },
   {
    "duration": 287,
    "start_time": "2021-06-17T23:09:23.454Z"
   },
   {
    "duration": 275,
    "start_time": "2021-06-17T23:11:14.394Z"
   },
   {
    "duration": 265,
    "start_time": "2021-06-17T23:11:58.173Z"
   },
   {
    "duration": 329,
    "start_time": "2021-06-17T23:12:09.722Z"
   },
   {
    "duration": 5,
    "start_time": "2021-06-17T23:12:51.714Z"
   },
   {
    "duration": 6,
    "start_time": "2021-06-17T23:13:02.933Z"
   },
   {
    "duration": 11721,
    "start_time": "2021-06-17T23:14:42.774Z"
   },
   {
    "duration": 409,
    "start_time": "2021-06-17T23:15:42.814Z"
   },
   {
    "duration": 12270,
    "start_time": "2021-06-17T23:16:42.794Z"
   },
   {
    "duration": 6,
    "start_time": "2021-06-17T23:17:14.265Z"
   },
   {
    "duration": 5,
    "start_time": "2021-06-17T23:17:27.561Z"
   },
   {
    "duration": 6,
    "start_time": "2021-06-17T23:17:47.243Z"
   },
   {
    "duration": 280,
    "start_time": "2021-06-17T23:19:29.534Z"
   },
   {
    "duration": 351,
    "start_time": "2021-06-17T23:19:41.974Z"
   },
   {
    "duration": 4,
    "start_time": "2021-06-17T23:19:49.534Z"
   },
   {
    "duration": 391,
    "start_time": "2021-06-17T23:19:53.615Z"
   },
   {
    "duration": 370,
    "start_time": "2021-06-17T23:20:21.864Z"
   },
   {
    "duration": 399,
    "start_time": "2021-06-17T23:20:47.615Z"
   },
   {
    "duration": 7,
    "start_time": "2021-06-17T23:21:08.658Z"
   },
   {
    "duration": 7,
    "start_time": "2021-06-17T23:21:13.690Z"
   },
   {
    "duration": 6,
    "start_time": "2021-06-17T23:22:08.549Z"
   },
   {
    "duration": 5,
    "start_time": "2021-06-17T23:22:17.450Z"
   },
   {
    "duration": 7,
    "start_time": "2021-06-17T23:22:27.632Z"
   },
   {
    "duration": 4,
    "start_time": "2021-06-17T23:22:37.150Z"
   },
   {
    "duration": 7,
    "start_time": "2021-06-17T23:22:41.931Z"
   },
   {
    "duration": 386,
    "start_time": "2021-06-17T23:22:47.530Z"
   },
   {
    "duration": 432,
    "start_time": "2021-06-17T23:23:50.950Z"
   },
   {
    "duration": 393,
    "start_time": "2021-06-17T23:24:03.030Z"
   },
   {
    "duration": 275,
    "start_time": "2021-06-17T23:25:03.029Z"
   },
   {
    "duration": 3,
    "start_time": "2021-06-17T23:25:15.060Z"
   },
   {
    "duration": 472,
    "start_time": "2021-06-17T23:25:18.450Z"
   },
   {
    "duration": 6,
    "start_time": "2021-06-17T23:25:30.930Z"
   },
   {
    "duration": 6,
    "start_time": "2021-06-17T23:28:00.590Z"
   },
   {
    "duration": 6,
    "start_time": "2021-06-17T23:28:17.370Z"
   },
   {
    "duration": 291,
    "start_time": "2021-06-17T23:28:40.674Z"
   },
   {
    "duration": 6,
    "start_time": "2021-06-17T23:28:45.651Z"
   },
   {
    "duration": 101,
    "start_time": "2021-06-17T23:29:21.551Z"
   },
   {
    "duration": 7,
    "start_time": "2021-06-17T23:29:27.610Z"
   },
   {
    "duration": 6,
    "start_time": "2021-06-17T23:29:42.331Z"
   },
   {
    "duration": 4,
    "start_time": "2021-06-17T23:29:49.151Z"
   },
   {
    "duration": 141,
    "start_time": "2021-06-17T23:29:51.731Z"
   },
   {
    "duration": 6,
    "start_time": "2021-06-17T23:30:18.330Z"
   },
   {
    "duration": 5,
    "start_time": "2021-06-17T23:30:29.390Z"
   },
   {
    "duration": 4,
    "start_time": "2021-06-17T23:30:41.671Z"
   },
   {
    "duration": 142,
    "start_time": "2021-06-17T23:30:44.210Z"
   },
   {
    "duration": 5,
    "start_time": "2021-06-17T23:31:45.610Z"
   },
   {
    "duration": 226,
    "start_time": "2021-06-17T23:32:10.430Z"
   },
   {
    "duration": 6,
    "start_time": "2021-06-17T23:32:23.610Z"
   },
   {
    "duration": 15,
    "start_time": "2021-06-17T23:34:04.910Z"
   },
   {
    "duration": 12532,
    "start_time": "2021-06-17T23:34:36.610Z"
   },
   {
    "duration": 6,
    "start_time": "2021-06-17T23:34:53.471Z"
   },
   {
    "duration": 5,
    "start_time": "2021-06-17T23:37:26.006Z"
   },
   {
    "duration": 299,
    "start_time": "2021-06-17T23:37:38.610Z"
   },
   {
    "duration": 582,
    "start_time": "2021-06-17T23:39:43.059Z"
   },
   {
    "duration": 5,
    "start_time": "2021-06-17T23:40:09.630Z"
   },
   {
    "duration": 494,
    "start_time": "2021-06-17T23:40:15.410Z"
   },
   {
    "duration": 598,
    "start_time": "2021-06-17T23:40:26.449Z"
   },
   {
    "duration": 5,
    "start_time": "2021-06-17T23:40:46.471Z"
   },
   {
    "duration": 423,
    "start_time": "2021-06-17T23:40:47.691Z"
   },
   {
    "duration": 748,
    "start_time": "2021-06-17T23:41:20.529Z"
   },
   {
    "duration": 5,
    "start_time": "2021-06-17T23:43:35.251Z"
   },
   {
    "duration": 5,
    "start_time": "2021-06-17T23:44:26.818Z"
   },
   {
    "duration": 272,
    "start_time": "2021-06-17T23:44:31.650Z"
   },
   {
    "duration": 448,
    "start_time": "2021-06-17T23:44:45.210Z"
   },
   {
    "duration": 5,
    "start_time": "2021-06-17T23:44:57.609Z"
   },
   {
    "duration": 8,
    "start_time": "2021-06-17T23:45:21.891Z"
   },
   {
    "duration": 8124,
    "start_time": "2021-06-17T23:45:42.789Z"
   },
   {
    "duration": 4,
    "start_time": "2021-06-17T23:46:33.549Z"
   },
   {
    "duration": 18,
    "start_time": "2021-06-17T23:46:34.690Z"
   },
   {
    "duration": 11053,
    "start_time": "2021-06-17T23:46:37.930Z"
   },
   {
    "duration": 6,
    "start_time": "2021-06-17T23:46:52.249Z"
   },
   {
    "duration": 5,
    "start_time": "2021-06-17T23:46:57.529Z"
   },
   {
    "duration": 152,
    "start_time": "2021-06-17T23:47:00.091Z"
   },
   {
    "duration": 274,
    "start_time": "2021-06-17T23:47:02.010Z"
   },
   {
    "duration": 7752,
    "start_time": "2021-06-17T23:47:14.090Z"
   },
   {
    "duration": 265,
    "start_time": "2021-06-17T23:47:28.651Z"
   },
   {
    "duration": 17773,
    "start_time": "2021-06-17T23:50:19.851Z"
   },
   {
    "duration": 16,
    "start_time": "2021-06-17T23:51:23.772Z"
   },
   {
    "duration": 19,
    "start_time": "2021-06-17T23:51:36.230Z"
   },
   {
    "duration": 282,
    "start_time": "2021-06-17T23:52:14.989Z"
   },
   {
    "duration": 18,
    "start_time": "2021-06-17T23:52:43.173Z"
   },
   {
    "duration": 5,
    "start_time": "2021-06-17T23:53:03.977Z"
   },
   {
    "duration": 5,
    "start_time": "2021-06-17T23:53:20.409Z"
   },
   {
    "duration": 6,
    "start_time": "2021-06-17T23:53:38.428Z"
   },
   {
    "duration": 6,
    "start_time": "2021-06-17T23:53:47.588Z"
   },
   {
    "duration": 6,
    "start_time": "2021-06-17T23:54:02.028Z"
   },
   {
    "duration": 301,
    "start_time": "2021-06-17T23:54:21.857Z"
   },
   {
    "duration": 281,
    "start_time": "2021-06-17T23:56:18.471Z"
   },
   {
    "duration": 21,
    "start_time": "2021-06-17T23:57:35.710Z"
   },
   {
    "duration": 11854,
    "start_time": "2021-06-17T23:58:16.529Z"
   },
   {
    "duration": 5,
    "start_time": "2021-06-17T23:58:33.930Z"
   },
   {
    "duration": 261,
    "start_time": "2021-06-17T23:58:36.529Z"
   },
   {
    "duration": 424,
    "start_time": "2021-06-17T23:58:39.749Z"
   },
   {
    "duration": 18785,
    "start_time": "2021-06-17T23:58:49.391Z"
   },
   {
    "duration": 1619,
    "start_time": "2021-06-18T00:01:26.934Z"
   },
   {
    "duration": 5,
    "start_time": "2021-06-18T00:01:28.555Z"
   },
   {
    "duration": 7,
    "start_time": "2021-06-18T00:01:28.563Z"
   },
   {
    "duration": 6,
    "start_time": "2021-06-18T00:01:28.583Z"
   },
   {
    "duration": 8,
    "start_time": "2021-06-18T00:01:28.592Z"
   },
   {
    "duration": 11,
    "start_time": "2021-06-18T00:01:28.602Z"
   },
   {
    "duration": 779,
    "start_time": "2021-06-18T00:01:28.615Z"
   },
   {
    "duration": 32,
    "start_time": "2021-06-18T00:01:29.398Z"
   },
   {
    "duration": 616,
    "start_time": "2021-06-18T00:01:29.434Z"
   },
   {
    "duration": -8167,
    "start_time": "2021-06-18T00:01:38.220Z"
   },
   {
    "duration": -8172,
    "start_time": "2021-06-18T00:01:38.227Z"
   },
   {
    "duration": -8178,
    "start_time": "2021-06-18T00:01:38.234Z"
   },
   {
    "duration": -8192,
    "start_time": "2021-06-18T00:01:38.250Z"
   },
   {
    "duration": -8203,
    "start_time": "2021-06-18T00:01:38.262Z"
   },
   {
    "duration": -8204,
    "start_time": "2021-06-18T00:01:38.265Z"
   },
   {
    "duration": -8206,
    "start_time": "2021-06-18T00:01:38.268Z"
   },
   {
    "duration": -8208,
    "start_time": "2021-06-18T00:01:38.272Z"
   },
   {
    "duration": -8210,
    "start_time": "2021-06-18T00:01:38.275Z"
   },
   {
    "duration": -8210,
    "start_time": "2021-06-18T00:01:38.277Z"
   },
   {
    "duration": -8212,
    "start_time": "2021-06-18T00:01:38.280Z"
   },
   {
    "duration": -8212,
    "start_time": "2021-06-18T00:01:38.282Z"
   },
   {
    "duration": -8214,
    "start_time": "2021-06-18T00:01:38.285Z"
   },
   {
    "duration": -8215,
    "start_time": "2021-06-18T00:01:38.288Z"
   },
   {
    "duration": -8216,
    "start_time": "2021-06-18T00:01:38.291Z"
   },
   {
    "duration": -8218,
    "start_time": "2021-06-18T00:01:38.294Z"
   },
   {
    "duration": -8220,
    "start_time": "2021-06-18T00:01:38.297Z"
   },
   {
    "duration": -8227,
    "start_time": "2021-06-18T00:01:38.306Z"
   },
   {
    "duration": -8230,
    "start_time": "2021-06-18T00:01:38.311Z"
   },
   {
    "duration": -8231,
    "start_time": "2021-06-18T00:01:38.313Z"
   },
   {
    "duration": -8232,
    "start_time": "2021-06-18T00:01:38.316Z"
   },
   {
    "duration": -8233,
    "start_time": "2021-06-18T00:01:38.318Z"
   },
   {
    "duration": -8235,
    "start_time": "2021-06-18T00:01:38.322Z"
   },
   {
    "duration": -8236,
    "start_time": "2021-06-18T00:01:38.325Z"
   },
   {
    "duration": -8237,
    "start_time": "2021-06-18T00:01:38.327Z"
   },
   {
    "duration": -8238,
    "start_time": "2021-06-18T00:01:38.330Z"
   },
   {
    "duration": -8238,
    "start_time": "2021-06-18T00:01:38.332Z"
   },
   {
    "duration": -8239,
    "start_time": "2021-06-18T00:01:38.334Z"
   },
   {
    "duration": -8241,
    "start_time": "2021-06-18T00:01:38.337Z"
   },
   {
    "duration": -8243,
    "start_time": "2021-06-18T00:01:38.340Z"
   },
   {
    "duration": -8244,
    "start_time": "2021-06-18T00:01:38.342Z"
   },
   {
    "duration": -8246,
    "start_time": "2021-06-18T00:01:38.345Z"
   },
   {
    "duration": -8248,
    "start_time": "2021-06-18T00:01:38.348Z"
   },
   {
    "duration": 5,
    "start_time": "2021-06-18T00:02:34.539Z"
   },
   {
    "duration": 1671,
    "start_time": "2021-06-18T00:02:42.001Z"
   },
   {
    "duration": 9,
    "start_time": "2021-06-18T00:02:43.674Z"
   },
   {
    "duration": 5,
    "start_time": "2021-06-18T00:02:43.685Z"
   },
   {
    "duration": 12,
    "start_time": "2021-06-18T00:02:43.692Z"
   },
   {
    "duration": 6,
    "start_time": "2021-06-18T00:02:43.706Z"
   },
   {
    "duration": 10,
    "start_time": "2021-06-18T00:02:43.715Z"
   },
   {
    "duration": 874,
    "start_time": "2021-06-18T00:02:43.727Z"
   },
   {
    "duration": 31,
    "start_time": "2021-06-18T00:02:44.605Z"
   },
   {
    "duration": 282,
    "start_time": "2021-06-18T00:02:44.639Z"
   },
   {
    "duration": 4,
    "start_time": "2021-06-18T00:02:44.923Z"
   },
   {
    "duration": 860,
    "start_time": "2021-06-18T00:02:44.930Z"
   },
   {
    "duration": 62,
    "start_time": "2021-06-18T00:02:45.792Z"
   },
   {
    "duration": 456,
    "start_time": "2021-06-18T00:02:45.856Z"
   },
   {
    "duration": 3,
    "start_time": "2021-06-18T00:02:46.314Z"
   },
   {
    "duration": 37,
    "start_time": "2021-06-18T00:02:46.319Z"
   },
   {
    "duration": 11573,
    "start_time": "2021-06-18T00:02:46.359Z"
   },
   {
    "duration": 416,
    "start_time": "2021-06-18T00:02:57.934Z"
   },
   {
    "duration": -8135,
    "start_time": "2021-06-18T00:03:06.488Z"
   },
   {
    "duration": -8170,
    "start_time": "2021-06-18T00:03:06.524Z"
   },
   {
    "duration": -8172,
    "start_time": "2021-06-18T00:03:06.527Z"
   },
   {
    "duration": -8172,
    "start_time": "2021-06-18T00:03:06.529Z"
   },
   {
    "duration": -8174,
    "start_time": "2021-06-18T00:03:06.532Z"
   },
   {
    "duration": -8176,
    "start_time": "2021-06-18T00:03:06.536Z"
   },
   {
    "duration": -8178,
    "start_time": "2021-06-18T00:03:06.539Z"
   },
   {
    "duration": -8179,
    "start_time": "2021-06-18T00:03:06.541Z"
   },
   {
    "duration": -8180,
    "start_time": "2021-06-18T00:03:06.544Z"
   },
   {
    "duration": -8181,
    "start_time": "2021-06-18T00:03:06.546Z"
   },
   {
    "duration": -8183,
    "start_time": "2021-06-18T00:03:06.549Z"
   },
   {
    "duration": -8184,
    "start_time": "2021-06-18T00:03:06.552Z"
   },
   {
    "duration": -8185,
    "start_time": "2021-06-18T00:03:06.554Z"
   },
   {
    "duration": -8186,
    "start_time": "2021-06-18T00:03:06.557Z"
   },
   {
    "duration": -8188,
    "start_time": "2021-06-18T00:03:06.560Z"
   },
   {
    "duration": -8189,
    "start_time": "2021-06-18T00:03:06.562Z"
   },
   {
    "duration": -8196,
    "start_time": "2021-06-18T00:03:06.571Z"
   },
   {
    "duration": -8199,
    "start_time": "2021-06-18T00:03:06.575Z"
   },
   {
    "duration": -8200,
    "start_time": "2021-06-18T00:03:06.577Z"
   },
   {
    "duration": -8202,
    "start_time": "2021-06-18T00:03:06.580Z"
   },
   {
    "duration": -8203,
    "start_time": "2021-06-18T00:03:06.583Z"
   },
   {
    "duration": -8206,
    "start_time": "2021-06-18T00:03:06.587Z"
   },
   {
    "duration": -8213,
    "start_time": "2021-06-18T00:03:06.595Z"
   },
   {
    "duration": -8218,
    "start_time": "2021-06-18T00:03:06.602Z"
   },
   {
    "duration": -8220,
    "start_time": "2021-06-18T00:03:06.605Z"
   },
   {
    "duration": 1632,
    "start_time": "2021-06-18T00:03:48.320Z"
   },
   {
    "duration": 6,
    "start_time": "2021-06-18T00:03:49.954Z"
   },
   {
    "duration": 20,
    "start_time": "2021-06-18T00:03:49.963Z"
   },
   {
    "duration": 7,
    "start_time": "2021-06-18T00:03:49.986Z"
   },
   {
    "duration": 9,
    "start_time": "2021-06-18T00:03:49.996Z"
   },
   {
    "duration": 11,
    "start_time": "2021-06-18T00:03:50.008Z"
   },
   {
    "duration": 844,
    "start_time": "2021-06-18T00:03:50.022Z"
   },
   {
    "duration": 36,
    "start_time": "2021-06-18T00:03:50.869Z"
   },
   {
    "duration": 281,
    "start_time": "2021-06-18T00:03:50.909Z"
   },
   {
    "duration": 4,
    "start_time": "2021-06-18T00:03:51.192Z"
   },
   {
    "duration": 838,
    "start_time": "2021-06-18T00:03:51.199Z"
   },
   {
    "duration": 71,
    "start_time": "2021-06-18T00:03:52.039Z"
   },
   {
    "duration": 460,
    "start_time": "2021-06-18T00:03:52.113Z"
   },
   {
    "duration": 4,
    "start_time": "2021-06-18T00:03:52.583Z"
   },
   {
    "duration": 22,
    "start_time": "2021-06-18T00:03:52.589Z"
   },
   {
    "duration": 11959,
    "start_time": "2021-06-18T00:03:52.613Z"
   },
   {
    "duration": 9,
    "start_time": "2021-06-18T00:04:04.575Z"
   },
   {
    "duration": 325,
    "start_time": "2021-06-18T00:04:04.587Z"
   },
   {
    "duration": 483,
    "start_time": "2021-06-18T00:04:04.915Z"
   },
   {
    "duration": 2,
    "start_time": "2021-06-18T00:04:05.401Z"
   },
   {
    "duration": 10,
    "start_time": "2021-06-18T00:04:05.406Z"
   },
   {
    "duration": 19767,
    "start_time": "2021-06-18T00:04:05.419Z"
   },
   {
    "duration": 430,
    "start_time": "2021-06-18T00:04:25.194Z"
   },
   {
    "duration": -8180,
    "start_time": "2021-06-18T00:04:33.808Z"
   },
   {
    "duration": -8227,
    "start_time": "2021-06-18T00:04:33.856Z"
   },
   {
    "duration": -8227,
    "start_time": "2021-06-18T00:04:33.859Z"
   },
   {
    "duration": -8228,
    "start_time": "2021-06-18T00:04:33.862Z"
   },
   {
    "duration": -8245,
    "start_time": "2021-06-18T00:04:33.881Z"
   },
   {
    "duration": -8280,
    "start_time": "2021-06-18T00:04:33.918Z"
   },
   {
    "duration": -8285,
    "start_time": "2021-06-18T00:04:33.925Z"
   },
   {
    "duration": -8286,
    "start_time": "2021-06-18T00:04:33.928Z"
   },
   {
    "duration": -8289,
    "start_time": "2021-06-18T00:04:33.933Z"
   },
   {
    "duration": -8290,
    "start_time": "2021-06-18T00:04:33.936Z"
   },
   {
    "duration": -8290,
    "start_time": "2021-06-18T00:04:33.938Z"
   },
   {
    "duration": -8291,
    "start_time": "2021-06-18T00:04:33.941Z"
   },
   {
    "duration": -8292,
    "start_time": "2021-06-18T00:04:33.944Z"
   },
   {
    "duration": -8292,
    "start_time": "2021-06-18T00:04:33.946Z"
   },
   {
    "duration": -8293,
    "start_time": "2021-06-18T00:04:33.949Z"
   },
   {
    "duration": -8294,
    "start_time": "2021-06-18T00:04:33.952Z"
   },
   {
    "duration": -8295,
    "start_time": "2021-06-18T00:04:33.955Z"
   },
   {
    "duration": -8295,
    "start_time": "2021-06-18T00:04:33.957Z"
   },
   {
    "duration": -8296,
    "start_time": "2021-06-18T00:04:33.960Z"
   },
   {
    "duration": 1724,
    "start_time": "2021-06-18T00:07:24.357Z"
   },
   {
    "duration": 5,
    "start_time": "2021-06-18T00:07:26.084Z"
   },
   {
    "duration": 5,
    "start_time": "2021-06-18T00:07:26.092Z"
   },
   {
    "duration": 9,
    "start_time": "2021-06-18T00:07:26.100Z"
   },
   {
    "duration": 8,
    "start_time": "2021-06-18T00:07:26.111Z"
   },
   {
    "duration": 9,
    "start_time": "2021-06-18T00:07:26.121Z"
   },
   {
    "duration": 798,
    "start_time": "2021-06-18T00:07:26.133Z"
   },
   {
    "duration": 65,
    "start_time": "2021-06-18T00:07:26.936Z"
   },
   {
    "duration": 341,
    "start_time": "2021-06-18T00:07:27.005Z"
   },
   {
    "duration": 4,
    "start_time": "2021-06-18T00:07:27.349Z"
   },
   {
    "duration": 850,
    "start_time": "2021-06-18T00:07:27.355Z"
   },
   {
    "duration": 59,
    "start_time": "2021-06-18T00:07:28.207Z"
   },
   {
    "duration": 436,
    "start_time": "2021-06-18T00:07:28.283Z"
   },
   {
    "duration": 4,
    "start_time": "2021-06-18T00:07:28.721Z"
   },
   {
    "duration": 22,
    "start_time": "2021-06-18T00:07:28.727Z"
   },
   {
    "duration": 11990,
    "start_time": "2021-06-18T00:07:28.751Z"
   },
   {
    "duration": 5,
    "start_time": "2021-06-18T00:07:40.743Z"
   },
   {
    "duration": 322,
    "start_time": "2021-06-18T00:07:40.750Z"
   },
   {
    "duration": 475,
    "start_time": "2021-06-18T00:07:41.075Z"
   },
   {
    "duration": 2,
    "start_time": "2021-06-18T00:07:41.552Z"
   },
   {
    "duration": 8,
    "start_time": "2021-06-18T00:07:41.556Z"
   },
   {
    "duration": 19644,
    "start_time": "2021-06-18T00:07:41.566Z"
   },
   {
    "duration": 25640,
    "start_time": "2021-06-18T00:08:01.213Z"
   },
   {
    "duration": 6,
    "start_time": "2021-06-18T00:08:26.856Z"
   },
   {
    "duration": 720,
    "start_time": "2021-06-18T00:08:26.884Z"
   },
   {
    "duration": -8205,
    "start_time": "2021-06-18T00:08:35.812Z"
   },
   {
    "duration": -8217,
    "start_time": "2021-06-18T00:08:35.825Z"
   },
   {
    "duration": -8221,
    "start_time": "2021-06-18T00:08:35.830Z"
   },
   {
    "duration": -8222,
    "start_time": "2021-06-18T00:08:35.833Z"
   },
   {
    "duration": -8242,
    "start_time": "2021-06-18T00:08:35.854Z"
   },
   {
    "duration": -8249,
    "start_time": "2021-06-18T00:08:35.862Z"
   },
   {
    "duration": -8251,
    "start_time": "2021-06-18T00:08:35.865Z"
   },
   {
    "duration": -8252,
    "start_time": "2021-06-18T00:08:35.868Z"
   },
   {
    "duration": -8255,
    "start_time": "2021-06-18T00:08:35.872Z"
   },
   {
    "duration": -8256,
    "start_time": "2021-06-18T00:08:35.874Z"
   },
   {
    "duration": -8259,
    "start_time": "2021-06-18T00:08:35.878Z"
   },
   {
    "duration": -8260,
    "start_time": "2021-06-18T00:08:35.880Z"
   },
   {
    "duration": -8262,
    "start_time": "2021-06-18T00:08:35.883Z"
   },
   {
    "duration": -8263,
    "start_time": "2021-06-18T00:08:35.885Z"
   },
   {
    "duration": -8264,
    "start_time": "2021-06-18T00:08:35.888Z"
   },
   {
    "duration": -8265,
    "start_time": "2021-06-18T00:08:35.890Z"
   },
   {
    "duration": 1635,
    "start_time": "2021-06-18T00:10:07.213Z"
   },
   {
    "duration": 6,
    "start_time": "2021-06-18T00:10:08.851Z"
   },
   {
    "duration": 22,
    "start_time": "2021-06-18T00:10:08.861Z"
   },
   {
    "duration": 9,
    "start_time": "2021-06-18T00:10:08.886Z"
   },
   {
    "duration": 11,
    "start_time": "2021-06-18T00:10:08.897Z"
   },
   {
    "duration": 759,
    "start_time": "2021-06-18T00:10:08.910Z"
   },
   {
    "duration": 44,
    "start_time": "2021-06-18T00:10:09.672Z"
   },
   {
    "duration": 281,
    "start_time": "2021-06-18T00:10:09.719Z"
   },
   {
    "duration": 3,
    "start_time": "2021-06-18T00:10:10.006Z"
   },
   {
    "duration": 955,
    "start_time": "2021-06-18T00:10:10.012Z"
   },
   {
    "duration": 62,
    "start_time": "2021-06-18T00:10:10.969Z"
   },
   {
    "duration": 445,
    "start_time": "2021-06-18T00:10:11.034Z"
   },
   {
    "duration": 3,
    "start_time": "2021-06-18T00:10:11.481Z"
   },
   {
    "duration": 21,
    "start_time": "2021-06-18T00:10:11.486Z"
   },
   {
    "duration": 11543,
    "start_time": "2021-06-18T00:10:11.509Z"
   },
   {
    "duration": 5,
    "start_time": "2021-06-18T00:10:23.054Z"
   },
   {
    "duration": 324,
    "start_time": "2021-06-18T00:10:23.061Z"
   },
   {
    "duration": 481,
    "start_time": "2021-06-18T00:10:23.388Z"
   },
   {
    "duration": 3,
    "start_time": "2021-06-18T00:10:23.871Z"
   },
   {
    "duration": 11,
    "start_time": "2021-06-18T00:10:23.876Z"
   },
   {
    "duration": 19898,
    "start_time": "2021-06-18T00:10:23.889Z"
   },
   {
    "duration": 25838,
    "start_time": "2021-06-18T00:10:43.789Z"
   },
   {
    "duration": 3,
    "start_time": "2021-06-18T00:11:09.630Z"
   },
   {
    "duration": 8,
    "start_time": "2021-06-18T00:11:09.635Z"
   },
   {
    "duration": 18935,
    "start_time": "2021-06-18T00:11:09.646Z"
   },
   {
    "duration": 3,
    "start_time": "2021-06-18T00:11:28.584Z"
   },
   {
    "duration": 6,
    "start_time": "2021-06-18T00:11:28.592Z"
   },
   {
    "duration": 4,
    "start_time": "2021-06-18T00:11:28.601Z"
   },
   {
    "duration": 8,
    "start_time": "2021-06-18T00:11:28.608Z"
   },
   {
    "duration": 91,
    "start_time": "2021-06-18T00:11:28.618Z"
   },
   {
    "duration": -8137,
    "start_time": "2021-06-18T00:11:36.849Z"
   },
   {
    "duration": -8172,
    "start_time": "2021-06-18T00:11:36.885Z"
   },
   {
    "duration": -8175,
    "start_time": "2021-06-18T00:11:36.890Z"
   },
   {
    "duration": -8177,
    "start_time": "2021-06-18T00:11:36.894Z"
   },
   {
    "duration": -8179,
    "start_time": "2021-06-18T00:11:36.897Z"
   },
   {
    "duration": -8179,
    "start_time": "2021-06-18T00:11:36.899Z"
   },
   {
    "duration": 42695,
    "start_time": "2021-06-18T00:11:53.816Z"
   },
   {
    "duration": 12,
    "start_time": "2021-06-18T00:12:43.775Z"
   },
   {
    "duration": 33,
    "start_time": "2021-06-18T00:12:58.036Z"
   },
   {
    "duration": 445,
    "start_time": "2021-06-18T00:13:00.635Z"
   },
   {
    "duration": 22,
    "start_time": "2021-06-18T00:13:37.476Z"
   },
   {
    "duration": 377,
    "start_time": "2021-06-18T00:24:17.378Z"
   },
   {
    "duration": 37,
    "start_time": "2021-06-18T00:24:26.958Z"
   },
   {
    "duration": 303,
    "start_time": "2021-06-18T00:25:23.920Z"
   },
   {
    "duration": 29,
    "start_time": "2021-06-18T00:27:01.078Z"
   },
   {
    "duration": 340,
    "start_time": "2021-06-18T00:27:36.918Z"
   },
   {
    "duration": 7,
    "start_time": "2021-06-18T00:28:00.657Z"
   },
   {
    "duration": 290,
    "start_time": "2021-06-18T00:28:52.239Z"
   },
   {
    "duration": 5,
    "start_time": "2021-06-18T00:29:07.325Z"
   },
   {
    "duration": 462,
    "start_time": "2021-06-18T00:29:13.476Z"
   },
   {
    "duration": 18316,
    "start_time": "2021-06-18T00:29:18.937Z"
   },
   {
    "duration": 7,
    "start_time": "2021-06-18T00:29:44.377Z"
   },
   {
    "duration": 301,
    "start_time": "2021-06-18T00:29:47.917Z"
   },
   {
    "duration": 315,
    "start_time": "2021-06-18T00:30:08.525Z"
   },
   {
    "duration": 30,
    "start_time": "2021-06-18T00:30:47.896Z"
   },
   {
    "duration": -8247,
    "start_time": "2021-06-18T00:31:39.715Z"
   },
   {
    "duration": 39809,
    "start_time": "2021-06-18T00:31:39.578Z"
   },
   {
    "duration": 90,
    "start_time": "2021-06-18T00:33:18.416Z"
   },
   {
    "duration": 1718,
    "start_time": "2021-06-18T07:13:32.876Z"
   },
   {
    "duration": 5,
    "start_time": "2021-06-18T07:13:37.147Z"
   },
   {
    "duration": 8,
    "start_time": "2021-06-18T07:13:38.411Z"
   },
   {
    "duration": 8,
    "start_time": "2021-06-18T07:13:40.392Z"
   },
   {
    "duration": 807,
    "start_time": "2021-06-18T07:13:43.275Z"
   },
   {
    "duration": 31,
    "start_time": "2021-06-18T07:13:46.481Z"
   },
   {
    "duration": 283,
    "start_time": "2021-06-18T07:13:48.841Z"
   },
   {
    "duration": 4,
    "start_time": "2021-06-18T07:14:10.738Z"
   },
   {
    "duration": 942,
    "start_time": "2021-06-18T07:14:12.261Z"
   },
   {
    "duration": 64,
    "start_time": "2021-06-18T07:14:20.987Z"
   },
   {
    "duration": 469,
    "start_time": "2021-06-18T07:14:26.783Z"
   },
   {
    "duration": 432,
    "start_time": "2021-06-18T07:14:40.017Z"
   },
   {
    "duration": 4,
    "start_time": "2021-06-18T07:14:53.943Z"
   },
   {
    "duration": 16,
    "start_time": "2021-06-18T07:14:55.110Z"
   },
   {
    "duration": 12210,
    "start_time": "2021-06-18T07:14:57.078Z"
   },
   {
    "duration": 5,
    "start_time": "2021-06-18T07:15:14.942Z"
   },
   {
    "duration": 315,
    "start_time": "2021-06-18T07:15:21.059Z"
   },
   {
    "duration": 21,
    "start_time": "2021-06-18T07:16:10.687Z"
   },
   {
    "duration": 14,
    "start_time": "2021-06-18T07:17:29.323Z"
   },
   {
    "duration": 14,
    "start_time": "2021-06-18T07:18:36.450Z"
   },
   {
    "duration": 12806,
    "start_time": "2021-06-18T07:23:29.329Z"
   },
   {
    "duration": 4,
    "start_time": "2021-06-18T07:23:55.864Z"
   },
   {
    "duration": 154,
    "start_time": "2021-06-18T07:23:57.695Z"
   },
   {
    "duration": 492,
    "start_time": "2021-06-18T07:24:00.370Z"
   },
   {
    "duration": 16181,
    "start_time": "2021-06-18T07:24:04.258Z"
   },
   {
    "duration": 69163,
    "start_time": "2021-06-18T07:24:30.985Z"
   },
   {
    "duration": 13,
    "start_time": "2021-06-18T07:25:49.968Z"
   },
   {
    "duration": 33,
    "start_time": "2021-06-18T07:26:04.582Z"
   },
   {
    "duration": 31002,
    "start_time": "2021-06-18T07:26:23.892Z"
   },
   {
    "duration": 25,
    "start_time": "2021-06-18T07:28:18.048Z"
   },
   {
    "duration": 31619,
    "start_time": "2021-06-18T07:35:00.591Z"
   },
   {
    "duration": 754,
    "start_time": "2021-06-18T07:36:45.087Z"
   },
   {
    "duration": 16,
    "start_time": "2021-06-18T07:36:54.728Z"
   },
   {
    "duration": 12760,
    "start_time": "2021-06-18T07:36:56.955Z"
   },
   {
    "duration": 497,
    "start_time": "2021-06-18T07:37:20.151Z"
   },
   {
    "duration": 15737,
    "start_time": "2021-06-18T07:37:33.114Z"
   },
   {
    "duration": 20,
    "start_time": "2021-06-18T07:38:03.642Z"
   },
   {
    "duration": 31283,
    "start_time": "2021-06-18T07:38:05.323Z"
   },
   {
    "duration": 1648,
    "start_time": "2021-06-18T07:39:37.932Z"
   },
   {
    "duration": 5,
    "start_time": "2021-06-18T07:39:39.583Z"
   },
   {
    "duration": 10,
    "start_time": "2021-06-18T07:39:39.591Z"
   },
   {
    "duration": 9,
    "start_time": "2021-06-18T07:39:39.604Z"
   },
   {
    "duration": 761,
    "start_time": "2021-06-18T07:39:39.616Z"
   },
   {
    "duration": 28,
    "start_time": "2021-06-18T07:39:40.385Z"
   },
   {
    "duration": 345,
    "start_time": "2021-06-18T07:39:40.416Z"
   },
   {
    "duration": 5,
    "start_time": "2021-06-18T07:39:40.765Z"
   },
   {
    "duration": 882,
    "start_time": "2021-06-18T07:39:40.773Z"
   },
   {
    "duration": 75,
    "start_time": "2021-06-18T07:39:41.657Z"
   },
   {
    "duration": 452,
    "start_time": "2021-06-18T07:39:41.735Z"
   },
   {
    "duration": 18,
    "start_time": "2021-06-18T07:39:42.189Z"
   },
   {
    "duration": 13,
    "start_time": "2021-06-18T07:39:42.209Z"
   },
   {
    "duration": 6,
    "start_time": "2021-06-18T07:39:42.225Z"
   },
   {
    "duration": 17,
    "start_time": "2021-06-18T07:39:42.233Z"
   },
   {
    "duration": 12061,
    "start_time": "2021-06-18T07:39:42.253Z"
   },
   {
    "duration": 7700,
    "start_time": "2021-06-18T07:39:54.317Z"
   },
   {
    "duration": -24291,
    "start_time": "2021-06-18T07:40:26.311Z"
   },
   {
    "duration": -24296,
    "start_time": "2021-06-18T07:40:26.318Z"
   },
   {
    "duration": -24299,
    "start_time": "2021-06-18T07:40:26.322Z"
   },
   {
    "duration": -24301,
    "start_time": "2021-06-18T07:40:26.326Z"
   },
   {
    "duration": -24357,
    "start_time": "2021-06-18T07:40:26.383Z"
   },
   {
    "duration": -24376,
    "start_time": "2021-06-18T07:40:26.403Z"
   },
   {
    "duration": -24378,
    "start_time": "2021-06-18T07:40:26.407Z"
   },
   {
    "duration": -24381,
    "start_time": "2021-06-18T07:40:26.411Z"
   },
   {
    "duration": -24382,
    "start_time": "2021-06-18T07:40:26.413Z"
   },
   {
    "duration": -24384,
    "start_time": "2021-06-18T07:40:26.416Z"
   },
   {
    "duration": -24384,
    "start_time": "2021-06-18T07:40:26.418Z"
   },
   {
    "duration": -24426,
    "start_time": "2021-06-18T07:40:26.461Z"
   },
   {
    "duration": -24431,
    "start_time": "2021-06-18T07:40:26.467Z"
   },
   {
    "duration": 1657,
    "start_time": "2021-06-18T07:41:35.198Z"
   },
   {
    "duration": 6,
    "start_time": "2021-06-18T07:41:36.858Z"
   },
   {
    "duration": 20,
    "start_time": "2021-06-18T07:41:36.867Z"
   },
   {
    "duration": 7,
    "start_time": "2021-06-18T07:41:36.890Z"
   },
   {
    "duration": 740,
    "start_time": "2021-06-18T07:41:36.899Z"
   },
   {
    "duration": 46,
    "start_time": "2021-06-18T07:41:37.642Z"
   },
   {
    "duration": 269,
    "start_time": "2021-06-18T07:41:37.690Z"
   },
   {
    "duration": 3,
    "start_time": "2021-06-18T07:41:37.963Z"
   },
   {
    "duration": 874,
    "start_time": "2021-06-18T07:41:37.969Z"
   },
   {
    "duration": 66,
    "start_time": "2021-06-18T07:41:38.846Z"
   },
   {
    "duration": 448,
    "start_time": "2021-06-18T07:41:38.914Z"
   },
   {
    "duration": 35,
    "start_time": "2021-06-18T07:41:39.365Z"
   },
   {
    "duration": 13,
    "start_time": "2021-06-18T07:41:39.403Z"
   },
   {
    "duration": 8,
    "start_time": "2021-06-18T07:41:39.419Z"
   },
   {
    "duration": 18,
    "start_time": "2021-06-18T07:41:39.429Z"
   },
   {
    "duration": 11947,
    "start_time": "2021-06-18T07:41:39.450Z"
   },
   {
    "duration": 4,
    "start_time": "2021-06-18T07:41:51.399Z"
   },
   {
    "duration": 488,
    "start_time": "2021-06-18T07:41:51.406Z"
   },
   {
    "duration": -9182,
    "start_time": "2021-06-18T07:42:01.079Z"
   },
   {
    "duration": -9185,
    "start_time": "2021-06-18T07:42:01.083Z"
   },
   {
    "duration": -9186,
    "start_time": "2021-06-18T07:42:01.086Z"
   },
   {
    "duration": -9195,
    "start_time": "2021-06-18T07:42:01.097Z"
   },
   {
    "duration": -9246,
    "start_time": "2021-06-18T07:42:01.149Z"
   },
   {
    "duration": -9247,
    "start_time": "2021-06-18T07:42:01.152Z"
   },
   {
    "duration": -9262,
    "start_time": "2021-06-18T07:42:01.168Z"
   },
   {
    "duration": -9264,
    "start_time": "2021-06-18T07:42:01.171Z"
   },
   {
    "duration": -9265,
    "start_time": "2021-06-18T07:42:01.174Z"
   },
   {
    "duration": -9266,
    "start_time": "2021-06-18T07:42:01.176Z"
   },
   {
    "duration": -9268,
    "start_time": "2021-06-18T07:42:01.179Z"
   },
   {
    "duration": -9268,
    "start_time": "2021-06-18T07:42:01.181Z"
   },
   {
    "duration": 1761,
    "start_time": "2021-06-18T07:43:08.648Z"
   },
   {
    "duration": 6,
    "start_time": "2021-06-18T07:43:10.413Z"
   },
   {
    "duration": 12,
    "start_time": "2021-06-18T07:43:10.424Z"
   },
   {
    "duration": 9,
    "start_time": "2021-06-18T07:43:10.439Z"
   },
   {
    "duration": 803,
    "start_time": "2021-06-18T07:43:10.451Z"
   },
   {
    "duration": 43,
    "start_time": "2021-06-18T07:43:11.258Z"
   },
   {
    "duration": 306,
    "start_time": "2021-06-18T07:43:11.304Z"
   },
   {
    "duration": 4,
    "start_time": "2021-06-18T07:43:11.616Z"
   },
   {
    "duration": 860,
    "start_time": "2021-06-18T07:43:11.625Z"
   },
   {
    "duration": 62,
    "start_time": "2021-06-18T07:43:12.488Z"
   },
   {
    "duration": 467,
    "start_time": "2021-06-18T07:43:12.553Z"
   },
   {
    "duration": 18,
    "start_time": "2021-06-18T07:43:13.022Z"
   },
   {
    "duration": 14,
    "start_time": "2021-06-18T07:43:13.042Z"
   },
   {
    "duration": 28,
    "start_time": "2021-06-18T07:43:13.058Z"
   },
   {
    "duration": 17,
    "start_time": "2021-06-18T07:43:13.089Z"
   },
   {
    "duration": 12213,
    "start_time": "2021-06-18T07:43:13.109Z"
   },
   {
    "duration": 5,
    "start_time": "2021-06-18T07:43:25.325Z"
   },
   {
    "duration": 221,
    "start_time": "2021-06-18T07:43:25.333Z"
   },
   {
    "duration": 459,
    "start_time": "2021-06-18T07:43:25.557Z"
   },
   {
    "duration": 10161,
    "start_time": "2021-06-18T07:43:26.019Z"
   },
   {
    "duration": 13762,
    "start_time": "2021-06-18T07:43:36.186Z"
   },
   {
    "duration": 3,
    "start_time": "2021-06-18T07:43:49.952Z"
   },
   {
    "duration": 29,
    "start_time": "2021-06-18T07:43:49.957Z"
   },
   {
    "duration": 20500,
    "start_time": "2021-06-18T07:43:49.988Z"
   },
   {
    "duration": 5,
    "start_time": "2021-06-18T07:44:10.490Z"
   },
   {
    "duration": 18,
    "start_time": "2021-06-18T07:44:10.501Z"
   },
   {
    "duration": 53790,
    "start_time": "2021-06-18T07:44:10.522Z"
   },
   {
    "duration": 75,
    "start_time": "2021-06-18T07:45:04.314Z"
   },
   {
    "duration": 44,
    "start_time": "2021-06-18T07:45:04.392Z"
   },
   {
    "duration": 21576,
    "start_time": "2021-06-18T07:45:04.438Z"
   },
   {
    "duration": 2189,
    "start_time": "2021-06-22T16:39:14.569Z"
   },
   {
    "duration": 5,
    "start_time": "2021-06-22T16:40:31.601Z"
   },
   {
    "duration": 7,
    "start_time": "2021-06-22T16:40:33.099Z"
   },
   {
    "duration": 8,
    "start_time": "2021-06-22T16:40:35.352Z"
   },
   {
    "duration": 789,
    "start_time": "2021-06-22T16:40:40.402Z"
   },
   {
    "duration": 31,
    "start_time": "2021-06-22T16:40:44.076Z"
   },
   {
    "duration": 275,
    "start_time": "2021-06-22T16:40:47.506Z"
   },
   {
    "duration": 4,
    "start_time": "2021-06-22T16:40:52.074Z"
   },
   {
    "duration": 3,
    "start_time": "2021-06-22T16:40:57.579Z"
   },
   {
    "duration": 13,
    "start_time": "2021-06-22T16:40:58.596Z"
   },
   {
    "duration": 14,
    "start_time": "2021-06-22T16:50:12.175Z"
   },
   {
    "duration": 38,
    "start_time": "2021-06-22T16:50:13.560Z"
   },
   {
    "duration": 915,
    "start_time": "2021-06-22T16:52:59.420Z"
   },
   {
    "duration": 58,
    "start_time": "2021-06-22T16:53:03.740Z"
   },
   {
    "duration": 458,
    "start_time": "2021-06-22T16:53:07.618Z"
   },
   {
    "duration": 20,
    "start_time": "2021-06-22T16:53:10.840Z"
   },
   {
    "duration": 13,
    "start_time": "2021-06-22T16:53:15.580Z"
   },
   {
    "duration": 3,
    "start_time": "2021-06-22T16:53:19.038Z"
   },
   {
    "duration": 17,
    "start_time": "2021-06-22T16:53:19.920Z"
   },
   {
    "duration": 42,
    "start_time": "2021-06-22T16:53:22.850Z"
   },
   {
    "duration": 14,
    "start_time": "2021-06-22T16:53:47.860Z"
   },
   {
    "duration": 446,
    "start_time": "2021-06-22T16:54:48.300Z"
   },
   {
    "duration": 45,
    "start_time": "2021-06-22T16:54:51.776Z"
   },
   {
    "duration": 6,
    "start_time": "2021-06-22T16:54:53.279Z"
   },
   {
    "duration": 279,
    "start_time": "2021-06-22T16:55:38.345Z"
   },
   {
    "duration": 278,
    "start_time": "2021-06-22T16:55:50.657Z"
   },
   {
    "duration": 44,
    "start_time": "2021-06-22T16:56:26.460Z"
   },
   {
    "duration": 5,
    "start_time": "2021-06-22T16:56:47.601Z"
   },
   {
    "duration": 5,
    "start_time": "2021-06-22T16:56:59.200Z"
   },
   {
    "duration": 4,
    "start_time": "2021-06-22T16:57:35.042Z"
   },
   {
    "duration": 8,
    "start_time": "2021-06-22T16:59:04.680Z"
   },
   {
    "duration": 6,
    "start_time": "2021-06-22T16:59:14.180Z"
   },
   {
    "duration": 5,
    "start_time": "2021-06-22T17:00:26.329Z"
   },
   {
    "duration": 4,
    "start_time": "2021-06-22T17:01:04.941Z"
   },
   {
    "duration": 4,
    "start_time": "2021-06-22T17:01:47.382Z"
   },
   {
    "duration": 4,
    "start_time": "2021-06-22T17:02:04.620Z"
   },
   {
    "duration": 302,
    "start_time": "2021-06-22T17:03:23.139Z"
   },
   {
    "duration": 46,
    "start_time": "2021-06-22T17:03:53.920Z"
   },
   {
    "duration": 6,
    "start_time": "2021-06-22T17:04:03.660Z"
   },
   {
    "duration": 7,
    "start_time": "2021-06-22T17:04:13.747Z"
   },
   {
    "duration": 47,
    "start_time": "2021-06-22T17:04:48.789Z"
   },
   {
    "duration": 47,
    "start_time": "2021-06-22T17:05:14.781Z"
   },
   {
    "duration": 13,
    "start_time": "2021-06-22T17:05:46.360Z"
   },
   {
    "duration": 7,
    "start_time": "2021-06-22T17:06:34.460Z"
   },
   {
    "duration": 7,
    "start_time": "2021-06-22T17:06:46.560Z"
   },
   {
    "duration": 50,
    "start_time": "2021-06-22T17:07:03.820Z"
   },
   {
    "duration": 7,
    "start_time": "2021-06-22T17:07:51.900Z"
   },
   {
    "duration": 7,
    "start_time": "2021-06-22T17:08:24.548Z"
   },
   {
    "duration": 293,
    "start_time": "2021-06-22T17:08:34.419Z"
   },
   {
    "duration": 7,
    "start_time": "2021-06-22T17:08:51.609Z"
   },
   {
    "duration": 467,
    "start_time": "2021-06-22T17:10:18.928Z"
   },
   {
    "duration": 444,
    "start_time": "2021-06-22T17:10:32.009Z"
   },
   {
    "duration": 9,
    "start_time": "2021-06-22T17:11:25.760Z"
   },
   {
    "duration": 7,
    "start_time": "2021-06-22T17:11:39.900Z"
   },
   {
    "duration": 292,
    "start_time": "2021-06-22T17:11:51.941Z"
   },
   {
    "duration": 11,
    "start_time": "2021-06-22T17:12:10.561Z"
   },
   {
    "duration": 11,
    "start_time": "2021-06-22T17:12:29.128Z"
   },
   {
    "duration": 443,
    "start_time": "2021-06-22T17:13:05.500Z"
   },
   {
    "duration": 1447,
    "start_time": "2021-06-22T18:58:46.041Z"
   },
   {
    "duration": 5,
    "start_time": "2021-06-22T18:58:52.060Z"
   },
   {
    "duration": 4,
    "start_time": "2021-06-22T18:58:54.706Z"
   },
   {
    "duration": 7,
    "start_time": "2021-06-22T18:59:01.347Z"
   },
   {
    "duration": 7,
    "start_time": "2021-06-22T18:59:03.681Z"
   },
   {
    "duration": 10273,
    "start_time": "2021-06-22T18:59:06.359Z"
   },
   {
    "duration": 33,
    "start_time": "2021-06-22T18:59:24.399Z"
   },
   {
    "duration": 195,
    "start_time": "2021-06-22T18:59:26.308Z"
   },
   {
    "duration": 4,
    "start_time": "2021-06-22T18:59:29.768Z"
   },
   {
    "duration": 892,
    "start_time": "2021-06-22T18:59:31.519Z"
   },
   {
    "duration": 55,
    "start_time": "2021-06-22T18:59:34.241Z"
   },
   {
    "duration": 442,
    "start_time": "2021-06-22T18:59:36.378Z"
   },
   {
    "duration": 18,
    "start_time": "2021-06-22T18:59:42.319Z"
   },
   {
    "duration": 13,
    "start_time": "2021-06-22T18:59:45.179Z"
   },
   {
    "duration": 15,
    "start_time": "2021-06-22T19:00:19.827Z"
   },
   {
    "duration": 41,
    "start_time": "2021-06-22T19:00:32.342Z"
   },
   {
    "duration": 44,
    "start_time": "2021-06-22T19:00:47.529Z"
   },
   {
    "duration": 7,
    "start_time": "2021-06-22T19:01:44.320Z"
   },
   {
    "duration": 569,
    "start_time": "2021-06-22T19:01:55.318Z"
   },
   {
    "duration": 10,
    "start_time": "2021-06-22T19:02:04.559Z"
   },
   {
    "duration": 3,
    "start_time": "2021-06-22T19:02:39.747Z"
   },
   {
    "duration": 3,
    "start_time": "2021-06-22T19:02:47.179Z"
   },
   {
    "duration": 302,
    "start_time": "2021-06-22T19:02:51.978Z"
   },
   {
    "duration": 9567,
    "start_time": "2021-06-22T19:03:24.298Z"
   },
   {
    "duration": 131,
    "start_time": "2021-06-22T19:04:08.739Z"
   },
   {
    "duration": 142,
    "start_time": "2021-06-22T19:05:04.658Z"
   },
   {
    "duration": 3,
    "start_time": "2021-06-22T19:05:11.907Z"
   },
   {
    "duration": 10573,
    "start_time": "2021-06-22T19:06:23.058Z"
   },
   {
    "duration": 12700,
    "start_time": "2021-06-22T19:06:40.140Z"
   },
   {
    "duration": 5,
    "start_time": "2021-06-22T19:07:08.159Z"
   },
   {
    "duration": 8504,
    "start_time": "2021-06-22T19:07:14.380Z"
   },
   {
    "duration": 6,
    "start_time": "2021-06-22T19:07:32.257Z"
   },
   {
    "duration": 4,
    "start_time": "2021-06-22T19:07:34.687Z"
   },
   {
    "duration": 44610,
    "start_time": "2021-06-22T19:07:46.211Z"
   },
   {
    "duration": 13,
    "start_time": "2021-06-22T19:08:40.239Z"
   },
   {
    "duration": 84,
    "start_time": "2021-06-22T19:08:50.428Z"
   },
   {
    "duration": 21167,
    "start_time": "2021-06-22T19:09:01.487Z"
   },
   {
    "duration": 2373,
    "start_time": "2021-06-22T19:12:30.021Z"
   },
   {
    "duration": 21589,
    "start_time": "2021-06-22T19:12:44.059Z"
   },
   {
    "duration": 186,
    "start_time": "2021-06-22T19:14:31.428Z"
   },
   {
    "duration": 10,
    "start_time": "2021-06-22T19:16:47.264Z"
   },
   {
    "duration": 8,
    "start_time": "2021-06-22T19:16:58.379Z"
   },
   {
    "duration": 10,
    "start_time": "2021-06-22T19:17:36.187Z"
   },
   {
    "duration": 9,
    "start_time": "2021-06-22T19:17:52.759Z"
   },
   {
    "duration": 17,
    "start_time": "2021-06-22T19:25:44.299Z"
   },
   {
    "duration": 717,
    "start_time": "2021-06-22T19:26:17.048Z"
   },
   {
    "duration": 16,
    "start_time": "2021-06-22T19:26:28.998Z"
   },
   {
    "duration": 31,
    "start_time": "2021-06-22T19:26:30.868Z"
   },
   {
    "duration": 16,
    "start_time": "2021-06-22T19:26:35.440Z"
   },
   {
    "duration": 80,
    "start_time": "2021-06-22T19:26:38.108Z"
   },
   {
    "duration": 6437,
    "start_time": "2021-06-22T19:26:39.576Z"
   },
   {
    "duration": 14,
    "start_time": "2021-06-22T19:26:50.539Z"
   },
   {
    "duration": 30,
    "start_time": "2021-06-22T19:26:51.595Z"
   },
   {
    "duration": 630,
    "start_time": "2021-06-22T19:26:57.779Z"
   },
   {
    "duration": 9502,
    "start_time": "2021-06-22T19:27:09.759Z"
   },
   {
    "duration": 4,
    "start_time": "2021-06-22T19:27:37.298Z"
   },
   {
    "duration": 3,
    "start_time": "2021-06-22T19:27:39.759Z"
   },
   {
    "duration": 8213,
    "start_time": "2021-06-22T19:27:41.508Z"
   },
   {
    "duration": 14,
    "start_time": "2021-06-22T19:27:58.599Z"
   },
   {
    "duration": 295,
    "start_time": "2021-06-22T19:28:31.601Z"
   },
   {
    "duration": 18,
    "start_time": "2021-06-22T19:28:48.758Z"
   },
   {
    "duration": 2388,
    "start_time": "2021-06-22T19:29:19.078Z"
   },
   {
    "duration": 11705,
    "start_time": "2021-06-22T19:29:25.408Z"
   },
   {
    "duration": 272,
    "start_time": "2021-06-22T19:33:25.828Z"
   },
   {
    "duration": 286,
    "start_time": "2021-06-22T19:33:38.579Z"
   },
   {
    "duration": 312,
    "start_time": "2021-06-22T19:38:21.688Z"
   },
   {
    "duration": 299,
    "start_time": "2021-06-22T19:39:10.019Z"
   },
   {
    "duration": 6584,
    "start_time": "2021-06-22T19:39:32.588Z"
   },
   {
    "duration": 7,
    "start_time": "2021-06-22T19:39:47.799Z"
   },
   {
    "duration": 7,
    "start_time": "2021-06-22T19:39:57.539Z"
   },
   {
    "duration": 3,
    "start_time": "2021-06-22T19:40:13.039Z"
   },
   {
    "duration": 270,
    "start_time": "2021-06-22T19:41:12.148Z"
   },
   {
    "duration": 294,
    "start_time": "2021-06-22T19:41:51.968Z"
   },
   {
    "duration": 261,
    "start_time": "2021-06-22T19:41:57.999Z"
   },
   {
    "duration": 312,
    "start_time": "2021-06-22T19:42:16.228Z"
   },
   {
    "duration": 5,
    "start_time": "2021-06-22T19:42:37.299Z"
   },
   {
    "duration": 696,
    "start_time": "2021-06-22T19:43:05.286Z"
   },
   {
    "duration": 310,
    "start_time": "2021-06-22T19:43:09.698Z"
   },
   {
    "duration": 281,
    "start_time": "2021-06-22T19:43:13.799Z"
   },
   {
    "duration": 6,
    "start_time": "2021-06-22T19:43:24.460Z"
   },
   {
    "duration": 6,
    "start_time": "2021-06-22T19:43:32.420Z"
   },
   {
    "duration": 7,
    "start_time": "2021-06-22T19:44:42.480Z"
   },
   {
    "duration": 291,
    "start_time": "2021-06-22T19:44:50.698Z"
   },
   {
    "duration": 7,
    "start_time": "2021-06-22T19:46:31.079Z"
   },
   {
    "duration": 5,
    "start_time": "2021-06-22T19:47:37.660Z"
   },
   {
    "duration": 319,
    "start_time": "2021-06-22T19:47:45.498Z"
   },
   {
    "duration": 727,
    "start_time": "2021-06-22T20:04:00.796Z"
   },
   {
    "duration": 416,
    "start_time": "2021-06-22T20:04:04.079Z"
   },
   {
    "duration": 18,
    "start_time": "2021-06-22T20:04:11.655Z"
   },
   {
    "duration": 30,
    "start_time": "2021-06-22T20:04:14.380Z"
   },
   {
    "duration": 46,
    "start_time": "2021-06-22T20:04:18.503Z"
   },
   {
    "duration": 3,
    "start_time": "2021-06-22T20:04:23.268Z"
   },
   {
    "duration": 9916,
    "start_time": "2021-06-22T20:04:26.519Z"
   },
   {
    "duration": 6,
    "start_time": "2021-06-22T20:04:38.279Z"
   },
   {
    "duration": 8565,
    "start_time": "2021-06-22T20:04:40.780Z"
   },
   {
    "duration": 28,
    "start_time": "2021-06-22T20:04:55.479Z"
   },
   {
    "duration": 2446,
    "start_time": "2021-06-22T20:05:00.360Z"
   },
   {
    "duration": 11405,
    "start_time": "2021-06-22T20:05:04.706Z"
   },
   {
    "duration": 274,
    "start_time": "2021-06-22T20:15:15.100Z"
   },
   {
    "duration": 4,
    "start_time": "2021-06-22T20:15:54.981Z"
   },
   {
    "duration": 5,
    "start_time": "2021-06-22T20:16:50.391Z"
   },
   {
    "duration": 13,
    "start_time": "2021-06-22T20:16:58.112Z"
   },
   {
    "duration": 4,
    "start_time": "2021-06-22T20:19:32.619Z"
   },
   {
    "duration": 5,
    "start_time": "2021-06-22T20:19:34.876Z"
   },
   {
    "duration": 13,
    "start_time": "2021-06-22T20:19:36.558Z"
   },
   {
    "duration": 5,
    "start_time": "2021-06-22T20:20:22.507Z"
   },
   {
    "duration": 5,
    "start_time": "2021-06-22T20:26:44.760Z"
   },
   {
    "duration": 284,
    "start_time": "2021-06-22T20:26:54.379Z"
   },
   {
    "duration": 8,
    "start_time": "2021-06-22T20:26:57.019Z"
   },
   {
    "duration": 5,
    "start_time": "2021-06-22T20:27:01.359Z"
   },
   {
    "duration": 7,
    "start_time": "2021-06-22T20:27:03.160Z"
   },
   {
    "duration": 22,
    "start_time": "2021-06-22T20:27:04.699Z"
   },
   {
    "duration": 722,
    "start_time": "2021-06-22T20:27:39.028Z"
   },
   {
    "duration": 290,
    "start_time": "2021-06-22T20:27:44.440Z"
   },
   {
    "duration": 6,
    "start_time": "2021-06-22T20:27:46.207Z"
   },
   {
    "duration": 5,
    "start_time": "2021-06-22T20:27:48.760Z"
   },
   {
    "duration": 8,
    "start_time": "2021-06-22T20:27:51.111Z"
   },
   {
    "duration": 13,
    "start_time": "2021-06-22T20:27:52.499Z"
   },
   {
    "duration": 4,
    "start_time": "2021-06-22T20:28:54.460Z"
   },
   {
    "duration": 302,
    "start_time": "2021-06-22T20:28:58.287Z"
   },
   {
    "duration": 6,
    "start_time": "2021-06-22T20:29:01.319Z"
   },
   {
    "duration": 5,
    "start_time": "2021-06-22T20:29:04.819Z"
   },
   {
    "duration": 9,
    "start_time": "2021-06-22T20:29:11.298Z"
   },
   {
    "duration": 14,
    "start_time": "2021-06-22T20:29:12.323Z"
   },
   {
    "duration": 4,
    "start_time": "2021-06-22T20:29:25.019Z"
   },
   {
    "duration": 292,
    "start_time": "2021-06-22T20:29:28.778Z"
   },
   {
    "duration": 6,
    "start_time": "2021-06-22T20:29:32.860Z"
   },
   {
    "duration": 13,
    "start_time": "2021-06-22T20:29:33.658Z"
   },
   {
    "duration": 5,
    "start_time": "2021-06-22T20:29:42.258Z"
   },
   {
    "duration": 5,
    "start_time": "2021-06-22T20:29:43.914Z"
   },
   {
    "duration": 14,
    "start_time": "2021-06-22T20:29:45.755Z"
   },
   {
    "duration": 789,
    "start_time": "2021-06-22T20:31:35.908Z"
   },
   {
    "duration": 16,
    "start_time": "2021-06-22T20:31:42.661Z"
   },
   {
    "duration": 34,
    "start_time": "2021-06-22T20:31:45.405Z"
   },
   {
    "duration": 57,
    "start_time": "2021-06-22T20:31:48.819Z"
   },
   {
    "duration": 10206,
    "start_time": "2021-06-22T20:31:52.679Z"
   },
   {
    "duration": 6,
    "start_time": "2021-06-22T20:32:03.640Z"
   },
   {
    "duration": 5,
    "start_time": "2021-06-22T20:32:06.300Z"
   },
   {
    "duration": 8653,
    "start_time": "2021-06-22T20:32:07.502Z"
   },
   {
    "duration": 29,
    "start_time": "2021-06-22T20:32:22.696Z"
   },
   {
    "duration": 2279,
    "start_time": "2021-06-22T20:32:23.659Z"
   },
   {
    "duration": 12039,
    "start_time": "2021-06-22T20:32:27.280Z"
   },
   {
    "duration": 4,
    "start_time": "2021-06-22T20:34:36.700Z"
   },
   {
    "duration": 6,
    "start_time": "2021-06-22T20:34:40.399Z"
   },
   {
    "duration": 13,
    "start_time": "2021-06-22T20:34:42.259Z"
   },
   {
    "duration": 4,
    "start_time": "2021-06-22T20:35:45.701Z"
   },
   {
    "duration": 6,
    "start_time": "2021-06-22T20:35:47.188Z"
   },
   {
    "duration": 13,
    "start_time": "2021-06-22T20:35:48.659Z"
   },
   {
    "duration": 5,
    "start_time": "2021-06-22T20:38:07.020Z"
   },
   {
    "duration": 5,
    "start_time": "2021-06-22T20:38:08.339Z"
   },
   {
    "duration": 14,
    "start_time": "2021-06-22T20:38:09.338Z"
   },
   {
    "duration": 5,
    "start_time": "2021-06-22T20:41:01.510Z"
   },
   {
    "duration": 6,
    "start_time": "2021-06-22T20:41:03.319Z"
   },
   {
    "duration": 13,
    "start_time": "2021-06-22T20:41:04.399Z"
   },
   {
    "duration": 4665,
    "start_time": "2021-06-22T20:41:15.500Z"
   },
   {
    "duration": 15,
    "start_time": "2021-06-22T20:41:25.159Z"
   },
   {
    "duration": 37,
    "start_time": "2021-06-22T20:41:26.588Z"
   },
   {
    "duration": 55,
    "start_time": "2021-06-22T20:41:30.789Z"
   },
   {
    "duration": 9697,
    "start_time": "2021-06-22T20:41:32.261Z"
   },
   {
    "duration": 6,
    "start_time": "2021-06-22T20:41:41.985Z"
   },
   {
    "duration": 7954,
    "start_time": "2021-06-22T20:41:47.129Z"
   },
   {
    "duration": 30,
    "start_time": "2021-06-22T20:42:00.899Z"
   },
   {
    "duration": 2441,
    "start_time": "2021-06-22T20:42:03.900Z"
   },
   {
    "duration": 10729,
    "start_time": "2021-06-22T20:42:07.100Z"
   },
   {
    "duration": 315,
    "start_time": "2021-06-22T20:43:58.428Z"
   },
   {
    "duration": 6329,
    "start_time": "2021-06-22T20:44:00.559Z"
   },
   {
    "duration": 330,
    "start_time": "2021-06-22T20:44:19.879Z"
   },
   {
    "duration": 4,
    "start_time": "2021-06-22T21:05:01.596Z"
   },
   {
    "duration": 6,
    "start_time": "2021-06-22T21:05:42.140Z"
   },
   {
    "duration": 5,
    "start_time": "2021-06-22T21:06:40.260Z"
   },
   {
    "duration": 7,
    "start_time": "2021-06-22T21:06:42.847Z"
   },
   {
    "duration": 13,
    "start_time": "2021-06-22T21:06:43.808Z"
   },
   {
    "duration": 7,
    "start_time": "2021-06-22T21:07:05.350Z"
   },
   {
    "duration": 6,
    "start_time": "2021-06-22T21:07:06.788Z"
   },
   {
    "duration": 13,
    "start_time": "2021-06-22T21:07:07.619Z"
   },
   {
    "duration": 6,
    "start_time": "2021-06-22T21:07:56.360Z"
   },
   {
    "duration": 4792,
    "start_time": "2021-06-22T21:08:05.188Z"
   },
   {
    "duration": 4,
    "start_time": "2021-06-22T21:08:32.441Z"
   },
   {
    "duration": 892,
    "start_time": "2021-06-22T21:08:34.460Z"
   },
   {
    "duration": 47,
    "start_time": "2021-06-22T21:08:37.243Z"
   },
   {
    "duration": 440,
    "start_time": "2021-06-22T21:08:39.504Z"
   },
   {
    "duration": 17,
    "start_time": "2021-06-22T21:08:43.619Z"
   },
   {
    "duration": 13,
    "start_time": "2021-06-22T21:08:45.736Z"
   },
   {
    "duration": 17,
    "start_time": "2021-06-22T21:08:48.047Z"
   },
   {
    "duration": 37,
    "start_time": "2021-06-22T21:08:49.038Z"
   },
   {
    "duration": 16,
    "start_time": "2021-06-22T21:08:51.459Z"
   },
   {
    "duration": 58,
    "start_time": "2021-06-22T21:08:55.220Z"
   },
   {
    "duration": 4,
    "start_time": "2021-06-22T21:09:01.667Z"
   },
   {
    "duration": 9512,
    "start_time": "2021-06-22T21:09:03.188Z"
   },
   {
    "duration": 137,
    "start_time": "2021-06-22T21:09:13.339Z"
   },
   {
    "duration": 10518,
    "start_time": "2021-06-22T21:09:17.108Z"
   },
   {
    "duration": 83,
    "start_time": "2021-06-22T21:11:16.588Z"
   },
   {
    "duration": 2388,
    "start_time": "2021-06-22T21:11:26.119Z"
   },
   {
    "duration": 22204,
    "start_time": "2021-06-22T21:11:30.159Z"
   },
   {
    "duration": 5,
    "start_time": "2021-06-22T21:14:48.147Z"
   },
   {
    "duration": 4,
    "start_time": "2021-06-22T21:26:34.748Z"
   },
   {
    "duration": 6,
    "start_time": "2021-06-22T21:26:57.799Z"
   },
   {
    "duration": 12,
    "start_time": "2021-06-22T21:26:59.547Z"
   },
   {
    "duration": 4,
    "start_time": "2021-06-22T21:27:12.519Z"
   },
   {
    "duration": 7,
    "start_time": "2021-06-22T21:27:13.579Z"
   },
   {
    "duration": 14,
    "start_time": "2021-06-22T21:27:14.658Z"
   },
   {
    "duration": 7,
    "start_time": "2021-06-22T21:27:46.940Z"
   },
   {
    "duration": 15,
    "start_time": "2021-06-22T21:27:47.959Z"
   },
   {
    "duration": 5,
    "start_time": "2021-06-22T21:28:46.579Z"
   },
   {
    "duration": 6,
    "start_time": "2021-06-22T21:28:47.719Z"
   },
   {
    "duration": 12,
    "start_time": "2021-06-22T21:28:48.620Z"
   },
   {
    "duration": 5,
    "start_time": "2021-06-22T21:29:04.119Z"
   },
   {
    "duration": 7,
    "start_time": "2021-06-22T21:29:05.959Z"
   },
   {
    "duration": 13,
    "start_time": "2021-06-22T21:29:07.318Z"
   },
   {
    "duration": 5,
    "start_time": "2021-06-22T21:31:32.140Z"
   },
   {
    "duration": 1312,
    "start_time": "2021-06-22T21:31:35.280Z"
   },
   {
    "duration": 87,
    "start_time": "2021-06-22T21:32:20.373Z"
   },
   {
    "duration": 6,
    "start_time": "2021-06-22T21:32:34.040Z"
   },
   {
    "duration": 1291,
    "start_time": "2021-06-22T21:32:36.198Z"
   },
   {
    "duration": 6,
    "start_time": "2021-06-22T21:33:15.580Z"
   },
   {
    "duration": 1353,
    "start_time": "2021-06-22T21:33:18.549Z"
   },
   {
    "duration": 6,
    "start_time": "2021-06-22T21:35:00.417Z"
   },
   {
    "duration": 4028,
    "start_time": "2021-06-22T21:35:02.635Z"
   },
   {
    "duration": 6,
    "start_time": "2021-06-22T21:35:24.421Z"
   },
   {
    "duration": 8,
    "start_time": "2021-06-22T21:35:26.638Z"
   },
   {
    "duration": 5,
    "start_time": "2021-06-22T21:35:39.300Z"
   },
   {
    "duration": 6,
    "start_time": "2021-06-22T21:35:42.328Z"
   },
   {
    "duration": 14,
    "start_time": "2021-06-22T21:35:43.912Z"
   },
   {
    "duration": 6,
    "start_time": "2021-06-22T21:36:18.759Z"
   },
   {
    "duration": 7,
    "start_time": "2021-06-22T21:36:21.659Z"
   },
   {
    "duration": 13,
    "start_time": "2021-06-22T21:36:22.659Z"
   },
   {
    "duration": 6,
    "start_time": "2021-06-22T21:36:48.240Z"
   },
   {
    "duration": 6,
    "start_time": "2021-06-22T21:36:50.358Z"
   },
   {
    "duration": 14,
    "start_time": "2021-06-22T21:36:51.307Z"
   },
   {
    "duration": 322,
    "start_time": "2021-06-22T21:37:05.039Z"
   },
   {
    "duration": 6,
    "start_time": "2021-06-22T21:37:09.679Z"
   },
   {
    "duration": 6682,
    "start_time": "2021-06-22T21:37:12.499Z"
   },
   {
    "duration": 6,
    "start_time": "2021-06-22T21:37:27.239Z"
   },
   {
    "duration": 14,
    "start_time": "2021-06-22T21:37:28.859Z"
   },
   {
    "duration": 4,
    "start_time": "2021-06-22T21:38:18.488Z"
   },
   {
    "duration": 7,
    "start_time": "2021-06-22T21:38:26.698Z"
   },
   {
    "duration": 15,
    "start_time": "2021-06-22T21:38:29.859Z"
   },
   {
    "duration": 5477,
    "start_time": "2021-06-22T21:38:45.078Z"
   },
   {
    "duration": 711,
    "start_time": "2021-06-22T21:38:59.978Z"
   },
   {
    "duration": 5918,
    "start_time": "2021-06-22T21:39:12.039Z"
   },
   {
    "duration": 5664,
    "start_time": "2021-06-22T21:39:43.999Z"
   },
   {
    "duration": 937,
    "start_time": "2021-06-22T21:39:55.922Z"
   },
   {
    "duration": 17,
    "start_time": "2021-06-22T21:40:01.799Z"
   },
   {
    "duration": 17,
    "start_time": "2021-06-22T21:40:04.299Z"
   },
   {
    "duration": 37,
    "start_time": "2021-06-22T21:40:06.798Z"
   },
   {
    "duration": 49,
    "start_time": "2021-06-22T21:40:10.518Z"
   },
   {
    "duration": 5,
    "start_time": "2021-06-22T21:40:11.347Z"
   },
   {
    "duration": 9236,
    "start_time": "2021-06-22T21:40:12.858Z"
   },
   {
    "duration": 130,
    "start_time": "2021-06-22T21:40:22.899Z"
   },
   {
    "duration": 10767,
    "start_time": "2021-06-22T21:40:25.699Z"
   },
   {
    "duration": 83,
    "start_time": "2021-06-22T21:40:42.318Z"
   },
   {
    "duration": 2303,
    "start_time": "2021-06-22T21:40:44.259Z"
   },
   {
    "duration": 20927,
    "start_time": "2021-06-22T21:40:48.540Z"
   },
   {
    "duration": 4,
    "start_time": "2021-06-22T21:48:09.999Z"
   },
   {
    "duration": 7,
    "start_time": "2021-06-22T21:48:16.179Z"
   },
   {
    "duration": 14,
    "start_time": "2021-06-22T21:48:18.059Z"
   },
   {
    "duration": 5,
    "start_time": "2021-06-22T21:48:30.862Z"
   },
   {
    "duration": 6,
    "start_time": "2021-06-22T21:48:33.993Z"
   },
   {
    "duration": 14,
    "start_time": "2021-06-22T21:48:35.456Z"
   },
   {
    "duration": 345,
    "start_time": "2021-06-22T21:49:00.409Z"
   },
   {
    "duration": 7,
    "start_time": "2021-06-22T21:49:08.927Z"
   },
   {
    "duration": 14,
    "start_time": "2021-06-22T21:49:09.997Z"
   },
   {
    "duration": 334,
    "start_time": "2021-06-22T21:49:26.359Z"
   },
   {
    "duration": 333,
    "start_time": "2021-06-22T21:49:30.378Z"
   },
   {
    "duration": 7,
    "start_time": "2021-06-22T21:49:35.499Z"
   },
   {
    "duration": 14,
    "start_time": "2021-06-22T21:49:36.558Z"
   },
   {
    "duration": 4353,
    "start_time": "2021-06-22T21:49:57.599Z"
   },
   {
    "duration": 18,
    "start_time": "2021-06-22T21:50:08.827Z"
   },
   {
    "duration": 34,
    "start_time": "2021-06-22T21:50:10.507Z"
   },
   {
    "duration": 47,
    "start_time": "2021-06-22T21:50:15.479Z"
   },
   {
    "duration": 5,
    "start_time": "2021-06-22T21:50:16.638Z"
   },
   {
    "duration": 8880,
    "start_time": "2021-06-22T21:50:17.998Z"
   },
   {
    "duration": 136,
    "start_time": "2021-06-22T21:50:27.779Z"
   },
   {
    "duration": 3,
    "start_time": "2021-06-22T21:50:28.859Z"
   },
   {
    "duration": 10181,
    "start_time": "2021-06-22T21:50:32.959Z"
   },
   {
    "duration": 13,
    "start_time": "2021-06-22T21:51:01.738Z"
   },
   {
    "duration": 88,
    "start_time": "2021-06-22T21:51:03.779Z"
   },
   {
    "duration": 2240,
    "start_time": "2021-06-22T21:51:05.019Z"
   },
   {
    "duration": 6,
    "start_time": "2021-06-22T21:51:09.639Z"
   },
   {
    "duration": 21779,
    "start_time": "2021-06-22T21:51:12.989Z"
   },
   {
    "duration": 1564,
    "start_time": "2021-06-22T22:16:16.035Z"
   },
   {
    "duration": 5,
    "start_time": "2021-06-22T22:16:20.093Z"
   },
   {
    "duration": 4,
    "start_time": "2021-06-22T22:16:22.047Z"
   },
   {
    "duration": 7,
    "start_time": "2021-06-22T22:16:23.667Z"
   },
   {
    "duration": 7,
    "start_time": "2021-06-22T22:16:27.394Z"
   },
   {
    "duration": 1303,
    "start_time": "2021-06-22T22:16:29.923Z"
   },
   {
    "duration": 4,
    "start_time": "2021-06-22T22:17:02.389Z"
   },
   {
    "duration": 1560,
    "start_time": "2021-06-22T22:17:26.547Z"
   },
   {
    "duration": 4,
    "start_time": "2021-06-22T22:17:34.322Z"
   },
   {
    "duration": 5420,
    "start_time": "2021-06-22T22:17:38.876Z"
   },
   {
    "duration": 4,
    "start_time": "2021-06-22T22:17:51.806Z"
   },
   {
    "duration": 1209,
    "start_time": "2021-06-22T22:17:55.354Z"
   },
   {
    "duration": 22,
    "start_time": "2021-06-22T22:18:01.590Z"
   },
   {
    "duration": 14,
    "start_time": "2021-06-22T22:18:05.386Z"
   },
   {
    "duration": 41,
    "start_time": "2021-06-22T22:18:07.287Z"
   },
   {
    "duration": 20,
    "start_time": "2021-06-22T22:18:10.505Z"
   },
   {
    "duration": 44,
    "start_time": "2021-06-22T22:18:21.835Z"
   },
   {
    "duration": 4,
    "start_time": "2021-06-22T22:18:26.005Z"
   },
   {
    "duration": 9660,
    "start_time": "2021-06-22T22:18:36.149Z"
   },
   {
    "duration": 165,
    "start_time": "2021-06-22T22:18:47.026Z"
   },
   {
    "duration": 4,
    "start_time": "2021-06-22T22:18:51.152Z"
   },
   {
    "duration": 9062,
    "start_time": "2021-06-22T22:18:52.236Z"
   },
   {
    "duration": 14,
    "start_time": "2021-06-22T22:19:12.467Z"
   },
   {
    "duration": 78,
    "start_time": "2021-06-22T22:19:15.215Z"
   },
   {
    "duration": 2431,
    "start_time": "2021-06-22T22:19:21.307Z"
   },
   {
    "duration": 17806,
    "start_time": "2021-06-22T22:19:26.034Z"
   },
   {
    "duration": 10,
    "start_time": "2021-06-22T22:20:43.415Z"
   },
   {
    "duration": 697,
    "start_time": "2021-06-22T22:21:21.776Z"
   },
   {
    "duration": 308,
    "start_time": "2021-06-22T22:21:35.227Z"
   },
   {
    "duration": 5016,
    "start_time": "2021-06-22T22:21:43.555Z"
   },
   {
    "duration": 10,
    "start_time": "2021-06-22T22:21:49.455Z"
   },
   {
    "duration": 14,
    "start_time": "2021-06-22T22:22:04.194Z"
   },
   {
    "duration": 30,
    "start_time": "2021-06-22T22:22:05.506Z"
   },
   {
    "duration": 47,
    "start_time": "2021-06-22T22:22:08.946Z"
   },
   {
    "duration": 9413,
    "start_time": "2021-06-22T22:22:14.346Z"
   },
   {
    "duration": 6,
    "start_time": "2021-06-22T22:22:23.761Z"
   },
   {
    "duration": 8421,
    "start_time": "2021-06-22T22:22:30.456Z"
   },
   {
    "duration": 15,
    "start_time": "2021-06-22T22:22:46.386Z"
   },
   {
    "duration": 8085,
    "start_time": "2021-06-22T22:22:57.043Z"
   },
   {
    "duration": 2436,
    "start_time": "2021-06-22T22:23:15.915Z"
   },
   {
    "duration": 11749,
    "start_time": "2021-06-22T22:23:20.843Z"
   },
   {
    "duration": 1616,
    "start_time": "2021-06-23T05:38:25.584Z"
   },
   {
    "duration": 6,
    "start_time": "2021-06-23T05:38:29.165Z"
   },
   {
    "duration": 5,
    "start_time": "2021-06-23T05:38:30.643Z"
   },
   {
    "duration": 7,
    "start_time": "2021-06-23T05:38:31.384Z"
   },
   {
    "duration": 8,
    "start_time": "2021-06-23T05:38:33.266Z"
   },
   {
    "duration": 763,
    "start_time": "2021-06-23T05:38:35.563Z"
   },
   {
    "duration": 16,
    "start_time": "2021-06-23T05:38:57.504Z"
   },
   {
    "duration": 40,
    "start_time": "2021-06-23T05:38:59.065Z"
   },
   {
    "duration": 21,
    "start_time": "2021-06-23T05:39:03.263Z"
   },
   {
    "duration": 45,
    "start_time": "2021-06-23T05:39:09.423Z"
   },
   {
    "duration": 10017,
    "start_time": "2021-06-23T05:39:16.152Z"
   },
   {
    "duration": 6,
    "start_time": "2021-06-23T05:39:27.512Z"
   },
   {
    "duration": 3,
    "start_time": "2021-06-23T05:39:30.203Z"
   },
   {
    "duration": 8852,
    "start_time": "2021-06-23T05:39:31.964Z"
   },
   {
    "duration": 15,
    "start_time": "2021-06-23T05:39:46.983Z"
   },
   {
    "duration": 32,
    "start_time": "2021-06-23T05:39:52.704Z"
   },
   {
    "duration": 2397,
    "start_time": "2021-06-23T05:39:56.004Z"
   },
   {
    "duration": 11813,
    "start_time": "2021-06-23T05:40:00.204Z"
   },
   {
    "duration": 412,
    "start_time": "2021-06-23T05:42:53.723Z"
   },
   {
    "duration": 264,
    "start_time": "2021-06-23T05:43:02.190Z"
   },
   {
    "duration": 272,
    "start_time": "2021-06-23T05:43:23.490Z"
   },
   {
    "duration": 270,
    "start_time": "2021-06-23T05:43:30.372Z"
   },
   {
    "duration": 589,
    "start_time": "2021-06-23T05:43:40.824Z"
   },
   {
    "duration": 9277,
    "start_time": "2021-06-23T05:44:34.385Z"
   },
   {
    "duration": 31,
    "start_time": "2021-06-23T05:45:45.751Z"
   },
   {
    "duration": 11539,
    "start_time": "2021-06-23T05:45:48.987Z"
   },
   {
    "duration": 11577,
    "start_time": "2021-06-23T05:46:19.544Z"
   },
   {
    "duration": 5,
    "start_time": "2021-06-23T07:18:10.800Z"
   },
   {
    "duration": 702,
    "start_time": "2021-06-23T07:18:17.198Z"
   },
   {
    "duration": 6,
    "start_time": "2021-06-23T07:19:14.860Z"
   },
   {
    "duration": 2289,
    "start_time": "2021-06-23T07:19:22.757Z"
   },
   {
    "duration": 7,
    "start_time": "2021-06-23T07:19:40.450Z"
   },
   {
    "duration": 8292,
    "start_time": "2021-06-23T07:19:47.438Z"
   },
   {
    "duration": 11,
    "start_time": "2021-06-23T07:19:56.930Z"
   },
   {
    "duration": 748,
    "start_time": "2021-06-23T07:20:05.690Z"
   },
   {
    "duration": 6,
    "start_time": "2021-06-23T07:20:43.819Z"
   },
   {
    "duration": 8284,
    "start_time": "2021-06-23T07:20:49.727Z"
   },
   {
    "duration": 10,
    "start_time": "2021-06-23T07:20:59.169Z"
   },
   {
    "duration": 4,
    "start_time": "2021-06-23T07:21:02.219Z"
   },
   {
    "duration": 949,
    "start_time": "2021-06-23T07:21:04.926Z"
   },
   {
    "duration": 15,
    "start_time": "2021-06-23T07:21:08.959Z"
   },
   {
    "duration": 18,
    "start_time": "2021-06-23T07:21:11.759Z"
   },
   {
    "duration": 35,
    "start_time": "2021-06-23T07:21:12.812Z"
   },
   {
    "duration": 47,
    "start_time": "2021-06-23T07:21:17.117Z"
   },
   {
    "duration": 4,
    "start_time": "2021-06-23T07:21:18.318Z"
   },
   {
    "duration": 9223,
    "start_time": "2021-06-23T07:21:19.810Z"
   },
   {
    "duration": 153,
    "start_time": "2021-06-23T07:21:29.036Z"
   },
   {
    "duration": 4,
    "start_time": "2021-06-23T07:21:33.329Z"
   },
   {
    "duration": 11354,
    "start_time": "2021-06-23T07:21:40.078Z"
   },
   {
    "duration": 497,
    "start_time": "2021-06-23T07:22:24.010Z"
   },
   {
    "duration": 1028,
    "start_time": "2021-06-23T07:22:47.410Z"
   },
   {
    "duration": 6,
    "start_time": "2021-06-23T07:22:58.613Z"
   },
   {
    "duration": 1075,
    "start_time": "2021-06-23T07:23:11.239Z"
   },
   {
    "duration": 9008,
    "start_time": "2021-06-23T07:24:15.959Z"
   },
   {
    "duration": 13,
    "start_time": "2021-06-23T07:24:41.531Z"
   },
   {
    "duration": 68,
    "start_time": "2021-06-23T07:24:48.339Z"
   },
   {
    "duration": 2318,
    "start_time": "2021-06-23T07:24:57.878Z"
   },
   {
    "duration": 36,
    "start_time": "2021-06-23T07:25:27.650Z"
   },
   {
    "duration": 99,
    "start_time": "2021-06-23T07:26:00.450Z"
   },
   {
    "duration": 17329,
    "start_time": "2021-06-23T07:26:25.085Z"
   },
   {
    "duration": 1504,
    "start_time": "2021-06-23T07:32:37.079Z"
   },
   {
    "duration": 5,
    "start_time": "2021-06-23T07:32:38.587Z"
   },
   {
    "duration": 3,
    "start_time": "2021-06-23T07:32:38.602Z"
   },
   {
    "duration": 7,
    "start_time": "2021-06-23T07:32:38.608Z"
   },
   {
    "duration": 9,
    "start_time": "2021-06-23T07:32:38.618Z"
   },
   {
    "duration": 772,
    "start_time": "2021-06-23T07:32:38.629Z"
   },
   {
    "duration": 34,
    "start_time": "2021-06-23T07:32:39.404Z"
   },
   {
    "duration": 214,
    "start_time": "2021-06-23T07:32:39.442Z"
   },
   {
    "duration": 5,
    "start_time": "2021-06-23T07:32:39.660Z"
   },
   {
    "duration": 7817,
    "start_time": "2021-06-23T07:32:39.667Z"
   },
   {
    "duration": 4,
    "start_time": "2021-06-23T07:32:47.486Z"
   },
   {
    "duration": 961,
    "start_time": "2021-06-23T07:32:47.492Z"
   },
   {
    "duration": 60,
    "start_time": "2021-06-23T07:32:48.455Z"
   },
   {
    "duration": 442,
    "start_time": "2021-06-23T07:32:48.518Z"
   },
   {
    "duration": 18,
    "start_time": "2021-06-23T07:32:48.963Z"
   },
   {
    "duration": 30,
    "start_time": "2021-06-23T07:32:48.983Z"
   },
   {
    "duration": 18,
    "start_time": "2021-06-23T07:32:49.015Z"
   },
   {
    "duration": 33,
    "start_time": "2021-06-23T07:32:49.035Z"
   },
   {
    "duration": 39,
    "start_time": "2021-06-23T07:32:49.071Z"
   },
   {
    "duration": 44,
    "start_time": "2021-06-23T07:32:49.112Z"
   },
   {
    "duration": 14,
    "start_time": "2021-06-23T07:32:49.159Z"
   },
   {
    "duration": 9325,
    "start_time": "2021-06-23T07:32:49.175Z"
   },
   {
    "duration": 174,
    "start_time": "2021-06-23T07:32:58.508Z"
   },
   {
    "duration": 3,
    "start_time": "2021-06-23T07:32:58.685Z"
   },
   {
    "duration": 10988,
    "start_time": "2021-06-23T07:32:58.691Z"
   },
   {
    "duration": 1065,
    "start_time": "2021-06-23T07:33:09.681Z"
   },
   {
    "duration": 8878,
    "start_time": "2021-06-23T07:33:10.748Z"
   },
   {
    "duration": 17894,
    "start_time": "2021-06-23T07:33:19.629Z"
   },
   {
    "duration": 3,
    "start_time": "2021-06-23T07:33:37.526Z"
   },
   {
    "duration": 10,
    "start_time": "2021-06-23T07:33:37.531Z"
   },
   {
    "duration": 8493,
    "start_time": "2021-06-23T07:33:37.544Z"
   },
   {
    "duration": 5,
    "start_time": "2021-06-23T07:33:46.040Z"
   },
   {
    "duration": 9,
    "start_time": "2021-06-23T07:33:46.047Z"
   },
   {
    "duration": 38653,
    "start_time": "2021-06-23T07:33:46.058Z"
   },
   {
    "duration": 13,
    "start_time": "2021-06-23T07:34:24.714Z"
   },
   {
    "duration": 76,
    "start_time": "2021-06-23T07:34:24.730Z"
   },
   {
    "duration": 2341,
    "start_time": "2021-06-23T07:34:24.809Z"
   },
   {
    "duration": 131,
    "start_time": "2021-06-23T07:34:27.153Z"
   },
   {
    "duration": 16926,
    "start_time": "2021-06-23T07:34:27.287Z"
   },
   {
    "duration": 7,
    "start_time": "2021-06-23T07:41:12.833Z"
   },
   {
    "duration": 1591,
    "start_time": "2021-06-23T07:50:25.869Z"
   },
   {
    "duration": 8,
    "start_time": "2021-06-23T07:50:27.463Z"
   },
   {
    "duration": 8,
    "start_time": "2021-06-23T07:50:27.475Z"
   },
   {
    "duration": 16,
    "start_time": "2021-06-23T07:50:27.486Z"
   },
   {
    "duration": 6,
    "start_time": "2021-06-23T07:50:27.504Z"
   },
   {
    "duration": 6,
    "start_time": "2021-06-23T07:50:27.513Z"
   },
   {
    "duration": 8,
    "start_time": "2021-06-23T07:50:27.522Z"
   },
   {
    "duration": 776,
    "start_time": "2021-06-23T07:50:27.534Z"
   },
   {
    "duration": 31,
    "start_time": "2021-06-23T07:50:28.315Z"
   },
   {
    "duration": 210,
    "start_time": "2021-06-23T07:50:28.349Z"
   },
   {
    "duration": 8024,
    "start_time": "2021-06-23T07:50:28.562Z"
   },
   {
    "duration": 998,
    "start_time": "2021-06-23T07:50:36.588Z"
   },
   {
    "duration": 52,
    "start_time": "2021-06-23T07:50:37.588Z"
   },
   {
    "duration": 549,
    "start_time": "2021-06-23T07:50:37.643Z"
   },
   {
    "duration": 17,
    "start_time": "2021-06-23T07:50:38.200Z"
   },
   {
    "duration": 14,
    "start_time": "2021-06-23T07:50:38.219Z"
   },
   {
    "duration": 14,
    "start_time": "2021-06-23T07:50:38.236Z"
   },
   {
    "duration": 64,
    "start_time": "2021-06-23T07:50:38.253Z"
   },
   {
    "duration": 15,
    "start_time": "2021-06-23T07:50:38.320Z"
   },
   {
    "duration": 63,
    "start_time": "2021-06-23T07:50:38.338Z"
   },
   {
    "duration": 5,
    "start_time": "2021-06-23T07:50:38.404Z"
   },
   {
    "duration": 9167,
    "start_time": "2021-06-23T07:50:38.411Z"
   },
   {
    "duration": 167,
    "start_time": "2021-06-23T07:50:47.583Z"
   },
   {
    "duration": 3,
    "start_time": "2021-06-23T07:50:47.753Z"
   },
   {
    "duration": 11115,
    "start_time": "2021-06-23T07:50:47.759Z"
   },
   {
    "duration": 1048,
    "start_time": "2021-06-23T07:50:58.877Z"
   },
   {
    "duration": 9016,
    "start_time": "2021-06-23T07:50:59.928Z"
   },
   {
    "duration": 17461,
    "start_time": "2021-06-23T07:51:08.946Z"
   },
   {
    "duration": 5,
    "start_time": "2021-06-23T07:51:26.410Z"
   },
   {
    "duration": 12,
    "start_time": "2021-06-23T07:51:26.418Z"
   },
   {
    "duration": 8648,
    "start_time": "2021-06-23T07:51:26.432Z"
   },
   {
    "duration": 5,
    "start_time": "2021-06-23T07:51:35.083Z"
   },
   {
    "duration": 4,
    "start_time": "2021-06-23T07:51:35.101Z"
   },
   {
    "duration": 42120,
    "start_time": "2021-06-23T07:51:35.107Z"
   },
   {
    "duration": 14,
    "start_time": "2021-06-23T07:52:17.230Z"
   },
   {
    "duration": 31,
    "start_time": "2021-06-23T07:52:17.301Z"
   },
   {
    "duration": 2228,
    "start_time": "2021-06-23T07:52:17.334Z"
   },
   {
    "duration": 113,
    "start_time": "2021-06-23T07:52:19.564Z"
   },
   {
    "duration": 17231,
    "start_time": "2021-06-23T07:52:19.680Z"
   },
   {
    "duration": 1085,
    "start_time": "2021-06-23T09:13:44.633Z"
   },
   {
    "duration": 4,
    "start_time": "2021-06-23T09:13:45.720Z"
   },
   {
    "duration": 9,
    "start_time": "2021-06-23T09:13:45.725Z"
   },
   {
    "duration": 3,
    "start_time": "2021-06-23T09:13:46.888Z"
   },
   {
    "duration": 3,
    "start_time": "2021-06-23T09:13:48.223Z"
   },
   {
    "duration": 5,
    "start_time": "2021-06-23T09:13:48.458Z"
   },
   {
    "duration": 5,
    "start_time": "2021-06-23T09:13:48.670Z"
   },
   {
    "duration": 599,
    "start_time": "2021-06-23T09:13:50.372Z"
   },
   {
    "duration": 26,
    "start_time": "2021-06-23T09:13:53.559Z"
   },
   {
    "duration": 124,
    "start_time": "2021-06-23T09:13:54.207Z"
   },
   {
    "duration": 5257,
    "start_time": "2021-06-23T09:14:04.030Z"
   },
   {
    "duration": 717,
    "start_time": "2021-06-23T09:14:09.289Z"
   },
   {
    "duration": 41,
    "start_time": "2021-06-23T09:14:10.008Z"
   },
   {
    "duration": 283,
    "start_time": "2021-06-23T09:14:13.623Z"
   },
   {
    "duration": 13,
    "start_time": "2021-06-23T09:14:14.223Z"
   },
   {
    "duration": 11,
    "start_time": "2021-06-23T09:14:14.935Z"
   },
   {
    "duration": 257,
    "start_time": "2021-06-23T09:14:38.056Z"
   },
   {
    "duration": 7,
    "start_time": "2021-06-23T09:14:44.552Z"
   },
   {
    "duration": 12,
    "start_time": "2021-06-23T09:15:08.526Z"
   },
   {
    "duration": 28,
    "start_time": "2021-06-23T09:15:09.752Z"
   },
   {
    "duration": 10,
    "start_time": "2021-06-23T09:15:12.703Z"
   },
   {
    "duration": 35,
    "start_time": "2021-06-23T09:15:16.049Z"
   },
   {
    "duration": 193,
    "start_time": "2021-06-23T09:15:29.327Z"
   },
   {
    "duration": 3,
    "start_time": "2021-06-23T09:15:41.463Z"
   },
   {
    "duration": 5694,
    "start_time": "2021-06-23T09:15:42.452Z"
   },
   {
    "duration": 136,
    "start_time": "2021-06-23T09:15:48.148Z"
   },
   {
    "duration": 2,
    "start_time": "2021-06-23T09:16:21.264Z"
   },
   {
    "duration": 641,
    "start_time": "2021-06-23T09:16:26.156Z"
   },
   {
    "duration": 3,
    "start_time": "2021-06-23T09:16:41.203Z"
   },
   {
    "duration": 186,
    "start_time": "2021-06-23T09:17:19.569Z"
   },
   {
    "duration": 4,
    "start_time": "2021-06-23T09:17:32.256Z"
   },
   {
    "duration": 3917,
    "start_time": "2021-06-23T09:21:08.843Z"
   },
   {
    "duration": 29141,
    "start_time": "2021-06-23T09:27:39.166Z"
   },
   {
    "duration": 179,
    "start_time": "2021-06-23T09:29:30.625Z"
   },
   {
    "duration": 28886,
    "start_time": "2021-06-23T09:30:11.348Z"
   },
   {
    "duration": 1585,
    "start_time": "2021-06-23T12:17:30.382Z"
   },
   {
    "duration": 6,
    "start_time": "2021-06-23T12:17:34.863Z"
   },
   {
    "duration": 4,
    "start_time": "2021-06-23T12:17:37.003Z"
   },
   {
    "duration": 4,
    "start_time": "2021-06-23T12:17:38.342Z"
   },
   {
    "duration": 5,
    "start_time": "2021-06-23T12:17:39.523Z"
   },
   {
    "duration": 7,
    "start_time": "2021-06-23T12:17:40.583Z"
   },
   {
    "duration": 7,
    "start_time": "2021-06-23T12:17:42.564Z"
   },
   {
    "duration": 776,
    "start_time": "2021-06-23T12:17:46.022Z"
   },
   {
    "duration": 8636,
    "start_time": "2021-06-23T12:17:57.342Z"
   },
   {
    "duration": 1011,
    "start_time": "2021-06-23T12:18:07.083Z"
   },
   {
    "duration": 15,
    "start_time": "2021-06-23T12:18:14.335Z"
   },
   {
    "duration": 10,
    "start_time": "2021-06-23T12:18:18.522Z"
   },
   {
    "duration": 13,
    "start_time": "2021-06-23T12:18:32.502Z"
   },
   {
    "duration": 35,
    "start_time": "2021-06-23T12:18:33.784Z"
   },
   {
    "duration": 44,
    "start_time": "2021-06-23T12:18:43.522Z"
   },
   {
    "duration": 5,
    "start_time": "2021-06-23T12:18:45.523Z"
   },
   {
    "duration": 10337,
    "start_time": "2021-06-23T12:18:50.696Z"
   },
   {
    "duration": 165,
    "start_time": "2021-06-23T12:19:02.363Z"
   },
   {
    "duration": 4,
    "start_time": "2021-06-23T12:19:07.142Z"
   },
   {
    "duration": 11460,
    "start_time": "2021-06-23T12:19:09.943Z"
   },
   {
    "duration": 655237,
    "start_time": "2021-06-23T12:19:40.503Z"
   },
   {
    "duration": 29332,
    "start_time": "2021-06-23T12:31:02.529Z"
   },
   {
    "duration": 456,
    "start_time": "2021-06-23T12:32:44.952Z"
   },
   {
    "duration": 5,
    "start_time": "2021-06-23T12:35:02.045Z"
   },
   {
    "duration": 6,
    "start_time": "2021-06-23T12:35:11.292Z"
   },
   {
    "duration": 6,
    "start_time": "2021-06-23T12:35:20.792Z"
   },
   {
    "duration": 647992,
    "start_time": "2021-06-23T12:37:56.852Z"
   },
   {
    "duration": 304,
    "start_time": "2021-06-23T12:49:13.072Z"
   },
   {
    "duration": 5,
    "start_time": "2021-06-23T12:49:18.811Z"
   },
   {
    "duration": 5,
    "start_time": "2021-06-23T12:49:29.911Z"
   },
   {
    "duration": 6,
    "start_time": "2021-06-23T12:49:54.071Z"
   },
   {
    "duration": 29412,
    "start_time": "2021-06-23T12:50:21.153Z"
   },
   {
    "duration": 29611,
    "start_time": "2021-06-23T12:51:36.553Z"
   },
   {
    "duration": 3,
    "start_time": "2021-06-23T12:52:08.672Z"
   },
   {
    "duration": 146,
    "start_time": "2021-06-23T12:54:07.132Z"
   },
   {
    "duration": 454440,
    "start_time": "2021-06-23T12:54:39.556Z"
   },
   {
    "duration": 8063,
    "start_time": "2021-06-23T13:03:16.011Z"
   },
   {
    "duration": 3,
    "start_time": "2021-06-23T13:04:00.311Z"
   },
   {
    "duration": 6,
    "start_time": "2021-06-23T13:04:56.470Z"
   },
   {
    "duration": 504,
    "start_time": "2021-06-23T13:20:10.984Z"
   },
   {
    "duration": 6,
    "start_time": "2021-06-23T13:20:21.861Z"
   },
   {
    "duration": 28604,
    "start_time": "2021-06-23T13:27:09.533Z"
   },
   {
    "duration": 300,
    "start_time": "2021-06-23T13:34:35.754Z"
   },
   {
    "duration": 5,
    "start_time": "2021-06-23T13:34:48.793Z"
   },
   {
    "duration": 968,
    "start_time": "2021-06-23T13:36:44.435Z"
   },
   {
    "duration": 470,
    "start_time": "2021-06-23T13:37:31.574Z"
   },
   {
    "duration": 474885,
    "start_time": "2021-06-23T13:39:13.442Z"
   },
   {
    "duration": 1353296,
    "start_time": "2021-06-23T13:51:40.419Z"
   },
   {
    "duration": 11436,
    "start_time": "2021-06-23T14:15:47.053Z"
   },
   {
    "duration": 309,
    "start_time": "2021-06-23T14:16:15.574Z"
   },
   {
    "duration": 40829,
    "start_time": "2021-06-23T14:16:28.993Z"
   },
   {
    "duration": 19,
    "start_time": "2021-06-23T14:17:51.472Z"
   },
   {
    "duration": 13,
    "start_time": "2021-06-23T14:18:00.854Z"
   },
   {
    "duration": 1490,
    "start_time": "2021-06-23T16:02:39.703Z"
   },
   {
    "duration": 6,
    "start_time": "2021-06-23T16:02:43.231Z"
   },
   {
    "duration": 5,
    "start_time": "2021-06-23T16:02:44.807Z"
   },
   {
    "duration": 4,
    "start_time": "2021-06-23T16:02:46.774Z"
   },
   {
    "duration": 6,
    "start_time": "2021-06-23T16:02:48.369Z"
   },
   {
    "duration": 7,
    "start_time": "2021-06-23T16:02:53.339Z"
   },
   {
    "duration": 7,
    "start_time": "2021-06-23T16:02:55.259Z"
   },
   {
    "duration": 745,
    "start_time": "2021-06-23T16:02:58.174Z"
   },
   {
    "duration": 8137,
    "start_time": "2021-06-23T16:03:03.772Z"
   },
   {
    "duration": 973,
    "start_time": "2021-06-23T16:03:12.923Z"
   },
   {
    "duration": 16,
    "start_time": "2021-06-23T16:03:18.082Z"
   },
   {
    "duration": 10,
    "start_time": "2021-06-23T16:03:20.752Z"
   },
   {
    "duration": 14,
    "start_time": "2021-06-23T16:03:27.825Z"
   },
   {
    "duration": 37,
    "start_time": "2021-06-23T16:03:29.993Z"
   },
   {
    "duration": 44,
    "start_time": "2021-06-23T16:03:36.821Z"
   },
   {
    "duration": 5,
    "start_time": "2021-06-23T16:03:38.144Z"
   },
   {
    "duration": 9446,
    "start_time": "2021-06-23T16:03:40.913Z"
   },
   {
    "duration": 167,
    "start_time": "2021-06-23T16:03:52.104Z"
   },
   {
    "duration": 4,
    "start_time": "2021-06-23T16:03:56.477Z"
   },
   {
    "duration": 6879,
    "start_time": "2021-06-23T16:04:01.696Z"
   },
   {
    "duration": 3,
    "start_time": "2021-06-23T16:08:34.660Z"
   },
   {
    "duration": 3,
    "start_time": "2021-06-23T16:08:48.464Z"
   },
   {
    "duration": 4,
    "start_time": "2021-06-23T16:09:59.837Z"
   },
   {
    "duration": 6,
    "start_time": "2021-06-23T16:10:06.446Z"
   },
   {
    "duration": 6,
    "start_time": "2021-06-23T16:10:09.652Z"
   },
   {
    "duration": 3,
    "start_time": "2021-06-23T16:10:16.358Z"
   },
   {
    "duration": 4,
    "start_time": "2021-06-23T16:13:46.117Z"
   },
   {
    "duration": 4,
    "start_time": "2021-06-23T16:17:51.837Z"
   },
   {
    "duration": 426,
    "start_time": "2021-06-23T16:18:36.041Z"
   },
   {
    "duration": 6,
    "start_time": "2021-06-23T16:20:03.297Z"
   },
   {
    "duration": 364,
    "start_time": "2021-06-23T16:20:07.498Z"
   },
   {
    "duration": 89,
    "start_time": "2021-06-23T16:20:16.625Z"
   },
   {
    "duration": 2228,
    "start_time": "2021-06-23T16:20:22.877Z"
   },
   {
    "duration": 8883,
    "start_time": "2021-06-23T16:21:27.919Z"
   },
   {
    "duration": 8720,
    "start_time": "2021-06-23T16:21:48.398Z"
   },
   {
    "duration": 1505,
    "start_time": "2021-06-23T16:27:28.802Z"
   },
   {
    "duration": 6,
    "start_time": "2021-06-23T16:27:30.310Z"
   },
   {
    "duration": 7,
    "start_time": "2021-06-23T16:27:30.319Z"
   },
   {
    "duration": 12,
    "start_time": "2021-06-23T16:27:30.329Z"
   },
   {
    "duration": 13,
    "start_time": "2021-06-23T16:27:30.343Z"
   },
   {
    "duration": 15,
    "start_time": "2021-06-23T16:27:30.359Z"
   },
   {
    "duration": 10,
    "start_time": "2021-06-23T16:27:30.376Z"
   },
   {
    "duration": 790,
    "start_time": "2021-06-23T16:27:30.389Z"
   },
   {
    "duration": 37,
    "start_time": "2021-06-23T16:27:31.184Z"
   },
   {
    "duration": 222,
    "start_time": "2021-06-23T16:27:31.225Z"
   },
   {
    "duration": 8173,
    "start_time": "2021-06-23T16:27:31.450Z"
   },
   {
    "duration": 975,
    "start_time": "2021-06-23T16:27:39.626Z"
   },
   {
    "duration": 47,
    "start_time": "2021-06-23T16:27:40.603Z"
   },
   {
    "duration": 455,
    "start_time": "2021-06-23T16:27:40.653Z"
   },
   {
    "duration": 17,
    "start_time": "2021-06-23T16:27:41.111Z"
   },
   {
    "duration": 14,
    "start_time": "2021-06-23T16:27:41.130Z"
   },
   {
    "duration": 13,
    "start_time": "2021-06-23T16:27:41.146Z"
   },
   {
    "duration": 48,
    "start_time": "2021-06-23T16:27:41.161Z"
   },
   {
    "duration": 41,
    "start_time": "2021-06-23T16:27:41.211Z"
   },
   {
    "duration": 16,
    "start_time": "2021-06-23T16:27:41.254Z"
   },
   {
    "duration": 70,
    "start_time": "2021-06-23T16:27:41.272Z"
   },
   {
    "duration": 5,
    "start_time": "2021-06-23T16:27:41.345Z"
   },
   {
    "duration": 9106,
    "start_time": "2021-06-23T16:27:41.353Z"
   },
   {
    "duration": 167,
    "start_time": "2021-06-23T16:27:50.461Z"
   },
   {
    "duration": 4,
    "start_time": "2021-06-23T16:27:50.631Z"
   },
   {
    "duration": 7,
    "start_time": "2021-06-23T16:27:50.637Z"
   },
   {
    "duration": 12,
    "start_time": "2021-06-23T16:27:50.649Z"
   },
   {
    "duration": 10,
    "start_time": "2021-06-23T16:27:50.663Z"
   },
   {
    "duration": 6374,
    "start_time": "2021-06-23T16:27:50.675Z"
   },
   {
    "duration": 4,
    "start_time": "2021-06-23T16:27:57.052Z"
   },
   {
    "duration": 6,
    "start_time": "2021-06-23T16:27:57.058Z"
   },
   {
    "duration": 9,
    "start_time": "2021-06-23T16:27:57.067Z"
   },
   {
    "duration": 28368,
    "start_time": "2021-06-23T16:27:57.078Z"
   },
   {
    "duration": 4,
    "start_time": "2021-06-23T16:28:25.449Z"
   },
   {
    "duration": 7,
    "start_time": "2021-06-23T16:28:25.455Z"
   },
   {
    "duration": 5,
    "start_time": "2021-06-23T16:28:25.465Z"
   },
   {
    "duration": 34,
    "start_time": "2021-06-23T16:28:25.473Z"
   },
   {
    "duration": 7,
    "start_time": "2021-06-23T16:28:25.509Z"
   },
   {
    "duration": 11998,
    "start_time": "2021-06-23T16:28:25.518Z"
   },
   {
    "duration": 5,
    "start_time": "2021-06-23T16:28:37.518Z"
   },
   {
    "duration": 25,
    "start_time": "2021-06-23T16:28:37.525Z"
   },
   {
    "duration": 39965,
    "start_time": "2021-06-23T16:28:37.553Z"
   },
   {
    "duration": 13,
    "start_time": "2021-06-23T16:29:17.521Z"
   },
   {
    "duration": 6,
    "start_time": "2021-06-23T16:29:17.537Z"
   },
   {
    "duration": 123,
    "start_time": "2021-06-23T16:29:17.546Z"
   },
   {
    "duration": 2273,
    "start_time": "2021-06-23T16:29:17.672Z"
   },
   {
    "duration": 8789,
    "start_time": "2021-06-23T16:29:19.948Z"
   },
   {
    "duration": 14,
    "start_time": "2021-06-23T16:30:07.645Z"
   },
   {
    "duration": 5,
    "start_time": "2021-06-23T16:30:15.046Z"
   },
   {
    "duration": 13,
    "start_time": "2021-06-23T16:30:49.004Z"
   },
   {
    "duration": 5,
    "start_time": "2021-06-23T16:43:21.651Z"
   },
   {
    "duration": 7,
    "start_time": "2021-06-23T16:43:35.147Z"
   },
   {
    "duration": 6,
    "start_time": "2021-06-23T16:45:47.169Z"
   },
   {
    "duration": 5,
    "start_time": "2021-06-23T16:46:04.569Z"
   },
   {
    "duration": 1537,
    "start_time": "2021-06-23T16:49:30.084Z"
   },
   {
    "duration": 6,
    "start_time": "2021-06-23T16:49:31.624Z"
   },
   {
    "duration": 31,
    "start_time": "2021-06-23T16:49:31.632Z"
   },
   {
    "duration": 13,
    "start_time": "2021-06-23T16:49:31.665Z"
   },
   {
    "duration": 16,
    "start_time": "2021-06-23T16:49:31.680Z"
   },
   {
    "duration": 9,
    "start_time": "2021-06-23T16:49:31.698Z"
   },
   {
    "duration": 18,
    "start_time": "2021-06-23T16:49:31.710Z"
   },
   {
    "duration": 787,
    "start_time": "2021-06-23T16:49:31.734Z"
   },
   {
    "duration": 34,
    "start_time": "2021-06-23T16:49:32.525Z"
   },
   {
    "duration": 213,
    "start_time": "2021-06-23T16:49:32.562Z"
   },
   {
    "duration": 8148,
    "start_time": "2021-06-23T16:49:32.777Z"
   },
   {
    "duration": 1067,
    "start_time": "2021-06-23T16:49:40.928Z"
   },
   {
    "duration": 47,
    "start_time": "2021-06-23T16:49:41.997Z"
   },
   {
    "duration": 475,
    "start_time": "2021-06-23T16:49:42.047Z"
   },
   {
    "duration": 19,
    "start_time": "2021-06-23T16:49:42.524Z"
   },
   {
    "duration": 13,
    "start_time": "2021-06-23T16:49:42.545Z"
   },
   {
    "duration": 39,
    "start_time": "2021-06-23T16:49:42.561Z"
   },
   {
    "duration": 14,
    "start_time": "2021-06-23T16:49:42.602Z"
   },
   {
    "duration": 33,
    "start_time": "2021-06-23T16:49:42.618Z"
   },
   {
    "duration": 48,
    "start_time": "2021-06-23T16:49:42.654Z"
   },
   {
    "duration": 45,
    "start_time": "2021-06-23T16:49:42.704Z"
   },
   {
    "duration": 7,
    "start_time": "2021-06-23T16:49:42.752Z"
   },
   {
    "duration": 9550,
    "start_time": "2021-06-23T16:49:42.766Z"
   },
   {
    "duration": 170,
    "start_time": "2021-06-23T16:49:52.320Z"
   },
   {
    "duration": 4,
    "start_time": "2021-06-23T16:49:52.492Z"
   },
   {
    "duration": 4,
    "start_time": "2021-06-23T16:49:52.501Z"
   },
   {
    "duration": 8,
    "start_time": "2021-06-23T16:49:52.507Z"
   },
   {
    "duration": 10,
    "start_time": "2021-06-23T16:49:52.517Z"
   },
   {
    "duration": 7776,
    "start_time": "2021-06-23T16:49:52.529Z"
   },
   {
    "duration": 3,
    "start_time": "2021-06-23T16:50:00.308Z"
   },
   {
    "duration": 27,
    "start_time": "2021-06-23T16:50:00.314Z"
   },
   {
    "duration": 26,
    "start_time": "2021-06-23T16:50:00.343Z"
   },
   {
    "duration": 28379,
    "start_time": "2021-06-23T16:50:00.372Z"
   },
   {
    "duration": 3,
    "start_time": "2021-06-23T16:50:28.753Z"
   },
   {
    "duration": 20,
    "start_time": "2021-06-23T16:50:28.758Z"
   },
   {
    "duration": 9,
    "start_time": "2021-06-23T16:50:28.780Z"
   },
   {
    "duration": 17,
    "start_time": "2021-06-23T16:50:28.791Z"
   },
   {
    "duration": 9,
    "start_time": "2021-06-23T16:50:28.811Z"
   },
   {
    "duration": 11065,
    "start_time": "2021-06-23T16:50:28.822Z"
   },
   {
    "duration": 11,
    "start_time": "2021-06-23T16:50:39.890Z"
   },
   {
    "duration": 4,
    "start_time": "2021-06-23T16:50:39.904Z"
   },
   {
    "duration": 40317,
    "start_time": "2021-06-23T16:50:39.911Z"
   },
   {
    "duration": 16,
    "start_time": "2021-06-23T16:51:20.230Z"
   },
   {
    "duration": 100,
    "start_time": "2021-06-23T16:51:20.301Z"
   },
   {
    "duration": 2358,
    "start_time": "2021-06-23T16:51:20.403Z"
   },
   {
    "duration": 8537,
    "start_time": "2021-06-23T16:51:22.763Z"
   }
  ],
  "kernelspec": {
   "display_name": "Python 3",
   "language": "python",
   "name": "python3"
  },
  "language_info": {
   "codemirror_mode": {
    "name": "ipython",
    "version": 3
   },
   "file_extension": ".py",
   "mimetype": "text/x-python",
   "name": "python",
   "nbconvert_exporter": "python",
   "pygments_lexer": "ipython3",
   "version": "3.8.8"
  },
  "toc": {
   "base_numbering": 1,
   "nav_menu": {},
   "number_sections": true,
   "sideBar": true,
   "skip_h1_title": true,
   "title_cell": "Содержание",
   "title_sidebar": "Contents",
   "toc_cell": true,
   "toc_position": {
    "height": "calc(100% - 180px)",
    "left": "10px",
    "top": "150px",
    "width": "165px"
   },
   "toc_section_display": true,
   "toc_window_display": true
  }
 },
 "nbformat": 4,
 "nbformat_minor": 2
}
