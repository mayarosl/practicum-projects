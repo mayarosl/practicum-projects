{
 "cells": [
  {
   "cell_type": "markdown",
   "metadata": {},
   "source": [
    "# Определение стоимости автомобилей"
   ]
  },
  {
   "cell_type": "markdown",
   "metadata": {},
   "source": [
    "## Содержание\n",
    "\n",
    "1. Введение  \n",
    "    1.1. Описание проекта  \n",
    "    1.2. Описание данных  \n",
    "2. Подготовка данных  \n",
    "    2.1. Библиотеки  \n",
    "    2.2. Загрузка и предобработка данных  \n",
    "    2.3. Дубликаты и выбросы  \n",
    "3. Обучение моделей  \n",
    "    3.1. Линейная регрессия  \n",
    "    3.2. Случайный лес  \n",
    "    3.3. GBM  \n",
    "4. Анализ моделей  "
   ]
  },
  {
   "cell_type": "markdown",
   "metadata": {},
   "source": [
    "## Введение\n",
    "### Описание проекта\n",
    "Сервис по продаже автомобилей с пробегом «Не бит, не крашен» разрабатывает приложение для привлечения новых клиентов. В нём можно быстро узнать рыночную стоимость своего автомобиля. \n",
    "\n",
    "**Задача:** построить модель для определения стоимости автомобиля по историческим данным: техническим характеристикам, комплектации и цены автомобилей.\n",
    "\n",
    "Заказчику важны:\n",
    "\n",
    "- качество предсказания;\n",
    "- скорость предсказания;\n",
    "- время обучения.\n",
    "\n",
    "### Описание данных\n",
    "\n",
    "**Признаки**  \n",
    "- *DateCrawled* — дата скачивания анкеты из базы\n",
    "- *VehicleType* — тип автомобильного кузова\n",
    "- *RegistrationYear* — год регистрации автомобиля\n",
    "- *Gearbox* — тип коробки передач\n",
    "- *Power* — мощность (л. с.)\n",
    "- *Model* — модель автомобиля\n",
    "- *Kilometer* — пробег (км)\n",
    "- *RegistrationMonth* — месяц регистрации автомобиля\n",
    "- *FuelType* — тип топлива\n",
    "- *Brand* — марка автомобиля\n",
    "- *NotRepaired* — была машина в ремонте или нет\n",
    "- *DateCreated* — дата создания анкеты\n",
    "- *NumberOfPictures* — количество фотографий автомобиля\n",
    "- *PostalCode* — почтовый индекс владельца анкеты (пользователя)\n",
    "- *LastSeen* — дата последней активности пользователя\n",
    "\n",
    "**Целевой признак**  \n",
    "- *Price* — цена (евро)"
   ]
  },
  {
   "cell_type": "markdown",
   "metadata": {},
   "source": [
    "## Подготовка данных"
   ]
  },
  {
   "cell_type": "markdown",
   "metadata": {},
   "source": [
    "### Библиотеки"
   ]
  },
  {
   "cell_type": "code",
   "execution_count": 1,
   "metadata": {},
   "outputs": [],
   "source": [
    "import pandas as pd\n",
    "import numpy as np\n",
    "\n",
    "from sklearn.preprocessing import StandardScaler\n",
    "from sklearn.model_selection import train_test_split\n",
    "from sklearn.linear_model import LinearRegression\n",
    "from sklearn.ensemble import RandomForestRegressor\n",
    "from sklearn.metrics import mean_squared_error\n",
    "\n",
    "import lightgbm as lgb\n",
    "\n",
    "import matplotlib.pyplot as plt\n",
    "import seaborn as sns\n",
    "from tqdm.notebook import tqdm\n",
    "import time\n",
    "import warnings\n",
    "warnings.filterwarnings('ignore')"
   ]
  },
  {
   "cell_type": "code",
   "execution_count": 2,
   "metadata": {},
   "outputs": [],
   "source": [
    "def train_valid_test_split(data, target_col_name):\n",
    "    features = data.drop(target_col_name, axis=1)\n",
    "    target = data[target_col_name]\n",
    "\n",
    "    features_train_valid, features_test, target_train_valid, target_test = train_test_split(\n",
    "    features, target, test_size=0.2, random_state=123)\n",
    "\n",
    "    features_train, features_valid, target_train, target_valid = train_test_split(\n",
    "    features_train_valid, target_train_valid, test_size=0.25, random_state=123)\n",
    "    \n",
    "    return features_train, features_valid, features_test, target_train, target_valid, target_test"
   ]
  },
  {
   "cell_type": "markdown",
   "metadata": {},
   "source": [
    "### Загрузка и предобработка данных"
   ]
  },
  {
   "cell_type": "code",
   "execution_count": 3,
   "metadata": {},
   "outputs": [
    {
     "data": {
      "text/html": [
       "<div>\n",
       "<style scoped>\n",
       "    .dataframe tbody tr th:only-of-type {\n",
       "        vertical-align: middle;\n",
       "    }\n",
       "\n",
       "    .dataframe tbody tr th {\n",
       "        vertical-align: top;\n",
       "    }\n",
       "\n",
       "    .dataframe thead th {\n",
       "        text-align: right;\n",
       "    }\n",
       "</style>\n",
       "<table border=\"1\" class=\"dataframe\">\n",
       "  <thead>\n",
       "    <tr style=\"text-align: right;\">\n",
       "      <th></th>\n",
       "      <th>DateCrawled</th>\n",
       "      <th>Price</th>\n",
       "      <th>VehicleType</th>\n",
       "      <th>RegistrationYear</th>\n",
       "      <th>Gearbox</th>\n",
       "      <th>Power</th>\n",
       "      <th>Model</th>\n",
       "      <th>Kilometer</th>\n",
       "      <th>RegistrationMonth</th>\n",
       "      <th>FuelType</th>\n",
       "      <th>Brand</th>\n",
       "      <th>NotRepaired</th>\n",
       "      <th>DateCreated</th>\n",
       "      <th>NumberOfPictures</th>\n",
       "      <th>PostalCode</th>\n",
       "      <th>LastSeen</th>\n",
       "    </tr>\n",
       "  </thead>\n",
       "  <tbody>\n",
       "    <tr>\n",
       "      <th>0</th>\n",
       "      <td>2016-03-24 11:52:17</td>\n",
       "      <td>480</td>\n",
       "      <td>NaN</td>\n",
       "      <td>1993</td>\n",
       "      <td>manual</td>\n",
       "      <td>0</td>\n",
       "      <td>golf</td>\n",
       "      <td>150000</td>\n",
       "      <td>0</td>\n",
       "      <td>petrol</td>\n",
       "      <td>volkswagen</td>\n",
       "      <td>NaN</td>\n",
       "      <td>2016-03-24 00:00:00</td>\n",
       "      <td>0</td>\n",
       "      <td>70435</td>\n",
       "      <td>2016-04-07 03:16:57</td>\n",
       "    </tr>\n",
       "    <tr>\n",
       "      <th>1</th>\n",
       "      <td>2016-03-24 10:58:45</td>\n",
       "      <td>18300</td>\n",
       "      <td>coupe</td>\n",
       "      <td>2011</td>\n",
       "      <td>manual</td>\n",
       "      <td>190</td>\n",
       "      <td>NaN</td>\n",
       "      <td>125000</td>\n",
       "      <td>5</td>\n",
       "      <td>gasoline</td>\n",
       "      <td>audi</td>\n",
       "      <td>yes</td>\n",
       "      <td>2016-03-24 00:00:00</td>\n",
       "      <td>0</td>\n",
       "      <td>66954</td>\n",
       "      <td>2016-04-07 01:46:50</td>\n",
       "    </tr>\n",
       "    <tr>\n",
       "      <th>2</th>\n",
       "      <td>2016-03-14 12:52:21</td>\n",
       "      <td>9800</td>\n",
       "      <td>suv</td>\n",
       "      <td>2004</td>\n",
       "      <td>auto</td>\n",
       "      <td>163</td>\n",
       "      <td>grand</td>\n",
       "      <td>125000</td>\n",
       "      <td>8</td>\n",
       "      <td>gasoline</td>\n",
       "      <td>jeep</td>\n",
       "      <td>NaN</td>\n",
       "      <td>2016-03-14 00:00:00</td>\n",
       "      <td>0</td>\n",
       "      <td>90480</td>\n",
       "      <td>2016-04-05 12:47:46</td>\n",
       "    </tr>\n",
       "  </tbody>\n",
       "</table>\n",
       "</div>"
      ],
      "text/plain": [
       "           DateCrawled  Price VehicleType  RegistrationYear Gearbox  Power  \\\n",
       "0  2016-03-24 11:52:17    480         NaN              1993  manual      0   \n",
       "1  2016-03-24 10:58:45  18300       coupe              2011  manual    190   \n",
       "2  2016-03-14 12:52:21   9800         suv              2004    auto    163   \n",
       "\n",
       "   Model  Kilometer  RegistrationMonth  FuelType       Brand NotRepaired  \\\n",
       "0   golf     150000                  0    petrol  volkswagen         NaN   \n",
       "1    NaN     125000                  5  gasoline        audi         yes   \n",
       "2  grand     125000                  8  gasoline        jeep         NaN   \n",
       "\n",
       "           DateCreated  NumberOfPictures  PostalCode             LastSeen  \n",
       "0  2016-03-24 00:00:00                 0       70435  2016-04-07 03:16:57  \n",
       "1  2016-03-24 00:00:00                 0       66954  2016-04-07 01:46:50  \n",
       "2  2016-03-14 00:00:00                 0       90480  2016-04-05 12:47:46  "
      ]
     },
     "execution_count": 3,
     "metadata": {},
     "output_type": "execute_result"
    }
   ],
   "source": [
    "data = pd.read_csv('autos.csv')\n",
    "data.head(3)"
   ]
  },
  {
   "cell_type": "code",
   "execution_count": 4,
   "metadata": {},
   "outputs": [
    {
     "name": "stdout",
     "output_type": "stream",
     "text": [
      "<class 'pandas.core.frame.DataFrame'>\n",
      "RangeIndex: 354369 entries, 0 to 354368\n",
      "Data columns (total 16 columns):\n",
      " #   Column             Non-Null Count   Dtype \n",
      "---  ------             --------------   ----- \n",
      " 0   DateCrawled        354369 non-null  object\n",
      " 1   Price              354369 non-null  int64 \n",
      " 2   VehicleType        316879 non-null  object\n",
      " 3   RegistrationYear   354369 non-null  int64 \n",
      " 4   Gearbox            334536 non-null  object\n",
      " 5   Power              354369 non-null  int64 \n",
      " 6   Model              334664 non-null  object\n",
      " 7   Kilometer          354369 non-null  int64 \n",
      " 8   RegistrationMonth  354369 non-null  int64 \n",
      " 9   FuelType           321474 non-null  object\n",
      " 10  Brand              354369 non-null  object\n",
      " 11  NotRepaired        283215 non-null  object\n",
      " 12  DateCreated        354369 non-null  object\n",
      " 13  NumberOfPictures   354369 non-null  int64 \n",
      " 14  PostalCode         354369 non-null  int64 \n",
      " 15  LastSeen           354369 non-null  object\n",
      "dtypes: int64(7), object(9)\n",
      "memory usage: 43.3+ MB\n"
     ]
    }
   ],
   "source": [
    "data.info()"
   ]
  },
  {
   "cell_type": "code",
   "execution_count": 5,
   "metadata": {},
   "outputs": [],
   "source": [
    "data = data.drop(['DateCrawled', 'DateCreated', 'PostalCode', 'LastSeen'], 1)"
   ]
  },
  {
   "cell_type": "code",
   "execution_count": 6,
   "metadata": {},
   "outputs": [],
   "source": [
    "data.columns= data.columns.str.lower()\n",
    "\n",
    "data = data.rename(columns={'vehicletype': 'vehicle_type',\n",
    "                            'registrationyear': 'registration_year',\n",
    "                            'registrationmonth': 'registration_month',\n",
    "                            'fueltype': 'fuel_type',\n",
    "                            'notrepaired': 'not_repaired', \n",
    "                            'numberofpictures': 'number_of_pictures'})"
   ]
  },
  {
   "cell_type": "code",
   "execution_count": 59,
   "metadata": {},
   "outputs": [
    {
     "data": {
      "image/png": "[encoded data removed]",
      "text/plain": [
       "<Figure size 864x720 with 6 Axes>"
      ]
     },
     "metadata": {
      "needs_background": "light"
     },
     "output_type": "display_data"
    }
   ],
   "source": [
    "data.hist(bins=50, figsize=(12,10), color='grey', rwidth=0.85)\n",
    "plt.suptitle('Распределение признаков в датафрейме');\n",
    "plt.tight_layout(rect=[0, 0.03, 1, 0.95])"
   ]
  },
  {
   "cell_type": "code",
   "execution_count": 60,
   "metadata": {},
   "outputs": [
    {
     "data": {
      "image/png": "[encoded data removed]",
      "text/plain": [
       "<Figure size 576x432 with 2 Axes>"
      ]
     },
     "metadata": {
      "needs_background": "light"
     },
     "output_type": "display_data"
    }
   ],
   "source": [
    "f, ax = plt.subplots(figsize=[8,6])\n",
    "sns.heatmap(data.corr(),\n",
    "            annot=True, fmt=\".2f\",cbar_kws={'label': 'Проценты %'},cmap=\"Greys\",ax=ax)\n",
    "ax.set_title('Корреляция признаков');"
   ]
  },
  {
   "cell_type": "code",
   "execution_count": 9,
   "metadata": {},
   "outputs": [
    {
     "name": "stdout",
     "output_type": "stream",
     "text": [
      "vehicle_type         10.6%\n",
      "gearbox               5.6%\n",
      "model                 5.6%\n",
      "fuel_type             9.3%\n",
      "not_repaired         20.1%\n"
     ]
    }
   ],
   "source": [
    "my_cols = data.columns.tolist()\n",
    "for i in range(0, len(data.columns)):\n",
    "    inx = data.columns[i]\n",
    "    if inx in my_cols:\n",
    "        a = data[data[inx].isnull()].shape[0]\n",
    "        if a != 0:\n",
    "            print('{: <15} {:>10.1%}'.format(inx, a/data.shape[0]))"
   ]
  },
  {
   "cell_type": "code",
   "execution_count": 10,
   "metadata": {},
   "outputs": [
    {
     "name": "stdout",
     "output_type": "stream",
     "text": [
      "Наблюдений с ценой = 0: 10772 -> 3.04 %\n"
     ]
    }
   ],
   "source": [
    "zeros = len(data[data['price'] == 0])\n",
    "print('Наблюдений с ценой = 0:', zeros, '->', round(zeros / len(data)*100, 2), '%')"
   ]
  },
  {
   "cell_type": "markdown",
   "metadata": {},
   "source": [
    "**Вывод**: В данных 354369 наблюдений, 16 признаков, признаки и числовые, и номинальные. Есть пропуски, больше всего - в столбцах с информациями о типе кузова (10%) и об отсутствии ремонта(20%).\n",
    "\n",
    "Признаковые пространства отличаются по размерности, значит, нужно сделать масштабирование. Числовые признаки неколлинеарны."
   ]
  },
  {
   "cell_type": "markdown",
   "metadata": {},
   "source": [
    "### Дубликаты и выбросы\n",
    "1) Удалим дубликаты.  \n",
    "2) В данных есть наблюдения со странными годами выпуска автомобилей, например, 1000 или 9999. Это могут быть ошибки при заполнении таблицы, они повлияют на регрессию, удалим их, оставим только даты, которые могли бы быть реальными."
   ]
  },
  {
   "cell_type": "code",
   "execution_count": 11,
   "metadata": {},
   "outputs": [],
   "source": [
    "data = data.drop_duplicates()\n",
    "data = data.query('registration_year > 1886 and registration_year <= 2021')"
   ]
  },
  {
   "cell_type": "code",
   "execution_count": 12,
   "metadata": {},
   "outputs": [
    {
     "data": {
      "image/png": "[encoded data removed]",
      "text/plain": [
       "<Figure size 432x288 with 1 Axes>"
      ]
     },
     "metadata": {
      "needs_background": "light"
     },
     "output_type": "display_data"
    }
   ],
   "source": [
    "fig, ax = plt.subplots()\n",
    "yes_heights, yes_bins = np.histogram(data[data['not_repaired'] == 'yes']['kilometer'])\n",
    "no_heights, no_bins = np.histogram(data[data['not_repaired'] == 'no']['kilometer'], bins=yes_bins)\n",
    "nan_heights, nan_bins = np.histogram(data[data['not_repaired'].isna()]['kilometer'], bins=yes_bins)\n",
    "width = (yes_bins[1] - yes_bins[0])/4\n",
    "ax.bar(yes_bins[:-1], yes_heights, width=width, facecolor='silver')\n",
    "ax.bar(no_bins[:-1]+width, no_heights, width=width, facecolor='grey');\n",
    "ax.bar(nan_bins[:-1]+width*2, nan_heights, width=width, facecolor='red');\n",
    "ax.legend(['yes', 'no', 'nan']);\n",
    "ax.set_xlabel('км')\n",
    "ax.set_title('Отсутствие ремонта в зависимости от пробега');"
   ]
  },
  {
   "cell_type": "markdown",
   "metadata": {},
   "source": [
    "Больше всего пропусков в колонке с информацией о том, не отправлялась ли машина на ремонт. По гистограмме видим, что с увеличением пробега ответов \"нет\" становится больше, но особенно это заметно на километрах = 150000. Заполним ответом \"нет\" пропуски в тех наблюдениях, где машина проехала 150000 километров."
   ]
  },
  {
   "cell_type": "code",
   "execution_count": 13,
   "metadata": {},
   "outputs": [],
   "source": [
    "def fill_not_repaired(km):\n",
    "    if km < 150_000:\n",
    "        return 'no'\n",
    "    else:\n",
    "        pass"
   ]
  },
  {
   "cell_type": "code",
   "execution_count": 14,
   "metadata": {},
   "outputs": [],
   "source": [
    "data['not_repaired'] = data['not_repaired'].fillna(data['kilometer'].apply(fill_not_repaired))"
   ]
  },
  {
   "cell_type": "code",
   "execution_count": 15,
   "metadata": {},
   "outputs": [
    {
     "data": {
      "image/png": "[encoded data removed]",
      "text/plain": [
       "<Figure size 864x288 with 2 Axes>"
      ]
     },
     "metadata": {
      "needs_background": "light"
     },
     "output_type": "display_data"
    }
   ],
   "source": [
    "fig, axes = plt.subplots(nrows=1, ncols=2, figsize=(12, 4))\n",
    "ax0, ax1 = axes.flatten()\n",
    "\n",
    "ax0.hist(data['price'], bins=100, color='grey', alpha=0.75)\n",
    "ax0.set_title('Цена');\n",
    "price_median = data['price'].median()\n",
    "price_mean = data['price'].mean()\n",
    "ax0.axvline(x=price_median, color='red', alpha=0.75, label='median')\n",
    "ax0.axvline(x=price_mean, color='black', alpha=0.75, label='mean')\n",
    "ax0.legend();\n",
    "\n",
    "ax1.boxplot(data['price'], medianprops=dict(color='red')) \n",
    "ax1.set_title('Цена');\n",
    "\n",
    "fig.suptitle('Распределение целевого признака', fontsize=16);\n",
    "fig.tight_layout(rect=[0, 0.03, 1, 0.95]);"
   ]
  },
  {
   "cell_type": "code",
   "execution_count": 16,
   "metadata": {},
   "outputs": [],
   "source": [
    "# data = data.query('price > 500 and price < 15000')"
   ]
  },
  {
   "cell_type": "markdown",
   "metadata": {},
   "source": [
    "В данных есть странные наблюдения с ценой = 0, а также есть выбросы выше 15000. Решено их не удалять (но не знаю, чем можно мотивировать это решение)."
   ]
  },
  {
   "cell_type": "code",
   "execution_count": 17,
   "metadata": {},
   "outputs": [
    {
     "name": "stdout",
     "output_type": "stream",
     "text": [
      "price                  0.000000\n",
      "vehicle_type          10.740733\n",
      "registration_year      0.000000\n",
      "gearbox                5.340366\n",
      "power                  0.000000\n",
      "model                  5.652002\n",
      "kilometer              0.000000\n",
      "registration_month     0.000000\n",
      "fuel_type              9.489902\n",
      "brand                  0.000000\n",
      "not_repaired          14.960678\n",
      "number_of_pictures     0.000000\n",
      "dtype: float64\n"
     ]
    }
   ],
   "source": [
    "print(data.isnull().sum() * 100 / len(data))"
   ]
  },
  {
   "cell_type": "code",
   "execution_count": 18,
   "metadata": {},
   "outputs": [],
   "source": [
    "data = data.dropna()"
   ]
  },
  {
   "cell_type": "markdown",
   "metadata": {},
   "source": [
    "**Вывод:** почистили данные от дубликатов и выбросов, заполнили некоторые пропуски в столбце о ремонте. Удалили все остальные пропуски, так как модели показывают лучший результат, если в данных нет пропусков."
   ]
  },
  {
   "cell_type": "markdown",
   "metadata": {},
   "source": [
    "## Обучение моделей"
   ]
  },
  {
   "cell_type": "code",
   "execution_count": 19,
   "metadata": {},
   "outputs": [],
   "source": [
    "models_dict = {}"
   ]
  },
  {
   "cell_type": "markdown",
   "metadata": {},
   "source": [
    "До обучения выполним следующее:\n",
    "\n",
    "- Закодируем признаки типа object\n",
    "- Выделим в данных целевую метку\n",
    "- Разделим данные на обучающую и валидационную выборки\n",
    "- Масштабируем признаки в обучающей и валидационной выборках"
   ]
  },
  {
   "cell_type": "code",
   "execution_count": 20,
   "metadata": {},
   "outputs": [],
   "source": [
    "data_ohe = pd.get_dummies(data[['vehicle_type', 'gearbox', 'model', \n",
    "                                'fuel_type', 'brand', 'not_repaired']], drop_first=True)\n",
    "\n",
    "data_num = data[['price', 'registration_year', 'power', 'kilometer', \n",
    "           'registration_month','number_of_pictures']]\n",
    "\n",
    "ohe_encoded_data = pd.concat([data_ohe, data_num], axis=1)"
   ]
  },
  {
   "cell_type": "code",
   "execution_count": 21,
   "metadata": {},
   "outputs": [
    {
     "name": "stdout",
     "output_type": "stream",
     "text": [
      "(140130, 307)\n",
      "(46711, 307)\n",
      "(46711, 307)\n",
      "(140130,)\n",
      "(46711,)\n",
      "(46711,)\n"
     ]
    }
   ],
   "source": [
    "(features_train, features_valid, features_test,\n",
    " target_train, target_valid, target_test) = train_valid_test_split(ohe_encoded_data, 'price')\n",
    "\n",
    "for i in (features_train, features_valid, features_test, target_train, target_valid, target_test):\n",
    "    print(i.shape)"
   ]
  },
  {
   "cell_type": "code",
   "execution_count": 22,
   "metadata": {},
   "outputs": [],
   "source": [
    "numeric_to_scale = ['registration_year', 'power', 'kilometer',\n",
    "                    'registration_month','number_of_pictures']"
   ]
  },
  {
   "cell_type": "code",
   "execution_count": 23,
   "metadata": {},
   "outputs": [],
   "source": [
    "features_train_scaled = features_train.copy()\n",
    "features_valid_scaled = features_valid.copy()\n",
    "features_test_scaled = features_test.copy()\n",
    "\n",
    "scaler = StandardScaler()\n",
    "scaler.fit(features_train_scaled[numeric_to_scale])\n",
    "\n",
    "features_train_scaled[numeric_to_scale] = scaler.transform(features_train_scaled[numeric_to_scale])\n",
    "\n",
    "features_valid_scaled[numeric_to_scale] = scaler.transform(features_valid_scaled[numeric_to_scale])\n",
    "\n",
    "features_test_scaled[numeric_to_scale] = scaler.transform(features_test_scaled[numeric_to_scale])"
   ]
  },
  {
   "cell_type": "code",
   "execution_count": 24,
   "metadata": {},
   "outputs": [
    {
     "data": {
      "text/html": [
       "<div>\n",
       "<style scoped>\n",
       "    .dataframe tbody tr th:only-of-type {\n",
       "        vertical-align: middle;\n",
       "    }\n",
       "\n",
       "    .dataframe tbody tr th {\n",
       "        vertical-align: top;\n",
       "    }\n",
       "\n",
       "    .dataframe thead th {\n",
       "        text-align: right;\n",
       "    }\n",
       "</style>\n",
       "<table border=\"1\" class=\"dataframe\">\n",
       "  <thead>\n",
       "    <tr style=\"text-align: right;\">\n",
       "      <th></th>\n",
       "      <th>vehicle_type_convertible</th>\n",
       "      <th>vehicle_type_coupe</th>\n",
       "      <th>vehicle_type_other</th>\n",
       "      <th>vehicle_type_sedan</th>\n",
       "      <th>vehicle_type_small</th>\n",
       "      <th>vehicle_type_suv</th>\n",
       "      <th>vehicle_type_wagon</th>\n",
       "      <th>gearbox_manual</th>\n",
       "      <th>model_145</th>\n",
       "      <th>model_147</th>\n",
       "      <th>...</th>\n",
       "      <th>brand_toyota</th>\n",
       "      <th>brand_trabant</th>\n",
       "      <th>brand_volkswagen</th>\n",
       "      <th>brand_volvo</th>\n",
       "      <th>not_repaired_yes</th>\n",
       "      <th>registration_year</th>\n",
       "      <th>power</th>\n",
       "      <th>kilometer</th>\n",
       "      <th>registration_month</th>\n",
       "      <th>number_of_pictures</th>\n",
       "    </tr>\n",
       "  </thead>\n",
       "  <tbody>\n",
       "    <tr>\n",
       "      <th>171260</th>\n",
       "      <td>0</td>\n",
       "      <td>0</td>\n",
       "      <td>0</td>\n",
       "      <td>0</td>\n",
       "      <td>0</td>\n",
       "      <td>1</td>\n",
       "      <td>0</td>\n",
       "      <td>1</td>\n",
       "      <td>0</td>\n",
       "      <td>0</td>\n",
       "      <td>...</td>\n",
       "      <td>0</td>\n",
       "      <td>0</td>\n",
       "      <td>0</td>\n",
       "      <td>0</td>\n",
       "      <td>0</td>\n",
       "      <td>1.288735</td>\n",
       "      <td>0.035265</td>\n",
       "      <td>-1.200303</td>\n",
       "      <td>-0.325609</td>\n",
       "      <td>0.0</td>\n",
       "    </tr>\n",
       "    <tr>\n",
       "      <th>104984</th>\n",
       "      <td>0</td>\n",
       "      <td>0</td>\n",
       "      <td>0</td>\n",
       "      <td>0</td>\n",
       "      <td>0</td>\n",
       "      <td>0</td>\n",
       "      <td>1</td>\n",
       "      <td>0</td>\n",
       "      <td>0</td>\n",
       "      <td>0</td>\n",
       "      <td>...</td>\n",
       "      <td>0</td>\n",
       "      <td>0</td>\n",
       "      <td>0</td>\n",
       "      <td>0</td>\n",
       "      <td>0</td>\n",
       "      <td>-0.762635</td>\n",
       "      <td>-0.035341</td>\n",
       "      <td>0.638948</td>\n",
       "      <td>0.817052</td>\n",
       "      <td>0.0</td>\n",
       "    </tr>\n",
       "    <tr>\n",
       "      <th>173188</th>\n",
       "      <td>0</td>\n",
       "      <td>0</td>\n",
       "      <td>0</td>\n",
       "      <td>0</td>\n",
       "      <td>1</td>\n",
       "      <td>0</td>\n",
       "      <td>0</td>\n",
       "      <td>1</td>\n",
       "      <td>0</td>\n",
       "      <td>0</td>\n",
       "      <td>...</td>\n",
       "      <td>0</td>\n",
       "      <td>0</td>\n",
       "      <td>0</td>\n",
       "      <td>0</td>\n",
       "      <td>0</td>\n",
       "      <td>0.341949</td>\n",
       "      <td>-0.258926</td>\n",
       "      <td>-0.017927</td>\n",
       "      <td>-0.896940</td>\n",
       "      <td>0.0</td>\n",
       "    </tr>\n",
       "  </tbody>\n",
       "</table>\n",
       "<p>3 rows × 307 columns</p>\n",
       "</div>"
      ],
      "text/plain": [
       "        vehicle_type_convertible  vehicle_type_coupe  vehicle_type_other  \\\n",
       "171260                         0                   0                   0   \n",
       "104984                         0                   0                   0   \n",
       "173188                         0                   0                   0   \n",
       "\n",
       "        vehicle_type_sedan  vehicle_type_small  vehicle_type_suv  \\\n",
       "171260                   0                   0                 1   \n",
       "104984                   0                   0                 0   \n",
       "173188                   0                   1                 0   \n",
       "\n",
       "        vehicle_type_wagon  gearbox_manual  model_145  model_147  ...  \\\n",
       "171260                   0               1          0          0  ...   \n",
       "104984                   1               0          0          0  ...   \n",
       "173188                   0               1          0          0  ...   \n",
       "\n",
       "        brand_toyota  brand_trabant  brand_volkswagen  brand_volvo  \\\n",
       "171260             0              0                 0            0   \n",
       "104984             0              0                 0            0   \n",
       "173188             0              0                 0            0   \n",
       "\n",
       "        not_repaired_yes  registration_year     power  kilometer  \\\n",
       "171260                 0           1.288735  0.035265  -1.200303   \n",
       "104984                 0          -0.762635 -0.035341   0.638948   \n",
       "173188                 0           0.341949 -0.258926  -0.017927   \n",
       "\n",
       "        registration_month  number_of_pictures  \n",
       "171260           -0.325609                 0.0  \n",
       "104984            0.817052                 0.0  \n",
       "173188           -0.896940                 0.0  \n",
       "\n",
       "[3 rows x 307 columns]"
      ]
     },
     "execution_count": 24,
     "metadata": {},
     "output_type": "execute_result"
    }
   ],
   "source": [
    "features_train_scaled.head(3)"
   ]
  },
  {
   "cell_type": "code",
   "execution_count": 25,
   "metadata": {},
   "outputs": [
    {
     "data": {
      "text/html": [
       "<div>\n",
       "<style scoped>\n",
       "    .dataframe tbody tr th:only-of-type {\n",
       "        vertical-align: middle;\n",
       "    }\n",
       "\n",
       "    .dataframe tbody tr th {\n",
       "        vertical-align: top;\n",
       "    }\n",
       "\n",
       "    .dataframe thead th {\n",
       "        text-align: right;\n",
       "    }\n",
       "</style>\n",
       "<table border=\"1\" class=\"dataframe\">\n",
       "  <thead>\n",
       "    <tr style=\"text-align: right;\">\n",
       "      <th></th>\n",
       "      <th>vehicle_type_convertible</th>\n",
       "      <th>vehicle_type_coupe</th>\n",
       "      <th>vehicle_type_other</th>\n",
       "      <th>vehicle_type_sedan</th>\n",
       "      <th>vehicle_type_small</th>\n",
       "      <th>vehicle_type_suv</th>\n",
       "      <th>vehicle_type_wagon</th>\n",
       "      <th>gearbox_manual</th>\n",
       "      <th>model_145</th>\n",
       "      <th>model_147</th>\n",
       "      <th>...</th>\n",
       "      <th>brand_toyota</th>\n",
       "      <th>brand_trabant</th>\n",
       "      <th>brand_volkswagen</th>\n",
       "      <th>brand_volvo</th>\n",
       "      <th>not_repaired_yes</th>\n",
       "      <th>registration_year</th>\n",
       "      <th>power</th>\n",
       "      <th>kilometer</th>\n",
       "      <th>registration_month</th>\n",
       "      <th>number_of_pictures</th>\n",
       "    </tr>\n",
       "  </thead>\n",
       "  <tbody>\n",
       "    <tr>\n",
       "      <th>31398</th>\n",
       "      <td>0</td>\n",
       "      <td>0</td>\n",
       "      <td>0</td>\n",
       "      <td>1</td>\n",
       "      <td>0</td>\n",
       "      <td>0</td>\n",
       "      <td>0</td>\n",
       "      <td>1</td>\n",
       "      <td>0</td>\n",
       "      <td>0</td>\n",
       "      <td>...</td>\n",
       "      <td>0</td>\n",
       "      <td>0</td>\n",
       "      <td>1</td>\n",
       "      <td>0</td>\n",
       "      <td>0</td>\n",
       "      <td>0.341949</td>\n",
       "      <td>-0.082411</td>\n",
       "      <td>0.638948</td>\n",
       "      <td>-0.611275</td>\n",
       "      <td>0.0</td>\n",
       "    </tr>\n",
       "    <tr>\n",
       "      <th>238439</th>\n",
       "      <td>0</td>\n",
       "      <td>0</td>\n",
       "      <td>0</td>\n",
       "      <td>0</td>\n",
       "      <td>0</td>\n",
       "      <td>0</td>\n",
       "      <td>1</td>\n",
       "      <td>1</td>\n",
       "      <td>0</td>\n",
       "      <td>0</td>\n",
       "      <td>...</td>\n",
       "      <td>0</td>\n",
       "      <td>0</td>\n",
       "      <td>0</td>\n",
       "      <td>0</td>\n",
       "      <td>0</td>\n",
       "      <td>0.341949</td>\n",
       "      <td>0.182361</td>\n",
       "      <td>0.638948</td>\n",
       "      <td>-0.611275</td>\n",
       "      <td>0.0</td>\n",
       "    </tr>\n",
       "    <tr>\n",
       "      <th>126687</th>\n",
       "      <td>0</td>\n",
       "      <td>0</td>\n",
       "      <td>0</td>\n",
       "      <td>0</td>\n",
       "      <td>1</td>\n",
       "      <td>0</td>\n",
       "      <td>0</td>\n",
       "      <td>1</td>\n",
       "      <td>0</td>\n",
       "      <td>0</td>\n",
       "      <td>...</td>\n",
       "      <td>0</td>\n",
       "      <td>0</td>\n",
       "      <td>1</td>\n",
       "      <td>0</td>\n",
       "      <td>0</td>\n",
       "      <td>-0.131444</td>\n",
       "      <td>-0.323649</td>\n",
       "      <td>0.638948</td>\n",
       "      <td>1.102718</td>\n",
       "      <td>0.0</td>\n",
       "    </tr>\n",
       "  </tbody>\n",
       "</table>\n",
       "<p>3 rows × 307 columns</p>\n",
       "</div>"
      ],
      "text/plain": [
       "        vehicle_type_convertible  vehicle_type_coupe  vehicle_type_other  \\\n",
       "31398                          0                   0                   0   \n",
       "238439                         0                   0                   0   \n",
       "126687                         0                   0                   0   \n",
       "\n",
       "        vehicle_type_sedan  vehicle_type_small  vehicle_type_suv  \\\n",
       "31398                    1                   0                 0   \n",
       "238439                   0                   0                 0   \n",
       "126687                   0                   1                 0   \n",
       "\n",
       "        vehicle_type_wagon  gearbox_manual  model_145  model_147  ...  \\\n",
       "31398                    0               1          0          0  ...   \n",
       "238439                   1               1          0          0  ...   \n",
       "126687                   0               1          0          0  ...   \n",
       "\n",
       "        brand_toyota  brand_trabant  brand_volkswagen  brand_volvo  \\\n",
       "31398              0              0                 1            0   \n",
       "238439             0              0                 0            0   \n",
       "126687             0              0                 1            0   \n",
       "\n",
       "        not_repaired_yes  registration_year     power  kilometer  \\\n",
       "31398                  0           0.341949 -0.082411   0.638948   \n",
       "238439                 0           0.341949  0.182361   0.638948   \n",
       "126687                 0          -0.131444 -0.323649   0.638948   \n",
       "\n",
       "        registration_month  number_of_pictures  \n",
       "31398            -0.611275                 0.0  \n",
       "238439           -0.611275                 0.0  \n",
       "126687            1.102718                 0.0  \n",
       "\n",
       "[3 rows x 307 columns]"
      ]
     },
     "execution_count": 25,
     "metadata": {},
     "output_type": "execute_result"
    }
   ],
   "source": [
    "features_valid_scaled.head(3)"
   ]
  },
  {
   "cell_type": "code",
   "execution_count": 26,
   "metadata": {},
   "outputs": [
    {
     "data": {
      "text/html": [
       "<div>\n",
       "<style scoped>\n",
       "    .dataframe tbody tr th:only-of-type {\n",
       "        vertical-align: middle;\n",
       "    }\n",
       "\n",
       "    .dataframe tbody tr th {\n",
       "        vertical-align: top;\n",
       "    }\n",
       "\n",
       "    .dataframe thead th {\n",
       "        text-align: right;\n",
       "    }\n",
       "</style>\n",
       "<table border=\"1\" class=\"dataframe\">\n",
       "  <thead>\n",
       "    <tr style=\"text-align: right;\">\n",
       "      <th></th>\n",
       "      <th>vehicle_type_convertible</th>\n",
       "      <th>vehicle_type_coupe</th>\n",
       "      <th>vehicle_type_other</th>\n",
       "      <th>vehicle_type_sedan</th>\n",
       "      <th>vehicle_type_small</th>\n",
       "      <th>vehicle_type_suv</th>\n",
       "      <th>vehicle_type_wagon</th>\n",
       "      <th>gearbox_manual</th>\n",
       "      <th>model_145</th>\n",
       "      <th>model_147</th>\n",
       "      <th>...</th>\n",
       "      <th>brand_toyota</th>\n",
       "      <th>brand_trabant</th>\n",
       "      <th>brand_volkswagen</th>\n",
       "      <th>brand_volvo</th>\n",
       "      <th>not_repaired_yes</th>\n",
       "      <th>registration_year</th>\n",
       "      <th>power</th>\n",
       "      <th>kilometer</th>\n",
       "      <th>registration_month</th>\n",
       "      <th>number_of_pictures</th>\n",
       "    </tr>\n",
       "  </thead>\n",
       "  <tbody>\n",
       "    <tr>\n",
       "      <th>86803</th>\n",
       "      <td>0</td>\n",
       "      <td>0</td>\n",
       "      <td>0</td>\n",
       "      <td>0</td>\n",
       "      <td>0</td>\n",
       "      <td>0</td>\n",
       "      <td>1</td>\n",
       "      <td>0</td>\n",
       "      <td>0</td>\n",
       "      <td>0</td>\n",
       "      <td>...</td>\n",
       "      <td>0</td>\n",
       "      <td>0</td>\n",
       "      <td>0</td>\n",
       "      <td>0</td>\n",
       "      <td>0</td>\n",
       "      <td>-1.078230</td>\n",
       "      <td>0.182361</td>\n",
       "      <td>0.638948</td>\n",
       "      <td>1.102718</td>\n",
       "      <td>0.0</td>\n",
       "    </tr>\n",
       "    <tr>\n",
       "      <th>161886</th>\n",
       "      <td>0</td>\n",
       "      <td>0</td>\n",
       "      <td>0</td>\n",
       "      <td>1</td>\n",
       "      <td>0</td>\n",
       "      <td>0</td>\n",
       "      <td>0</td>\n",
       "      <td>1</td>\n",
       "      <td>0</td>\n",
       "      <td>0</td>\n",
       "      <td>...</td>\n",
       "      <td>0</td>\n",
       "      <td>0</td>\n",
       "      <td>0</td>\n",
       "      <td>0</td>\n",
       "      <td>0</td>\n",
       "      <td>-1.551623</td>\n",
       "      <td>0.182361</td>\n",
       "      <td>0.638948</td>\n",
       "      <td>0.245722</td>\n",
       "      <td>0.0</td>\n",
       "    </tr>\n",
       "    <tr>\n",
       "      <th>305661</th>\n",
       "      <td>1</td>\n",
       "      <td>0</td>\n",
       "      <td>0</td>\n",
       "      <td>0</td>\n",
       "      <td>0</td>\n",
       "      <td>0</td>\n",
       "      <td>0</td>\n",
       "      <td>1</td>\n",
       "      <td>0</td>\n",
       "      <td>0</td>\n",
       "      <td>...</td>\n",
       "      <td>0</td>\n",
       "      <td>0</td>\n",
       "      <td>0</td>\n",
       "      <td>0</td>\n",
       "      <td>0</td>\n",
       "      <td>-0.447039</td>\n",
       "      <td>-0.052992</td>\n",
       "      <td>-1.463053</td>\n",
       "      <td>0.245722</td>\n",
       "      <td>0.0</td>\n",
       "    </tr>\n",
       "  </tbody>\n",
       "</table>\n",
       "<p>3 rows × 307 columns</p>\n",
       "</div>"
      ],
      "text/plain": [
       "        vehicle_type_convertible  vehicle_type_coupe  vehicle_type_other  \\\n",
       "86803                          0                   0                   0   \n",
       "161886                         0                   0                   0   \n",
       "305661                         1                   0                   0   \n",
       "\n",
       "        vehicle_type_sedan  vehicle_type_small  vehicle_type_suv  \\\n",
       "86803                    0                   0                 0   \n",
       "161886                   1                   0                 0   \n",
       "305661                   0                   0                 0   \n",
       "\n",
       "        vehicle_type_wagon  gearbox_manual  model_145  model_147  ...  \\\n",
       "86803                    1               0          0          0  ...   \n",
       "161886                   0               1          0          0  ...   \n",
       "305661                   0               1          0          0  ...   \n",
       "\n",
       "        brand_toyota  brand_trabant  brand_volkswagen  brand_volvo  \\\n",
       "86803              0              0                 0            0   \n",
       "161886             0              0                 0            0   \n",
       "305661             0              0                 0            0   \n",
       "\n",
       "        not_repaired_yes  registration_year     power  kilometer  \\\n",
       "86803                  0          -1.078230  0.182361   0.638948   \n",
       "161886                 0          -1.551623  0.182361   0.638948   \n",
       "305661                 0          -0.447039 -0.052992  -1.463053   \n",
       "\n",
       "        registration_month  number_of_pictures  \n",
       "86803             1.102718                 0.0  \n",
       "161886            0.245722                 0.0  \n",
       "305661            0.245722                 0.0  \n",
       "\n",
       "[3 rows x 307 columns]"
      ]
     },
     "execution_count": 26,
     "metadata": {},
     "output_type": "execute_result"
    }
   ],
   "source": [
    "features_test_scaled.head(3)"
   ]
  },
  {
   "cell_type": "code",
   "execution_count": 27,
   "metadata": {},
   "outputs": [],
   "source": [
    "features_concatenated = pd.concat([features_train_scaled, features_valid_scaled])\n",
    "target_concatenated = pd.concat([target_train, target_valid])"
   ]
  },
  {
   "cell_type": "markdown",
   "metadata": {},
   "source": [
    "### Линейная регрессия\n",
    "Обучим модель на тренировочной части выборки, проверим на валидационной, затем их объединим, дообучим модель и проверим на тестовой."
   ]
  },
  {
   "cell_type": "markdown",
   "metadata": {},
   "source": [
    "**train → valid**"
   ]
  },
  {
   "cell_type": "code",
   "execution_count": 28,
   "metadata": {},
   "outputs": [],
   "source": [
    "start_time = time.time()\n",
    "lin_model = LinearRegression().fit(features_train_scaled, target_train)\n",
    "lin_train_time = time.time() - start_time"
   ]
  },
  {
   "cell_type": "code",
   "execution_count": 29,
   "metadata": {},
   "outputs": [],
   "source": [
    "start_time = time.time()\n",
    "lin_predicted = lin_model.predict(features_valid_scaled)\n",
    "lin_pred_time = time.time() - start_time"
   ]
  },
  {
   "cell_type": "code",
   "execution_count": 30,
   "metadata": {},
   "outputs": [
    {
     "name": "stdout",
     "output_type": "stream",
     "text": [
      "RMSE линейной регрессии на валидационной выборке 2778.18\n",
      "Время обучения: 17.61\n",
      "Время предсказания 0.44\n"
     ]
    }
   ],
   "source": [
    "lin_rmse = (mean_squared_error(target_valid, lin_predicted))**0.5\n",
    "lin_list = [lin_rmse, lin_train_time, lin_pred_time]\n",
    "models_dict['LinRegr Valid'] = lin_list\n",
    "\n",
    "print('RMSE линейной регрессии на валидационной выборке', round(lin_rmse, 2))\n",
    "print('Время обучения:', round(lin_train_time, 2))\n",
    "print('Время предсказания', round(lin_pred_time, 2))"
   ]
  },
  {
   "cell_type": "markdown",
   "metadata": {},
   "source": [
    "**train + valid → test**"
   ]
  },
  {
   "cell_type": "code",
   "execution_count": 31,
   "metadata": {},
   "outputs": [],
   "source": [
    "start_time_test = time.time()\n",
    "lin_model_test = LinearRegression().fit(features_concatenated, target_concatenated)\n",
    "lin_train_time_test = time.time() - start_time_test"
   ]
  },
  {
   "cell_type": "code",
   "execution_count": 32,
   "metadata": {},
   "outputs": [],
   "source": [
    "start_time_test = time.time()\n",
    "lin_predicted_test = lin_model_test.predict(features_test_scaled)\n",
    "lin_pred_time_test = time.time() - start_time_test"
   ]
  },
  {
   "cell_type": "code",
   "execution_count": 33,
   "metadata": {},
   "outputs": [
    {
     "name": "stdout",
     "output_type": "stream",
     "text": [
      "RMSE линейной регрессии на тестовой выборке 2781.46\n",
      "Время обучения: 5.91\n",
      "Время предсказания 0.11\n"
     ]
    }
   ],
   "source": [
    "lin_rmse_test = (mean_squared_error(target_test, lin_predicted_test))**0.5\n",
    "lin_list_test = [lin_rmse_test, lin_train_time_test, lin_pred_time_test]\n",
    "models_dict['LinRegr Test'] = lin_list_test\n",
    "\n",
    "print('RMSE линейной регрессии на тестовой выборке', round(lin_rmse_test, 2))\n",
    "print('Время обучения:', round(lin_train_time_test, 2))\n",
    "print('Время предсказания', round(lin_pred_time_test, 2))"
   ]
  },
  {
   "cell_type": "markdown",
   "metadata": {},
   "source": [
    "### Случайный лес\n",
    "Найдем пареметры на тренировочной части выборки, проверим на валидационной, затем их объединим, дообучим модель и проверим на тестовой."
   ]
  },
  {
   "cell_type": "code",
   "execution_count": 34,
   "metadata": {},
   "outputs": [],
   "source": [
    "def find_best_forest(features_train, target_train, features_valid, target_valid):\n",
    "    best_model = None\n",
    "    best_result = 10000\n",
    "    best_est = 0\n",
    "    best_depth = 0\n",
    "    est_dict = {}\n",
    "    \n",
    "    for est in tqdm(range(20, 45, 5)):\n",
    "        result_list = []\n",
    "        for depth in range (15, 25, 1):\n",
    "            model = RandomForestRegressor(random_state=123,\n",
    "                                           n_estimators=est,\n",
    "                                           max_depth=depth)\n",
    "            model.fit(features_train, target_train)\n",
    "            predicted = model.predict(features_valid)\n",
    "            rmse = (mean_squared_error(target_valid, predicted))**0.5\n",
    "            result_list.append(rmse)\n",
    "            if rmse < best_result:\n",
    "                best_model = model\n",
    "                best_result = rmse\n",
    "                best_est = est\n",
    "                best_depth = depth\n",
    "                \n",
    "        est_dict[est] = result_list\n",
    "    return best_model, best_result, best_est, best_depth, est_dict"
   ]
  },
  {
   "cell_type": "code",
   "execution_count": 35,
   "metadata": {},
   "outputs": [],
   "source": [
    "# %%time\n",
    "# (forest_model, forest_rmse,\n",
    "# forest_est, forest_depth, \n",
    "#  forest_dict) = find_best_forest(features_train_scaled, target_train, \n",
    "#                      features_valid_scaled, target_valid)\n",
    "\n",
    "# print('Оптимальное количество деревьев:', forest_est)\n",
    "# print('Оптимальная глубина:', forest_depth)\n",
    "\n",
    "# # Wall time: 1h 55min 4s"
   ]
  },
  {
   "cell_type": "markdown",
   "metadata": {},
   "source": [
    "**train → valid**"
   ]
  },
  {
   "cell_type": "code",
   "execution_count": 36,
   "metadata": {},
   "outputs": [],
   "source": [
    "start_time = time.time()\n",
    "best_forest_model = RandomForestRegressor(random_state=123, n_estimators=40,\n",
    "                                          max_depth=22).fit(features_train_scaled, target_train)\n",
    "forest_train_time = time.time() - start_time"
   ]
  },
  {
   "cell_type": "code",
   "execution_count": 37,
   "metadata": {},
   "outputs": [],
   "source": [
    "start_time = time.time()\n",
    "forest_predicted = best_forest_model.predict(features_valid_scaled)\n",
    "forest_pred_time = time.time() - start_time"
   ]
  },
  {
   "cell_type": "code",
   "execution_count": 38,
   "metadata": {},
   "outputs": [
    {
     "name": "stdout",
     "output_type": "stream",
     "text": [
      "RMSE случайного леса на валидационной выборке 1749.0\n",
      "Время обучения: 131.47\n",
      "Время предсказания 1.01\n"
     ]
    }
   ],
   "source": [
    "forest_rmse = (mean_squared_error(target_valid, forest_predicted))**0.5\n",
    "forest_list = [forest_rmse, forest_train_time, forest_pred_time]\n",
    "models_dict['RandForest Valid'] = forest_list\n",
    "\n",
    "print('RMSE случайного леса на валидационной выборке', round(forest_rmse, 2))\n",
    "print('Время обучения:', round(forest_train_time, 2))\n",
    "print('Время предсказания', round(forest_pred_time, 2))"
   ]
  },
  {
   "cell_type": "markdown",
   "metadata": {},
   "source": [
    "**train + valid → test**"
   ]
  },
  {
   "cell_type": "code",
   "execution_count": 39,
   "metadata": {},
   "outputs": [],
   "source": [
    "start_time_test = time.time()\n",
    "forest_model_test = RandomForestRegressor(random_state=123, n_estimators=40,\n",
    "                                          max_depth=22).fit(features_concatenated, target_concatenated)\n",
    "forest_train_time_test = time.time() - start_time_test"
   ]
  },
  {
   "cell_type": "code",
   "execution_count": 40,
   "metadata": {},
   "outputs": [],
   "source": [
    "start_time_test = time.time()\n",
    "forest_predicted_test = forest_model_test.predict(features_test_scaled)\n",
    "forest_pred_time_test = time.time() - start_time_test"
   ]
  },
  {
   "cell_type": "code",
   "execution_count": 41,
   "metadata": {},
   "outputs": [
    {
     "name": "stdout",
     "output_type": "stream",
     "text": [
      "RMSE случайного леса на тестовой выборке 1735.61\n",
      "Время обучения: 193.24\n",
      "Время предсказания 0.96\n"
     ]
    }
   ],
   "source": [
    "forest_rmse_test = (mean_squared_error(target_test, forest_predicted_test))**0.5\n",
    "forest_list_test = [forest_rmse_test, forest_train_time_test, forest_pred_time_test]\n",
    "models_dict['RandForest Test'] = forest_list_test\n",
    "\n",
    "print('RMSE случайного леса на тестовой выборке', round(forest_rmse_test, 2))\n",
    "print('Время обучения:', round(forest_train_time_test, 2))\n",
    "print('Время предсказания', round(forest_pred_time_test, 2))"
   ]
  },
  {
   "cell_type": "markdown",
   "metadata": {},
   "source": [
    "### GBM"
   ]
  },
  {
   "cell_type": "code",
   "execution_count": 42,
   "metadata": {},
   "outputs": [],
   "source": [
    "b_data = data.copy()\n",
    "# b_data.info()"
   ]
  },
  {
   "cell_type": "code",
   "execution_count": 43,
   "metadata": {},
   "outputs": [],
   "source": [
    "for c in b_data.columns:\n",
    "    col_type = b_data[c].dtype\n",
    "    if col_type == 'object' or col_type.name == 'category':\n",
    "        b_data[c] = b_data[c].astype('category')"
   ]
  },
  {
   "cell_type": "code",
   "execution_count": 44,
   "metadata": {},
   "outputs": [
    {
     "name": "stdout",
     "output_type": "stream",
     "text": [
      "(140130, 11)\n",
      "(46711, 11)\n",
      "(46711, 11)\n",
      "(140130, 11)\n",
      "(46711,)\n",
      "(46711,)\n"
     ]
    }
   ],
   "source": [
    "(b_features_train, b_features_valid, b_features_test,\n",
    " b_target_train, b_target_valid, b_target_test) = train_valid_test_split(b_data, 'price')\n",
    "\n",
    "for i in (b_features_train, b_features_valid, b_features_test, \n",
    "          b_features_train, b_target_valid, b_target_test):\n",
    "    print(i.shape)"
   ]
  },
  {
   "cell_type": "code",
   "execution_count": 45,
   "metadata": {},
   "outputs": [],
   "source": [
    "b_features_concatenated = pd.concat([b_features_train, b_features_valid])\n",
    "b_target_concatenated = pd.concat([b_target_train, b_target_valid])"
   ]
  },
  {
   "cell_type": "code",
   "execution_count": 46,
   "metadata": {},
   "outputs": [],
   "source": [
    "lgb_train = lgb.Dataset(b_features_train, b_target_train, free_raw_data=False)\n",
    "lgb_eval = lgb.Dataset(b_features_valid, b_target_valid, reference=lgb_train, free_raw_data=False)\n",
    "\n",
    "lgb_concatenated = lgb.Dataset(b_features_concatenated, b_target_concatenated, free_raw_data=False)\n",
    "lgb_test = lgb.Dataset(b_features_test, b_target_test, reference=lgb_train, free_raw_data=False)"
   ]
  },
  {
   "cell_type": "code",
   "execution_count": 47,
   "metadata": {},
   "outputs": [],
   "source": [
    "params = {\n",
    "    'boosting_type': 'gbdt',\n",
    "    'objective': 'regression',\n",
    "    'metric': {'l2', 'l1'},\n",
    "    'num_leaves': 31,\n",
    "    'learning_rate': 0.05,\n",
    "    'feature_fraction': 0.9,\n",
    "    'bagging_fraction': 0.8,\n",
    "    'bagging_freq': 5,\n",
    "    'verbose': 0\n",
    "}"
   ]
  },
  {
   "cell_type": "code",
   "execution_count": 48,
   "metadata": {},
   "outputs": [],
   "source": [
    "num_train, num_feature = b_features_train.shape\n",
    "feature_name = ['feature_' + str(col) for col in range(num_feature)]"
   ]
  },
  {
   "cell_type": "markdown",
   "metadata": {},
   "source": [
    "**train → valid**"
   ]
  },
  {
   "cell_type": "code",
   "execution_count": 49,
   "metadata": {},
   "outputs": [
    {
     "name": "stdout",
     "output_type": "stream",
     "text": [
      "[LightGBM] [Warning] Auto-choosing row-wise multi-threading, the overhead of testing was 0.006330 seconds.\n",
      "You can set `force_row_wise=true` to remove the overhead.\n",
      "And if memory is not enough, you can set `force_col_wise=true`.\n"
     ]
    }
   ],
   "source": [
    "start_time = time.time()\n",
    "gbm = lgb.train(params,\n",
    "                lgb_train,\n",
    "                num_boost_round=200,\n",
    "                valid_sets=lgb_eval,\n",
    "                feature_name=feature_name,\n",
    "                categorical_feature=[0, 2, 4, 7, 8, 9],\n",
    "                verbose_eval=False)\n",
    "gbm_train_time = time.time() - start_time"
   ]
  },
  {
   "cell_type": "code",
   "execution_count": 50,
   "metadata": {},
   "outputs": [],
   "source": [
    "start_time = time.time()\n",
    "gbm_predicted = gbm.predict(b_features_valid, num_iteration=gbm.best_iteration)\n",
    "gbm_pred_time = time.time() - start_time"
   ]
  },
  {
   "cell_type": "code",
   "execution_count": 51,
   "metadata": {},
   "outputs": [
    {
     "name": "stdout",
     "output_type": "stream",
     "text": [
      "RMSE LightGBM на валидационной выборке 1679.22\n",
      "Время обучения: 3.13\n",
      "Время предсказания 0.49\n"
     ]
    }
   ],
   "source": [
    "gbm_rmse = mean_squared_error(b_target_valid, gbm_predicted) ** 0.5\n",
    "LightGBM_list = [gbm_rmse, gbm_train_time, gbm_pred_time]\n",
    "models_dict['LightGBM Valid'] = LightGBM_list\n",
    "\n",
    "print('RMSE LightGBM на валидационной выборке', round(gbm_rmse, 2))\n",
    "print('Время обучения:', round(gbm_train_time, 2))\n",
    "print('Время предсказания', round(gbm_pred_time, 2))"
   ]
  },
  {
   "cell_type": "markdown",
   "metadata": {},
   "source": [
    "**train + valid → test**"
   ]
  },
  {
   "cell_type": "code",
   "execution_count": 52,
   "metadata": {},
   "outputs": [
    {
     "name": "stdout",
     "output_type": "stream",
     "text": [
      "[LightGBM] [Warning] Auto-choosing col-wise multi-threading, the overhead of testing was 0.014021 seconds.\n",
      "You can set `force_col_wise=true` to remove the overhead.\n"
     ]
    }
   ],
   "source": [
    "start_time = time.time()\n",
    "gbm_test = lgb.train(params,\n",
    "                     lgb_concatenated,\n",
    "                     num_boost_round=200,\n",
    "                     valid_sets=lgb_test,\n",
    "                     feature_name=feature_name,\n",
    "                     categorical_feature=[0, 2, 4, 7, 8, 9],\n",
    "                     verbose_eval=False)\n",
    "gbm_train_time_test = time.time() - start_time"
   ]
  },
  {
   "cell_type": "code",
   "execution_count": 53,
   "metadata": {},
   "outputs": [],
   "source": [
    "start_time = time.time()\n",
    "gbm_predicted_test = gbm_test.predict(b_features_test, num_iteration=gbm.best_iteration)\n",
    "gbm_pred_time_test = time.time() - start_time"
   ]
  },
  {
   "cell_type": "code",
   "execution_count": 54,
   "metadata": {},
   "outputs": [
    {
     "name": "stdout",
     "output_type": "stream",
     "text": [
      "RMSE LightGBM на валидационной выборке 1693.87\n",
      "Время обучения: 3.56\n",
      "Время предсказания 0.5\n"
     ]
    }
   ],
   "source": [
    "gbm_rmse_test = mean_squared_error(b_target_test, gbm_predicted_test) ** 0.5\n",
    "LightGBM_list_test = [gbm_rmse_test, gbm_train_time_test, gbm_pred_time_test]\n",
    "models_dict['LightGBM Test'] = LightGBM_list_test\n",
    "\n",
    "print('RMSE LightGBM на валидационной выборке', round(gbm_rmse_test, 2))\n",
    "print('Время обучения:', round(gbm_train_time_test, 2))\n",
    "print('Время предсказания', round(gbm_pred_time_test, 2))"
   ]
  },
  {
   "cell_type": "markdown",
   "metadata": {},
   "source": [
    "## Анализ моделей"
   ]
  },
  {
   "cell_type": "code",
   "execution_count": 55,
   "metadata": {},
   "outputs": [
    {
     "data": {
      "text/html": [
       "<div>\n",
       "<style scoped>\n",
       "    .dataframe tbody tr th:only-of-type {\n",
       "        vertical-align: middle;\n",
       "    }\n",
       "\n",
       "    .dataframe tbody tr th {\n",
       "        vertical-align: top;\n",
       "    }\n",
       "\n",
       "    .dataframe thead th {\n",
       "        text-align: right;\n",
       "    }\n",
       "</style>\n",
       "<table border=\"1\" class=\"dataframe\">\n",
       "  <thead>\n",
       "    <tr style=\"text-align: right;\">\n",
       "      <th></th>\n",
       "      <th>rmse</th>\n",
       "      <th>обучение</th>\n",
       "      <th>предсказание</th>\n",
       "    </tr>\n",
       "  </thead>\n",
       "  <tbody>\n",
       "    <tr>\n",
       "      <th>LinRegr Valid</th>\n",
       "      <td>2778.184</td>\n",
       "      <td>17.612</td>\n",
       "      <td>0.444</td>\n",
       "    </tr>\n",
       "    <tr>\n",
       "      <th>LinRegr Test</th>\n",
       "      <td>2781.465</td>\n",
       "      <td>5.909</td>\n",
       "      <td>0.111</td>\n",
       "    </tr>\n",
       "    <tr>\n",
       "      <th>RandForest Valid</th>\n",
       "      <td>1749.005</td>\n",
       "      <td>131.467</td>\n",
       "      <td>1.007</td>\n",
       "    </tr>\n",
       "    <tr>\n",
       "      <th>RandForest Test</th>\n",
       "      <td>1735.609</td>\n",
       "      <td>193.236</td>\n",
       "      <td>0.962</td>\n",
       "    </tr>\n",
       "    <tr>\n",
       "      <th>LightGBM Valid</th>\n",
       "      <td>1679.220</td>\n",
       "      <td>3.134</td>\n",
       "      <td>0.488</td>\n",
       "    </tr>\n",
       "    <tr>\n",
       "      <th>LightGBM Test</th>\n",
       "      <td>1693.870</td>\n",
       "      <td>3.559</td>\n",
       "      <td>0.502</td>\n",
       "    </tr>\n",
       "  </tbody>\n",
       "</table>\n",
       "</div>"
      ],
      "text/plain": [
       "                      rmse  обучение  предсказание\n",
       "LinRegr Valid     2778.184    17.612         0.444\n",
       "LinRegr Test      2781.465     5.909         0.111\n",
       "RandForest Valid  1749.005   131.467         1.007\n",
       "RandForest Test   1735.609   193.236         0.962\n",
       "LightGBM Valid    1679.220     3.134         0.488\n",
       "LightGBM Test     1693.870     3.559         0.502"
      ]
     },
     "execution_count": 55,
     "metadata": {},
     "output_type": "execute_result"
    }
   ],
   "source": [
    "results_df = pd.DataFrame.from_dict(models_dict, \n",
    "                       orient='index', \n",
    "                       columns=['rmse', 'обучение', 'предсказание']).iloc[0:6].round(decimals=3)\n",
    "results_df"
   ]
  },
  {
   "cell_type": "code",
   "execution_count": 56,
   "metadata": {},
   "outputs": [],
   "source": [
    "predictions = [pd.Series(lin_predicted), pd.Series(forest_predicted), pd.Series(gbm_predicted),\n",
    "               pd.Series(lin_predicted_test), pd.Series(forest_predicted_test), pd.Series(gbm_predicted_test)]\n",
    "titles = ['Линейная регрессия (valid)', 'Случайный лес (valid)','LightGBM (valid)',\n",
    "          'Линейная регрессия (test)', 'Случайный лес (test)', 'LightGBM (test)']\n",
    "rmses = [lin_rmse, forest_rmse, gbm_rmse,\n",
    "         lin_rmse_test, forest_rmse_test, gbm_rmse_test]"
   ]
  },
  {
   "cell_type": "code",
   "execution_count": 57,
   "metadata": {},
   "outputs": [
    {
     "data": {
      "image/png": "[encoded data removed]",
      "text/plain": [
       "<Figure size 1080x576 with 6 Axes>"
      ]
     },
     "metadata": {
      "needs_background": "light"
     },
     "output_type": "display_data"
    }
   ],
   "source": [
    "axs = plt \\\n",
    ".figure(figsize=(15, 8), constrained_layout=True) \\\n",
    ".subplots(2, 3, sharex=True, sharey=True) \\\n",
    ".flat\n",
    "\n",
    "for ax, p, t, e in zip(axs, predictions, titles, rmses):\n",
    "    ax.hist(target_valid, bins=100, alpha=.75, color='grey')\n",
    "    ax.hist(p, bins=100, alpha=.35, color='red')\n",
    "    ax.set_xlim(-5000, 21000)\n",
    "    ax.legend(['валидационные метки', 'предсказания']);\n",
    "    ax.set_title(str(t) + '\\n$RMSE$ = {:.2f}'.format(e));\n",
    "\n",
    "plt.suptitle('Гистограммы предсказаний разных моделей', fontsize=16);"
   ]
  },
  {
   "cell_type": "markdown",
   "metadata": {},
   "source": [
    "Было обучено три модели: **Линейная регрессия**, **Случайный лес** и **LightGBM**. \n",
    "\n",
    "Самой быстрой, но в то же время самой неточной моделью для наших данных является **линейная регрессия**. Хотя ей на обучение и предсказание требуется около 15 и 0.07 секунд соответственно, её *RMSE* ~ 2774.  \n",
    "\n",
    "Меньшая ошибка *RMSE* (1736.587) достигается при использовании **случайного леса**. Однако эта модель оказалась самой дорогой по времени. Чтобы подобрать лучшую глубину дерева и оптимальное количество деревьев, уходит от 40 минут до 2 часов. Обучение по выбранным параметрам занимает около 130.0 секунд, предсказание - 0.9.\n",
    "\n",
    "Лучше всего себя показала **LightGBM**. При количестве итераций = 200 ее *RMSE* ниже, чем у леса (1679.098), обучение и предсказание занимают 13 и 0.9 секунд соответственно. При этом можно уменьшить время предсказания, если сократить количество итераций. Конечно, качество при этом тоже падает."
   ]
  }
 ],
 "metadata": {
  "kernelspec": {
   "display_name": "Python 3",
   "language": "python",
   "name": "python3"
  },
  "language_info": {
   "codemirror_mode": {
    "name": "ipython",
    "version": 3
   },
   "file_extension": ".py",
   "mimetype": "text/x-python",
   "name": "python",
   "nbconvert_exporter": "python",
   "pygments_lexer": "ipython3",
   "version": "3.8.8"
  },
  "toc": {
   "base_numbering": 1,
   "nav_menu": {},
   "number_sections": true,
   "sideBar": true,
   "skip_h1_title": true,
   "title_cell": "Содержание",
   "title_sidebar": "Contents",
   "toc_cell": true,
   "toc_position": {
    "height": "calc(100% - 180px)",
    "left": "10px",
    "top": "150px",
    "width": "165px"
   },
   "toc_section_display": true,
   "toc_window_display": true
  }
 },
 "nbformat": 4,
 "nbformat_minor": 2
}
