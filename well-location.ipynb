{
 "cells": [
  {
   "cell_type": "markdown",
   "metadata": {},
   "source": [
    "# Выбор локации для скважины"
   ]
  },
  {
   "cell_type": "markdown",
   "metadata": {},
   "source": [
    "## Содержание проекта\n",
    "\n",
    "1. Введение  \n",
    "    1.1. Описание проекта  \n",
    "    1.2. Описание данных  \n",
    "2. Загрузка и подготовка данных  \n",
    "    2.1. Регион 0  \n",
    "    2.2. Регион 1  \n",
    "    2.3. Регион 2  \n",
    "3. Обучение и проверка модели  \n",
    "    3.1. Регион 0  \n",
    "    3.2. Регион 1  \n",
    "    3.3. Регион 2  \n",
    "4. Подготовка к расчёту прибыли  \n",
    "5. Расчёт прибыли и рисков  \n",
    "6. Выводы  "
   ]
  },
  {
   "cell_type": "markdown",
   "metadata": {},
   "source": [
    "## Введение"
   ]
  },
  {
   "cell_type": "markdown",
   "metadata": {},
   "source": [
    "### Описание проекта"
   ]
  },
  {
   "cell_type": "markdown",
   "metadata": {},
   "source": [
    "Добывающей компании «ГлавРосГосНефть» нужно решить, где бурить новую скважину.\n",
    "\n",
    "**Данные**: пробы нефти в трёх регионах: в каждом 10 000 месторождений, где измерили качество нефти и объём её запасов. \n",
    "\n",
    "**Задача**: построить модель машинного обучения, которая поможет определить регион, где добыча принесёт наибольшую прибыль. Проанализировать возможную прибыль и риски техникой *Bootstrap.*\n",
    "\n",
    "**Шаги** для выбора локации:\n",
    "\n",
    "- В избранном регионе ищут месторождения, для каждого определяют значения признаков;\n",
    "- Строят модель и оценивают объём запасов;\n",
    "- Выбирают месторождения с самым высокими оценками значений. Количество месторождений зависит от бюджета компании и стоимости разработки одной скважины;\n",
    "- Прибыль равна суммарной прибыли отобранных месторождений."
   ]
  },
  {
   "cell_type": "markdown",
   "metadata": {},
   "source": [
    "### Описание данных"
   ]
  },
  {
   "cell_type": "markdown",
   "metadata": {},
   "source": [
    "Данные геологоразведки трёх регионов находятся в файлах, каждый из наборов данных состоит из следующих признаков:\n",
    "- *id* — уникальный идентификатор скважины;\n",
    "- *f0, f1, f2* — три признака точек (неважно, что они означают, но сами признаки значимы);\n",
    "- *product* — объём запасов в скважине (тыс. баррелей)."
   ]
  },
  {
   "cell_type": "code",
   "execution_count": 1,
   "metadata": {},
   "outputs": [],
   "source": [
    "import pandas as pd\n",
    "import numpy as np\n",
    "\n",
    "import matplotlib.pyplot as plt\n",
    "import seaborn as sns\n",
    "\n",
    "from sklearn.model_selection import train_test_split\n",
    "from sklearn.linear_model import LinearRegression\n",
    "from sklearn.metrics import mean_squared_error\n",
    "from sklearn.preprocessing import StandardScaler\n",
    "\n",
    "from scipy import stats\n",
    "\n",
    "from tqdm.notebook import tqdm\n",
    "import warnings\n",
    "warnings.filterwarnings('ignore')"
   ]
  },
  {
   "cell_type": "code",
   "execution_count": 7,
   "metadata": {},
   "outputs": [],
   "source": [
    "def intro(data):\n",
    "    info = data.info()\n",
    "    head = data.head()\n",
    "    return info, head\n",
    "\n",
    "def visual(data):\n",
    "    data.hist(figsize=(5,5), color='grey', rwidth=0.85)\n",
    "    plt.suptitle('Распределение признаков');\n",
    "    plt.tight_layout(rect=[0, 0.03, 1, 0.95])\n",
    "    f, ax = plt.subplots(figsize=[6,5])\n",
    "    sns.heatmap(data.corr(),\n",
    "            annot=True, fmt=\".2f\",cbar_kws={'label': 'Проценты %'},cmap=\"Greys\",ax=ax)\n",
    "    ax.set_title('Корреляция признаков');\n",
    "    \n",
    "def train_valid_split(data):\n",
    "    features = data.drop('product', axis=1)\n",
    "    target = data['product']\n",
    "\n",
    "    features_train, features_valid, target_train, target_valid = train_test_split(\n",
    "    features, target, test_size=0.25, random_state=12345)\n",
    "    \n",
    "    return features_train, features_valid, target_train, target_valid"
   ]
  },
  {
   "cell_type": "markdown",
   "metadata": {},
   "source": [
    "## Загрузка и подготовка данных"
   ]
  },
  {
   "cell_type": "markdown",
   "metadata": {},
   "source": [
    "### Регион 0"
   ]
  },
  {
   "cell_type": "code",
   "execution_count": 8,
   "metadata": {},
   "outputs": [
    {
     "name": "stdout",
     "output_type": "stream",
     "text": [
      "<class 'pandas.core.frame.DataFrame'>\n",
      "RangeIndex: 100000 entries, 0 to 99999\n",
      "Data columns (total 5 columns):\n",
      " #   Column   Non-Null Count   Dtype  \n",
      "---  ------   --------------   -----  \n",
      " 0   id       100000 non-null  object \n",
      " 1   f0       100000 non-null  float64\n",
      " 2   f1       100000 non-null  float64\n",
      " 3   f2       100000 non-null  float64\n",
      " 4   product  100000 non-null  float64\n",
      "dtypes: float64(4), object(1)\n",
      "memory usage: 3.8+ MB\n"
     ]
    },
    {
     "data": {
      "text/plain": [
       "(None,\n",
       "       id        f0        f1        f2     product\n",
       " 0  txEyH  0.705745 -0.497823  1.221170  105.280062\n",
       " 1  2acmU  1.334711 -0.340164  4.365080   73.037750\n",
       " 2  409Wp  1.022732  0.151990  1.419926   85.265647\n",
       " 3  iJLyR -0.032172  0.139033  2.978566  168.620776\n",
       " 4  Xdl7t  1.988431  0.155413  4.751769  154.036647)"
      ]
     },
     "execution_count": 8,
     "metadata": {},
     "output_type": "execute_result"
    }
   ],
   "source": [
    "data_0 = pd.read_csv('geo_data_0.csv')\n",
    "intro(data_0)"
   ]
  },
  {
   "cell_type": "code",
   "execution_count": 9,
   "metadata": {},
   "outputs": [
    {
     "data": {
      "text/plain": [
       "(99990, 5)"
      ]
     },
     "execution_count": 9,
     "metadata": {},
     "output_type": "execute_result"
    }
   ],
   "source": [
    "data_0 = data_0.drop_duplicates(subset='id')\n",
    "data_0.shape"
   ]
  },
  {
   "cell_type": "code",
   "execution_count": 10,
   "metadata": {},
   "outputs": [
    {
     "data": {
      "image/png": "[encoded data removed]",
      "text/plain": [
       "<Figure size 360x360 with 4 Axes>"
      ]
     },
     "metadata": {
      "needs_background": "light"
     },
     "output_type": "display_data"
    },
    {
     "data": {
      "image/png": "[encoded data removed]",
      "text/plain": [
       "<Figure size 432x360 with 2 Axes>"
      ]
     },
     "metadata": {
      "needs_background": "light"
     },
     "output_type": "display_data"
    }
   ],
   "source": [
    "# data_0 = data_0['id'].drop_duplicates()\n",
    "data_0 = data_0.drop(['id'], 1)\n",
    "visual(data_0)"
   ]
  },
  {
   "cell_type": "markdown",
   "metadata": {},
   "source": [
    "### Регион 1"
   ]
  },
  {
   "cell_type": "code",
   "execution_count": 35,
   "metadata": {},
   "outputs": [
    {
     "name": "stdout",
     "output_type": "stream",
     "text": [
      "<class 'pandas.core.frame.DataFrame'>\n",
      "RangeIndex: 100000 entries, 0 to 99999\n",
      "Data columns (total 5 columns):\n",
      " #   Column   Non-Null Count   Dtype  \n",
      "---  ------   --------------   -----  \n",
      " 0   id       100000 non-null  object \n",
      " 1   f0       100000 non-null  float64\n",
      " 2   f1       100000 non-null  float64\n",
      " 3   f2       100000 non-null  float64\n",
      " 4   product  100000 non-null  float64\n",
      "dtypes: float64(4), object(1)\n",
      "memory usage: 3.8+ MB\n"
     ]
    },
    {
     "data": {
      "text/plain": [
       "(None,\n",
       "       id         f0         f1        f2     product\n",
       " 0  kBEdx -15.001348  -8.276000 -0.005876    3.179103\n",
       " 1  62mP7  14.272088  -3.475083  0.999183   26.953261\n",
       " 2  vyE1P   6.263187  -5.948386  5.001160  134.766305\n",
       " 3  KcrkZ -13.081196 -11.506057  4.999415  137.945408\n",
       " 4  AHL4O  12.702195  -8.147433  5.004363  134.766305)"
      ]
     },
     "execution_count": 35,
     "metadata": {},
     "output_type": "execute_result"
    }
   ],
   "source": [
    "data_1 = pd.read_csv('geo_data_1.csv')\n",
    "intro(data_1)"
   ]
  },
  {
   "cell_type": "code",
   "execution_count": 36,
   "metadata": {},
   "outputs": [
    {
     "data": {
      "text/plain": [
       "(99996, 5)"
      ]
     },
     "execution_count": 36,
     "metadata": {},
     "output_type": "execute_result"
    }
   ],
   "source": [
    "data_1 = data_1.drop_duplicates(subset='id')\n",
    "data_1.shape"
   ]
  },
  {
   "cell_type": "code",
   "execution_count": 37,
   "metadata": {},
   "outputs": [
    {
     "data": {
      "image/png": "[encoded data removed]",
      "text/plain": [
       "<Figure size 360x360 with 4 Axes>"
      ]
     },
     "metadata": {
      "needs_background": "light"
     },
     "output_type": "display_data"
    },
    {
     "data": {
      "image/png": "[encoded data removed]",
      "text/plain": [
       "<Figure size 432x360 with 2 Axes>"
      ]
     },
     "metadata": {
      "needs_background": "light"
     },
     "output_type": "display_data"
    }
   ],
   "source": [
    "data_1 = data_1.drop(['id'], 1)\n",
    "visual(data_1)"
   ]
  },
  {
   "cell_type": "markdown",
   "metadata": {},
   "source": [
    "### Регион 2"
   ]
  },
  {
   "cell_type": "code",
   "execution_count": 46,
   "metadata": {},
   "outputs": [
    {
     "name": "stdout",
     "output_type": "stream",
     "text": [
      "<class 'pandas.core.frame.DataFrame'>\n",
      "RangeIndex: 100000 entries, 0 to 99999\n",
      "Data columns (total 5 columns):\n",
      " #   Column   Non-Null Count   Dtype  \n",
      "---  ------   --------------   -----  \n",
      " 0   id       100000 non-null  object \n",
      " 1   f0       100000 non-null  float64\n",
      " 2   f1       100000 non-null  float64\n",
      " 3   f2       100000 non-null  float64\n",
      " 4   product  100000 non-null  float64\n",
      "dtypes: float64(4), object(1)\n",
      "memory usage: 3.8+ MB\n"
     ]
    },
    {
     "data": {
      "text/plain": [
       "(None,\n",
       "       id        f0        f1        f2     product\n",
       " 0  fwXo0 -1.146987  0.963328 -0.828965   27.758673\n",
       " 1  WJtFt  0.262778  0.269839 -2.530187   56.069697\n",
       " 2  ovLUW  0.194587  0.289035 -5.586433   62.871910\n",
       " 3  q6cA6  2.236060 -0.553760  0.930038  114.572842\n",
       " 4  WPMUX -0.515993  1.716266  5.899011  149.600746)"
      ]
     },
     "execution_count": 46,
     "metadata": {},
     "output_type": "execute_result"
    }
   ],
   "source": [
    "data_2 = pd.read_csv('geo_data_2.csv')\n",
    "intro(data_2)"
   ]
  },
  {
   "cell_type": "code",
   "execution_count": 47,
   "metadata": {},
   "outputs": [
    {
     "data": {
      "text/plain": [
       "(99996, 5)"
      ]
     },
     "execution_count": 47,
     "metadata": {},
     "output_type": "execute_result"
    }
   ],
   "source": [
    "data_2 = data_2.drop_duplicates(subset='id')\n",
    "data_2.shape"
   ]
  },
  {
   "cell_type": "code",
   "execution_count": 48,
   "metadata": {},
   "outputs": [
    {
     "data": {
      "image/png": "[encoded data removed]",
      "text/plain": [
       "<Figure size 360x360 with 4 Axes>"
      ]
     },
     "metadata": {
      "needs_background": "light"
     },
     "output_type": "display_data"
    },
    {
     "data": {
      "image/png": "[encoded data removed]",
      "text/plain": [
       "<Figure size 432x360 with 2 Axes>"
      ]
     },
     "metadata": {
      "needs_background": "light"
     },
     "output_type": "display_data"
    }
   ],
   "source": [
    "data_2 = data_2.drop(['id'], 1)\n",
    "visual(data_2)"
   ]
  },
  {
   "cell_type": "markdown",
   "metadata": {},
   "source": [
    "**Выводы**:  В данных отсутствуют пропущенные значения. Дубликаты в столбцах с id были удалены. В одном из регионов есть признак, на 100% коррелирующий с целевой меткой. Решено было его не удалять, так как удаление не давало улучшения качества модели. "
   ]
  },
  {
   "cell_type": "markdown",
   "metadata": {},
   "source": [
    "## Обучение и проверка модели"
   ]
  },
  {
   "cell_type": "markdown",
   "metadata": {},
   "source": [
    "### Регион 0"
   ]
  },
  {
   "cell_type": "code",
   "execution_count": 15,
   "metadata": {},
   "outputs": [
    {
     "name": "stdout",
     "output_type": "stream",
     "text": [
      "Обучающая выборка: (74992, 3) (74992,)\n",
      "Валидационная выборка: (24998, 3) (24998,)\n"
     ]
    }
   ],
   "source": [
    "(features_train_0, features_valid_0, \n",
    " target_train_0, target_valid_0) = train_valid_split(data_0)\n",
    "\n",
    "print('Обучающая выборка:', features_train_0.shape, target_train_0.shape)\n",
    "print('Валидационная выборка:', features_valid_0.shape, target_valid_0.shape)"
   ]
  },
  {
   "cell_type": "code",
   "execution_count": 26,
   "metadata": {},
   "outputs": [
    {
     "name": "stdout",
     "output_type": "stream",
     "text": [
      "Реальный средний запас сырья в регионе 0: 92.16\n",
      "Предсказанный средний запас сырья в регионе 0: 92.79\n",
      "RMSE: 37.85\n"
     ]
    }
   ],
   "source": [
    "model_0 = LinearRegression().fit(features_train_0, target_train_0)\n",
    "predictions_0 = pd.Series(model_0.predict(features_valid_0), index=target_valid_0.index)\n",
    "\n",
    "mse_0 = mean_squared_error(predictions_0, target_valid_0)\n",
    "\n",
    "print(f'Реальный средний запас сырья в регионе 0: {target_valid_0.mean():.2f}')\n",
    "print(f'Предсказанный средний запас сырья в регионе 0: {predictions_0.mean():.2f}')\n",
    "print(f'RMSE: {mse_0 ** 0.5:.2f}')"
   ]
  },
  {
   "cell_type": "code",
   "execution_count": 27,
   "metadata": {},
   "outputs": [],
   "source": [
    "predictions_0.reset_index(inplace=True, drop=True)\n",
    "target_valid_0.reset_index(inplace=True, drop=True)"
   ]
  },
  {
   "cell_type": "code",
   "execution_count": 28,
   "metadata": {},
   "outputs": [
    {
     "data": {
      "image/png": "[encoded data removed]",
      "text/plain": [
       "<Figure size 432x288 with 1 Axes>"
      ]
     },
     "metadata": {
      "needs_background": "light"
     },
     "output_type": "display_data"
    }
   ],
   "source": [
    "target_valid_0.hist(bins=50, rwidth=0.85, alpha=.5, color='black');\n",
    "predictions_0.hist(bins=50, rwidth=0.85, alpha=.5, color='red');\n",
    "plt.title('Реальные и предсказанные значения на валидационной выборке');\n",
    "plt.legend(['реальные', 'предсказанные']);"
   ]
  },
  {
   "cell_type": "markdown",
   "metadata": {},
   "source": [
    "**Выводы:**  средние реальных и предсказанных значений в *Регионе 0* не сильно отличаются (*92.16* реальных против *92.78* предсказанных), но ошибка RMSE довольно большая (*37.85*), потому что распределение значений устроено по-разному, что видно на гистограмме."
   ]
  },
  {
   "cell_type": "markdown",
   "metadata": {},
   "source": [
    "### Регион 1"
   ]
  },
  {
   "cell_type": "code",
   "execution_count": 38,
   "metadata": {},
   "outputs": [
    {
     "name": "stdout",
     "output_type": "stream",
     "text": [
      "Обучающая выборка: (74997, 3) (74997,)\n",
      "Валидационная выборка: (24999, 3) (24999,)\n"
     ]
    }
   ],
   "source": [
    "(features_train_1, features_valid_1, \n",
    " target_train_1, target_valid_1) = train_valid_split(data_1)\n",
    "\n",
    "print('Обучающая выборка:', features_train_1.shape, target_train_1.shape)\n",
    "print('Валидационная выборка:', features_valid_1.shape, target_valid_1.shape)"
   ]
  },
  {
   "cell_type": "code",
   "execution_count": 41,
   "metadata": {},
   "outputs": [
    {
     "name": "stdout",
     "output_type": "stream",
     "text": [
      "Средний запас сырья в регионе 1: 69.19\n",
      "Средний запас предсказанного сырья: 69.18\n",
      "RMSE: 0.89\n"
     ]
    }
   ],
   "source": [
    "model_1 = LinearRegression().fit(features_train_1, target_train_1)\n",
    "predictions_1 = pd.Series(model_1.predict(features_valid_1))\n",
    "mse_1 = mean_squared_error(predictions_1, target_valid_1)\n",
    "\n",
    "print(f'Средний запас сырья в регионе 1: {target_valid_1.mean():.2f}')\n",
    "print(f'Средний запас предсказанного сырья: {predictions_1.mean():.2f}')\n",
    "print(f'RMSE: {mse_1 ** 0.5:.2f}')"
   ]
  },
  {
   "cell_type": "code",
   "execution_count": 42,
   "metadata": {},
   "outputs": [],
   "source": [
    "predictions_1.reset_index(inplace=True, drop=True)\n",
    "target_valid_1.reset_index(inplace=True, drop=True)"
   ]
  },
  {
   "cell_type": "code",
   "execution_count": 43,
   "metadata": {},
   "outputs": [
    {
     "data": {
      "image/png": "[encoded data removed]",
      "text/plain": [
       "<Figure size 432x288 with 1 Axes>"
      ]
     },
     "metadata": {
      "needs_background": "light"
     },
     "output_type": "display_data"
    }
   ],
   "source": [
    "target_valid_1.hist(bins=50, rwidth=0.85, alpha=.5, color='black');\n",
    "pd.Series(predictions_1).hist(bins=50, rwidth=0.85, alpha=.5, color='red');\n",
    "plt.title('Реальные и предсказанные значения на валидационной выборке');\n",
    "plt.legend(['реальные', 'предсказанные']);"
   ]
  },
  {
   "cell_type": "markdown",
   "metadata": {},
   "source": [
    "**Выводы:** в *Регионе 1* одна из меток в этой выборке на 100% коррелировала с целевой меткой, поэтому получилась маленькая ошибка RMSE (*0.89*)."
   ]
  },
  {
   "cell_type": "markdown",
   "metadata": {},
   "source": [
    "### Регион 2"
   ]
  },
  {
   "cell_type": "code",
   "execution_count": 49,
   "metadata": {},
   "outputs": [
    {
     "name": "stdout",
     "output_type": "stream",
     "text": [
      "Обучающая выборка: (74997, 3) (74997,)\n",
      "Валидационная выборка: (24999, 3) (24999,)\n"
     ]
    }
   ],
   "source": [
    "(features_train_2, features_valid_2, \n",
    " target_train_2, target_valid_2) = train_valid_split(data_2)\n",
    "\n",
    "print('Обучающая выборка:', features_train_2.shape, target_train_2.shape)\n",
    "print('Валидационная выборка:', features_valid_2.shape, target_valid_2.shape)"
   ]
  },
  {
   "cell_type": "code",
   "execution_count": 51,
   "metadata": {},
   "outputs": [
    {
     "name": "stdout",
     "output_type": "stream",
     "text": [
      "Средний запас сырья в регионе 2: 94.79\n",
      "Средний запас предсказанного сырья: 94.87\n",
      "RMSE: 40.08\n"
     ]
    }
   ],
   "source": [
    "model_2 = LinearRegression().fit(features_train_2, target_train_2)\n",
    "predictions_2 = pd.Series(model_2.predict(features_valid_2))\n",
    "mse_2 = mean_squared_error(predictions_2, target_valid_2)\n",
    "\n",
    "print(f'Средний запас сырья в регионе 2: {target_valid_2.mean():.2f}')\n",
    "print(f'Средний запас предсказанного сырья: {predictions_2.mean():.2f}')\n",
    "print(f'RMSE: {mse_2 ** 0.5:.2f}')"
   ]
  },
  {
   "cell_type": "code",
   "execution_count": 52,
   "metadata": {},
   "outputs": [],
   "source": [
    "predictions_2.reset_index(inplace=True, drop=True)\n",
    "target_valid_2.reset_index(inplace=True, drop=True)"
   ]
  },
  {
   "cell_type": "code",
   "execution_count": 53,
   "metadata": {},
   "outputs": [
    {
     "data": {
      "image/png": "[encoded data removed]",
      "text/plain": [
       "<Figure size 432x288 with 1 Axes>"
      ]
     },
     "metadata": {
      "needs_background": "light"
     },
     "output_type": "display_data"
    }
   ],
   "source": [
    "target_valid_2.hist(bins=50, rwidth=0.85, alpha=.5, color='black');\n",
    "pd.Series(predictions_2).hist(bins=50, rwidth=0.85, alpha=.5, color='red');\n",
    "plt.title('Реальные и предсказанные значения на валидационной выборке');\n",
    "plt.legend(['реальные', 'предсказанные']);"
   ]
  },
  {
   "cell_type": "markdown",
   "metadata": {},
   "source": [
    "**Выводы:**  в *Регионе 2* средние реальных и предсказанных значений не сильно отличаются (*94.78* и *94.86*), но ошибка RMSE большая (40.08), потому что распределение устроено по-разному, как и в *Регионе 0*."
   ]
  },
  {
   "cell_type": "markdown",
   "metadata": {},
   "source": [
    "## Подготовка к расчёту прибыли"
   ]
  },
  {
   "cell_type": "markdown",
   "metadata": {},
   "source": [
    "- Бюджет на разработку скважин в регионе — 10 млрд рублей.\n",
    "- При нынешних ценах один баррель сырья приносит 450 рублей дохода. Доход с каждой единицы продукта составляет 450 тыс. рублей, поскольку объём указан в тысячах баррелей."
   ]
  },
  {
   "cell_type": "markdown",
   "metadata": {},
   "source": [
    "Подготовка к расчёту прибыли:\n",
    "1. Все ключевые значения для расчётов сохраним в отдельных переменных.\n",
    "2. Рассчитаем достаточный объём сырья для безубыточной разработки новой скважины. Сравним полученный объём сырья со средним запасом в каждом регионе.\n",
    "\n",
    "$$\\text{Валовая прибыль = оборот - себестоимость}$$"
   ]
  },
  {
   "cell_type": "code",
   "execution_count": 54,
   "metadata": {},
   "outputs": [
    {
     "name": "stdout",
     "output_type": "stream",
     "text": [
      "Объем сырья для разработки скважин в регионе: 111.11\n"
     ]
    }
   ],
   "source": [
    "BUDGET = 10_000_000_000\n",
    "RUB_PER_TH_BARRELS = 450000\n",
    "\n",
    "expected_barrels = BUDGET / RUB_PER_TH_BARRELS / 200\n",
    "print(f'Объем сырья для разработки скважин в регионе: {expected_barrels:.2f}')"
   ]
  },
  {
   "cell_type": "code",
   "execution_count": 55,
   "metadata": {},
   "outputs": [
    {
     "name": "stdout",
     "output_type": "stream",
     "text": [
      "Средний запас в регионе 0: 92.16\n",
      "Средний запас в регионе 1: 69.19\n",
      "Средний запас в регионе 2: 94.79\n"
     ]
    }
   ],
   "source": [
    "print('Средний запас в регионе 0:', round(target_valid_0.mean(), 2))\n",
    "print('Средний запас в регионе 1:', round(target_valid_1.mean(), 2))\n",
    "print('Средний запас в регионе 2:', round(target_valid_2.mean(), 2))"
   ]
  },
  {
   "cell_type": "markdown",
   "metadata": {},
   "source": [
    "**Вывод:** Средний запас по всем регионам меньше, чем необходимый безубыточный объем. Скорее всего, это связано с тем, что попадаются скважины с маленьким содержанием сырья."
   ]
  },
  {
   "cell_type": "markdown",
   "metadata": {},
   "source": [
    "## Расчёт прибыли и рисков "
   ]
  },
  {
   "cell_type": "markdown",
   "metadata": {},
   "source": [
    "Напишем функцию для расчёта прибыли по выбранным скважинам и предсказаниям модели:\n",
    "\n",
    "1. Выберем скважины с максимальными значениями предсказаний.  \n",
    "2. Просуммируем целевое значение объёма сырья, соответствующее этим предсказаниям.  \n",
    "3. Рассчитаем прибыль для полученного объёма сырья.  "
   ]
  },
  {
   "cell_type": "markdown",
   "metadata": {},
   "source": [
    "При разведке региона исследуют 500 точек, из которых с помощью машинного обучения выбирают 200 лучших для разработки."
   ]
  },
  {
   "cell_type": "code",
   "execution_count": 56,
   "metadata": {},
   "outputs": [],
   "source": [
    "def calculate_profit(predictions, target_valid):\n",
    "    barrels_sorted = predictions.sort_values(ascending=False)\n",
    "    selected = target_valid[barrels_sorted.index][:200]\n",
    "    return selected.sum() * RUB_PER_TH_BARRELS - BUDGET"
   ]
  },
  {
   "cell_type": "code",
   "execution_count": 57,
   "metadata": {},
   "outputs": [
    {
     "name": "stdout",
     "output_type": "stream",
     "text": [
      "Предполагаемая прибыль по 200 скважинам с максимальным содержанием сырья:\n",
      "В регионе 0: 3365187237.7\n",
      "В регионе 1: 2415086696.68\n",
      "В регионе 2: 2501283853.28\n"
     ]
    }
   ],
   "source": [
    "print('Предполагаемая прибыль по 200 скважинам с максимальным содержанием сырья:')\n",
    "\n",
    "profit_0 = calculate_profit(predictions_0, target_valid_0)\n",
    "profit_1 = calculate_profit(predictions_1, target_valid_1)\n",
    "profit_2 = calculate_profit(predictions_2, target_valid_2)\n",
    "\n",
    "print('В регионе 0:', round(profit_0, 2))\n",
    "print('В регионе 1:', round(profit_1, 2))\n",
    "print('В регионе 2:', round(profit_2, 2))"
   ]
  },
  {
   "cell_type": "markdown",
   "metadata": {},
   "source": [
    "Посчитаем риски и прибыль для каждого региона:  \n",
    "\n",
    "1. Применим технику Bootstrap с 1000 выборок, чтобы найти распределение прибыли.  \n",
    "2. Найдем среднюю прибыль, 95%-й доверительный интервал и риск убытков."
   ]
  },
  {
   "cell_type": "code",
   "execution_count": 58,
   "metadata": {},
   "outputs": [],
   "source": [
    "def income_distribution(predictions, target, state):\n",
    "    all_profit = []\n",
    "    for i in tqdm(range(1000)):\n",
    "        target_subsample = target.sample(n=500, replace=True, random_state=state)\n",
    "        predictions_subsample = predictions[target_subsample.index]\n",
    "        profit = calculate_profit(predictions_subsample, target_subsample)\n",
    "        all_profit.append(profit)\n",
    "    all_profit = pd.Series(all_profit)\n",
    "    lower = all_profit.quantile(0.025)\n",
    "    upper = all_profit.quantile(0.975)\n",
    "    return all_profit, lower, upper"
   ]
  },
  {
   "cell_type": "code",
   "execution_count": 59,
   "metadata": {},
   "outputs": [
    {
     "data": {
      "application/vnd.jupyter.widget-view+json": {
       "model_id": "acf2a59a84eb4360ba629feb98bc9717",
       "version_major": 2,
       "version_minor": 0
      },
      "text/plain": [
       "  0%|          | 0/1000 [00:00<?, ?it/s]"
      ]
     },
     "metadata": {},
     "output_type": "display_data"
    },
    {
     "data": {
      "application/vnd.jupyter.widget-view+json": {
       "model_id": "6d15aad3d23b4457b98f013b9a4834cb",
       "version_major": 2,
       "version_minor": 0
      },
      "text/plain": [
       "  0%|          | 0/1000 [00:00<?, ?it/s]"
      ]
     },
     "metadata": {},
     "output_type": "display_data"
    },
    {
     "data": {
      "application/vnd.jupyter.widget-view+json": {
       "model_id": "36afe6d61295417f99832849dcd805b4",
       "version_major": 2,
       "version_minor": 0
      },
      "text/plain": [
       "  0%|          | 0/1000 [00:00<?, ?it/s]"
      ]
     },
     "metadata": {},
     "output_type": "display_data"
    }
   ],
   "source": [
    "state = np.random.RandomState(12345)\n",
    "\n",
    "(all_profit_0, lower_0, upper_0) = income_distribution(predictions_0, target_valid_0, state)\n",
    "(all_profit_1, lower_1, upper_1) = income_distribution(predictions_1, target_valid_1, state)\n",
    "(all_profit_2, lower_2, upper_2) = income_distribution(predictions_2, target_valid_2, state)"
   ]
  },
  {
   "cell_type": "code",
   "execution_count": 65,
   "metadata": {},
   "outputs": [
    {
     "name": "stdout",
     "output_type": "stream",
     "text": [
      "Средняя выручка в регионе 0: 409428038.62\n",
      "Риск убытков: 7.1 %\n",
      "Доверительный интервал: -131536028.70 - 944395582.75\n",
      "\n",
      "Средняя выручка в регионе 1: 536400199.44\n",
      "Риск убытков: 0.3 %\n",
      "Доверительный интервал: 112954247.12 - 998504156.65\n",
      "\n",
      "Средняя выручка в регионе 2: 339478034.20\n",
      "Риск убытков: 11.8 %\n",
      "Доверительный интервал: -224089221.74 - 847067587.69\n"
     ]
    }
   ],
   "source": [
    "print(f'Средняя выручка в регионе 0: {all_profit_0.mean():.2f}')\n",
    "print('Риск убытков:', stats.percentileofscore(all_profit_0, 0, kind='strict'), '%')\n",
    "print(f'Доверительный интервал: {lower_0:.2f} - {upper_0:.2f}')\n",
    "print()\n",
    "print(f'Средняя выручка в регионе 1: {all_profit_1.mean():.2f}')\n",
    "print('Риск убытков:', stats.percentileofscore(all_profit_1, 0, kind='strict'), '%')\n",
    "print(f'Доверительный интервал: {lower_1:.2f} - {upper_1:.2f}')\n",
    "print()\n",
    "print(f'Средняя выручка в регионе 2: {all_profit_2.mean():.2f}')\n",
    "print('Риск убытков:', round(stats.percentileofscore(all_profit_2, 0, kind='strict'), 2), '%')\n",
    "print(f'Доверительный интервал: {lower_2:.2f} - {upper_2:.2f}')"
   ]
  },
  {
   "cell_type": "code",
   "execution_count": 32,
   "metadata": {},
   "outputs": [
    {
     "data": {
      "image/png": "[encoded data removed]",
      "text/plain": [
       "<Figure size 1152x288 with 3 Axes>"
      ]
     },
     "metadata": {
      "needs_background": "light"
     },
     "output_type": "display_data"
    }
   ],
   "source": [
    "fig, (ax0, ax1, ax2) = plt.subplots(1,3, figsize=(16,4))\n",
    "\n",
    "all_profit_0.hist(bins=50, color='silver', ax=ax0);\n",
    "ax0.axvline(x=lower_0, color='r', alpha=0.5);\n",
    "ax0.axvline(x=upper_0, color='r', alpha=0.5);\n",
    "ax0.set_title('Регион 0');\n",
    "\n",
    "all_profit_1.hist(bins=50, color='silver', ax=ax1);\n",
    "ax1.axvline(x=lower_1, color='r', alpha=0.5);\n",
    "ax1.axvline(x=upper_1, color='r', alpha=0.5);\n",
    "ax1.set_title('Регион 1');\n",
    "\n",
    "all_profit_2.hist(bins=50, color='silver', ax=ax2);\n",
    "ax2.axvline(x=lower_2, color='r', alpha=0.5);\n",
    "ax2.axvline(x=upper_2, color='r', alpha=0.5);\n",
    "ax2.set_title('Регион 2');"
   ]
  },
  {
   "cell_type": "markdown",
   "metadata": {},
   "source": [
    "**Вывод**: Наибольшая доходность (*536400199.43*) ожидается в *Регионе 1*, этот же регион единственный проходит по критериям рисков, которые должны быть менее 2.5%. "
   ]
  },
  {
   "cell_type": "markdown",
   "metadata": {},
   "source": [
    "## Выводы\n",
    "\n",
    "На основании предоставленных данных построены модели для рассчета объемов сырья в скважинах в трех регионах. Рассчитан средний запас сырья в каждом регионе, он составил 92.16, 69.19 и 94.79 соответственно. \n",
    "\n",
    "В соответствии с условиями рынка, каждая скважина должна иметь запасы минимум 111.11, чтобы оправдать затраты на разработку. Следовательно, из всех скважин нужно выбрать только те, в которых больше сырья.\n",
    "\n",
    "Методом Bootstrap мы выбрали 500 случайных скважин из всех скважин региона, из этих 500 взяли 200 самых богатых сырьем и посчитали по ним прибыль и убытки. Оказалось, что самым подходящим для разработки является *Регион 1*, несмотря на то, что по среднему запасу сырья он был на последнем месте. Он демонстрирует доходность *536400199.43* и риск убытков *0.3 %*."
   ]
  }
 ],
 "metadata": {
  "kernelspec": {
   "display_name": "Python 3",
   "language": "python",
   "name": "python3"
  },
  "language_info": {
   "codemirror_mode": {
    "name": "ipython",
    "version": 3
   },
   "file_extension": ".py",
   "mimetype": "text/x-python",
   "name": "python",
   "nbconvert_exporter": "python",
   "pygments_lexer": "ipython3",
   "version": "3.8.8"
  },
  "toc": {
   "base_numbering": 1,
   "nav_menu": {},
   "number_sections": true,
   "sideBar": true,
   "skip_h1_title": true,
   "title_cell": "Содержание проекта",
   "title_sidebar": "Contents",
   "toc_cell": true,
   "toc_position": {
    "height": "calc(100% - 180px)",
    "left": "10px",
    "top": "150px",
    "width": "165px"
   },
   "toc_section_display": true,
   "toc_window_display": false
  }
 },
 "nbformat": 4,
 "nbformat_minor": 2
}
